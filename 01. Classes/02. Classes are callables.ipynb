{
 "cells": [
  {
   "cell_type": "code",
   "execution_count": 1,
   "id": "initial_id",
   "metadata": {
    "collapsed": true,
    "ExecuteTime": {
     "end_time": "2024-03-20T21:31:06.824874Z",
     "start_time": "2024-03-20T21:31:06.822269Z"
    }
   },
   "outputs": [],
   "source": [
    "class Program:\n",
    "    language = 'Python'\n",
    "    \n",
    "    def say_hello(self):\n",
    "        print('Hello World!')"
   ]
  },
  {
   "cell_type": "code",
   "outputs": [],
   "source": [
    "p = Program()"
   ],
   "metadata": {
    "collapsed": false,
    "ExecuteTime": {
     "end_time": "2024-03-20T21:31:15.114360Z",
     "start_time": "2024-03-20T21:31:15.111856Z"
    }
   },
   "id": "b421fcfaa3109280",
   "execution_count": 2
  },
  {
   "cell_type": "code",
   "outputs": [
    {
     "data": {
      "text/plain": "__main__.Program"
     },
     "execution_count": 3,
     "metadata": {},
     "output_type": "execute_result"
    }
   ],
   "source": [
    "type(p)"
   ],
   "metadata": {
    "collapsed": false,
    "ExecuteTime": {
     "end_time": "2024-03-20T21:31:24.643255Z",
     "start_time": "2024-03-20T21:31:24.638618Z"
    }
   },
   "id": "68508aa7ce057ff9",
   "execution_count": 3
  },
  {
   "cell_type": "code",
   "outputs": [
    {
     "data": {
      "text/plain": "True"
     },
     "execution_count": 4,
     "metadata": {},
     "output_type": "execute_result"
    }
   ],
   "source": [
    "isinstance(p, Program)"
   ],
   "metadata": {
    "collapsed": false,
    "ExecuteTime": {
     "end_time": "2024-03-20T21:31:36.164155Z",
     "start_time": "2024-03-20T21:31:36.161031Z"
    }
   },
   "id": "74ad7ebbd89a16f3",
   "execution_count": 4
  },
  {
   "cell_type": "code",
   "outputs": [
    {
     "data": {
      "text/plain": "{}"
     },
     "execution_count": 5,
     "metadata": {},
     "output_type": "execute_result"
    }
   ],
   "source": [
    "p.__dict__"
   ],
   "metadata": {
    "collapsed": false,
    "ExecuteTime": {
     "end_time": "2024-03-20T21:31:46.313761Z",
     "start_time": "2024-03-20T21:31:46.311006Z"
    }
   },
   "id": "a7e43f963eb81ab1",
   "execution_count": 5
  },
  {
   "cell_type": "code",
   "outputs": [
    {
     "data": {
      "text/plain": "mappingproxy({'__module__': '__main__',\n              'language': 'Python',\n              'say_hello': <function __main__.Program.say_hello(self)>,\n              '__dict__': <attribute '__dict__' of 'Program' objects>,\n              '__weakref__': <attribute '__weakref__' of 'Program' objects>,\n              '__doc__': None})"
     },
     "execution_count": 6,
     "metadata": {},
     "output_type": "execute_result"
    }
   ],
   "source": [
    "Program.__dict__"
   ],
   "metadata": {
    "collapsed": false,
    "ExecuteTime": {
     "end_time": "2024-03-20T21:31:59.411075Z",
     "start_time": "2024-03-20T21:31:59.407730Z"
    }
   },
   "id": "7cc423bd3588899",
   "execution_count": 6
  },
  {
   "cell_type": "code",
   "outputs": [
    {
     "data": {
      "text/plain": "{}"
     },
     "execution_count": 7,
     "metadata": {},
     "output_type": "execute_result"
    }
   ],
   "source": [
    "p.__dict__"
   ],
   "metadata": {
    "collapsed": false,
    "ExecuteTime": {
     "end_time": "2024-03-20T21:36:26.241286Z",
     "start_time": "2024-03-20T21:36:26.238525Z"
    }
   },
   "id": "d2e8ae614e4e750c",
   "execution_count": 7
  },
  {
   "cell_type": "code",
   "outputs": [],
   "source": [
    "class MyClass:\n",
    "    pass"
   ],
   "metadata": {
    "collapsed": false,
    "ExecuteTime": {
     "end_time": "2024-03-20T21:39:57.697833Z",
     "start_time": "2024-03-20T21:39:57.695657Z"
    }
   },
   "id": "2056e6ceafdb2c8",
   "execution_count": 8
  },
  {
   "cell_type": "code",
   "outputs": [],
   "source": [
    "m = MyClass()"
   ],
   "metadata": {
    "collapsed": false,
    "ExecuteTime": {
     "end_time": "2024-03-20T21:40:04.868022Z",
     "start_time": "2024-03-20T21:40:04.865281Z"
    }
   },
   "id": "63d71f603aabfe63",
   "execution_count": 9
  },
  {
   "cell_type": "code",
   "outputs": [
    {
     "data": {
      "text/plain": "(<__main__.MyClass at 0x7f6bc5c10fb0>, __main__.MyClass)"
     },
     "execution_count": 11,
     "metadata": {},
     "output_type": "execute_result"
    }
   ],
   "source": [
    "m, m.__class__"
   ],
   "metadata": {
    "collapsed": false,
    "ExecuteTime": {
     "end_time": "2024-03-20T21:40:24.778444Z",
     "start_time": "2024-03-20T21:40:24.775201Z"
    }
   },
   "id": "9bb743dbe275f127",
   "execution_count": 11
  },
  {
   "cell_type": "code",
   "outputs": [],
   "source": [
    "class MyClass:\n",
    "    __class__ = str"
   ],
   "metadata": {
    "collapsed": false,
    "ExecuteTime": {
     "end_time": "2024-03-20T21:40:56.086187Z",
     "start_time": "2024-03-20T21:40:56.084080Z"
    }
   },
   "id": "b2b801f1c8204b66",
   "execution_count": 12
  },
  {
   "cell_type": "code",
   "outputs": [],
   "source": [
    "m = MyClass()"
   ],
   "metadata": {
    "collapsed": false,
    "ExecuteTime": {
     "end_time": "2024-03-20T21:41:30.277435Z",
     "start_time": "2024-03-20T21:41:30.275202Z"
    }
   },
   "id": "6b26c5682a277311",
   "execution_count": 14
  },
  {
   "cell_type": "code",
   "outputs": [
    {
     "data": {
      "text/plain": "(str, __main__.MyClass)"
     },
     "execution_count": 15,
     "metadata": {},
     "output_type": "execute_result"
    }
   ],
   "source": [
    "m.__class__, type(m)"
   ],
   "metadata": {
    "collapsed": false,
    "ExecuteTime": {
     "end_time": "2024-03-20T21:41:30.477563Z",
     "start_time": "2024-03-20T21:41:30.474076Z"
    }
   },
   "id": "88ec50f3c70969a4",
   "execution_count": 15
  },
  {
   "cell_type": "code",
   "outputs": [
    {
     "data": {
      "text/plain": "True"
     },
     "execution_count": 16,
     "metadata": {},
     "output_type": "execute_result"
    }
   ],
   "source": [
    "isinstance(m, MyClass)"
   ],
   "metadata": {
    "collapsed": false,
    "ExecuteTime": {
     "end_time": "2024-03-20T21:41:45.961324Z",
     "start_time": "2024-03-20T21:41:45.958404Z"
    }
   },
   "id": "e92a0e0025382f5c",
   "execution_count": 16
  },
  {
   "cell_type": "code",
   "outputs": [],
   "source": [],
   "metadata": {
    "collapsed": false
   },
   "id": "a28801ae56b95cbe"
  }
 ],
 "metadata": {
  "kernelspec": {
   "display_name": "Python 3",
   "language": "python",
   "name": "python3"
  },
  "language_info": {
   "codemirror_mode": {
    "name": "ipython",
    "version": 2
   },
   "file_extension": ".py",
   "mimetype": "text/x-python",
   "name": "python",
   "nbconvert_exporter": "python",
   "pygments_lexer": "ipython2",
   "version": "2.7.6"
  }
 },
 "nbformat": 4,
 "nbformat_minor": 5
}
