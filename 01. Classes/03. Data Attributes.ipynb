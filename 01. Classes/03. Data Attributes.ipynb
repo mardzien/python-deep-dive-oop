{
 "cells": [
  {
   "cell_type": "code",
   "execution_count": 1,
   "id": "initial_id",
   "metadata": {
    "collapsed": true,
    "ExecuteTime": {
     "end_time": "2024-03-20T21:53:00.040280Z",
     "start_time": "2024-03-20T21:53:00.037960Z"
    }
   },
   "outputs": [],
   "source": [
    "class BankAccount:\n",
    "    apr = 1.2"
   ]
  },
  {
   "cell_type": "code",
   "outputs": [
    {
     "data": {
      "text/plain": "mappingproxy({'__module__': '__main__',\n              'apr': 1.2,\n              '__dict__': <attribute '__dict__' of 'BankAccount' objects>,\n              '__weakref__': <attribute '__weakref__' of 'BankAccount' objects>,\n              '__doc__': None})"
     },
     "execution_count": 2,
     "metadata": {},
     "output_type": "execute_result"
    }
   ],
   "source": [
    "BankAccount.__dict__"
   ],
   "metadata": {
    "collapsed": false,
    "ExecuteTime": {
     "end_time": "2024-03-20T21:53:09.228156Z",
     "start_time": "2024-03-20T21:53:09.222912Z"
    }
   },
   "id": "ebe2b9d82bd507be",
   "execution_count": 2
  },
  {
   "cell_type": "code",
   "outputs": [
    {
     "data": {
      "text/plain": "1.2"
     },
     "execution_count": 3,
     "metadata": {},
     "output_type": "execute_result"
    }
   ],
   "source": [
    "BankAccount.apr"
   ],
   "metadata": {
    "collapsed": false,
    "ExecuteTime": {
     "end_time": "2024-03-20T21:53:19.480048Z",
     "start_time": "2024-03-20T21:53:19.477201Z"
    }
   },
   "id": "b345b654b0299069",
   "execution_count": 3
  },
  {
   "cell_type": "code",
   "outputs": [],
   "source": [
    "acc_1 = BankAccount()\n",
    "acc_2 = BankAccount()"
   ],
   "metadata": {
    "collapsed": false,
    "ExecuteTime": {
     "end_time": "2024-03-20T21:53:28.436910Z",
     "start_time": "2024-03-20T21:53:28.433899Z"
    }
   },
   "id": "5c46390a127d21b0",
   "execution_count": 4
  },
  {
   "cell_type": "code",
   "outputs": [
    {
     "data": {
      "text/plain": "False"
     },
     "execution_count": 5,
     "metadata": {},
     "output_type": "execute_result"
    }
   ],
   "source": [
    "acc_1 is acc_2"
   ],
   "metadata": {
    "collapsed": false,
    "ExecuteTime": {
     "end_time": "2024-03-20T21:53:37.121129Z",
     "start_time": "2024-03-20T21:53:37.118106Z"
    }
   },
   "id": "206cc045eb3aae8a",
   "execution_count": 5
  },
  {
   "cell_type": "code",
   "outputs": [
    {
     "data": {
      "text/plain": "({}, {})"
     },
     "execution_count": 7,
     "metadata": {},
     "output_type": "execute_result"
    }
   ],
   "source": [
    "acc_1.__dict__, acc_2.__dict__"
   ],
   "metadata": {
    "collapsed": false,
    "ExecuteTime": {
     "end_time": "2024-03-20T21:53:59.437451Z",
     "start_time": "2024-03-20T21:53:59.433767Z"
    }
   },
   "id": "e9e591eeb0092c21",
   "execution_count": 7
  },
  {
   "cell_type": "code",
   "outputs": [
    {
     "data": {
      "text/plain": "(1.2, 1.2)"
     },
     "execution_count": 8,
     "metadata": {},
     "output_type": "execute_result"
    }
   ],
   "source": [
    "acc_1.apr, acc_2.apr"
   ],
   "metadata": {
    "collapsed": false,
    "ExecuteTime": {
     "end_time": "2024-03-20T21:54:22.003665Z",
     "start_time": "2024-03-20T21:54:22.000043Z"
    }
   },
   "id": "fdd9c25c5bfe2f5d",
   "execution_count": 8
  },
  {
   "cell_type": "code",
   "outputs": [],
   "source": [
    "BankAccount.account_type = 'Savings'"
   ],
   "metadata": {
    "collapsed": false,
    "ExecuteTime": {
     "end_time": "2024-03-20T21:55:19.444914Z",
     "start_time": "2024-03-20T21:55:19.442835Z"
    }
   },
   "id": "2ab900ea99f693a3",
   "execution_count": 9
  },
  {
   "cell_type": "code",
   "outputs": [
    {
     "data": {
      "text/plain": "('Savings', 'Savings')"
     },
     "execution_count": 10,
     "metadata": {},
     "output_type": "execute_result"
    }
   ],
   "source": [
    "acc_1.account_type, acc_2.account_type"
   ],
   "metadata": {
    "collapsed": false,
    "ExecuteTime": {
     "end_time": "2024-03-20T21:55:35.450538Z",
     "start_time": "2024-03-20T21:55:35.447259Z"
    }
   },
   "id": "266060c3a98e7a3",
   "execution_count": 10
  },
  {
   "cell_type": "code",
   "outputs": [],
   "source": [
    "acc_1.apr = 0"
   ],
   "metadata": {
    "collapsed": false,
    "ExecuteTime": {
     "end_time": "2024-03-20T21:56:15.248063Z",
     "start_time": "2024-03-20T21:56:15.245887Z"
    }
   },
   "id": "b81fad111b5a356",
   "execution_count": 11
  },
  {
   "cell_type": "code",
   "outputs": [
    {
     "data": {
      "text/plain": "({'apr': 0}, {})"
     },
     "execution_count": 12,
     "metadata": {},
     "output_type": "execute_result"
    }
   ],
   "source": [
    "acc_1.__dict__, acc_2.__dict__"
   ],
   "metadata": {
    "collapsed": false,
    "ExecuteTime": {
     "end_time": "2024-03-20T21:56:24.793232Z",
     "start_time": "2024-03-20T21:56:24.790012Z"
    }
   },
   "id": "42f8b63b69e2d790",
   "execution_count": 12
  },
  {
   "cell_type": "code",
   "outputs": [
    {
     "data": {
      "text/plain": "(0, 1.2)"
     },
     "execution_count": 13,
     "metadata": {},
     "output_type": "execute_result"
    }
   ],
   "source": [
    "acc_1.apr, acc_2.apr"
   ],
   "metadata": {
    "collapsed": false,
    "ExecuteTime": {
     "end_time": "2024-03-20T21:56:45.920103Z",
     "start_time": "2024-03-20T21:56:45.916499Z"
    }
   },
   "id": "9f7be9178fc55799",
   "execution_count": 13
  },
  {
   "cell_type": "code",
   "outputs": [],
   "source": [
    "setattr(acc_2, 'apr', 10)"
   ],
   "metadata": {
    "collapsed": false,
    "ExecuteTime": {
     "end_time": "2024-03-20T21:58:11.502868Z",
     "start_time": "2024-03-20T21:58:11.500149Z"
    }
   },
   "id": "172ac87a2f464a01",
   "execution_count": 14
  },
  {
   "cell_type": "code",
   "outputs": [
    {
     "data": {
      "text/plain": "{'apr': 10}"
     },
     "execution_count": 15,
     "metadata": {},
     "output_type": "execute_result"
    }
   ],
   "source": [
    "acc_2.__dict__"
   ],
   "metadata": {
    "collapsed": false,
    "ExecuteTime": {
     "end_time": "2024-03-20T21:58:16.950438Z",
     "start_time": "2024-03-20T21:58:16.947632Z"
    }
   },
   "id": "fca57c4312bfb2ae",
   "execution_count": 15
  },
  {
   "cell_type": "code",
   "outputs": [
    {
     "data": {
      "text/plain": "10"
     },
     "execution_count": 16,
     "metadata": {},
     "output_type": "execute_result"
    }
   ],
   "source": [
    "getattr(acc_2, 'apr')"
   ],
   "metadata": {
    "collapsed": false,
    "ExecuteTime": {
     "end_time": "2024-03-20T21:58:41.468183Z",
     "start_time": "2024-03-20T21:58:41.465254Z"
    }
   },
   "id": "28053875fec4286c",
   "execution_count": 16
  },
  {
   "cell_type": "code",
   "outputs": [],
   "source": [
    "acc_3 = BankAccount()"
   ],
   "metadata": {
    "collapsed": false,
    "ExecuteTime": {
     "end_time": "2024-03-20T21:58:51.114878Z",
     "start_time": "2024-03-20T21:58:51.112794Z"
    }
   },
   "id": "e9d422368cded499",
   "execution_count": 17
  },
  {
   "cell_type": "code",
   "outputs": [
    {
     "data": {
      "text/plain": "1.2"
     },
     "execution_count": 18,
     "metadata": {},
     "output_type": "execute_result"
    }
   ],
   "source": [
    "getattr(acc_3, 'apr')"
   ],
   "metadata": {
    "collapsed": false,
    "ExecuteTime": {
     "end_time": "2024-03-20T21:58:59.651842Z",
     "start_time": "2024-03-20T21:58:59.648975Z"
    }
   },
   "id": "102ceea9407a516d",
   "execution_count": 18
  },
  {
   "cell_type": "code",
   "outputs": [],
   "source": [
    "acc_1.bank = 'Acme Savings & Loans'"
   ],
   "metadata": {
    "collapsed": false,
    "ExecuteTime": {
     "end_time": "2024-03-20T21:59:52.188985Z",
     "start_time": "2024-03-20T21:59:52.186606Z"
    }
   },
   "id": "dff16fe0b367deaf",
   "execution_count": 19
  },
  {
   "cell_type": "code",
   "outputs": [
    {
     "data": {
      "text/plain": "{'apr': 0, 'bank': 'Acme Savings & Loans'}"
     },
     "execution_count": 20,
     "metadata": {},
     "output_type": "execute_result"
    }
   ],
   "source": [
    "acc_1.__dict__"
   ],
   "metadata": {
    "collapsed": false,
    "ExecuteTime": {
     "end_time": "2024-03-20T22:00:03.452804Z",
     "start_time": "2024-03-20T22:00:03.449631Z"
    }
   },
   "id": "d5178be93bae70c0",
   "execution_count": 20
  },
  {
   "cell_type": "code",
   "outputs": [
    {
     "data": {
      "text/plain": "mappingproxy({'__module__': '__main__',\n              'apr': 1.2,\n              '__dict__': <attribute '__dict__' of 'BankAccount' objects>,\n              '__weakref__': <attribute '__weakref__' of 'BankAccount' objects>,\n              '__doc__': None,\n              'account_type': 'Savings'})"
     },
     "execution_count": 21,
     "metadata": {},
     "output_type": "execute_result"
    }
   ],
   "source": [
    "BankAccount.__dict__"
   ],
   "metadata": {
    "collapsed": false,
    "ExecuteTime": {
     "end_time": "2024-03-20T22:01:36.190609Z",
     "start_time": "2024-03-20T22:01:36.187215Z"
    }
   },
   "id": "2c7e8c727cac706e",
   "execution_count": 21
  },
  {
   "cell_type": "code",
   "outputs": [
    {
     "data": {
      "text/plain": "mappingproxy"
     },
     "execution_count": 23,
     "metadata": {},
     "output_type": "execute_result"
    }
   ],
   "source": [
    "type(BankAccount.__dict__)"
   ],
   "metadata": {
    "collapsed": false,
    "ExecuteTime": {
     "end_time": "2024-03-20T22:02:05.780570Z",
     "start_time": "2024-03-20T22:02:05.776917Z"
    }
   },
   "id": "730663bc3e32dabf",
   "execution_count": 23
  },
  {
   "cell_type": "code",
   "outputs": [],
   "source": [
    "acc_1 = BankAccount()"
   ],
   "metadata": {
    "collapsed": false,
    "ExecuteTime": {
     "end_time": "2024-03-20T22:01:55.430018Z",
     "start_time": "2024-03-20T22:01:55.427943Z"
    }
   },
   "id": "7214e102cca3fbfa",
   "execution_count": 22
  },
  {
   "cell_type": "code",
   "outputs": [
    {
     "data": {
      "text/plain": "dict"
     },
     "execution_count": 24,
     "metadata": {},
     "output_type": "execute_result"
    }
   ],
   "source": [
    "type(acc_1.__dict__)"
   ],
   "metadata": {
    "collapsed": false,
    "ExecuteTime": {
     "end_time": "2024-03-20T22:02:21.844806Z",
     "start_time": "2024-03-20T22:02:21.841201Z"
    }
   },
   "id": "6c7afda9f9722500",
   "execution_count": 24
  },
  {
   "cell_type": "code",
   "outputs": [],
   "source": [
    "class Program:\n",
    "    language = 'Python'"
   ],
   "metadata": {
    "collapsed": false,
    "ExecuteTime": {
     "end_time": "2024-03-20T22:02:48.963907Z",
     "start_time": "2024-03-20T22:02:48.961900Z"
    }
   },
   "id": "d0a5888b3d22049f",
   "execution_count": 25
  },
  {
   "cell_type": "code",
   "outputs": [],
   "source": [
    "p = Program()"
   ],
   "metadata": {
    "collapsed": false,
    "ExecuteTime": {
     "end_time": "2024-03-20T22:02:59.447137Z",
     "start_time": "2024-03-20T22:02:59.444847Z"
    }
   },
   "id": "f0f0889d3eca40",
   "execution_count": 26
  },
  {
   "cell_type": "code",
   "outputs": [
    {
     "data": {
      "text/plain": "{}"
     },
     "execution_count": 27,
     "metadata": {},
     "output_type": "execute_result"
    }
   ],
   "source": [
    "p.__dict__"
   ],
   "metadata": {
    "collapsed": false,
    "ExecuteTime": {
     "end_time": "2024-03-20T22:03:04.350035Z",
     "start_time": "2024-03-20T22:03:04.347003Z"
    }
   },
   "id": "53e19b76a693d559",
   "execution_count": 27
  },
  {
   "cell_type": "code",
   "outputs": [],
   "source": [
    "p.__dict__['version'] = 3.12"
   ],
   "metadata": {
    "collapsed": false,
    "ExecuteTime": {
     "end_time": "2024-03-20T22:03:25.434083Z",
     "start_time": "2024-03-20T22:03:25.431732Z"
    }
   },
   "id": "ef18addae09e1128",
   "execution_count": 28
  },
  {
   "cell_type": "code",
   "outputs": [
    {
     "data": {
      "text/plain": "{'version': 3.12}"
     },
     "execution_count": 29,
     "metadata": {},
     "output_type": "execute_result"
    }
   ],
   "source": [
    "p.__dict__"
   ],
   "metadata": {
    "collapsed": false,
    "ExecuteTime": {
     "end_time": "2024-03-20T22:03:31.838004Z",
     "start_time": "2024-03-20T22:03:31.834667Z"
    }
   },
   "id": "cf5de3936a228133",
   "execution_count": 29
  },
  {
   "cell_type": "code",
   "outputs": [
    {
     "data": {
      "text/plain": "3.12"
     },
     "execution_count": 30,
     "metadata": {},
     "output_type": "execute_result"
    }
   ],
   "source": [
    "p.version"
   ],
   "metadata": {
    "collapsed": false,
    "ExecuteTime": {
     "end_time": "2024-03-20T22:03:40.030440Z",
     "start_time": "2024-03-20T22:03:40.027632Z"
    }
   },
   "id": "fea6abdd0e058fca",
   "execution_count": 30
  },
  {
   "cell_type": "code",
   "outputs": [
    {
     "data": {
      "text/plain": "3.12"
     },
     "execution_count": 31,
     "metadata": {},
     "output_type": "execute_result"
    }
   ],
   "source": [
    "getattr(p, 'version')"
   ],
   "metadata": {
    "collapsed": false,
    "ExecuteTime": {
     "end_time": "2024-03-20T22:03:49.270860Z",
     "start_time": "2024-03-20T22:03:49.267792Z"
    }
   },
   "id": "a4078468407f2489",
   "execution_count": 31
  },
  {
   "cell_type": "code",
   "outputs": [],
   "source": [
    "p.programming = True"
   ],
   "metadata": {
    "collapsed": false,
    "ExecuteTime": {
     "end_time": "2024-03-20T22:04:28.371160Z",
     "start_time": "2024-03-20T22:04:28.368914Z"
    }
   },
   "id": "dd89f59d56ff5646",
   "execution_count": 32
  },
  {
   "cell_type": "code",
   "outputs": [
    {
     "data": {
      "text/plain": "{'version': 3.12, 'programming': True}"
     },
     "execution_count": 33,
     "metadata": {},
     "output_type": "execute_result"
    }
   ],
   "source": [
    "p.__dict__"
   ],
   "metadata": {
    "collapsed": false,
    "ExecuteTime": {
     "end_time": "2024-03-20T22:04:41.859925Z",
     "start_time": "2024-03-20T22:04:41.855826Z"
    }
   },
   "id": "98bdc3031e1d99a4",
   "execution_count": 33
  },
  {
   "cell_type": "code",
   "outputs": [],
   "source": [],
   "metadata": {
    "collapsed": false
   },
   "id": "d6141962ff15ed74"
  }
 ],
 "metadata": {
  "kernelspec": {
   "display_name": "Python 3",
   "language": "python",
   "name": "python3"
  },
  "language_info": {
   "codemirror_mode": {
    "name": "ipython",
    "version": 2
   },
   "file_extension": ".py",
   "mimetype": "text/x-python",
   "name": "python",
   "nbconvert_exporter": "python",
   "pygments_lexer": "ipython2",
   "version": "2.7.6"
  }
 },
 "nbformat": 4,
 "nbformat_minor": 5
}
