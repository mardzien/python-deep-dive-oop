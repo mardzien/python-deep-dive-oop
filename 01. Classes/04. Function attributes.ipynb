{
 "cells": [
  {
   "cell_type": "code",
   "execution_count": 6,
   "id": "initial_id",
   "metadata": {
    "collapsed": true,
    "ExecuteTime": {
     "end_time": "2024-03-24T20:08:54.928560Z",
     "start_time": "2024-03-24T20:08:54.925809Z"
    }
   },
   "outputs": [],
   "source": [
    "class Person:\n",
    "    def say_hello():\n",
    "        print(\"Hello!\")"
   ]
  },
  {
   "cell_type": "code",
   "outputs": [
    {
     "data": {
      "text/plain": "<function __main__.Person.say_hello(self)>"
     },
     "execution_count": 2,
     "metadata": {},
     "output_type": "execute_result"
    }
   ],
   "source": [
    "Person.say_hello"
   ],
   "metadata": {
    "collapsed": false,
    "ExecuteTime": {
     "end_time": "2024-03-24T20:08:19.670705Z",
     "start_time": "2024-03-24T20:08:19.665517Z"
    }
   },
   "id": "41e273382e18b04",
   "execution_count": 2
  },
  {
   "cell_type": "code",
   "outputs": [
    {
     "name": "stdout",
     "output_type": "stream",
     "text": [
      "Hello!\n"
     ]
    }
   ],
   "source": [
    "Person.say_hello()"
   ],
   "metadata": {
    "collapsed": false,
    "ExecuteTime": {
     "end_time": "2024-03-24T20:08:57.932364Z",
     "start_time": "2024-03-24T20:08:57.928867Z"
    }
   },
   "id": "52e332d9775f85f4",
   "execution_count": 7
  },
  {
   "cell_type": "code",
   "outputs": [],
   "source": [
    "p = Person()"
   ],
   "metadata": {
    "collapsed": false,
    "ExecuteTime": {
     "end_time": "2024-03-24T20:09:24.139772Z",
     "start_time": "2024-03-24T20:09:24.137785Z"
    }
   },
   "id": "39e876ab965cf0f8",
   "execution_count": 8
  },
  {
   "cell_type": "code",
   "outputs": [
    {
     "data": {
      "text/plain": "'0x7fdfb52cdb50'"
     },
     "execution_count": 9,
     "metadata": {},
     "output_type": "execute_result"
    }
   ],
   "source": [
    "hex(id(p))"
   ],
   "metadata": {
    "collapsed": false,
    "ExecuteTime": {
     "end_time": "2024-03-24T20:09:29.635310Z",
     "start_time": "2024-03-24T20:09:29.632155Z"
    }
   },
   "id": "68139f44c5dd76d5",
   "execution_count": 9
  },
  {
   "cell_type": "code",
   "outputs": [
    {
     "data": {
      "text/plain": "<bound method Person.say_hello of <__main__.Person object at 0x7fdfb52cdb50>>"
     },
     "execution_count": 10,
     "metadata": {},
     "output_type": "execute_result"
    }
   ],
   "source": [
    "p.say_hello"
   ],
   "metadata": {
    "collapsed": false,
    "ExecuteTime": {
     "end_time": "2024-03-24T20:09:39.838592Z",
     "start_time": "2024-03-24T20:09:39.835653Z"
    }
   },
   "id": "8d443acc9a55a2c0",
   "execution_count": 10
  },
  {
   "cell_type": "code",
   "outputs": [
    {
     "data": {
      "text/plain": "method"
     },
     "execution_count": 11,
     "metadata": {},
     "output_type": "execute_result"
    }
   ],
   "source": [
    "type(p.say_hello)"
   ],
   "metadata": {
    "collapsed": false,
    "ExecuteTime": {
     "end_time": "2024-03-24T20:15:29.259331Z",
     "start_time": "2024-03-24T20:15:29.256419Z"
    }
   },
   "id": "d6f85f87580b81a3",
   "execution_count": 11
  },
  {
   "cell_type": "code",
   "outputs": [
    {
     "data": {
      "text/plain": "function"
     },
     "execution_count": 12,
     "metadata": {},
     "output_type": "execute_result"
    }
   ],
   "source": [
    "type(Person.say_hello)"
   ],
   "metadata": {
    "collapsed": false,
    "ExecuteTime": {
     "end_time": "2024-03-24T20:15:46.524137Z",
     "start_time": "2024-03-24T20:15:46.520855Z"
    }
   },
   "id": "3300e15831af3fa4",
   "execution_count": 12
  },
  {
   "cell_type": "code",
   "outputs": [
    {
     "ename": "TypeError",
     "evalue": "Person.say_hello() takes 0 positional arguments but 1 was given",
     "output_type": "error",
     "traceback": [
      "\u001B[0;31m---------------------------------------------------------------------------\u001B[0m",
      "\u001B[0;31mTypeError\u001B[0m                                 Traceback (most recent call last)",
      "Cell \u001B[0;32mIn[13], line 1\u001B[0m\n\u001B[0;32m----> 1\u001B[0m \u001B[43mp\u001B[49m\u001B[38;5;241;43m.\u001B[39;49m\u001B[43msay_hello\u001B[49m\u001B[43m(\u001B[49m\u001B[43m)\u001B[49m\n",
      "\u001B[0;31mTypeError\u001B[0m: Person.say_hello() takes 0 positional arguments but 1 was given"
     ]
    }
   ],
   "source": [
    "p.say_hello()"
   ],
   "metadata": {
    "collapsed": false,
    "ExecuteTime": {
     "end_time": "2024-03-24T20:16:01.914055Z",
     "start_time": "2024-03-24T20:16:01.901741Z"
    }
   },
   "id": "e6cd9af8c01d5083",
   "execution_count": 13
  },
  {
   "cell_type": "code",
   "outputs": [],
   "source": [
    "class Person:\n",
    "    def say_hello(*args):\n",
    "        print(\"say_hello args: \", args)"
   ],
   "metadata": {
    "collapsed": false,
    "ExecuteTime": {
     "end_time": "2024-03-24T20:17:45.199886Z",
     "start_time": "2024-03-24T20:17:45.197473Z"
    }
   },
   "id": "c9ac42ef0347235b",
   "execution_count": 14
  },
  {
   "cell_type": "code",
   "outputs": [
    {
     "name": "stdout",
     "output_type": "stream",
     "text": [
      "say_hello args:  ()\n"
     ]
    }
   ],
   "source": [
    "Person.say_hello()"
   ],
   "metadata": {
    "collapsed": false,
    "ExecuteTime": {
     "end_time": "2024-03-24T20:17:49.442350Z",
     "start_time": "2024-03-24T20:17:49.439729Z"
    }
   },
   "id": "7b4f209c9fc090bd",
   "execution_count": 15
  },
  {
   "cell_type": "code",
   "outputs": [],
   "source": [
    "p = Person()"
   ],
   "metadata": {
    "collapsed": false,
    "ExecuteTime": {
     "end_time": "2024-03-24T20:17:58.708029Z",
     "start_time": "2024-03-24T20:17:58.705986Z"
    }
   },
   "id": "f707efc27abb5bcd",
   "execution_count": 16
  },
  {
   "cell_type": "code",
   "outputs": [
    {
     "data": {
      "text/plain": "'0x7fdfb52d9430'"
     },
     "execution_count": 18,
     "metadata": {},
     "output_type": "execute_result"
    }
   ],
   "source": [
    "hex(id(p))"
   ],
   "metadata": {
    "collapsed": false,
    "ExecuteTime": {
     "end_time": "2024-03-24T20:18:18.455362Z",
     "start_time": "2024-03-24T20:18:18.452167Z"
    }
   },
   "id": "dc7eb9864f747c88",
   "execution_count": 18
  },
  {
   "cell_type": "code",
   "outputs": [
    {
     "name": "stdout",
     "output_type": "stream",
     "text": [
      "say_hello args:  (<__main__.Person object at 0x7fdfb52d9430>,)\n"
     ]
    }
   ],
   "source": [
    "p.say_hello()"
   ],
   "metadata": {
    "collapsed": false,
    "ExecuteTime": {
     "end_time": "2024-03-24T20:18:02.039112Z",
     "start_time": "2024-03-24T20:18:02.036478Z"
    }
   },
   "id": "9db21a9ef3453fab",
   "execution_count": 17
  },
  {
   "cell_type": "code",
   "outputs": [],
   "source": [
    "class Person:\n",
    "    def set_name(self, new_name):\n",
    "        self.name = new_name"
   ],
   "metadata": {
    "collapsed": false,
    "ExecuteTime": {
     "end_time": "2024-03-24T20:19:58.147453Z",
     "start_time": "2024-03-24T20:19:58.145127Z"
    }
   },
   "id": "719aedd10c2cc30a",
   "execution_count": 19
  },
  {
   "cell_type": "code",
   "outputs": [],
   "source": [
    "p = Person()"
   ],
   "metadata": {
    "collapsed": false,
    "ExecuteTime": {
     "end_time": "2024-03-24T20:20:24.811259Z",
     "start_time": "2024-03-24T20:20:24.809172Z"
    }
   },
   "id": "ee2fa698db32748e",
   "execution_count": 20
  },
  {
   "cell_type": "code",
   "outputs": [],
   "source": [
    "p.set_name(\"Paweł\")"
   ],
   "metadata": {
    "collapsed": false,
    "ExecuteTime": {
     "end_time": "2024-03-24T20:20:32.711061Z",
     "start_time": "2024-03-24T20:20:32.708802Z"
    }
   },
   "id": "1c43475c61934aaf",
   "execution_count": 21
  },
  {
   "cell_type": "code",
   "outputs": [
    {
     "data": {
      "text/plain": "{'name': 'Paweł'}"
     },
     "execution_count": 22,
     "metadata": {},
     "output_type": "execute_result"
    }
   ],
   "source": [
    "p.__dict__"
   ],
   "metadata": {
    "collapsed": false,
    "ExecuteTime": {
     "end_time": "2024-03-24T20:20:42.135060Z",
     "start_time": "2024-03-24T20:20:42.132125Z"
    }
   },
   "id": "feb1be365f82486e",
   "execution_count": 22
  },
  {
   "cell_type": "code",
   "outputs": [],
   "source": [
    "p2 = Person()"
   ],
   "metadata": {
    "collapsed": false,
    "ExecuteTime": {
     "end_time": "2024-03-24T20:21:11.339677Z",
     "start_time": "2024-03-24T20:21:11.337443Z"
    }
   },
   "id": "eba3a6685477cd8c",
   "execution_count": 23
  },
  {
   "cell_type": "code",
   "outputs": [],
   "source": [
    "Person.set_name(p2, \"Marten\")"
   ],
   "metadata": {
    "collapsed": false,
    "ExecuteTime": {
     "end_time": "2024-03-24T20:21:28.779117Z",
     "start_time": "2024-03-24T20:21:28.776986Z"
    }
   },
   "id": "64386d48a3b79b22",
   "execution_count": 24
  },
  {
   "cell_type": "code",
   "outputs": [
    {
     "data": {
      "text/plain": "{'name': 'Marten'}"
     },
     "execution_count": 25,
     "metadata": {},
     "output_type": "execute_result"
    }
   ],
   "source": [
    "p2.__dict__"
   ],
   "metadata": {
    "collapsed": false,
    "ExecuteTime": {
     "end_time": "2024-03-24T20:21:39.117355Z",
     "start_time": "2024-03-24T20:21:39.113960Z"
    }
   },
   "id": "36a5019a0aab9de",
   "execution_count": 25
  },
  {
   "cell_type": "code",
   "outputs": [],
   "source": [
    "class Person:\n",
    "    def say_hello(self):\n",
    "        print(f\"{self} says hello!\")"
   ],
   "metadata": {
    "collapsed": false,
    "ExecuteTime": {
     "end_time": "2024-03-24T20:24:52.322259Z",
     "start_time": "2024-03-24T20:24:52.319494Z"
    }
   },
   "id": "7457779f4081cf66",
   "execution_count": 27
  },
  {
   "cell_type": "code",
   "outputs": [
    {
     "data": {
      "text/plain": "(<function __main__.Person.say_hello(self)>, '0x7fdfb3f8ee80')"
     },
     "execution_count": 28,
     "metadata": {},
     "output_type": "execute_result"
    }
   ],
   "source": [
    "Person.say_hello, hex(id(Person.say_hello))"
   ],
   "metadata": {
    "collapsed": false,
    "ExecuteTime": {
     "end_time": "2024-03-24T20:25:15.525804Z",
     "start_time": "2024-03-24T20:25:15.522671Z"
    }
   },
   "id": "de43044c3723491f",
   "execution_count": 28
  },
  {
   "cell_type": "code",
   "outputs": [],
   "source": [
    "p = Person()"
   ],
   "metadata": {
    "collapsed": false,
    "ExecuteTime": {
     "end_time": "2024-03-24T20:25:42.858139Z",
     "start_time": "2024-03-24T20:25:42.855942Z"
    }
   },
   "id": "2bcf2a73f6aac009",
   "execution_count": 29
  },
  {
   "cell_type": "code",
   "outputs": [
    {
     "data": {
      "text/plain": "<bound method Person.say_hello of <__main__.Person object at 0x7fdfb52b9a00>>"
     },
     "execution_count": 31,
     "metadata": {},
     "output_type": "execute_result"
    }
   ],
   "source": [
    "p.say_hello"
   ],
   "metadata": {
    "collapsed": false,
    "ExecuteTime": {
     "end_time": "2024-03-24T20:26:11.896136Z",
     "start_time": "2024-03-24T20:26:11.892793Z"
    }
   },
   "id": "3415a2ee995bd2bb",
   "execution_count": 31
  },
  {
   "cell_type": "code",
   "outputs": [
    {
     "name": "stdout",
     "output_type": "stream",
     "text": [
      "<__main__.Person object at 0x7fdfb52b9a00> says hello!\n"
     ]
    }
   ],
   "source": [
    "p.say_hello()"
   ],
   "metadata": {
    "collapsed": false,
    "ExecuteTime": {
     "end_time": "2024-03-24T20:25:52.430381Z",
     "start_time": "2024-03-24T20:25:52.428004Z"
    }
   },
   "id": "ea133f48c42f5156",
   "execution_count": 30
  },
  {
   "cell_type": "code",
   "outputs": [],
   "source": [
    "m_hello = p.say_hello"
   ],
   "metadata": {
    "collapsed": false,
    "ExecuteTime": {
     "end_time": "2024-03-24T20:26:31.405666Z",
     "start_time": "2024-03-24T20:26:31.403647Z"
    }
   },
   "id": "c2b68fcfed8c0bbe",
   "execution_count": 32
  },
  {
   "cell_type": "code",
   "outputs": [
    {
     "data": {
      "text/plain": "<function __main__.Person.say_hello(self)>"
     },
     "execution_count": 33,
     "metadata": {},
     "output_type": "execute_result"
    }
   ],
   "source": [
    "m_hello.__func__"
   ],
   "metadata": {
    "collapsed": false,
    "ExecuteTime": {
     "end_time": "2024-03-24T20:26:44.853803Z",
     "start_time": "2024-03-24T20:26:44.850922Z"
    }
   },
   "id": "7abc9848ffb2afe1",
   "execution_count": 33
  },
  {
   "cell_type": "code",
   "outputs": [
    {
     "data": {
      "text/plain": "'0x7fdfb52b9a00'"
     },
     "execution_count": 34,
     "metadata": {},
     "output_type": "execute_result"
    }
   ],
   "source": [
    "hex(id(p))"
   ],
   "metadata": {
    "collapsed": false,
    "ExecuteTime": {
     "end_time": "2024-03-24T20:27:03.212101Z",
     "start_time": "2024-03-24T20:27:03.208198Z"
    }
   },
   "id": "b0d3989a74455b71",
   "execution_count": 34
  },
  {
   "cell_type": "code",
   "outputs": [
    {
     "data": {
      "text/plain": "<__main__.Person at 0x7fdfb52b9a00>"
     },
     "execution_count": 35,
     "metadata": {},
     "output_type": "execute_result"
    }
   ],
   "source": [
    "m_hello.__self__"
   ],
   "metadata": {
    "collapsed": false,
    "ExecuteTime": {
     "end_time": "2024-03-24T20:27:22.500503Z",
     "start_time": "2024-03-24T20:27:22.497646Z"
    }
   },
   "id": "ff1c29930d13b163",
   "execution_count": 35
  },
  {
   "cell_type": "code",
   "outputs": [],
   "source": [
    "class Person:\n",
    "    def say_hello(self):\n",
    "        print(f\"Instance method called from {self}\")"
   ],
   "metadata": {
    "collapsed": false,
    "ExecuteTime": {
     "end_time": "2024-03-24T20:29:22.402808Z",
     "start_time": "2024-03-24T20:29:22.400554Z"
    }
   },
   "id": "930a8bf9cdce883f",
   "execution_count": 36
  },
  {
   "cell_type": "code",
   "outputs": [],
   "source": [
    "p = Person()"
   ],
   "metadata": {
    "collapsed": false,
    "ExecuteTime": {
     "end_time": "2024-03-24T20:29:36.071746Z",
     "start_time": "2024-03-24T20:29:36.069680Z"
    }
   },
   "id": "4a3930e3b42ef616",
   "execution_count": 37
  },
  {
   "cell_type": "code",
   "outputs": [
    {
     "data": {
      "text/plain": "'0x7fdfb52ba2d0'"
     },
     "execution_count": 38,
     "metadata": {},
     "output_type": "execute_result"
    }
   ],
   "source": [
    "hex(id(p))"
   ],
   "metadata": {
    "collapsed": false,
    "ExecuteTime": {
     "end_time": "2024-03-24T20:29:42.632613Z",
     "start_time": "2024-03-24T20:29:42.629209Z"
    }
   },
   "id": "3df8f115a6ea6939",
   "execution_count": 38
  },
  {
   "cell_type": "code",
   "outputs": [
    {
     "name": "stdout",
     "output_type": "stream",
     "text": [
      "Instance method called from <__main__.Person object at 0x7fdfb52ba2d0>\n"
     ]
    }
   ],
   "source": [
    "p.say_hello()"
   ],
   "metadata": {
    "collapsed": false,
    "ExecuteTime": {
     "end_time": "2024-03-24T20:29:53.188316Z",
     "start_time": "2024-03-24T20:29:53.185618Z"
    }
   },
   "id": "b325512925e5d314",
   "execution_count": 39
  },
  {
   "cell_type": "code",
   "outputs": [],
   "source": [
    "Person.do_work = lambda self: f\"do_work called from {self}\""
   ],
   "metadata": {
    "collapsed": false,
    "ExecuteTime": {
     "end_time": "2024-03-24T20:30:45.535347Z",
     "start_time": "2024-03-24T20:30:45.533091Z"
    }
   },
   "id": "fdd7b7b053114b14",
   "execution_count": 40
  },
  {
   "cell_type": "code",
   "outputs": [
    {
     "data": {
      "text/plain": "mappingproxy({'__module__': '__main__',\n              'say_hello': <function __main__.Person.say_hello(self)>,\n              '__dict__': <attribute '__dict__' of 'Person' objects>,\n              '__weakref__': <attribute '__weakref__' of 'Person' objects>,\n              '__doc__': None,\n              'do_work': <function __main__.<lambda>(self)>})"
     },
     "execution_count": 41,
     "metadata": {},
     "output_type": "execute_result"
    }
   ],
   "source": [
    "Person.__dict__"
   ],
   "metadata": {
    "collapsed": false,
    "ExecuteTime": {
     "end_time": "2024-03-24T20:30:51.306416Z",
     "start_time": "2024-03-24T20:30:51.302895Z"
    }
   },
   "id": "c056e3cbc07aab40",
   "execution_count": 41
  },
  {
   "cell_type": "code",
   "outputs": [
    {
     "data": {
      "text/plain": "<bound method Person.say_hello of <__main__.Person object at 0x7fdfb52ba2d0>>"
     },
     "execution_count": 42,
     "metadata": {},
     "output_type": "execute_result"
    }
   ],
   "source": [
    "p.say_hello"
   ],
   "metadata": {
    "collapsed": false,
    "ExecuteTime": {
     "end_time": "2024-03-24T20:31:12.298726Z",
     "start_time": "2024-03-24T20:31:12.295804Z"
    }
   },
   "id": "a79ceb28251b17fb",
   "execution_count": 42
  },
  {
   "cell_type": "code",
   "outputs": [
    {
     "data": {
      "text/plain": "<bound method <lambda> of <__main__.Person object at 0x7fdfb52ba2d0>>"
     },
     "execution_count": 43,
     "metadata": {},
     "output_type": "execute_result"
    }
   ],
   "source": [
    "p.do_work"
   ],
   "metadata": {
    "collapsed": false,
    "ExecuteTime": {
     "end_time": "2024-03-24T20:31:19.189080Z",
     "start_time": "2024-03-24T20:31:19.186050Z"
    }
   },
   "id": "2b3d9ddfa65b888c",
   "execution_count": 43
  },
  {
   "cell_type": "code",
   "outputs": [
    {
     "data": {
      "text/plain": "'do_work called from <__main__.Person object at 0x7fdfb52ba2d0>'"
     },
     "execution_count": 44,
     "metadata": {},
     "output_type": "execute_result"
    }
   ],
   "source": [
    "p.do_work()"
   ],
   "metadata": {
    "collapsed": false,
    "ExecuteTime": {
     "end_time": "2024-03-24T20:32:09.329061Z",
     "start_time": "2024-03-24T20:32:09.326262Z"
    }
   },
   "id": "2723da14bc8d28c5",
   "execution_count": 44
  },
  {
   "cell_type": "code",
   "outputs": [],
   "source": [
    "p.other_func = lambda *args: f\"other_func called with {args}\""
   ],
   "metadata": {
    "collapsed": false,
    "ExecuteTime": {
     "end_time": "2024-03-24T20:33:22.859757Z",
     "start_time": "2024-03-24T20:33:22.857483Z"
    }
   },
   "id": "dd242a282d8ec4d5",
   "execution_count": 45
  },
  {
   "cell_type": "code",
   "outputs": [
    {
     "data": {
      "text/plain": "<function __main__.<lambda>(*args)>"
     },
     "execution_count": 46,
     "metadata": {},
     "output_type": "execute_result"
    }
   ],
   "source": [
    "p.other_func"
   ],
   "metadata": {
    "collapsed": false,
    "ExecuteTime": {
     "end_time": "2024-03-24T20:33:26.847768Z",
     "start_time": "2024-03-24T20:33:26.844292Z"
    }
   },
   "id": "95e37e0c87e98e25",
   "execution_count": 46
  },
  {
   "cell_type": "code",
   "outputs": [
    {
     "data": {
      "text/plain": "'other_func called with ()'"
     },
     "execution_count": 47,
     "metadata": {},
     "output_type": "execute_result"
    }
   ],
   "source": [
    "p.other_func()"
   ],
   "metadata": {
    "collapsed": false,
    "ExecuteTime": {
     "end_time": "2024-03-24T20:33:58.591627Z",
     "start_time": "2024-03-24T20:33:58.588431Z"
    }
   },
   "id": "5bdc72beebcf366a",
   "execution_count": 47
  },
  {
   "cell_type": "code",
   "outputs": [
    {
     "data": {
      "text/plain": "\"other_func called with ('Paweł',)\""
     },
     "execution_count": 48,
     "metadata": {},
     "output_type": "execute_result"
    }
   ],
   "source": [
    "p.other_func(\"Paweł\")"
   ],
   "metadata": {
    "collapsed": false,
    "ExecuteTime": {
     "end_time": "2024-03-24T20:34:07.085457Z",
     "start_time": "2024-03-24T20:34:07.082709Z"
    }
   },
   "id": "689c3c398c2f8089",
   "execution_count": 48
  },
  {
   "cell_type": "code",
   "outputs": [],
   "source": [],
   "metadata": {
    "collapsed": false
   },
   "id": "1ef3642776c8d1b9"
  }
 ],
 "metadata": {
  "kernelspec": {
   "display_name": "Python 3",
   "language": "python",
   "name": "python3"
  },
  "language_info": {
   "codemirror_mode": {
    "name": "ipython",
    "version": 2
   },
   "file_extension": ".py",
   "mimetype": "text/x-python",
   "name": "python",
   "nbconvert_exporter": "python",
   "pygments_lexer": "ipython2",
   "version": "2.7.6"
  }
 },
 "nbformat": 4,
 "nbformat_minor": 5
}
