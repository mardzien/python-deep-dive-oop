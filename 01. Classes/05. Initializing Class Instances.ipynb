{
 "cells": [
  {
   "cell_type": "code",
   "execution_count": 1,
   "id": "initial_id",
   "metadata": {
    "collapsed": true,
    "ExecuteTime": {
     "end_time": "2024-03-24T20:43:39.833513Z",
     "start_time": "2024-03-24T20:43:39.830568Z"
    }
   },
   "outputs": [],
   "source": [
    "class Person(object):\n",
    "    def __init__(self):\n",
    "        print(f'Initializing a new Person object: {self}')"
   ]
  },
  {
   "cell_type": "code",
   "outputs": [
    {
     "name": "stdout",
     "output_type": "stream",
     "text": [
      "Initializing a new Person object: <__main__.Person object at 0x7fb37c32d670>\n"
     ]
    }
   ],
   "source": [
    "p = Person()"
   ],
   "metadata": {
    "collapsed": false,
    "ExecuteTime": {
     "end_time": "2024-03-24T20:43:48.442044Z",
     "start_time": "2024-03-24T20:43:48.439800Z"
    }
   },
   "id": "9ca26ee7e9410c33",
   "execution_count": 2
  },
  {
   "cell_type": "code",
   "outputs": [
    {
     "data": {
      "text/plain": "'0x7fb37c32d670'"
     },
     "execution_count": 3,
     "metadata": {},
     "output_type": "execute_result"
    }
   ],
   "source": [
    "hex(id(p))    "
   ],
   "metadata": {
    "collapsed": false,
    "ExecuteTime": {
     "end_time": "2024-03-24T20:44:06.886730Z",
     "start_time": "2024-03-24T20:44:06.881956Z"
    }
   },
   "id": "282d53535564ff68",
   "execution_count": 3
  },
  {
   "cell_type": "code",
   "outputs": [],
   "source": [
    "class Person(object):\n",
    "    def __init__(self, name):\n",
    "        self.name = name"
   ],
   "metadata": {
    "collapsed": false,
    "ExecuteTime": {
     "end_time": "2024-03-24T20:44:58.169023Z",
     "start_time": "2024-03-24T20:44:58.166766Z"
    }
   },
   "id": "5ee00f1b64fc878c",
   "execution_count": 4
  },
  {
   "cell_type": "code",
   "outputs": [],
   "source": [
    "p = Person(\"Eric\")"
   ],
   "metadata": {
    "collapsed": false,
    "ExecuteTime": {
     "end_time": "2024-03-24T20:45:13.230922Z",
     "start_time": "2024-03-24T20:45:13.228181Z"
    }
   },
   "id": "e094b5a4c2bec193",
   "execution_count": 6
  },
  {
   "cell_type": "code",
   "outputs": [
    {
     "data": {
      "text/plain": "<__main__.Person at 0x7fb37b92bce0>"
     },
     "execution_count": 7,
     "metadata": {},
     "output_type": "execute_result"
    }
   ],
   "source": [
    "p"
   ],
   "metadata": {
    "collapsed": false,
    "ExecuteTime": {
     "end_time": "2024-03-24T20:45:16.218783Z",
     "start_time": "2024-03-24T20:45:16.216060Z"
    }
   },
   "id": "a87659290b484394",
   "execution_count": 7
  },
  {
   "cell_type": "code",
   "outputs": [
    {
     "data": {
      "text/plain": "{'name': 'Eric'}"
     },
     "execution_count": 8,
     "metadata": {},
     "output_type": "execute_result"
    }
   ],
   "source": [
    "p.__dict__"
   ],
   "metadata": {
    "collapsed": false,
    "ExecuteTime": {
     "end_time": "2024-03-24T20:45:36.330004Z",
     "start_time": "2024-03-24T20:45:36.326946Z"
    }
   },
   "id": "66add058b8c356e3",
   "execution_count": 8
  },
  {
   "cell_type": "code",
   "outputs": [],
   "source": [
    "class Person(object):\n",
    "    def init(self, name):\n",
    "        self.name = name"
   ],
   "metadata": {
    "collapsed": false,
    "ExecuteTime": {
     "end_time": "2024-03-24T20:46:11.934148Z",
     "start_time": "2024-03-24T20:46:11.931558Z"
    }
   },
   "id": "ba70e8528edf7143",
   "execution_count": 9
  },
  {
   "cell_type": "code",
   "outputs": [],
   "source": [
    "p = Person()"
   ],
   "metadata": {
    "collapsed": false,
    "ExecuteTime": {
     "end_time": "2024-03-24T20:46:35.868576Z",
     "start_time": "2024-03-24T20:46:35.866501Z"
    }
   },
   "id": "484518d490860c6c",
   "execution_count": 10
  },
  {
   "cell_type": "code",
   "outputs": [
    {
     "data": {
      "text/plain": "{}"
     },
     "execution_count": 11,
     "metadata": {},
     "output_type": "execute_result"
    }
   ],
   "source": [
    "p.__dict__"
   ],
   "metadata": {
    "collapsed": false,
    "ExecuteTime": {
     "end_time": "2024-03-24T20:46:50.481198Z",
     "start_time": "2024-03-24T20:46:50.478388Z"
    }
   },
   "id": "f0d5438b97da7748",
   "execution_count": 11
  },
  {
   "cell_type": "code",
   "outputs": [],
   "source": [
    "p.init(\"Eric\")"
   ],
   "metadata": {
    "collapsed": false,
    "ExecuteTime": {
     "end_time": "2024-03-24T20:47:00.881994Z",
     "start_time": "2024-03-24T20:47:00.879767Z"
    }
   },
   "id": "b52657aae0834da8",
   "execution_count": 12
  },
  {
   "cell_type": "code",
   "outputs": [
    {
     "data": {
      "text/plain": "{'name': 'Eric'}"
     },
     "execution_count": 13,
     "metadata": {},
     "output_type": "execute_result"
    }
   ],
   "source": [
    "p.__dict__"
   ],
   "metadata": {
    "collapsed": false,
    "ExecuteTime": {
     "end_time": "2024-03-24T20:47:06.583931Z",
     "start_time": "2024-03-24T20:47:06.580987Z"
    }
   },
   "id": "5a2d2ae223cbf212",
   "execution_count": 13
  },
  {
   "cell_type": "code",
   "outputs": [],
   "source": [],
   "metadata": {
    "collapsed": false
   },
   "id": "7433939fd832c8cb"
  }
 ],
 "metadata": {
  "kernelspec": {
   "display_name": "Python 3",
   "language": "python",
   "name": "python3"
  },
  "language_info": {
   "codemirror_mode": {
    "name": "ipython",
    "version": 2
   },
   "file_extension": ".py",
   "mimetype": "text/x-python",
   "name": "python",
   "nbconvert_exporter": "python",
   "pygments_lexer": "ipython2",
   "version": "2.7.6"
  }
 },
 "nbformat": 4,
 "nbformat_minor": 5
}
