{
 "cells": [
  {
   "cell_type": "code",
   "execution_count": 1,
   "id": "initial_id",
   "metadata": {
    "collapsed": true,
    "ExecuteTime": {
     "end_time": "2024-03-24T20:53:55.114318Z",
     "start_time": "2024-03-24T20:53:55.111897Z"
    }
   },
   "outputs": [],
   "source": [
    "class Person:\n",
    "    pass"
   ]
  },
  {
   "cell_type": "code",
   "outputs": [],
   "source": [
    "p1 = Person()\n",
    "p2 = Person()\n",
    "\n",
    "p1.name = \"Alex\""
   ],
   "metadata": {
    "collapsed": false,
    "ExecuteTime": {
     "end_time": "2024-03-24T20:54:16.861449Z",
     "start_time": "2024-03-24T20:54:16.859270Z"
    }
   },
   "id": "6d0540cb9489fd84",
   "execution_count": 2
  },
  {
   "cell_type": "code",
   "outputs": [
    {
     "data": {
      "text/plain": "{'name': 'Alex'}"
     },
     "execution_count": 3,
     "metadata": {},
     "output_type": "execute_result"
    }
   ],
   "source": [
    "p1.__dict__"
   ],
   "metadata": {
    "collapsed": false,
    "ExecuteTime": {
     "end_time": "2024-03-24T20:54:23.463592Z",
     "start_time": "2024-03-24T20:54:23.458789Z"
    }
   },
   "id": "4ccde5cea3ea4fd2",
   "execution_count": 3
  },
  {
   "cell_type": "code",
   "outputs": [
    {
     "data": {
      "text/plain": "{}"
     },
     "execution_count": 4,
     "metadata": {},
     "output_type": "execute_result"
    }
   ],
   "source": [
    "p2.__dict__"
   ],
   "metadata": {
    "collapsed": false,
    "ExecuteTime": {
     "end_time": "2024-03-24T20:54:33.436768Z",
     "start_time": "2024-03-24T20:54:33.434024Z"
    }
   },
   "id": "e3d376956b82f88",
   "execution_count": 4
  },
  {
   "cell_type": "code",
   "outputs": [],
   "source": [
    "p1.say_hello = lambda: \"Hello!\""
   ],
   "metadata": {
    "collapsed": false,
    "ExecuteTime": {
     "end_time": "2024-03-24T20:54:58.686045Z",
     "start_time": "2024-03-24T20:54:58.683953Z"
    }
   },
   "id": "c030c9c0e935926",
   "execution_count": 5
  },
  {
   "cell_type": "code",
   "outputs": [
    {
     "data": {
      "text/plain": "<function __main__.<lambda>()>"
     },
     "execution_count": 6,
     "metadata": {},
     "output_type": "execute_result"
    }
   ],
   "source": [
    "p1.say_hello"
   ],
   "metadata": {
    "collapsed": false,
    "ExecuteTime": {
     "end_time": "2024-03-24T20:55:08.827265Z",
     "start_time": "2024-03-24T20:55:08.824403Z"
    }
   },
   "id": "131f19fa2e78da47",
   "execution_count": 6
  },
  {
   "cell_type": "code",
   "outputs": [
    {
     "data": {
      "text/plain": "{'name': 'Alex', 'say_hello': <function __main__.<lambda>()>}"
     },
     "execution_count": 7,
     "metadata": {},
     "output_type": "execute_result"
    }
   ],
   "source": [
    "p1.__dict__"
   ],
   "metadata": {
    "collapsed": false,
    "ExecuteTime": {
     "end_time": "2024-03-24T20:55:18.782118Z",
     "start_time": "2024-03-24T20:55:18.779089Z"
    }
   },
   "id": "277ed9db357a8469",
   "execution_count": 7
  },
  {
   "cell_type": "code",
   "outputs": [],
   "source": [
    "from types import MethodType"
   ],
   "metadata": {
    "collapsed": false,
    "ExecuteTime": {
     "end_time": "2024-03-24T20:56:28.371128Z",
     "start_time": "2024-03-24T20:56:28.368778Z"
    }
   },
   "id": "4038192bf2471313",
   "execution_count": 8
  },
  {
   "cell_type": "code",
   "outputs": [],
   "source": [
    "class Person:\n",
    "    def __init__(self, name):\n",
    "        self.name = name"
   ],
   "metadata": {
    "collapsed": false,
    "ExecuteTime": {
     "end_time": "2024-03-24T20:56:46.448929Z",
     "start_time": "2024-03-24T20:56:46.446740Z"
    }
   },
   "id": "dccb89ea54f6047f",
   "execution_count": 9
  },
  {
   "cell_type": "code",
   "outputs": [],
   "source": [
    "p1 = Person(\"Eric\")\n",
    "p2 = Person(\"Alex\")"
   ],
   "metadata": {
    "collapsed": false,
    "ExecuteTime": {
     "end_time": "2024-03-24T20:56:59.840523Z",
     "start_time": "2024-03-24T20:56:59.838421Z"
    }
   },
   "id": "efa32c376054ef05",
   "execution_count": 10
  },
  {
   "cell_type": "code",
   "outputs": [
    {
     "data": {
      "text/plain": "({'name': 'Eric'}, {'name': 'Alex'})"
     },
     "execution_count": 11,
     "metadata": {},
     "output_type": "execute_result"
    }
   ],
   "source": [
    "p1.__dict__, p2.__dict__"
   ],
   "metadata": {
    "collapsed": false,
    "ExecuteTime": {
     "end_time": "2024-03-24T20:57:15.782636Z",
     "start_time": "2024-03-24T20:57:15.779467Z"
    }
   },
   "id": "e0435805dc5302f4",
   "execution_count": 11
  },
  {
   "cell_type": "code",
   "outputs": [],
   "source": [
    "def say_hello(self):\n",
    "    return f\"{self.name} says hello!\""
   ],
   "metadata": {
    "collapsed": false,
    "ExecuteTime": {
     "end_time": "2024-03-24T20:58:16.815243Z",
     "start_time": "2024-03-24T20:58:16.813046Z"
    }
   },
   "id": "368af7b5c41902f5",
   "execution_count": 12
  },
  {
   "cell_type": "code",
   "outputs": [
    {
     "data": {
      "text/plain": "'Eric says hello!'"
     },
     "execution_count": 13,
     "metadata": {},
     "output_type": "execute_result"
    }
   ],
   "source": [
    "say_hello(p1)"
   ],
   "metadata": {
    "collapsed": false,
    "ExecuteTime": {
     "end_time": "2024-03-24T20:58:23.799798Z",
     "start_time": "2024-03-24T20:58:23.796651Z"
    }
   },
   "id": "655893b22b2ccb86",
   "execution_count": 13
  },
  {
   "cell_type": "code",
   "outputs": [
    {
     "data": {
      "text/plain": "'Alex says hello!'"
     },
     "execution_count": 14,
     "metadata": {},
     "output_type": "execute_result"
    }
   ],
   "source": [
    "say_hello(p2)"
   ],
   "metadata": {
    "collapsed": false,
    "ExecuteTime": {
     "end_time": "2024-03-24T20:58:29.769609Z",
     "start_time": "2024-03-24T20:58:29.766629Z"
    }
   },
   "id": "5a40c9940cc55a38",
   "execution_count": 14
  },
  {
   "cell_type": "code",
   "outputs": [],
   "source": [
    "p1_say_hello = MethodType(say_hello, p1)"
   ],
   "metadata": {
    "collapsed": false,
    "ExecuteTime": {
     "end_time": "2024-03-24T20:59:25.184707Z",
     "start_time": "2024-03-24T20:59:25.182703Z"
    }
   },
   "id": "beb8362f8250d84f",
   "execution_count": 15
  },
  {
   "cell_type": "code",
   "outputs": [
    {
     "data": {
      "text/plain": "<bound method say_hello of <__main__.Person object at 0x7fc7a090ecf0>>"
     },
     "execution_count": 16,
     "metadata": {},
     "output_type": "execute_result"
    }
   ],
   "source": [
    "p1_say_hello"
   ],
   "metadata": {
    "collapsed": false,
    "ExecuteTime": {
     "end_time": "2024-03-24T20:59:37.794575Z",
     "start_time": "2024-03-24T20:59:37.791929Z"
    }
   },
   "id": "b0a085c9e8e90bf5",
   "execution_count": 16
  },
  {
   "cell_type": "code",
   "outputs": [
    {
     "ename": "AttributeError",
     "evalue": "'Person' object has no attribute 'say_hello'",
     "output_type": "error",
     "traceback": [
      "\u001B[0;31m---------------------------------------------------------------------------\u001B[0m",
      "\u001B[0;31mAttributeError\u001B[0m                            Traceback (most recent call last)",
      "Cell \u001B[0;32mIn[17], line 1\u001B[0m\n\u001B[0;32m----> 1\u001B[0m \u001B[43mp1\u001B[49m\u001B[38;5;241;43m.\u001B[39;49m\u001B[43msay_hello\u001B[49m\n",
      "\u001B[0;31mAttributeError\u001B[0m: 'Person' object has no attribute 'say_hello'"
     ]
    }
   ],
   "source": [
    "p1.say_hello"
   ],
   "metadata": {
    "collapsed": false,
    "ExecuteTime": {
     "end_time": "2024-03-24T20:59:48.688254Z",
     "start_time": "2024-03-24T20:59:48.533097Z"
    }
   },
   "id": "e62452d66772fc57",
   "execution_count": 17
  },
  {
   "cell_type": "code",
   "outputs": [
    {
     "data": {
      "text/plain": "{'name': 'Eric'}"
     },
     "execution_count": 18,
     "metadata": {},
     "output_type": "execute_result"
    }
   ],
   "source": [
    "p1.__dict__"
   ],
   "metadata": {
    "collapsed": false,
    "ExecuteTime": {
     "end_time": "2024-03-24T21:00:04.701522Z",
     "start_time": "2024-03-24T21:00:04.698649Z"
    }
   },
   "id": "fe9e2bd3b8f54667",
   "execution_count": 18
  },
  {
   "cell_type": "code",
   "outputs": [],
   "source": [
    "p1.say_hello = p1_say_hello"
   ],
   "metadata": {
    "collapsed": false,
    "ExecuteTime": {
     "end_time": "2024-03-24T21:00:17.666064Z",
     "start_time": "2024-03-24T21:00:17.663900Z"
    }
   },
   "id": "1827df611bc1afc0",
   "execution_count": 19
  },
  {
   "cell_type": "code",
   "outputs": [
    {
     "data": {
      "text/plain": "{'name': 'Eric',\n 'say_hello': <bound method say_hello of <__main__.Person object at 0x7fc7a090ecf0>>}"
     },
     "execution_count": 20,
     "metadata": {},
     "output_type": "execute_result"
    }
   ],
   "source": [
    "p1.__dict__"
   ],
   "metadata": {
    "collapsed": false,
    "ExecuteTime": {
     "end_time": "2024-03-24T21:00:28.206119Z",
     "start_time": "2024-03-24T21:00:28.202735Z"
    }
   },
   "id": "6f8172a5c86f019f",
   "execution_count": 20
  },
  {
   "cell_type": "code",
   "outputs": [
    {
     "data": {
      "text/plain": "<bound method say_hello of <__main__.Person object at 0x7fc7a090ecf0>>"
     },
     "execution_count": 21,
     "metadata": {},
     "output_type": "execute_result"
    }
   ],
   "source": [
    "p1.say_hello"
   ],
   "metadata": {
    "collapsed": false,
    "ExecuteTime": {
     "end_time": "2024-03-24T21:00:33.745866Z",
     "start_time": "2024-03-24T21:00:33.742901Z"
    }
   },
   "id": "2a315e5cc89b8093",
   "execution_count": 21
  },
  {
   "cell_type": "code",
   "outputs": [
    {
     "data": {
      "text/plain": "'Eric says hello!'"
     },
     "execution_count": 22,
     "metadata": {},
     "output_type": "execute_result"
    }
   ],
   "source": [
    "p1.say_hello()"
   ],
   "metadata": {
    "collapsed": false,
    "ExecuteTime": {
     "end_time": "2024-03-24T21:00:43.544016Z",
     "start_time": "2024-03-24T21:00:43.540934Z"
    }
   },
   "id": "d87493c4e77ea59c",
   "execution_count": 22
  },
  {
   "cell_type": "code",
   "outputs": [
    {
     "data": {
      "text/plain": "'Eric says hello!'"
     },
     "execution_count": 24,
     "metadata": {},
     "output_type": "execute_result"
    }
   ],
   "source": [
    "getattr(p1, \"say_hello\")()"
   ],
   "metadata": {
    "collapsed": false,
    "ExecuteTime": {
     "end_time": "2024-03-24T21:01:10.234540Z",
     "start_time": "2024-03-24T21:01:10.231296Z"
    }
   },
   "id": "96eb62794ff2a416",
   "execution_count": 24
  },
  {
   "cell_type": "code",
   "outputs": [
    {
     "data": {
      "text/plain": "{'name': 'Alex'}"
     },
     "execution_count": 25,
     "metadata": {},
     "output_type": "execute_result"
    }
   ],
   "source": [
    "p2 = Person(\"Alex\")\n",
    "p2.__dict__"
   ],
   "metadata": {
    "collapsed": false,
    "ExecuteTime": {
     "end_time": "2024-03-24T21:02:03.505501Z",
     "start_time": "2024-03-24T21:02:03.502646Z"
    }
   },
   "id": "55e8a107e1d8b8e3",
   "execution_count": 25
  },
  {
   "cell_type": "code",
   "outputs": [],
   "source": [
    "p2.say_hello = MethodType(lambda self: f\"Hello {self.name}!\", p2)"
   ],
   "metadata": {
    "collapsed": false,
    "ExecuteTime": {
     "end_time": "2024-03-24T21:02:31.911703Z",
     "start_time": "2024-03-24T21:02:31.909268Z"
    }
   },
   "id": "89cbe2177e5268dd",
   "execution_count": 26
  },
  {
   "cell_type": "code",
   "outputs": [
    {
     "data": {
      "text/plain": "'Hello Alex!'"
     },
     "execution_count": 27,
     "metadata": {},
     "output_type": "execute_result"
    }
   ],
   "source": [
    "p2.say_hello()"
   ],
   "metadata": {
    "collapsed": false,
    "ExecuteTime": {
     "end_time": "2024-03-24T21:02:38.273237Z",
     "start_time": "2024-03-24T21:02:38.269987Z"
    }
   },
   "id": "ed38020aca9b01a9",
   "execution_count": 27
  },
  {
   "cell_type": "code",
   "outputs": [],
   "source": [
    "class Person:\n",
    "    def __init__(self, name):\n",
    "        self.name = name\n",
    "        \n",
    "    def register_work(self, func):\n",
    "        setattr(self, '_do_work', MethodType(func, self))\n",
    "        \n",
    "    def do_work(self):\n",
    "        do_work_method = getattr(self, '_do_work', None)\n",
    "        \n",
    "        if do_work_method:\n",
    "            return do_work_method()\n",
    "        else:\n",
    "            raise AttributeError(\"You must first register a do_work method.\")"
   ],
   "metadata": {
    "collapsed": false,
    "ExecuteTime": {
     "end_time": "2024-03-24T21:08:10.191251Z",
     "start_time": "2024-03-24T21:08:10.188284Z"
    }
   },
   "id": "85809a218917adce",
   "execution_count": 29
  },
  {
   "cell_type": "code",
   "outputs": [],
   "source": [
    "math_teacher = Person('Eric')\n",
    "english_teacher = Person('John')"
   ],
   "metadata": {
    "collapsed": false,
    "ExecuteTime": {
     "end_time": "2024-03-24T21:08:41.429238Z",
     "start_time": "2024-03-24T21:08:41.427071Z"
    }
   },
   "id": "5046fe3d6127fae7",
   "execution_count": 30
  },
  {
   "cell_type": "code",
   "outputs": [
    {
     "ename": "AttributeError",
     "evalue": "You must first register a do_work method.",
     "output_type": "error",
     "traceback": [
      "\u001B[0;31m---------------------------------------------------------------------------\u001B[0m",
      "\u001B[0;31mAttributeError\u001B[0m                            Traceback (most recent call last)",
      "Cell \u001B[0;32mIn[31], line 1\u001B[0m\n\u001B[0;32m----> 1\u001B[0m \u001B[43mmath_teacher\u001B[49m\u001B[38;5;241;43m.\u001B[39;49m\u001B[43mdo_work\u001B[49m\u001B[43m(\u001B[49m\u001B[43m)\u001B[49m\n",
      "Cell \u001B[0;32mIn[29], line 14\u001B[0m, in \u001B[0;36mPerson.do_work\u001B[0;34m(self)\u001B[0m\n\u001B[1;32m     12\u001B[0m     \u001B[38;5;28;01mreturn\u001B[39;00m do_work_method()\n\u001B[1;32m     13\u001B[0m \u001B[38;5;28;01melse\u001B[39;00m:\n\u001B[0;32m---> 14\u001B[0m     \u001B[38;5;28;01mraise\u001B[39;00m \u001B[38;5;167;01mAttributeError\u001B[39;00m(\u001B[38;5;124m\"\u001B[39m\u001B[38;5;124mYou must first register a do_work method.\u001B[39m\u001B[38;5;124m\"\u001B[39m)\n",
      "\u001B[0;31mAttributeError\u001B[0m: You must first register a do_work method."
     ]
    }
   ],
   "source": [
    "math_teacher.do_work()"
   ],
   "metadata": {
    "collapsed": false,
    "ExecuteTime": {
     "end_time": "2024-03-24T21:09:09.348926Z",
     "start_time": "2024-03-24T21:09:09.332431Z"
    }
   },
   "id": "b16b65c566ad225c",
   "execution_count": 31
  },
  {
   "cell_type": "code",
   "outputs": [],
   "source": [
    "def work_math(self):\n",
    "    return f\"{self.name} will teach differentials today.\""
   ],
   "metadata": {
    "collapsed": false,
    "ExecuteTime": {
     "end_time": "2024-03-24T21:10:23.485786Z",
     "start_time": "2024-03-24T21:10:23.483536Z"
    }
   },
   "id": "658656e159884617",
   "execution_count": 32
  },
  {
   "cell_type": "code",
   "outputs": [],
   "source": [
    "math_teacher.register_work(work_math)"
   ],
   "metadata": {
    "collapsed": false,
    "ExecuteTime": {
     "end_time": "2024-03-24T21:10:34.332352Z",
     "start_time": "2024-03-24T21:10:34.330184Z"
    }
   },
   "id": "4879a33d85f06c41",
   "execution_count": 33
  },
  {
   "cell_type": "code",
   "outputs": [
    {
     "data": {
      "text/plain": "{'name': 'Eric',\n '_do_work': <bound method work_math of <__main__.Person object at 0x7fc7a0957890>>}"
     },
     "execution_count": 34,
     "metadata": {},
     "output_type": "execute_result"
    }
   ],
   "source": [
    "math_teacher.__dict__"
   ],
   "metadata": {
    "collapsed": false,
    "ExecuteTime": {
     "end_time": "2024-03-24T21:10:57.362839Z",
     "start_time": "2024-03-24T21:10:57.359789Z"
    }
   },
   "id": "340b71d9408cfa58",
   "execution_count": 34
  },
  {
   "cell_type": "code",
   "outputs": [
    {
     "data": {
      "text/plain": "'0x7fc7a0957890'"
     },
     "execution_count": 35,
     "metadata": {},
     "output_type": "execute_result"
    }
   ],
   "source": [
    "hex(id(math_teacher))"
   ],
   "metadata": {
    "collapsed": false,
    "ExecuteTime": {
     "end_time": "2024-03-24T21:11:58.979697Z",
     "start_time": "2024-03-24T21:11:58.975936Z"
    }
   },
   "id": "3504911e092843e1",
   "execution_count": 35
  },
  {
   "cell_type": "code",
   "outputs": [
    {
     "data": {
      "text/plain": "'Eric will teach differentials today.'"
     },
     "execution_count": 36,
     "metadata": {},
     "output_type": "execute_result"
    }
   ],
   "source": [
    "math_teacher.do_work()"
   ],
   "metadata": {
    "collapsed": false,
    "ExecuteTime": {
     "end_time": "2024-03-24T21:12:14.881489Z",
     "start_time": "2024-03-24T21:12:14.878210Z"
    }
   },
   "id": "59d13f8b17d373eb",
   "execution_count": 36
  },
  {
   "cell_type": "code",
   "outputs": [],
   "source": [
    "def work_english(self):\n",
    "   return f\"{self.name} will analyze Hamlet today.\" "
   ],
   "metadata": {
    "collapsed": false,
    "ExecuteTime": {
     "end_time": "2024-03-24T21:13:24.051137Z",
     "start_time": "2024-03-24T21:13:24.048538Z"
    }
   },
   "id": "d422537a65dbe379",
   "execution_count": 37
  },
  {
   "cell_type": "code",
   "outputs": [],
   "source": [
    "english_teacher.register_work(work_english)"
   ],
   "metadata": {
    "collapsed": false,
    "ExecuteTime": {
     "end_time": "2024-03-24T21:13:42.630490Z",
     "start_time": "2024-03-24T21:13:42.628421Z"
    }
   },
   "id": "320c4daa89fe5762",
   "execution_count": 38
  },
  {
   "cell_type": "code",
   "outputs": [
    {
     "data": {
      "text/plain": "{'name': 'John',\n '_do_work': <bound method work_english of <__main__.Person object at 0x7fc7a09565a0>>}"
     },
     "execution_count": 39,
     "metadata": {},
     "output_type": "execute_result"
    }
   ],
   "source": [
    "english_teacher.__dict__"
   ],
   "metadata": {
    "collapsed": false,
    "ExecuteTime": {
     "end_time": "2024-03-24T21:14:23.417136Z",
     "start_time": "2024-03-24T21:14:23.414091Z"
    }
   },
   "id": "737d7a41ca0c5c15",
   "execution_count": 39
  },
  {
   "cell_type": "code",
   "outputs": [],
   "source": [],
   "metadata": {
    "collapsed": false
   },
   "id": "c3923dee32e703a9"
  }
 ],
 "metadata": {
  "kernelspec": {
   "display_name": "Python 3",
   "language": "python",
   "name": "python3"
  },
  "language_info": {
   "codemirror_mode": {
    "name": "ipython",
    "version": 2
   },
   "file_extension": ".py",
   "mimetype": "text/x-python",
   "name": "python",
   "nbconvert_exporter": "python",
   "pygments_lexer": "ipython2",
   "version": "2.7.6"
  }
 },
 "nbformat": 4,
 "nbformat_minor": 5
}
