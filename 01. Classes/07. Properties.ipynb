{
 "cells": [
  {
   "metadata": {},
   "cell_type": "markdown",
   "source": "## Properties",
   "id": "25127aee64f7eca5"
  },
  {
   "metadata": {
    "ExecuteTime": {
     "end_time": "2024-04-05T18:31:12.167350Z",
     "start_time": "2024-04-05T18:31:12.164951Z"
    }
   },
   "cell_type": "code",
   "source": [
    "class Person:\n",
    "    def __init__(self, name):\n",
    "        self.name = name"
   ],
   "id": "initial_id",
   "outputs": [],
   "execution_count": 1
  },
  {
   "metadata": {
    "ExecuteTime": {
     "end_time": "2024-04-05T18:31:21.246855Z",
     "start_time": "2024-04-05T18:31:21.244603Z"
    }
   },
   "cell_type": "code",
   "source": "p = Person(\"Alex\")",
   "id": "85a6cd4a63ad78fd",
   "outputs": [],
   "execution_count": 2
  },
  {
   "metadata": {
    "ExecuteTime": {
     "end_time": "2024-04-05T18:31:30.717593Z",
     "start_time": "2024-04-05T18:31:30.712762Z"
    }
   },
   "cell_type": "code",
   "source": "p.__dict__",
   "id": "1053c99762f5759d",
   "outputs": [
    {
     "data": {
      "text/plain": [
       "{'name': 'Alex'}"
      ]
     },
     "execution_count": 3,
     "metadata": {},
     "output_type": "execute_result"
    }
   ],
   "execution_count": 3
  },
  {
   "metadata": {
    "ExecuteTime": {
     "end_time": "2024-04-05T18:31:46.966219Z",
     "start_time": "2024-04-05T18:31:46.964085Z"
    }
   },
   "cell_type": "code",
   "source": "p.name = 100",
   "id": "d7682d07b8d7cb9e",
   "outputs": [],
   "execution_count": 4
  },
  {
   "metadata": {
    "ExecuteTime": {
     "end_time": "2024-04-05T18:47:25.496144Z",
     "start_time": "2024-04-05T18:47:25.493202Z"
    }
   },
   "cell_type": "code",
   "source": [
    "class Person:\n",
    "    def __init__(self, name):\n",
    "        self.set_name(name)\n",
    "        \n",
    "    def get_name(self):\n",
    "        return self._name\n",
    "    \n",
    "    def set_name(self, value):\n",
    "        if isinstance(value, str) and len(value.strip()) > 0:\n",
    "            self._name = value.strip()\n",
    "        else:\n",
    "            raise ValueError(\"Name must be a non-empty string\")"
   ],
   "id": "cc375f5f102a6911",
   "outputs": [],
   "execution_count": 29
  },
  {
   "metadata": {
    "ExecuteTime": {
     "end_time": "2024-04-05T18:47:27.504557Z",
     "start_time": "2024-04-05T18:47:27.501783Z"
    }
   },
   "cell_type": "code",
   "source": "p = Person(\"Alex\")",
   "id": "c96eb374fbed9f83",
   "outputs": [],
   "execution_count": 30
  },
  {
   "metadata": {
    "ExecuteTime": {
     "end_time": "2024-04-05T18:47:28.078530Z",
     "start_time": "2024-04-05T18:47:28.058018Z"
    }
   },
   "cell_type": "code",
   "source": "p.set_name(100)",
   "id": "5de12c756d8562d7",
   "outputs": [
    {
     "ename": "ValueError",
     "evalue": "Name must be a non-empty string",
     "output_type": "error",
     "traceback": [
      "\u001B[0;31m---------------------------------------------------------------------------\u001B[0m",
      "\u001B[0;31mValueError\u001B[0m                                Traceback (most recent call last)",
      "Cell \u001B[0;32mIn[31], line 1\u001B[0m\n\u001B[0;32m----> 1\u001B[0m \u001B[43mp\u001B[49m\u001B[38;5;241;43m.\u001B[39;49m\u001B[43mset_name\u001B[49m\u001B[43m(\u001B[49m\u001B[38;5;241;43m100\u001B[39;49m\u001B[43m)\u001B[49m\n",
      "Cell \u001B[0;32mIn[29], line 12\u001B[0m, in \u001B[0;36mPerson.set_name\u001B[0;34m(self, value)\u001B[0m\n\u001B[1;32m     10\u001B[0m     \u001B[38;5;28mself\u001B[39m\u001B[38;5;241m.\u001B[39m_name \u001B[38;5;241m=\u001B[39m value\u001B[38;5;241m.\u001B[39mstrip()\n\u001B[1;32m     11\u001B[0m \u001B[38;5;28;01melse\u001B[39;00m:\n\u001B[0;32m---> 12\u001B[0m     \u001B[38;5;28;01mraise\u001B[39;00m \u001B[38;5;167;01mValueError\u001B[39;00m(\u001B[38;5;124m'\u001B[39m\u001B[38;5;124mName must be a non-empty string\u001B[39m\u001B[38;5;124m'\u001B[39m)\n",
      "\u001B[0;31mValueError\u001B[0m: Name must be a non-empty string"
     ]
    }
   ],
   "execution_count": 31
  },
  {
   "metadata": {
    "ExecuteTime": {
     "end_time": "2024-04-05T18:47:29.082611Z",
     "start_time": "2024-04-05T18:47:29.079459Z"
    }
   },
   "cell_type": "code",
   "source": "p.__dict__",
   "id": "8b699e3fdb5a6a7a",
   "outputs": [
    {
     "data": {
      "text/plain": [
       "{'_name': 'Alex'}"
      ]
     },
     "execution_count": 32,
     "metadata": {},
     "output_type": "execute_result"
    }
   ],
   "execution_count": 32
  },
  {
   "metadata": {
    "ExecuteTime": {
     "end_time": "2024-04-05T18:47:29.382728Z",
     "start_time": "2024-04-05T18:47:29.379746Z"
    }
   },
   "cell_type": "code",
   "source": "p._name",
   "id": "aeb337b567e97fdf",
   "outputs": [
    {
     "data": {
      "text/plain": [
       "'Alex'"
      ]
     },
     "execution_count": 33,
     "metadata": {},
     "output_type": "execute_result"
    }
   ],
   "execution_count": 33
  },
  {
   "metadata": {
    "ExecuteTime": {
     "end_time": "2024-04-05T18:47:29.916487Z",
     "start_time": "2024-04-05T18:47:29.913597Z"
    }
   },
   "cell_type": "code",
   "source": "type(property())",
   "id": "f90d609e3ba0f90f",
   "outputs": [
    {
     "data": {
      "text/plain": [
       "property"
      ]
     },
     "execution_count": 34,
     "metadata": {},
     "output_type": "execute_result"
    }
   ],
   "execution_count": 34
  },
  {
   "metadata": {
    "ExecuteTime": {
     "end_time": "2024-04-05T18:52:20.624374Z",
     "start_time": "2024-04-05T18:52:20.621158Z"
    }
   },
   "cell_type": "code",
   "source": [
    "class Person:\n",
    "    def __init__(self, name):\n",
    "        self._name = name\n",
    "        \n",
    "    def get_name(self):\n",
    "        print(\"Getter called...\")\n",
    "        return self._name\n",
    "    \n",
    "    def set_name(self, value):\n",
    "        print(\"Setter called...\")\n",
    "        if isinstance(value, str) and len(value.strip()) > 0:\n",
    "            self._name = value.strip()\n",
    "        else:\n",
    "            raise ValueError(\"Name must be a non-empty string\")\n",
    "        \n",
    "    name = property(fget=get_name, fset=set_name)"
   ],
   "id": "6b2e1bf98385c10b",
   "outputs": [],
   "execution_count": 37
  },
  {
   "metadata": {
    "ExecuteTime": {
     "end_time": "2024-04-05T18:52:21.230224Z",
     "start_time": "2024-04-05T18:52:21.227279Z"
    }
   },
   "cell_type": "code",
   "source": "p = Person(\"Alex\")",
   "id": "6768865ceded5d11",
   "outputs": [],
   "execution_count": 38
  },
  {
   "metadata": {
    "ExecuteTime": {
     "end_time": "2024-04-05T18:52:27.130118Z",
     "start_time": "2024-04-05T18:52:27.127014Z"
    }
   },
   "cell_type": "code",
   "source": "p.name",
   "id": "61de11b80e657bbe",
   "outputs": [
    {
     "name": "stdout",
     "output_type": "stream",
     "text": [
      "Getter called...\n"
     ]
    },
    {
     "data": {
      "text/plain": [
       "'Alex'"
      ]
     },
     "execution_count": 39,
     "metadata": {},
     "output_type": "execute_result"
    }
   ],
   "execution_count": 39
  },
  {
   "metadata": {
    "ExecuteTime": {
     "end_time": "2024-04-05T18:53:33.370145Z",
     "start_time": "2024-04-05T18:53:33.367838Z"
    }
   },
   "cell_type": "code",
   "source": "p.name = \"Eric\"",
   "id": "bb69933eb8838f6c",
   "outputs": [
    {
     "name": "stdout",
     "output_type": "stream",
     "text": [
      "Setter called...\n"
     ]
    }
   ],
   "execution_count": 40
  },
  {
   "metadata": {
    "ExecuteTime": {
     "end_time": "2024-04-05T18:54:03.618009Z",
     "start_time": "2024-04-05T18:54:03.614684Z"
    }
   },
   "cell_type": "code",
   "source": "p.__dict__",
   "id": "f785d748706f2745",
   "outputs": [
    {
     "data": {
      "text/plain": [
       "{'_name': 'Eric'}"
      ]
     },
     "execution_count": 41,
     "metadata": {},
     "output_type": "execute_result"
    }
   ],
   "execution_count": 41
  },
  {
   "metadata": {
    "ExecuteTime": {
     "end_time": "2024-04-05T18:56:04.566564Z",
     "start_time": "2024-04-05T18:56:04.562946Z"
    }
   },
   "cell_type": "code",
   "source": "getattr(p, \"name\")",
   "id": "4a35d644560d12a3",
   "outputs": [
    {
     "name": "stdout",
     "output_type": "stream",
     "text": [
      "Getter called...\n"
     ]
    },
    {
     "data": {
      "text/plain": [
       "'Eric'"
      ]
     },
     "execution_count": 42,
     "metadata": {},
     "output_type": "execute_result"
    }
   ],
   "execution_count": 42
  },
  {
   "metadata": {
    "ExecuteTime": {
     "end_time": "2024-04-05T18:56:27.683984Z",
     "start_time": "2024-04-05T18:56:27.681777Z"
    }
   },
   "cell_type": "code",
   "source": "setattr(p, \"name\", \"Martin\")",
   "id": "6ecba07560575a61",
   "outputs": [
    {
     "name": "stdout",
     "output_type": "stream",
     "text": [
      "Setter called...\n"
     ]
    }
   ],
   "execution_count": 43
  },
  {
   "metadata": {
    "ExecuteTime": {
     "end_time": "2024-04-05T18:56:38.008594Z",
     "start_time": "2024-04-05T18:56:38.005644Z"
    }
   },
   "cell_type": "code",
   "source": "p.__dict__",
   "id": "746a4315ac940e99",
   "outputs": [
    {
     "data": {
      "text/plain": [
       "{'_name': 'Martin'}"
      ]
     },
     "execution_count": 44,
     "metadata": {},
     "output_type": "execute_result"
    }
   ],
   "execution_count": 44
  },
  {
   "metadata": {
    "ExecuteTime": {
     "end_time": "2024-04-05T18:57:38.626194Z",
     "start_time": "2024-04-05T18:57:38.622668Z"
    }
   },
   "cell_type": "code",
   "source": "Person.__dict__",
   "id": "c39ac2809573b837",
   "outputs": [
    {
     "data": {
      "text/plain": [
       "mappingproxy({'__module__': '__main__',\n",
       "              '__init__': <function __main__.Person.__init__(self, name)>,\n",
       "              'get_name': <function __main__.Person.get_name(self)>,\n",
       "              'set_name': <function __main__.Person.set_name(self, value)>,\n",
       "              'name': <property at 0x7f6ffc405c60>,\n",
       "              '__dict__': <attribute '__dict__' of 'Person' objects>,\n",
       "              '__weakref__': <attribute '__weakref__' of 'Person' objects>,\n",
       "              '__doc__': None})"
      ]
     },
     "execution_count": 45,
     "metadata": {},
     "output_type": "execute_result"
    }
   ],
   "execution_count": 45
  },
  {
   "metadata": {
    "ExecuteTime": {
     "end_time": "2024-04-05T18:58:00.487944Z",
     "start_time": "2024-04-05T18:58:00.485812Z"
    }
   },
   "cell_type": "code",
   "source": "p = Person(\"Alex\")",
   "id": "1245b88cc050d5fc",
   "outputs": [],
   "execution_count": 46
  },
  {
   "metadata": {
    "ExecuteTime": {
     "end_time": "2024-04-05T18:58:05.975119Z",
     "start_time": "2024-04-05T18:58:05.972025Z"
    }
   },
   "cell_type": "code",
   "source": "p.__dict__",
   "id": "29397e0d553a6d35",
   "outputs": [
    {
     "data": {
      "text/plain": [
       "{'_name': 'Alex'}"
      ]
     },
     "execution_count": 47,
     "metadata": {},
     "output_type": "execute_result"
    }
   ],
   "execution_count": 47
  },
  {
   "metadata": {
    "ExecuteTime": {
     "end_time": "2024-04-05T18:58:24.376571Z",
     "start_time": "2024-04-05T18:58:24.373174Z"
    }
   },
   "cell_type": "code",
   "source": "p.__dict__[\"_name\"]",
   "id": "4a04555fc4cc163e",
   "outputs": [
    {
     "data": {
      "text/plain": [
       "'Alex'"
      ]
     },
     "execution_count": 49,
     "metadata": {},
     "output_type": "execute_result"
    }
   ],
   "execution_count": 49
  },
  {
   "metadata": {
    "ExecuteTime": {
     "end_time": "2024-04-05T18:58:44.473188Z",
     "start_time": "2024-04-05T18:58:44.470657Z"
    }
   },
   "cell_type": "code",
   "source": "p.name = \"Raymond\"",
   "id": "56383db00ca992e7",
   "outputs": [
    {
     "name": "stdout",
     "output_type": "stream",
     "text": [
      "Setter called...\n"
     ]
    }
   ],
   "execution_count": 50
  },
  {
   "metadata": {
    "ExecuteTime": {
     "end_time": "2024-04-05T18:58:54.274721Z",
     "start_time": "2024-04-05T18:58:54.271848Z"
    }
   },
   "cell_type": "code",
   "source": "p.__dict__",
   "id": "ea52f40815f03c36",
   "outputs": [
    {
     "data": {
      "text/plain": [
       "{'_name': 'Raymond'}"
      ]
     },
     "execution_count": 51,
     "metadata": {},
     "output_type": "execute_result"
    }
   ],
   "execution_count": 51
  },
  {
   "metadata": {
    "ExecuteTime": {
     "end_time": "2024-04-05T18:59:57.780013Z",
     "start_time": "2024-04-05T18:59:57.777861Z"
    }
   },
   "cell_type": "code",
   "source": "p.__dict__[\"name\"] = \"John\"",
   "id": "1ee5721f5e517c1f",
   "outputs": [],
   "execution_count": 52
  },
  {
   "metadata": {
    "ExecuteTime": {
     "end_time": "2024-04-05T19:00:05.103823Z",
     "start_time": "2024-04-05T19:00:05.101156Z"
    }
   },
   "cell_type": "code",
   "source": "p.__dict__",
   "id": "fb55925e5485c46b",
   "outputs": [
    {
     "data": {
      "text/plain": [
       "{'_name': 'Raymond', 'name': 'John'}"
      ]
     },
     "execution_count": 53,
     "metadata": {},
     "output_type": "execute_result"
    }
   ],
   "execution_count": 53
  },
  {
   "metadata": {
    "ExecuteTime": {
     "end_time": "2024-04-05T19:00:12.818030Z",
     "start_time": "2024-04-05T19:00:12.814947Z"
    }
   },
   "cell_type": "code",
   "source": "p.name",
   "id": "e28b9e177ef5bec",
   "outputs": [
    {
     "name": "stdout",
     "output_type": "stream",
     "text": [
      "Getter called...\n"
     ]
    },
    {
     "data": {
      "text/plain": [
       "'Raymond'"
      ]
     },
     "execution_count": 54,
     "metadata": {},
     "output_type": "execute_result"
    }
   ],
   "execution_count": 54
  },
  {
   "metadata": {
    "ExecuteTime": {
     "end_time": "2024-04-05T19:00:57.292682Z",
     "start_time": "2024-04-05T19:00:57.289717Z"
    }
   },
   "cell_type": "code",
   "source": "getattr(p, \"name\")",
   "id": "1e1ffaef0eccf7ac",
   "outputs": [
    {
     "name": "stdout",
     "output_type": "stream",
     "text": [
      "Getter called...\n"
     ]
    },
    {
     "data": {
      "text/plain": [
       "'Raymond'"
      ]
     },
     "execution_count": 55,
     "metadata": {},
     "output_type": "execute_result"
    }
   ],
   "execution_count": 55
  },
  {
   "metadata": {
    "ExecuteTime": {
     "end_time": "2024-04-05T19:08:28.599688Z",
     "start_time": "2024-04-05T19:08:28.595460Z"
    }
   },
   "cell_type": "code",
   "source": [
    "class Person:\n",
    "    def __init__(self, name):\n",
    "        self._name = name\n",
    "        \n",
    "    def get_name(self):\n",
    "        print(\"Getter called...\")\n",
    "        return self._name\n",
    "    \n",
    "    def set_name(self, value):\n",
    "        print(\"Setter called...\")\n",
    "        if isinstance(value, str) and len(value.strip()) > 0:\n",
    "            self._name = value.strip()\n",
    "        else:\n",
    "            raise ValueError(\"Name must be a non-empty string\")\n",
    "        \n",
    "    def del_name(self):\n",
    "        print(\"Deleter called...\")\n",
    "        del self._name\n",
    "        \n",
    "    name = property(fget=get_name, fset=set_name, fdel=del_name)"
   ],
   "id": "dd9c13b5884b29ff",
   "outputs": [],
   "execution_count": 67
  },
  {
   "metadata": {
    "ExecuteTime": {
     "end_time": "2024-04-05T19:04:11.618448Z",
     "start_time": "2024-04-05T19:04:11.616398Z"
    }
   },
   "cell_type": "code",
   "source": "p = Person(\"Alex\")",
   "id": "5537b0897cc4f458",
   "outputs": [],
   "execution_count": 57
  },
  {
   "metadata": {
    "ExecuteTime": {
     "end_time": "2024-04-05T19:04:23.396383Z",
     "start_time": "2024-04-05T19:04:23.393292Z"
    }
   },
   "cell_type": "code",
   "source": "p.__dict__",
   "id": "5e5595e7b309e057",
   "outputs": [
    {
     "data": {
      "text/plain": [
       "{'_name': 'Alex'}"
      ]
     },
     "execution_count": 58,
     "metadata": {},
     "output_type": "execute_result"
    }
   ],
   "execution_count": 58
  },
  {
   "metadata": {
    "ExecuteTime": {
     "end_time": "2024-04-05T19:04:30.398719Z",
     "start_time": "2024-04-05T19:04:30.395424Z"
    }
   },
   "cell_type": "code",
   "source": "p.name",
   "id": "5385b1bc2eae9680",
   "outputs": [
    {
     "name": "stdout",
     "output_type": "stream",
     "text": [
      "Getter called...\n"
     ]
    },
    {
     "data": {
      "text/plain": [
       "'Alex'"
      ]
     },
     "execution_count": 59,
     "metadata": {},
     "output_type": "execute_result"
    }
   ],
   "execution_count": 59
  },
  {
   "metadata": {
    "ExecuteTime": {
     "end_time": "2024-04-05T19:04:41.706145Z",
     "start_time": "2024-04-05T19:04:41.703762Z"
    }
   },
   "cell_type": "code",
   "source": "p.name = \"Eric\"",
   "id": "fdb9aee371a2b4c3",
   "outputs": [
    {
     "name": "stdout",
     "output_type": "stream",
     "text": [
      "Setter called...\n"
     ]
    }
   ],
   "execution_count": 60
  },
  {
   "metadata": {
    "ExecuteTime": {
     "end_time": "2024-04-05T19:04:46.944912Z",
     "start_time": "2024-04-05T19:04:46.941707Z"
    }
   },
   "cell_type": "code",
   "source": "p.name",
   "id": "5beade335223335f",
   "outputs": [
    {
     "name": "stdout",
     "output_type": "stream",
     "text": [
      "Getter called...\n"
     ]
    },
    {
     "data": {
      "text/plain": [
       "'Eric'"
      ]
     },
     "execution_count": 61,
     "metadata": {},
     "output_type": "execute_result"
    }
   ],
   "execution_count": 61
  },
  {
   "metadata": {
    "ExecuteTime": {
     "end_time": "2024-04-05T19:04:53.781721Z",
     "start_time": "2024-04-05T19:04:53.779513Z"
    }
   },
   "cell_type": "code",
   "source": "del p.name",
   "id": "45a46e74dbf4866d",
   "outputs": [
    {
     "name": "stdout",
     "output_type": "stream",
     "text": [
      "Deleter called...\n"
     ]
    }
   ],
   "execution_count": 62
  },
  {
   "metadata": {
    "ExecuteTime": {
     "end_time": "2024-04-05T19:05:31.531120Z",
     "start_time": "2024-04-05T19:05:31.528286Z"
    }
   },
   "cell_type": "code",
   "source": "p.__dict__",
   "id": "2272ab8548545260",
   "outputs": [
    {
     "data": {
      "text/plain": [
       "{}"
      ]
     },
     "execution_count": 63,
     "metadata": {},
     "output_type": "execute_result"
    }
   ],
   "execution_count": 63
  },
  {
   "metadata": {
    "ExecuteTime": {
     "end_time": "2024-04-05T19:05:46.523826Z",
     "start_time": "2024-04-05T19:05:46.520711Z"
    }
   },
   "cell_type": "code",
   "source": "Person.__dict__",
   "id": "ea081e447267018e",
   "outputs": [
    {
     "data": {
      "text/plain": [
       "mappingproxy({'__module__': '__main__',\n",
       "              '__init__': <function __main__.Person.__init__(self, name)>,\n",
       "              'get_name': <function __main__.Person.get_name(self)>,\n",
       "              'set_name': <function __main__.Person.set_name(self, value)>,\n",
       "              'del_name': <function __main__.Person.del_name(self)>,\n",
       "              'name': <property at 0x7f6ffc5f5bc0>,\n",
       "              '__dict__': <attribute '__dict__' of 'Person' objects>,\n",
       "              '__weakref__': <attribute '__weakref__' of 'Person' objects>,\n",
       "              '__doc__': None})"
      ]
     },
     "execution_count": 64,
     "metadata": {},
     "output_type": "execute_result"
    }
   ],
   "execution_count": 64
  },
  {
   "metadata": {
    "ExecuteTime": {
     "end_time": "2024-04-05T19:05:59.755283Z",
     "start_time": "2024-04-05T19:05:59.738257Z"
    }
   },
   "cell_type": "code",
   "source": "p.name",
   "id": "712c8082e8c905ef",
   "outputs": [
    {
     "name": "stdout",
     "output_type": "stream",
     "text": [
      "Getter called...\n"
     ]
    },
    {
     "ename": "AttributeError",
     "evalue": "'Person' object has no attribute '_name'",
     "output_type": "error",
     "traceback": [
      "\u001B[0;31m---------------------------------------------------------------------------\u001B[0m",
      "\u001B[0;31mAttributeError\u001B[0m                            Traceback (most recent call last)",
      "Cell \u001B[0;32mIn[65], line 1\u001B[0m\n\u001B[0;32m----> 1\u001B[0m \u001B[43mp\u001B[49m\u001B[38;5;241;43m.\u001B[39;49m\u001B[43mname\u001B[49m\n",
      "Cell \u001B[0;32mIn[56], line 7\u001B[0m, in \u001B[0;36mPerson.get_name\u001B[0;34m(self)\u001B[0m\n\u001B[1;32m      5\u001B[0m \u001B[38;5;28;01mdef\u001B[39;00m \u001B[38;5;21mget_name\u001B[39m(\u001B[38;5;28mself\u001B[39m):\n\u001B[1;32m      6\u001B[0m     \u001B[38;5;28mprint\u001B[39m(\u001B[38;5;124m\"\u001B[39m\u001B[38;5;124mGetter called...\u001B[39m\u001B[38;5;124m\"\u001B[39m)\n\u001B[0;32m----> 7\u001B[0m     \u001B[38;5;28;01mreturn\u001B[39;00m \u001B[38;5;28;43mself\u001B[39;49m\u001B[38;5;241;43m.\u001B[39;49m\u001B[43m_name\u001B[49m\n",
      "\u001B[0;31mAttributeError\u001B[0m: 'Person' object has no attribute '_name'"
     ]
    }
   ],
   "execution_count": 65
  },
  {
   "metadata": {
    "ExecuteTime": {
     "end_time": "2024-04-05T19:07:05.783726Z",
     "start_time": "2024-04-05T19:07:05.781173Z"
    }
   },
   "cell_type": "code",
   "source": "p.name = \"Alex\"",
   "id": "98c6768664cde721",
   "outputs": [
    {
     "name": "stdout",
     "output_type": "stream",
     "text": [
      "Setter called...\n"
     ]
    }
   ],
   "execution_count": 66
  },
  {
   "metadata": {
    "ExecuteTime": {
     "end_time": "2024-04-05T19:08:47.085096Z",
     "start_time": "2024-04-05T19:08:47.081291Z"
    }
   },
   "cell_type": "code",
   "source": [
    "class Person:\n",
    "    \"\"\"\n",
    "    This is a Person object\n",
    "    \"\"\"\n",
    "    def __init__(self, name):\n",
    "        self._name = name\n",
    "        \n",
    "    def get_name(self):\n",
    "        print(\"Getter called...\")\n",
    "        return self._name\n",
    "    \n",
    "    def set_name(self, value):\n",
    "        print(\"Setter called...\")\n",
    "        if isinstance(value, str) and len(value.strip()) > 0:\n",
    "            self._name = value.strip()\n",
    "        else:\n",
    "            raise ValueError(\"Name must be a non-empty string\")\n",
    "        \n",
    "    def del_name(self):\n",
    "        print(\"Deleter called...\")\n",
    "        del self._name\n",
    "        \n",
    "    name = property(fget=get_name, fset=set_name, fdel=del_name, doc=\"The person's name\")"
   ],
   "id": "24a9691eab791b0e",
   "outputs": [],
   "execution_count": 68
  },
  {
   "metadata": {
    "ExecuteTime": {
     "end_time": "2024-04-05T19:08:56.962640Z",
     "start_time": "2024-04-05T19:08:56.959380Z"
    }
   },
   "cell_type": "code",
   "source": "help(Person)",
   "id": "2bdae8d0177a3c",
   "outputs": [
    {
     "name": "stdout",
     "output_type": "stream",
     "text": [
      "Help on class Person in module __main__:\n",
      "\n",
      "class Person(builtins.object)\n",
      " |  Person(name)\n",
      " |\n",
      " |  This is a Person object\n",
      " |\n",
      " |  Methods defined here:\n",
      " |\n",
      " |  __init__(self, name)\n",
      " |      Initialize self.  See help(type(self)) for accurate signature.\n",
      " |\n",
      " |  del_name(self)\n",
      " |\n",
      " |  get_name(self)\n",
      " |\n",
      " |  set_name(self, value)\n",
      " |\n",
      " |  ----------------------------------------------------------------------\n",
      " |  Data descriptors defined here:\n",
      " |\n",
      " |  __dict__\n",
      " |      dictionary for instance variables\n",
      " |\n",
      " |  __weakref__\n",
      " |      list of weak references to the object\n",
      " |\n",
      " |  name\n",
      " |      The person's name\n",
      "\n"
     ]
    }
   ],
   "execution_count": 69
  },
  {
   "metadata": {},
   "cell_type": "code",
   "outputs": [],
   "execution_count": null,
   "source": "",
   "id": "e18aa70a8ada0371"
  }
 ],
 "metadata": {
  "kernelspec": {
   "display_name": "Python 3",
   "language": "python",
   "name": "python3"
  },
  "language_info": {
   "codemirror_mode": {
    "name": "ipython",
    "version": 2
   },
   "file_extension": ".py",
   "mimetype": "text/x-python",
   "name": "python",
   "nbconvert_exporter": "python",
   "pygments_lexer": "ipython2",
   "version": "2.7.6"
  }
 },
 "nbformat": 4,
 "nbformat_minor": 5
}
