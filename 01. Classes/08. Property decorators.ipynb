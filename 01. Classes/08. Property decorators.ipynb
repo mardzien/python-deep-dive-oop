{
 "cells": [
  {
   "cell_type": "code",
   "id": "initial_id",
   "metadata": {
    "collapsed": true,
    "ExecuteTime": {
     "end_time": "2024-04-06T19:32:33.720147Z",
     "start_time": "2024-04-06T19:32:33.717756Z"
    }
   },
   "source": "p = property(fget=lambda self: print('getting property...'))",
   "outputs": [],
   "execution_count": 1
  },
  {
   "metadata": {
    "ExecuteTime": {
     "end_time": "2024-04-06T19:32:34.626063Z",
     "start_time": "2024-04-06T19:32:34.620559Z"
    }
   },
   "cell_type": "code",
   "source": "p",
   "id": "ff5a242b092237c",
   "outputs": [
    {
     "data": {
      "text/plain": [
       "<property at 0x7fbb7a09f1a0>"
      ]
     },
     "execution_count": 2,
     "metadata": {},
     "output_type": "execute_result"
    }
   ],
   "execution_count": 2
  },
  {
   "metadata": {
    "ExecuteTime": {
     "end_time": "2024-04-06T19:32:47.510275Z",
     "start_time": "2024-04-06T19:32:47.505827Z"
    }
   },
   "cell_type": "code",
   "source": "property.__dict__",
   "id": "12ec74d188e64d34",
   "outputs": [
    {
     "data": {
      "text/plain": [
       "mappingproxy({'__new__': <function property.__new__(*args, **kwargs)>,\n",
       "              '__getattribute__': <slot wrapper '__getattribute__' of 'property' objects>,\n",
       "              '__get__': <slot wrapper '__get__' of 'property' objects>,\n",
       "              '__set__': <slot wrapper '__set__' of 'property' objects>,\n",
       "              '__delete__': <slot wrapper '__delete__' of 'property' objects>,\n",
       "              '__init__': <slot wrapper '__init__' of 'property' objects>,\n",
       "              'getter': <method 'getter' of 'property' objects>,\n",
       "              'setter': <method 'setter' of 'property' objects>,\n",
       "              'deleter': <method 'deleter' of 'property' objects>,\n",
       "              '__set_name__': <method '__set_name__' of 'property' objects>,\n",
       "              'fget': <member 'fget' of 'property' objects>,\n",
       "              'fset': <member 'fset' of 'property' objects>,\n",
       "              'fdel': <member 'fdel' of 'property' objects>,\n",
       "              '__doc__': <member '__doc__' of 'property' objects>,\n",
       "              '__isabstractmethod__': <attribute '__isabstractmethod__' of 'property' objects>})"
      ]
     },
     "execution_count": 3,
     "metadata": {},
     "output_type": "execute_result"
    }
   ],
   "execution_count": 3
  },
  {
   "metadata": {
    "ExecuteTime": {
     "end_time": "2024-04-06T19:33:06.370862Z",
     "start_time": "2024-04-06T19:33:06.368316Z"
    }
   },
   "cell_type": "code",
   "source": "p.fget",
   "id": "c309b812f1b55f3e",
   "outputs": [
    {
     "data": {
      "text/plain": [
       "<function __main__.<lambda>(self)>"
      ]
     },
     "execution_count": 4,
     "metadata": {},
     "output_type": "execute_result"
    }
   ],
   "execution_count": 4
  },
  {
   "metadata": {
    "ExecuteTime": {
     "end_time": "2024-04-06T19:35:36.342774Z",
     "start_time": "2024-04-06T19:35:36.339831Z"
    }
   },
   "cell_type": "code",
   "source": [
    "def my_decorator(fn):\n",
    "    print('decorating function')\n",
    "    def inner(*args, **kwargs):\n",
    "        print('running decorated function')\n",
    "        return fn(*args, **kwargs)\n",
    "    return inner"
   ],
   "id": "789750f062103e0",
   "outputs": [],
   "execution_count": 5
  },
  {
   "metadata": {
    "ExecuteTime": {
     "end_time": "2024-04-06T19:36:26.369023Z",
     "start_time": "2024-04-06T19:36:26.366886Z"
    }
   },
   "cell_type": "code",
   "source": [
    "def undecorated_function(a, b):\n",
    "    print('running undecorated function')\n",
    "    return a + b"
   ],
   "id": "add79fead29d235",
   "outputs": [],
   "execution_count": 6
  },
  {
   "metadata": {
    "ExecuteTime": {
     "end_time": "2024-04-06T19:36:58.452089Z",
     "start_time": "2024-04-06T19:36:58.449070Z"
    }
   },
   "cell_type": "code",
   "source": "undecorated_function(2, 3)",
   "id": "54b2fa08d9fd4e0b",
   "outputs": [
    {
     "name": "stdout",
     "output_type": "stream",
     "text": [
      "running undecorated function\n"
     ]
    },
    {
     "data": {
      "text/plain": [
       "5"
      ]
     },
     "execution_count": 7,
     "metadata": {},
     "output_type": "execute_result"
    }
   ],
   "execution_count": 7
  },
  {
   "metadata": {
    "ExecuteTime": {
     "end_time": "2024-04-06T19:37:27.236732Z",
     "start_time": "2024-04-06T19:37:27.234156Z"
    }
   },
   "cell_type": "code",
   "source": "decorated_function = my_decorator(undecorated_function)",
   "id": "18dd393295ede397",
   "outputs": [
    {
     "name": "stdout",
     "output_type": "stream",
     "text": [
      "decorating function\n"
     ]
    }
   ],
   "execution_count": 8
  },
  {
   "metadata": {
    "ExecuteTime": {
     "end_time": "2024-04-06T19:37:46.931485Z",
     "start_time": "2024-04-06T19:37:46.928874Z"
    }
   },
   "cell_type": "code",
   "source": "decorated_function",
   "id": "514a62f9d5be394a",
   "outputs": [
    {
     "data": {
      "text/plain": [
       "<function __main__.my_decorator.<locals>.inner(*args, **kwargs)>"
      ]
     },
     "execution_count": 9,
     "metadata": {},
     "output_type": "execute_result"
    }
   ],
   "execution_count": 9
  },
  {
   "metadata": {
    "ExecuteTime": {
     "end_time": "2024-04-06T19:38:12.564631Z",
     "start_time": "2024-04-06T19:38:12.561437Z"
    }
   },
   "cell_type": "code",
   "source": "decorated_function(2, 3)",
   "id": "4f3271e35679c817",
   "outputs": [
    {
     "name": "stdout",
     "output_type": "stream",
     "text": [
      "running decorated function\n",
      "running undecorated function\n"
     ]
    },
    {
     "data": {
      "text/plain": [
       "5"
      ]
     },
     "execution_count": 10,
     "metadata": {},
     "output_type": "execute_result"
    }
   ],
   "execution_count": 10
  },
  {
   "metadata": {
    "ExecuteTime": {
     "end_time": "2024-04-06T19:40:49.453282Z",
     "start_time": "2024-04-06T19:40:49.450955Z"
    }
   },
   "cell_type": "code",
   "source": [
    "@my_decorator\n",
    "def my_func(a, b):\n",
    "    print('running original function')\n",
    "    return a + b"
   ],
   "id": "179a60eed31a89dc",
   "outputs": [
    {
     "name": "stdout",
     "output_type": "stream",
     "text": [
      "decorating function\n"
     ]
    }
   ],
   "execution_count": 12
  },
  {
   "metadata": {
    "ExecuteTime": {
     "end_time": "2024-04-06T19:40:56.079427Z",
     "start_time": "2024-04-06T19:40:56.075809Z"
    }
   },
   "cell_type": "code",
   "source": "my_func(1, 2)",
   "id": "635a2157bda98059",
   "outputs": [
    {
     "name": "stdout",
     "output_type": "stream",
     "text": [
      "running decorated function\n",
      "running original function\n"
     ]
    },
    {
     "data": {
      "text/plain": [
       "3"
      ]
     },
     "execution_count": 13,
     "metadata": {},
     "output_type": "execute_result"
    }
   ],
   "execution_count": 13
  },
  {
   "metadata": {
    "ExecuteTime": {
     "end_time": "2024-04-06T19:44:15.130373Z",
     "start_time": "2024-04-06T19:44:15.127460Z"
    }
   },
   "cell_type": "code",
   "source": [
    "class Person:\n",
    "    def __init__(self, name):\n",
    "        self._name = name\n",
    "        \n",
    "    def name(self):\n",
    "        print('getter called...')\n",
    "        return self._name\n",
    "    \n",
    "    name = property(name)"
   ],
   "id": "ef0f7eb07a3c4d0a",
   "outputs": [],
   "execution_count": 17
  },
  {
   "metadata": {
    "ExecuteTime": {
     "end_time": "2024-04-06T19:44:15.326361Z",
     "start_time": "2024-04-06T19:44:15.323921Z"
    }
   },
   "cell_type": "code",
   "source": "p = Person('John')",
   "id": "9f0b5a977652bb7c",
   "outputs": [],
   "execution_count": 18
  },
  {
   "metadata": {
    "ExecuteTime": {
     "end_time": "2024-04-06T19:44:15.510196Z",
     "start_time": "2024-04-06T19:44:15.506657Z"
    }
   },
   "cell_type": "code",
   "source": "p.name",
   "id": "cab04dc266f7842c",
   "outputs": [
    {
     "name": "stdout",
     "output_type": "stream",
     "text": [
      "getter called...\n"
     ]
    },
    {
     "data": {
      "text/plain": [
       "'John'"
      ]
     },
     "execution_count": 19,
     "metadata": {},
     "output_type": "execute_result"
    }
   ],
   "execution_count": 19
  },
  {
   "metadata": {
    "ExecuteTime": {
     "end_time": "2024-04-06T20:12:39.808127Z",
     "start_time": "2024-04-06T20:12:39.805224Z"
    }
   },
   "cell_type": "code",
   "source": [
    " class Person:\n",
    "    def __init__(self, name):\n",
    "        self._name = name\n",
    "    \n",
    "    @property    \n",
    "    def name(self):\n",
    "        print('getter called...')\n",
    "        return self._name\n"
   ],
   "id": "4c4214b64ce88f6b",
   "outputs": [],
   "execution_count": 21
  },
  {
   "metadata": {
    "ExecuteTime": {
     "end_time": "2024-04-06T20:12:55.481683Z",
     "start_time": "2024-04-06T20:12:55.479288Z"
    }
   },
   "cell_type": "code",
   "source": "p = Person('Will')",
   "id": "b7a1b41ec269c37",
   "outputs": [],
   "execution_count": 22
  },
  {
   "metadata": {
    "ExecuteTime": {
     "end_time": "2024-04-06T20:13:00.591809Z",
     "start_time": "2024-04-06T20:13:00.589149Z"
    }
   },
   "cell_type": "code",
   "source": "p.name",
   "id": "8dbb51b5ceec509f",
   "outputs": [
    {
     "name": "stdout",
     "output_type": "stream",
     "text": [
      "getter called...\n"
     ]
    },
    {
     "data": {
      "text/plain": [
       "'Will'"
      ]
     },
     "execution_count": 23,
     "metadata": {},
     "output_type": "execute_result"
    }
   ],
   "execution_count": 23
  },
  {
   "metadata": {
    "ExecuteTime": {
     "end_time": "2024-04-06T20:13:20.898238Z",
     "start_time": "2024-04-06T20:13:20.894355Z"
    }
   },
   "cell_type": "code",
   "source": "property.__dict__",
   "id": "f4a37d6894051d54",
   "outputs": [
    {
     "data": {
      "text/plain": [
       "mappingproxy({'__new__': <function property.__new__(*args, **kwargs)>,\n",
       "              '__getattribute__': <slot wrapper '__getattribute__' of 'property' objects>,\n",
       "              '__get__': <slot wrapper '__get__' of 'property' objects>,\n",
       "              '__set__': <slot wrapper '__set__' of 'property' objects>,\n",
       "              '__delete__': <slot wrapper '__delete__' of 'property' objects>,\n",
       "              '__init__': <slot wrapper '__init__' of 'property' objects>,\n",
       "              'getter': <method 'getter' of 'property' objects>,\n",
       "              'setter': <method 'setter' of 'property' objects>,\n",
       "              'deleter': <method 'deleter' of 'property' objects>,\n",
       "              '__set_name__': <method '__set_name__' of 'property' objects>,\n",
       "              'fget': <member 'fget' of 'property' objects>,\n",
       "              'fset': <member 'fset' of 'property' objects>,\n",
       "              'fdel': <member 'fdel' of 'property' objects>,\n",
       "              '__doc__': <member '__doc__' of 'property' objects>,\n",
       "              '__isabstractmethod__': <attribute '__isabstractmethod__' of 'property' objects>})"
      ]
     },
     "execution_count": 24,
     "metadata": {},
     "output_type": "execute_result"
    }
   ],
   "execution_count": 24
  },
  {
   "metadata": {
    "ExecuteTime": {
     "end_time": "2024-04-06T20:22:44.477666Z",
     "start_time": "2024-04-06T20:22:44.475226Z"
    }
   },
   "cell_type": "code",
   "source": [
    "def get_prop(self):\n",
    "    print('getter called...')\n",
    "\n",
    "def set_prop(self, value):\n",
    "    print('setter called...')\n",
    "\n",
    "def del_prop(self):\n",
    "    print('deleter called...')"
   ],
   "id": "b799781f185956bd",
   "outputs": [],
   "execution_count": 63
  },
  {
   "metadata": {
    "ExecuteTime": {
     "end_time": "2024-04-06T20:22:45.097961Z",
     "start_time": "2024-04-06T20:22:45.095538Z"
    }
   },
   "cell_type": "code",
   "source": "p = property(get_prop)",
   "id": "1f64a77c50e66dda",
   "outputs": [],
   "execution_count": 64
  },
  {
   "metadata": {
    "ExecuteTime": {
     "end_time": "2024-04-06T20:22:45.374157Z",
     "start_time": "2024-04-06T20:22:45.371527Z"
    }
   },
   "cell_type": "code",
   "source": "p.fget",
   "id": "b3898ae6fa8f7b44",
   "outputs": [
    {
     "data": {
      "text/plain": [
       "<function __main__.get_prop(self)>"
      ]
     },
     "execution_count": 65,
     "metadata": {},
     "output_type": "execute_result"
    }
   ],
   "execution_count": 65
  },
  {
   "metadata": {
    "ExecuteTime": {
     "end_time": "2024-04-06T20:22:45.610590Z",
     "start_time": "2024-04-06T20:22:45.608074Z"
    }
   },
   "cell_type": "code",
   "source": "p.fset",
   "id": "d245667403eaa255",
   "outputs": [],
   "execution_count": 66
  },
  {
   "metadata": {
    "ExecuteTime": {
     "end_time": "2024-04-06T20:22:45.794981Z",
     "start_time": "2024-04-06T20:22:45.792022Z"
    }
   },
   "cell_type": "code",
   "source": "type(p.fset)",
   "id": "89a0ccc9535f2f92",
   "outputs": [
    {
     "data": {
      "text/plain": [
       "NoneType"
      ]
     },
     "execution_count": 67,
     "metadata": {},
     "output_type": "execute_result"
    }
   ],
   "execution_count": 67
  },
  {
   "metadata": {
    "ExecuteTime": {
     "end_time": "2024-04-06T20:22:46.023323Z",
     "start_time": "2024-04-06T20:22:46.007423Z"
    }
   },
   "cell_type": "code",
   "source": "p.__dict__",
   "id": "6cd344e702a45acc",
   "outputs": [
    {
     "ename": "AttributeError",
     "evalue": "'property' object has no attribute '__dict__'",
     "output_type": "error",
     "traceback": [
      "\u001B[0;31m---------------------------------------------------------------------------\u001B[0m",
      "\u001B[0;31mAttributeError\u001B[0m                            Traceback (most recent call last)",
      "Cell \u001B[0;32mIn[68], line 1\u001B[0m\n\u001B[0;32m----> 1\u001B[0m \u001B[43mp\u001B[49m\u001B[38;5;241;43m.\u001B[39;49m\u001B[38;5;18;43m__dict__\u001B[39;49m\n",
      "\u001B[0;31mAttributeError\u001B[0m: 'property' object has no attribute '__dict__'"
     ]
    }
   ],
   "execution_count": 68
  },
  {
   "metadata": {
    "ExecuteTime": {
     "end_time": "2024-04-06T20:22:46.216087Z",
     "start_time": "2024-04-06T20:22:46.212305Z"
    }
   },
   "cell_type": "code",
   "source": "dir(p)",
   "id": "804806f9bae597a4",
   "outputs": [
    {
     "data": {
      "text/plain": [
       "['__class__',\n",
       " '__delattr__',\n",
       " '__delete__',\n",
       " '__dir__',\n",
       " '__doc__',\n",
       " '__eq__',\n",
       " '__format__',\n",
       " '__ge__',\n",
       " '__get__',\n",
       " '__getattribute__',\n",
       " '__getstate__',\n",
       " '__gt__',\n",
       " '__hash__',\n",
       " '__init__',\n",
       " '__init_subclass__',\n",
       " '__isabstractmethod__',\n",
       " '__le__',\n",
       " '__lt__',\n",
       " '__ne__',\n",
       " '__new__',\n",
       " '__reduce__',\n",
       " '__reduce_ex__',\n",
       " '__repr__',\n",
       " '__set__',\n",
       " '__set_name__',\n",
       " '__setattr__',\n",
       " '__sizeof__',\n",
       " '__str__',\n",
       " '__subclasshook__',\n",
       " 'deleter',\n",
       " 'fdel',\n",
       " 'fget',\n",
       " 'fset',\n",
       " 'getter',\n",
       " 'setter']"
      ]
     },
     "execution_count": 69,
     "metadata": {},
     "output_type": "execute_result"
    }
   ],
   "execution_count": 69
  },
  {
   "metadata": {
    "ExecuteTime": {
     "end_time": "2024-04-06T20:22:46.440095Z",
     "start_time": "2024-04-06T20:22:46.438057Z"
    }
   },
   "cell_type": "code",
   "source": "p1 = p.setter(set_prop)",
   "id": "77b649796ddee6ea",
   "outputs": [],
   "execution_count": 70
  },
  {
   "metadata": {
    "ExecuteTime": {
     "end_time": "2024-04-06T20:22:46.668151Z",
     "start_time": "2024-04-06T20:22:46.664996Z"
    }
   },
   "cell_type": "code",
   "source": "p is p1",
   "id": "df8851724f5345fa",
   "outputs": [
    {
     "data": {
      "text/plain": [
       "False"
      ]
     },
     "execution_count": 71,
     "metadata": {},
     "output_type": "execute_result"
    }
   ],
   "execution_count": 71
  },
  {
   "metadata": {
    "ExecuteTime": {
     "end_time": "2024-04-06T20:22:46.883094Z",
     "start_time": "2024-04-06T20:22:46.880354Z"
    }
   },
   "cell_type": "code",
   "source": "p.fget is p1.fget",
   "id": "bbfc6a5aad1bf24e",
   "outputs": [
    {
     "data": {
      "text/plain": [
       "True"
      ]
     },
     "execution_count": 72,
     "metadata": {},
     "output_type": "execute_result"
    }
   ],
   "execution_count": 72
  },
  {
   "metadata": {
    "ExecuteTime": {
     "end_time": "2024-04-06T20:22:47.104765Z",
     "start_time": "2024-04-06T20:22:47.101651Z"
    }
   },
   "cell_type": "code",
   "source": "p1.fget, p1.fset",
   "id": "e69a1c1e83b12f5",
   "outputs": [
    {
     "data": {
      "text/plain": [
       "(<function __main__.get_prop(self)>, <function __main__.set_prop(self, value)>)"
      ]
     },
     "execution_count": 73,
     "metadata": {},
     "output_type": "execute_result"
    }
   ],
   "execution_count": 73
  },
  {
   "metadata": {
    "ExecuteTime": {
     "end_time": "2024-04-06T20:24:22.158953Z",
     "start_time": "2024-04-06T20:24:22.156312Z"
    }
   },
   "cell_type": "code",
   "source": [
    "p = property(get_prop)\n",
    "p = p.setter(set_prop)\n",
    "p = p.deleter(del_prop)"
   ],
   "id": "358461daabcea272",
   "outputs": [],
   "execution_count": 80
  },
  {
   "metadata": {
    "ExecuteTime": {
     "end_time": "2024-04-06T20:24:22.749286Z",
     "start_time": "2024-04-06T20:24:22.747169Z"
    }
   },
   "cell_type": "code",
   "source": [
    "class Person:\n",
    "    name = p"
   ],
   "id": "6ed37d026aa7a4fb",
   "outputs": [],
   "execution_count": 81
  },
  {
   "metadata": {
    "ExecuteTime": {
     "end_time": "2024-04-06T20:24:23.111467Z",
     "start_time": "2024-04-06T20:24:23.109441Z"
    }
   },
   "cell_type": "code",
   "source": "person = Person()",
   "id": "1f20d24c36d2a307",
   "outputs": [],
   "execution_count": 82
  },
  {
   "metadata": {
    "ExecuteTime": {
     "end_time": "2024-04-06T20:24:23.343252Z",
     "start_time": "2024-04-06T20:24:23.340904Z"
    }
   },
   "cell_type": "code",
   "source": "person.name",
   "id": "11a7c98551076deb",
   "outputs": [
    {
     "name": "stdout",
     "output_type": "stream",
     "text": [
      "getter called...\n"
     ]
    }
   ],
   "execution_count": 83
  },
  {
   "metadata": {
    "ExecuteTime": {
     "end_time": "2024-04-06T20:24:23.709090Z",
     "start_time": "2024-04-06T20:24:23.706885Z"
    }
   },
   "cell_type": "code",
   "source": "person.name = 'Jan'",
   "id": "346b209240f4d743",
   "outputs": [
    {
     "name": "stdout",
     "output_type": "stream",
     "text": [
      "setter called...\n"
     ]
    }
   ],
   "execution_count": 84
  },
  {
   "metadata": {
    "ExecuteTime": {
     "end_time": "2024-04-06T20:24:24.054734Z",
     "start_time": "2024-04-06T20:24:24.052600Z"
    }
   },
   "cell_type": "code",
   "source": "del person.name",
   "id": "7ffc899ba59aba00",
   "outputs": [
    {
     "name": "stdout",
     "output_type": "stream",
     "text": [
      "deleter called...\n"
     ]
    }
   ],
   "execution_count": 85
  },
  {
   "metadata": {
    "ExecuteTime": {
     "end_time": "2024-04-06T20:39:58.763982Z",
     "start_time": "2024-04-06T20:39:58.761655Z"
    }
   },
   "cell_type": "code",
   "source": [
    "def name(self):\n",
    "    print('getter...')"
   ],
   "id": "d468a09001775fce",
   "outputs": [],
   "execution_count": 99
  },
  {
   "metadata": {
    "ExecuteTime": {
     "end_time": "2024-04-06T20:39:59.085613Z",
     "start_time": "2024-04-06T20:39:59.082425Z"
    }
   },
   "cell_type": "code",
   "source": "hex(id(name))",
   "id": "e0987e2edda84ebf",
   "outputs": [
    {
     "data": {
      "text/plain": [
       "'0x7fbb79f2bec0'"
      ]
     },
     "execution_count": 100,
     "metadata": {},
     "output_type": "execute_result"
    }
   ],
   "execution_count": 100
  },
  {
   "metadata": {
    "ExecuteTime": {
     "end_time": "2024-04-06T20:39:59.787142Z",
     "start_time": "2024-04-06T20:39:59.784760Z"
    }
   },
   "cell_type": "code",
   "source": "name = property(name)",
   "id": "e04c8171d3ac296f",
   "outputs": [],
   "execution_count": 101
  },
  {
   "metadata": {
    "ExecuteTime": {
     "end_time": "2024-04-06T20:40:00.324054Z",
     "start_time": "2024-04-06T20:40:00.320722Z"
    }
   },
   "cell_type": "code",
   "source": "type(name), hex(id(name)), hex(id(name.fget))",
   "id": "929ec61385db9c2f",
   "outputs": [
    {
     "data": {
      "text/plain": [
       "(property, '0x7fbb7353b970', '0x7fbb79f2bec0')"
      ]
     },
     "execution_count": 102,
     "metadata": {},
     "output_type": "execute_result"
    }
   ],
   "execution_count": 102
  },
  {
   "metadata": {
    "ExecuteTime": {
     "end_time": "2024-04-06T20:40:02.171431Z",
     "start_time": "2024-04-06T20:40:02.169463Z"
    }
   },
   "cell_type": "code",
   "source": "name_temp = name",
   "id": "3e33f1f0ed93ca76",
   "outputs": [],
   "execution_count": 103
  },
  {
   "metadata": {
    "ExecuteTime": {
     "end_time": "2024-04-06T20:40:02.807371Z",
     "start_time": "2024-04-06T20:40:02.805208Z"
    }
   },
   "cell_type": "code",
   "source": [
    "def name(self, value):\n",
    "    print('setter...')"
   ],
   "id": "61c1a69ff50820ac",
   "outputs": [],
   "execution_count": 104
  },
  {
   "metadata": {
    "ExecuteTime": {
     "end_time": "2024-04-06T20:40:03.309514Z",
     "start_time": "2024-04-06T20:40:03.306299Z"
    }
   },
   "cell_type": "code",
   "source": "type(name), hex(id(name))",
   "id": "4470413339abd28b",
   "outputs": [
    {
     "data": {
      "text/plain": [
       "(function, '0x7fbb79f2b4c0')"
      ]
     },
     "execution_count": 105,
     "metadata": {},
     "output_type": "execute_result"
    }
   ],
   "execution_count": 105
  },
  {
   "metadata": {
    "ExecuteTime": {
     "end_time": "2024-04-06T20:40:05.493214Z",
     "start_time": "2024-04-06T20:40:05.491141Z"
    }
   },
   "cell_type": "code",
   "source": "name = name_temp.setter(name)",
   "id": "bd0345f4770ba052",
   "outputs": [],
   "execution_count": 106
  },
  {
   "metadata": {
    "ExecuteTime": {
     "end_time": "2024-04-06T20:40:05.982509Z",
     "start_time": "2024-04-06T20:40:05.979367Z"
    }
   },
   "cell_type": "code",
   "source": "type(name), hex(id(name)), hex(id(name.fget)), hex(id(name.fset))",
   "id": "ed7799646cfa62b3",
   "outputs": [
    {
     "data": {
      "text/plain": [
       "(property, '0x7fbb7353bec0', '0x7fbb79f2bec0', '0x7fbb79f2b4c0')"
      ]
     },
     "execution_count": 107,
     "metadata": {},
     "output_type": "execute_result"
    }
   ],
   "execution_count": 107
  },
  {
   "metadata": {
    "ExecuteTime": {
     "end_time": "2024-04-06T20:43:50.283355Z",
     "start_time": "2024-04-06T20:43:50.280885Z"
    }
   },
   "cell_type": "code",
   "source": [
    "class Person:\n",
    "    def __init__(self, name):\n",
    "        self._name = name\n",
    "        \n",
    "    @property\n",
    "    def name(self):\n",
    "        return self._name\n",
    "    \n",
    "    @name.setter\n",
    "    def name(self, value):\n",
    "        self._name = value"
   ],
   "id": "54b8cbfaaea918cd",
   "outputs": [],
   "execution_count": 108
  },
  {
   "metadata": {
    "ExecuteTime": {
     "end_time": "2024-04-06T20:44:06.582345Z",
     "start_time": "2024-04-06T20:44:06.580193Z"
    }
   },
   "cell_type": "code",
   "source": "p = Person('Alex')",
   "id": "451251ddb3272112",
   "outputs": [],
   "execution_count": 109
  },
  {
   "metadata": {
    "ExecuteTime": {
     "end_time": "2024-04-06T20:44:20.004382Z",
     "start_time": "2024-04-06T20:44:20.001024Z"
    }
   },
   "cell_type": "code",
   "source": "Person.__dict__",
   "id": "af81d066b1a36641",
   "outputs": [
    {
     "data": {
      "text/plain": [
       "mappingproxy({'__module__': '__main__',\n",
       "              '__init__': <function __main__.Person.__init__(self, name)>,\n",
       "              'name': <property at 0x7fbb7353a3e0>,\n",
       "              '__dict__': <attribute '__dict__' of 'Person' objects>,\n",
       "              '__weakref__': <attribute '__weakref__' of 'Person' objects>,\n",
       "              '__doc__': None})"
      ]
     },
     "execution_count": 110,
     "metadata": {},
     "output_type": "execute_result"
    }
   ],
   "execution_count": 110
  },
  {
   "metadata": {
    "ExecuteTime": {
     "end_time": "2024-04-06T20:50:58.594628Z",
     "start_time": "2024-04-06T20:50:58.592003Z"
    }
   },
   "cell_type": "code",
   "source": "p.name",
   "id": "bb48909644a77718",
   "outputs": [
    {
     "data": {
      "text/plain": [
       "'Alex'"
      ]
     },
     "execution_count": 111,
     "metadata": {},
     "output_type": "execute_result"
    }
   ],
   "execution_count": 111
  },
  {
   "metadata": {
    "ExecuteTime": {
     "end_time": "2024-04-06T20:51:10.891958Z",
     "start_time": "2024-04-06T20:51:10.889910Z"
    }
   },
   "cell_type": "code",
   "source": "p.name = 'Eric'",
   "id": "cb3185d8e1a07a96",
   "outputs": [],
   "execution_count": 112
  },
  {
   "metadata": {
    "ExecuteTime": {
     "end_time": "2024-04-06T20:52:38.983608Z",
     "start_time": "2024-04-06T20:52:38.980676Z"
    }
   },
   "cell_type": "code",
   "source": "p.__dict__",
   "id": "8462048193bfe21a",
   "outputs": [
    {
     "data": {
      "text/plain": [
       "{'_name': 'Eric'}"
      ]
     },
     "execution_count": 113,
     "metadata": {},
     "output_type": "execute_result"
    }
   ],
   "execution_count": 113
  },
  {
   "metadata": {},
   "cell_type": "code",
   "outputs": [],
   "execution_count": null,
   "source": "",
   "id": "3b9fbdd255f80264"
  }
 ],
 "metadata": {
  "kernelspec": {
   "display_name": "Python 3",
   "language": "python",
   "name": "python3"
  },
  "language_info": {
   "codemirror_mode": {
    "name": "ipython",
    "version": 2
   },
   "file_extension": ".py",
   "mimetype": "text/x-python",
   "name": "python",
   "nbconvert_exporter": "python",
   "pygments_lexer": "ipython2",
   "version": "2.7.6"
  }
 },
 "nbformat": 4,
 "nbformat_minor": 5
}
