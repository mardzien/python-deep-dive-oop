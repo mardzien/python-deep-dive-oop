{
 "cells": [
  {
   "cell_type": "code",
   "id": "initial_id",
   "metadata": {
    "collapsed": true,
    "ExecuteTime": {
     "end_time": "2024-04-07T08:14:40.314584Z",
     "start_time": "2024-04-07T08:14:40.311934Z"
    }
   },
   "source": "from math import pi",
   "outputs": [],
   "execution_count": 1
  },
  {
   "metadata": {
    "ExecuteTime": {
     "end_time": "2024-04-07T08:16:38.610760Z",
     "start_time": "2024-04-07T08:16:38.607660Z"
    }
   },
   "cell_type": "code",
   "source": [
    "class Circle:\n",
    "    def __init__(self, radius):\n",
    "        self._radius = radius\n",
    "        \n",
    "    @property\n",
    "    def area(self):\n",
    "        print('calculating area...')\n",
    "        return pi * (self._radius ** 2)"
   ],
   "id": "fbc25e017eed3d7",
   "outputs": [],
   "execution_count": 2
  },
  {
   "metadata": {
    "ExecuteTime": {
     "end_time": "2024-04-07T08:16:44.962913Z",
     "start_time": "2024-04-07T08:16:44.960991Z"
    }
   },
   "cell_type": "code",
   "source": "c = Circle(5)",
   "id": "2a11c727ce93fba7",
   "outputs": [],
   "execution_count": 3
  },
  {
   "metadata": {
    "ExecuteTime": {
     "end_time": "2024-04-07T08:17:00.477147Z",
     "start_time": "2024-04-07T08:17:00.471796Z"
    }
   },
   "cell_type": "code",
   "source": "c.radius",
   "id": "69bdff0c87297011",
   "outputs": [
    {
     "data": {
      "text/plain": [
       "5"
      ]
     },
     "execution_count": 6,
     "metadata": {},
     "output_type": "execute_result"
    }
   ],
   "execution_count": 6
  },
  {
   "metadata": {
    "ExecuteTime": {
     "end_time": "2024-04-07T08:17:07.038857Z",
     "start_time": "2024-04-07T08:17:07.035869Z"
    }
   },
   "cell_type": "code",
   "source": "c.area",
   "id": "865cef111d05b57b",
   "outputs": [
    {
     "name": "stdout",
     "output_type": "stream",
     "text": [
      "calculating area...\n"
     ]
    },
    {
     "data": {
      "text/plain": [
       "78.53981633974483"
      ]
     },
     "execution_count": 7,
     "metadata": {},
     "output_type": "execute_result"
    }
   ],
   "execution_count": 7
  },
  {
   "metadata": {
    "ExecuteTime": {
     "end_time": "2024-04-07T08:18:01.446921Z",
     "start_time": "2024-04-07T08:18:01.444137Z"
    }
   },
   "cell_type": "code",
   "source": "c.area",
   "id": "25a7c1bbb5d0980d",
   "outputs": [
    {
     "name": "stdout",
     "output_type": "stream",
     "text": [
      "calculating area...\n"
     ]
    },
    {
     "data": {
      "text/plain": [
       "78.53981633974483"
      ]
     },
     "execution_count": 8,
     "metadata": {},
     "output_type": "execute_result"
    }
   ],
   "execution_count": 8
  },
  {
   "metadata": {
    "ExecuteTime": {
     "end_time": "2024-04-07T08:30:28.112372Z",
     "start_time": "2024-04-07T08:30:28.110017Z"
    }
   },
   "cell_type": "code",
   "source": "# every time that I call area it's being recalculated",
   "id": "21ef2b971eb1b3a8",
   "outputs": [],
   "execution_count": 9
  },
  {
   "metadata": {
    "ExecuteTime": {
     "end_time": "2024-04-07T09:03:30.590088Z",
     "start_time": "2024-04-07T09:03:30.585767Z"
    }
   },
   "cell_type": "code",
   "source": [
    "class Circle:\n",
    "    def __init__(self, radius):\n",
    "        self._radius = radius\n",
    "        self._area = None\n",
    "        \n",
    "    @property\n",
    "    def radius(self):\n",
    "        return self._radius\n",
    "    \n",
    "    @radius.setter\n",
    "    def radius(self, value):\n",
    "        self._area = None\n",
    "        self._radius = value\n",
    "        \n",
    "    @property\n",
    "    def area(self):\n",
    "        if self._area is None:\n",
    "            print('Calculating area...')\n",
    "            self._area = pi * (self._radius ** 2)\n",
    "        return self._area"
   ],
   "id": "b3a6b6eb155d9868",
   "outputs": [],
   "execution_count": 10
  },
  {
   "metadata": {
    "ExecuteTime": {
     "end_time": "2024-04-07T09:03:38.804629Z",
     "start_time": "2024-04-07T09:03:38.802527Z"
    }
   },
   "cell_type": "code",
   "source": "c = Circle(1)",
   "id": "ec8fb0e155c1f5a",
   "outputs": [],
   "execution_count": 11
  },
  {
   "metadata": {
    "ExecuteTime": {
     "end_time": "2024-04-07T09:03:48.030523Z",
     "start_time": "2024-04-07T09:03:48.026924Z"
    }
   },
   "cell_type": "code",
   "source": "c.area",
   "id": "5f340604f0dd99ff",
   "outputs": [
    {
     "name": "stdout",
     "output_type": "stream",
     "text": [
      "Calculating area...\n"
     ]
    },
    {
     "data": {
      "text/plain": [
       "3.141592653589793"
      ]
     },
     "execution_count": 13,
     "metadata": {},
     "output_type": "execute_result"
    }
   ],
   "execution_count": 13
  },
  {
   "metadata": {
    "ExecuteTime": {
     "end_time": "2024-04-07T09:03:54.464506Z",
     "start_time": "2024-04-07T09:03:54.461756Z"
    }
   },
   "cell_type": "code",
   "source": "c.area",
   "id": "730b7c200173b792",
   "outputs": [
    {
     "data": {
      "text/plain": [
       "3.141592653589793"
      ]
     },
     "execution_count": 14,
     "metadata": {},
     "output_type": "execute_result"
    }
   ],
   "execution_count": 14
  },
  {
   "metadata": {
    "ExecuteTime": {
     "end_time": "2024-04-07T09:04:13.240791Z",
     "start_time": "2024-04-07T09:04:13.238509Z"
    }
   },
   "cell_type": "code",
   "source": "c.radius = 2",
   "id": "c7f8a04a1185b20c",
   "outputs": [],
   "execution_count": 17
  },
  {
   "metadata": {
    "ExecuteTime": {
     "end_time": "2024-04-07T09:04:49.067772Z",
     "start_time": "2024-04-07T09:04:49.064973Z"
    }
   },
   "cell_type": "code",
   "source": "c.__dict__",
   "id": "58600db2aeb5c5b7",
   "outputs": [
    {
     "data": {
      "text/plain": [
       "{'_radius': 2, '_area': None}"
      ]
     },
     "execution_count": 18,
     "metadata": {},
     "output_type": "execute_result"
    }
   ],
   "execution_count": 18
  },
  {
   "metadata": {
    "ExecuteTime": {
     "end_time": "2024-04-07T09:04:52.024968Z",
     "start_time": "2024-04-07T09:04:52.022221Z"
    }
   },
   "cell_type": "code",
   "source": "c.area",
   "id": "b70a552fad5b6691",
   "outputs": [
    {
     "name": "stdout",
     "output_type": "stream",
     "text": [
      "Calculating area...\n"
     ]
    },
    {
     "data": {
      "text/plain": [
       "12.566370614359172"
      ]
     },
     "execution_count": 19,
     "metadata": {},
     "output_type": "execute_result"
    }
   ],
   "execution_count": 19
  },
  {
   "metadata": {
    "ExecuteTime": {
     "end_time": "2024-04-07T09:04:58.688051Z",
     "start_time": "2024-04-07T09:04:58.684980Z"
    }
   },
   "cell_type": "code",
   "source": "c.__dict__",
   "id": "72b7610fd7d4f1ac",
   "outputs": [
    {
     "data": {
      "text/plain": [
       "{'_radius': 2, '_area': 12.566370614359172}"
      ]
     },
     "execution_count": 20,
     "metadata": {},
     "output_type": "execute_result"
    }
   ],
   "execution_count": 20
  },
  {
   "metadata": {
    "ExecuteTime": {
     "end_time": "2024-04-07T09:07:04.474383Z",
     "start_time": "2024-04-07T09:07:04.472202Z"
    }
   },
   "cell_type": "code",
   "source": [
    "import urllib\n",
    "from time import perf_counter"
   ],
   "id": "17c0995256dba1c1",
   "outputs": [],
   "execution_count": 21
  },
  {
   "metadata": {
    "ExecuteTime": {
     "end_time": "2024-04-07T16:46:34.607209Z",
     "start_time": "2024-04-07T16:46:34.602609Z"
    }
   },
   "cell_type": "code",
   "source": [
    "class WebPage:\n",
    "    def __init__(self, url):\n",
    "        self._url = url\n",
    "        self._page = None\n",
    "        self._load_time_secs = None\n",
    "        self._page_size = None\n",
    "        \n",
    "    @property\n",
    "    def url(self):\n",
    "        return self._url\n",
    "    \n",
    "    @url.setter\n",
    "    def url(self, value):\n",
    "        self._url = value\n",
    "        self._page = None\n",
    "        \n",
    "    @property\n",
    "    def page(self):\n",
    "        if self._page is None:\n",
    "            self.download_page()\n",
    "        return self._page\n",
    "    \n",
    "    @property\n",
    "    def page_size(self):\n",
    "        if self._page is None:\n",
    "            self.download_page()\n",
    "        return self._page_size\n",
    "    \n",
    "    @property\n",
    "    def time_elapsed(self):\n",
    "        if self._page is None:\n",
    "            self.download_page()\n",
    "        return self._load_time_secs\n",
    "    \n",
    "    def download_page(self):\n",
    "        self._page_size = None\n",
    "        self._load_time_secs = None\n",
    "        start_time = perf_counter()\n",
    "        with urllib.request.urlopen(self._url) as f:\n",
    "            self._page = f.read()\n",
    "        end_time = perf_counter()\n",
    "        self._page_size = len(self._page)\n",
    "        self._load_time_secs = end_time - start_time"
   ],
   "id": "aa5238e20a82384",
   "outputs": [],
   "execution_count": 22
  },
  {
   "metadata": {
    "ExecuteTime": {
     "end_time": "2024-04-07T16:50:53.974296Z",
     "start_time": "2024-04-07T16:50:53.972258Z"
    }
   },
   "cell_type": "code",
   "source": [
    "urls = [\n",
    "    'https://google.com',\n",
    "    'https://python.org'\n",
    "]"
   ],
   "id": "124edf9e3b9fb4ce",
   "outputs": [],
   "execution_count": 26
  },
  {
   "metadata": {
    "ExecuteTime": {
     "end_time": "2024-04-07T16:51:45.509792Z",
     "start_time": "2024-04-07T16:51:44.999622Z"
    }
   },
   "cell_type": "code",
   "source": [
    "for url in urls:\n",
    "    page = WebPage(url)\n",
    "    print(f'{url}\\tsize:{page.page_size:_}\\ttime: {page.time_elapsed:.2f} secs')"
   ],
   "id": "5833acf585b04827",
   "outputs": [
    {
     "name": "stdout",
     "output_type": "stream",
     "text": [
      "https://google.com\tsize:20_154\ttime: 0.27 secs\n",
      "https://python.org\tsize:11_769\ttime: 0.24 secs\n"
     ]
    }
   ],
   "execution_count": 29
  },
  {
   "metadata": {},
   "cell_type": "code",
   "outputs": [],
   "execution_count": null,
   "source": "",
   "id": "201a62cbdef58bc1"
  }
 ],
 "metadata": {
  "kernelspec": {
   "display_name": "Python 3",
   "language": "python",
   "name": "python3"
  },
  "language_info": {
   "codemirror_mode": {
    "name": "ipython",
    "version": 2
   },
   "file_extension": ".py",
   "mimetype": "text/x-python",
   "name": "python",
   "nbconvert_exporter": "python",
   "pygments_lexer": "ipython2",
   "version": "2.7.6"
  }
 },
 "nbformat": 4,
 "nbformat_minor": 5
}
