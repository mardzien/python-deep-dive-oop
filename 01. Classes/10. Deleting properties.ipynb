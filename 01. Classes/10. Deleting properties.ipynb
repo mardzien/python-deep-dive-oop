{
 "cells": [
  {
   "cell_type": "code",
   "id": "initial_id",
   "metadata": {
    "collapsed": true,
    "ExecuteTime": {
     "end_time": "2024-04-08T19:42:55.606163Z",
     "start_time": "2024-04-08T19:42:55.603375Z"
    }
   },
   "source": [
    "class Person:\n",
    "    def __init__(self, name):\n",
    "        self.name = name\n",
    "        \n",
    "    def get_name(self):\n",
    "        print('getter...')\n",
    "        return self._name\n",
    "    \n",
    "    def set_name(self, value):\n",
    "        print('setter...')\n",
    "        self._name = value\n",
    "        \n",
    "    def del_name(self):\n",
    "        print('deleter...')\n",
    "        del self._name\n",
    "        \n",
    "    name = property(fget=get_name, fset=set_name, fdel=del_name)"
   ],
   "outputs": [],
   "execution_count": 4
  },
  {
   "metadata": {
    "ExecuteTime": {
     "end_time": "2024-04-08T19:42:56.142219Z",
     "start_time": "2024-04-08T19:42:56.139987Z"
    }
   },
   "cell_type": "code",
   "source": "p = Person('Gwidon')",
   "id": "f9a6d09b95aa9926",
   "outputs": [
    {
     "name": "stdout",
     "output_type": "stream",
     "text": [
      "setter...\n"
     ]
    }
   ],
   "execution_count": 5
  },
  {
   "metadata": {
    "ExecuteTime": {
     "end_time": "2024-04-08T19:42:56.449486Z",
     "start_time": "2024-04-08T19:42:56.443060Z"
    }
   },
   "cell_type": "code",
   "source": "p.name",
   "id": "8aa832e72cfea467",
   "outputs": [
    {
     "name": "stdout",
     "output_type": "stream",
     "text": [
      "getter...\n"
     ]
    },
    {
     "data": {
      "text/plain": [
       "'Gwidon'"
      ]
     },
     "execution_count": 6,
     "metadata": {},
     "output_type": "execute_result"
    }
   ],
   "execution_count": 6
  },
  {
   "metadata": {
    "ExecuteTime": {
     "end_time": "2024-04-08T19:43:11.821693Z",
     "start_time": "2024-04-08T19:43:11.818232Z"
    }
   },
   "cell_type": "code",
   "source": "p.__dict__",
   "id": "eed945e11a0cf52f",
   "outputs": [
    {
     "data": {
      "text/plain": [
       "{'_name': 'Gwidon'}"
      ]
     },
     "execution_count": 7,
     "metadata": {},
     "output_type": "execute_result"
    }
   ],
   "execution_count": 7
  },
  {
   "metadata": {
    "ExecuteTime": {
     "end_time": "2024-04-08T19:43:18.597902Z",
     "start_time": "2024-04-08T19:43:18.595123Z"
    }
   },
   "cell_type": "code",
   "source": "del p.name",
   "id": "4f3d990fbb7b105e",
   "outputs": [
    {
     "name": "stdout",
     "output_type": "stream",
     "text": [
      "deleter...\n"
     ]
    }
   ],
   "execution_count": 8
  },
  {
   "metadata": {
    "ExecuteTime": {
     "end_time": "2024-04-08T19:43:42.372728Z",
     "start_time": "2024-04-08T19:43:42.369671Z"
    }
   },
   "cell_type": "code",
   "source": "p.__dict__",
   "id": "df59f31d52bc7001",
   "outputs": [
    {
     "data": {
      "text/plain": [
       "{}"
      ]
     },
     "execution_count": 9,
     "metadata": {},
     "output_type": "execute_result"
    }
   ],
   "execution_count": 9
  },
  {
   "metadata": {
    "ExecuteTime": {
     "end_time": "2024-04-08T19:43:54.975539Z",
     "start_time": "2024-04-08T19:43:54.972565Z"
    }
   },
   "cell_type": "code",
   "source": "Person.__dict__",
   "id": "bbd36327143a579c",
   "outputs": [
    {
     "data": {
      "text/plain": [
       "mappingproxy({'__module__': '__main__',\n",
       "              '__init__': <function __main__.Person.__init__(self, name)>,\n",
       "              'get_name': <function __main__.Person.get_name(self)>,\n",
       "              'set_name': <function __main__.Person.set_name(self, value)>,\n",
       "              'del_name': <function __main__.Person.del_name(self)>,\n",
       "              'name': <property at 0x7f474abf2520>,\n",
       "              '__dict__': <attribute '__dict__' of 'Person' objects>,\n",
       "              '__weakref__': <attribute '__weakref__' of 'Person' objects>,\n",
       "              '__doc__': None})"
      ]
     },
     "execution_count": 10,
     "metadata": {},
     "output_type": "execute_result"
    }
   ],
   "execution_count": 10
  },
  {
   "metadata": {
    "ExecuteTime": {
     "end_time": "2024-04-08T19:44:09.488854Z",
     "start_time": "2024-04-08T19:44:09.486485Z"
    }
   },
   "cell_type": "code",
   "source": "p.name = 'John'",
   "id": "5c6ffb84d67b74aa",
   "outputs": [
    {
     "name": "stdout",
     "output_type": "stream",
     "text": [
      "setter...\n"
     ]
    }
   ],
   "execution_count": 11
  },
  {
   "metadata": {
    "ExecuteTime": {
     "end_time": "2024-04-08T19:44:54.228766Z",
     "start_time": "2024-04-08T19:44:54.225891Z"
    }
   },
   "cell_type": "code",
   "source": [
    "class Person:\n",
    "    def __init__(self, name):\n",
    "        self.name = name\n",
    "        \n",
    "    @property\n",
    "    def name(self):\n",
    "        print('getter...')\n",
    "        return self._name\n",
    "    \n",
    "    @name.setter\n",
    "    def name(self, value):\n",
    "        print('setter...')\n",
    "        self._name = value\n",
    "        \n",
    "    @name.deleter\n",
    "    def name(self):\n",
    "        print('deleter...')\n",
    "        del self._name"
   ],
   "id": "fa45612af013a629",
   "outputs": [],
   "execution_count": 12
  },
  {
   "metadata": {
    "ExecuteTime": {
     "end_time": "2024-04-08T19:45:02.383547Z",
     "start_time": "2024-04-08T19:45:02.381115Z"
    }
   },
   "cell_type": "code",
   "source": "p = Person('Alex')",
   "id": "fbe85bc3d5ce958d",
   "outputs": [
    {
     "name": "stdout",
     "output_type": "stream",
     "text": [
      "setter...\n"
     ]
    }
   ],
   "execution_count": 13
  },
  {
   "metadata": {
    "ExecuteTime": {
     "end_time": "2024-04-08T19:45:10.962943Z",
     "start_time": "2024-04-08T19:45:10.960107Z"
    }
   },
   "cell_type": "code",
   "source": "p.__dict__",
   "id": "ce7a9d83165265bc",
   "outputs": [
    {
     "data": {
      "text/plain": [
       "{'_name': 'Alex'}"
      ]
     },
     "execution_count": 14,
     "metadata": {},
     "output_type": "execute_result"
    }
   ],
   "execution_count": 14
  },
  {
   "metadata": {
    "ExecuteTime": {
     "end_time": "2024-04-08T19:45:28.137255Z",
     "start_time": "2024-04-08T19:45:28.134796Z"
    }
   },
   "cell_type": "code",
   "source": "delattr(p, 'name')",
   "id": "20fa11d50a91eee4",
   "outputs": [
    {
     "name": "stdout",
     "output_type": "stream",
     "text": [
      "deleter...\n"
     ]
    }
   ],
   "execution_count": 15
  },
  {
   "metadata": {
    "ExecuteTime": {
     "end_time": "2024-04-08T19:45:36.240296Z",
     "start_time": "2024-04-08T19:45:36.237495Z"
    }
   },
   "cell_type": "code",
   "source": "p.__dict__",
   "id": "59d624a29cd19002",
   "outputs": [
    {
     "data": {
      "text/plain": [
       "{}"
      ]
     },
     "execution_count": 16,
     "metadata": {},
     "output_type": "execute_result"
    }
   ],
   "execution_count": 16
  }
 ],
 "metadata": {
  "kernelspec": {
   "display_name": "Python 3",
   "language": "python",
   "name": "python3"
  },
  "language_info": {
   "codemirror_mode": {
    "name": "ipython",
    "version": 2
   },
   "file_extension": ".py",
   "mimetype": "text/x-python",
   "name": "python",
   "nbconvert_exporter": "python",
   "pygments_lexer": "ipython2",
   "version": "2.7.6"
  }
 },
 "nbformat": 4,
 "nbformat_minor": 5
}
