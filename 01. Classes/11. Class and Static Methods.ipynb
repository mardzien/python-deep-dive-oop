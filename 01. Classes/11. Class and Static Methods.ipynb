{
 "cells": [
  {
   "cell_type": "code",
   "id": "initial_id",
   "metadata": {
    "collapsed": true,
    "ExecuteTime": {
     "end_time": "2024-04-09T17:28:48.546166Z",
     "start_time": "2024-04-09T17:28:48.543519Z"
    }
   },
   "source": [
    "class Person:\n",
    "    def hello(arg='default'):\n",
    "        print(f'Hello {arg}')"
   ],
   "outputs": [],
   "execution_count": 1
  },
  {
   "metadata": {
    "ExecuteTime": {
     "end_time": "2024-04-09T17:29:01.478178Z",
     "start_time": "2024-04-09T17:29:01.475498Z"
    }
   },
   "cell_type": "code",
   "source": "Person.hello(100)",
   "id": "c09bffbfd18b0bed",
   "outputs": [
    {
     "name": "stdout",
     "output_type": "stream",
     "text": [
      "Hello 100\n"
     ]
    }
   ],
   "execution_count": 2
  },
  {
   "metadata": {
    "ExecuteTime": {
     "end_time": "2024-04-09T17:29:12.351858Z",
     "start_time": "2024-04-09T17:29:12.349383Z"
    }
   },
   "cell_type": "code",
   "source": "Person.hello()",
   "id": "b824faea005886b4",
   "outputs": [
    {
     "name": "stdout",
     "output_type": "stream",
     "text": [
      "Hello default\n"
     ]
    }
   ],
   "execution_count": 3
  },
  {
   "metadata": {
    "ExecuteTime": {
     "end_time": "2024-04-09T17:29:23.313359Z",
     "start_time": "2024-04-09T17:29:23.310921Z"
    }
   },
   "cell_type": "code",
   "source": "p = Person()",
   "id": "4862b1a8b37bd190",
   "outputs": [],
   "execution_count": 4
  },
  {
   "metadata": {
    "ExecuteTime": {
     "end_time": "2024-04-09T17:29:28.952772Z",
     "start_time": "2024-04-09T17:29:28.950300Z"
    }
   },
   "cell_type": "code",
   "source": "p.hello()",
   "id": "4ceb81a606b2562e",
   "outputs": [
    {
     "name": "stdout",
     "output_type": "stream",
     "text": [
      "Hello <__main__.Person object at 0x7ff73fd0eba0>\n"
     ]
    }
   ],
   "execution_count": 5
  },
  {
   "metadata": {
    "ExecuteTime": {
     "end_time": "2024-04-09T17:37:54.295396Z",
     "start_time": "2024-04-09T17:37:54.292333Z"
    }
   },
   "cell_type": "code",
   "source": [
    "class MyClass:\n",
    "    def hello():\n",
    "        print('Hello')\n",
    "    \n",
    "    def instance_hello(arg):\n",
    "        print(f'Hello from {arg}')\n",
    "    \n",
    "    @classmethod\n",
    "    def class_hello(arg):\n",
    "        print(f'Hello from {arg}')\n",
    "        \n",
    "    @staticmethod\n",
    "    def static_hello():\n",
    "        print('Static method called...')"
   ],
   "id": "42ab9f5e6b941a04",
   "outputs": [],
   "execution_count": 16
  },
  {
   "metadata": {
    "ExecuteTime": {
     "end_time": "2024-04-09T17:37:56.555358Z",
     "start_time": "2024-04-09T17:37:56.553188Z"
    }
   },
   "cell_type": "code",
   "source": "m = MyClass()",
   "id": "11263a9ef4a983ef",
   "outputs": [],
   "execution_count": 17
  },
  {
   "metadata": {
    "ExecuteTime": {
     "end_time": "2024-04-09T17:37:56.783487Z",
     "start_time": "2024-04-09T17:37:56.780896Z"
    }
   },
   "cell_type": "code",
   "source": "MyClass.hello()",
   "id": "2cc8bcf0a9a8a070",
   "outputs": [
    {
     "name": "stdout",
     "output_type": "stream",
     "text": [
      "Hello\n"
     ]
    }
   ],
   "execution_count": 18
  },
  {
   "metadata": {
    "ExecuteTime": {
     "end_time": "2024-04-09T17:37:56.979538Z",
     "start_time": "2024-04-09T17:37:56.966955Z"
    }
   },
   "cell_type": "code",
   "source": "m.hello()",
   "id": "97d8f6a4048cccad",
   "outputs": [
    {
     "ename": "TypeError",
     "evalue": "MyClass.hello() takes 0 positional arguments but 1 was given",
     "output_type": "error",
     "traceback": [
      "\u001B[0;31m---------------------------------------------------------------------------\u001B[0m",
      "\u001B[0;31mTypeError\u001B[0m                                 Traceback (most recent call last)",
      "Cell \u001B[0;32mIn[19], line 1\u001B[0m\n\u001B[0;32m----> 1\u001B[0m \u001B[43mm\u001B[49m\u001B[38;5;241;43m.\u001B[39;49m\u001B[43mhello\u001B[49m\u001B[43m(\u001B[49m\u001B[43m)\u001B[49m\n",
      "\u001B[0;31mTypeError\u001B[0m: MyClass.hello() takes 0 positional arguments but 1 was given"
     ]
    }
   ],
   "execution_count": 19
  },
  {
   "metadata": {
    "ExecuteTime": {
     "end_time": "2024-04-09T17:37:57.160598Z",
     "start_time": "2024-04-09T17:37:57.157833Z"
    }
   },
   "cell_type": "code",
   "source": "m.instance_hello()",
   "id": "d8bbb3a2431251ff",
   "outputs": [
    {
     "name": "stdout",
     "output_type": "stream",
     "text": [
      "Hello from <__main__.MyClass object at 0x7ff73fd54140>\n"
     ]
    }
   ],
   "execution_count": 20
  },
  {
   "metadata": {
    "ExecuteTime": {
     "end_time": "2024-04-09T17:37:57.358570Z",
     "start_time": "2024-04-09T17:37:57.355900Z"
    }
   },
   "cell_type": "code",
   "source": "m.class_hello()",
   "id": "e90a7cb014b9edaf",
   "outputs": [
    {
     "name": "stdout",
     "output_type": "stream",
     "text": [
      "Hello from <class '__main__.MyClass'>\n"
     ]
    }
   ],
   "execution_count": 21
  },
  {
   "metadata": {
    "ExecuteTime": {
     "end_time": "2024-04-09T17:37:57.986429Z",
     "start_time": "2024-04-09T17:37:57.983708Z"
    }
   },
   "cell_type": "code",
   "source": "MyClass.class_hello()",
   "id": "8875bc439aa8b71a",
   "outputs": [
    {
     "name": "stdout",
     "output_type": "stream",
     "text": [
      "Hello from <class '__main__.MyClass'>\n"
     ]
    }
   ],
   "execution_count": 22
  },
  {
   "metadata": {
    "ExecuteTime": {
     "end_time": "2024-04-09T17:37:58.194732Z",
     "start_time": "2024-04-09T17:37:58.191165Z"
    }
   },
   "cell_type": "code",
   "source": "MyClass.class_hello",
   "id": "556927fa4deb0c88",
   "outputs": [
    {
     "data": {
      "text/plain": [
       "<bound method MyClass.class_hello of <class '__main__.MyClass'>>"
      ]
     },
     "execution_count": 23,
     "metadata": {},
     "output_type": "execute_result"
    }
   ],
   "execution_count": 23
  },
  {
   "metadata": {
    "ExecuteTime": {
     "end_time": "2024-04-09T17:37:58.379453Z",
     "start_time": "2024-04-09T17:37:58.376189Z"
    }
   },
   "cell_type": "code",
   "source": "MyClass.instance_hello",
   "id": "a19dbf50b6f28184",
   "outputs": [
    {
     "data": {
      "text/plain": [
       "<function __main__.MyClass.instance_hello(arg)>"
      ]
     },
     "execution_count": 24,
     "metadata": {},
     "output_type": "execute_result"
    }
   ],
   "execution_count": 24
  },
  {
   "metadata": {
    "ExecuteTime": {
     "end_time": "2024-04-09T17:37:58.576831Z",
     "start_time": "2024-04-09T17:37:58.573675Z"
    }
   },
   "cell_type": "code",
   "source": "m.class_hello",
   "id": "27efef4e38c8281f",
   "outputs": [
    {
     "data": {
      "text/plain": [
       "<bound method MyClass.class_hello of <class '__main__.MyClass'>>"
      ]
     },
     "execution_count": 25,
     "metadata": {},
     "output_type": "execute_result"
    }
   ],
   "execution_count": 25
  },
  {
   "metadata": {
    "ExecuteTime": {
     "end_time": "2024-04-09T17:38:03.614953Z",
     "start_time": "2024-04-09T17:38:03.612241Z"
    }
   },
   "cell_type": "code",
   "source": "MyClass.static_hello()",
   "id": "508b19aab7905bad",
   "outputs": [
    {
     "name": "stdout",
     "output_type": "stream",
     "text": [
      "Static method called...\n"
     ]
    }
   ],
   "execution_count": 26
  },
  {
   "metadata": {
    "ExecuteTime": {
     "end_time": "2024-04-09T17:38:12.360010Z",
     "start_time": "2024-04-09T17:38:12.356910Z"
    }
   },
   "cell_type": "code",
   "source": "MyClass.static_hello",
   "id": "81011f969244c3db",
   "outputs": [
    {
     "data": {
      "text/plain": [
       "<function __main__.MyClass.static_hello()>"
      ]
     },
     "execution_count": 27,
     "metadata": {},
     "output_type": "execute_result"
    }
   ],
   "execution_count": 27
  },
  {
   "metadata": {
    "ExecuteTime": {
     "end_time": "2024-04-09T17:38:27.041116Z",
     "start_time": "2024-04-09T17:38:27.038638Z"
    }
   },
   "cell_type": "code",
   "source": "m.static_hello()",
   "id": "13f4e295b70a6d28",
   "outputs": [
    {
     "name": "stdout",
     "output_type": "stream",
     "text": [
      "Static method called...\n"
     ]
    }
   ],
   "execution_count": 29
  },
  {
   "metadata": {
    "ExecuteTime": {
     "end_time": "2024-04-09T17:38:27.246479Z",
     "start_time": "2024-04-09T17:38:27.243385Z"
    }
   },
   "cell_type": "code",
   "source": "m.static_hello",
   "id": "33892cb9072a57ad",
   "outputs": [
    {
     "data": {
      "text/plain": [
       "<function __main__.MyClass.static_hello()>"
      ]
     },
     "execution_count": 30,
     "metadata": {},
     "output_type": "execute_result"
    }
   ],
   "execution_count": 30
  },
  {
   "metadata": {
    "ExecuteTime": {
     "end_time": "2024-04-09T17:45:50.679280Z",
     "start_time": "2024-04-09T17:45:50.676670Z"
    }
   },
   "cell_type": "code",
   "source": "from datetime import datetime, timezone, timedelta",
   "id": "d1e2fb34f9fdbcbd",
   "outputs": [],
   "execution_count": 31
  },
  {
   "metadata": {
    "ExecuteTime": {
     "end_time": "2024-04-09T17:47:35.323008Z",
     "start_time": "2024-04-09T17:47:35.320689Z"
    }
   },
   "cell_type": "code",
   "source": [
    "class Timer:\n",
    "    tz = timezone.utc\n",
    "    \n",
    "    @classmethod\n",
    "    def set_tz(cls, offset, name):\n",
    "        cls.tz = timezone(timedelta(hours=offset), name)"
   ],
   "id": "b98d7a27ae907060",
   "outputs": [],
   "execution_count": 32
  },
  {
   "metadata": {
    "ExecuteTime": {
     "end_time": "2024-04-09T17:48:00.340860Z",
     "start_time": "2024-04-09T17:48:00.338768Z"
    }
   },
   "cell_type": "code",
   "source": "Timer.set_tz(-7, 'MST')",
   "id": "2dca5666337b86f7",
   "outputs": [],
   "execution_count": 33
  },
  {
   "metadata": {
    "ExecuteTime": {
     "end_time": "2024-04-09T17:48:13.334022Z",
     "start_time": "2024-04-09T17:48:13.331160Z"
    }
   },
   "cell_type": "code",
   "source": [
    "t1 = Timer()\n",
    "t2 = Timer()"
   ],
   "id": "f28821b0ee311d69",
   "outputs": [],
   "execution_count": 34
  },
  {
   "metadata": {
    "ExecuteTime": {
     "end_time": "2024-04-09T17:48:25.610803Z",
     "start_time": "2024-04-09T17:48:25.607183Z"
    }
   },
   "cell_type": "code",
   "source": "t1.tz, t2.tz",
   "id": "42bf5f645739599e",
   "outputs": [
    {
     "data": {
      "text/plain": [
       "(datetime.timezone(datetime.timedelta(days=-1, seconds=61200), 'MST'),\n",
       " datetime.timezone(datetime.timedelta(days=-1, seconds=61200), 'MST'))"
      ]
     },
     "execution_count": 35,
     "metadata": {},
     "output_type": "execute_result"
    }
   ],
   "execution_count": 35
  },
  {
   "metadata": {
    "ExecuteTime": {
     "end_time": "2024-04-09T17:48:43.764318Z",
     "start_time": "2024-04-09T17:48:43.762066Z"
    }
   },
   "cell_type": "code",
   "source": "Timer.set_tz(-8, 'PST')",
   "id": "8d1f033ead25f10f",
   "outputs": [],
   "execution_count": 36
  },
  {
   "metadata": {
    "ExecuteTime": {
     "end_time": "2024-04-09T17:48:47.302008Z",
     "start_time": "2024-04-09T17:48:47.298974Z"
    }
   },
   "cell_type": "code",
   "source": "t1.tz, t2.tz",
   "id": "873780ab3a7cedcb",
   "outputs": [
    {
     "data": {
      "text/plain": [
       "(datetime.timezone(datetime.timedelta(days=-1, seconds=57600), 'PST'),\n",
       " datetime.timezone(datetime.timedelta(days=-1, seconds=57600), 'PST'))"
      ]
     },
     "execution_count": 37,
     "metadata": {},
     "output_type": "execute_result"
    }
   ],
   "execution_count": 37
  },
  {
   "metadata": {
    "ExecuteTime": {
     "end_time": "2024-04-09T17:49:51.971891Z",
     "start_time": "2024-04-09T17:49:51.968917Z"
    }
   },
   "cell_type": "code",
   "source": [
    "class Timer:\n",
    "    tz = timezone.utc\n",
    "    \n",
    "    @classmethod\n",
    "    def set_tz(cls, offset, name):\n",
    "        cls.tz = timezone(timedelta(hours=offset), name)\n",
    "        \n",
    "    @staticmethod\n",
    "    def current_dt_utc():\n",
    "        return datetime.now(timezone.utc)"
   ],
   "id": "51f554956803c1b6",
   "outputs": [],
   "execution_count": 38
  },
  {
   "metadata": {
    "ExecuteTime": {
     "end_time": "2024-04-09T17:49:58.436367Z",
     "start_time": "2024-04-09T17:49:58.434311Z"
    }
   },
   "cell_type": "code",
   "source": "t = Timer()",
   "id": "440a6032669c6397",
   "outputs": [],
   "execution_count": 39
  },
  {
   "metadata": {
    "ExecuteTime": {
     "end_time": "2024-04-09T17:50:02.536853Z",
     "start_time": "2024-04-09T17:50:02.533748Z"
    }
   },
   "cell_type": "code",
   "source": "t.current_dt_utc()",
   "id": "c3dbaea7959e5413",
   "outputs": [
    {
     "data": {
      "text/plain": [
       "datetime.datetime(2024, 4, 9, 17, 50, 2, 534487, tzinfo=datetime.timezone.utc)"
      ]
     },
     "execution_count": 40,
     "metadata": {},
     "output_type": "execute_result"
    }
   ],
   "execution_count": 40
  },
  {
   "metadata": {
    "ExecuteTime": {
     "end_time": "2024-04-09T17:50:15.799317Z",
     "start_time": "2024-04-09T17:50:15.795941Z"
    }
   },
   "cell_type": "code",
   "source": "Timer.current_dt_utc()",
   "id": "d83d341e80613b7",
   "outputs": [
    {
     "data": {
      "text/plain": [
       "datetime.datetime(2024, 4, 9, 17, 50, 15, 796759, tzinfo=datetime.timezone.utc)"
      ]
     },
     "execution_count": 41,
     "metadata": {},
     "output_type": "execute_result"
    }
   ],
   "execution_count": 41
  },
  {
   "metadata": {
    "ExecuteTime": {
     "end_time": "2024-04-09T17:50:22.121087Z",
     "start_time": "2024-04-09T17:50:22.110023Z"
    }
   },
   "cell_type": "code",
   "source": "current_dt_utc()",
   "id": "79e625c8561baaf9",
   "outputs": [
    {
     "ename": "NameError",
     "evalue": "name 'current_dt_utc' is not defined",
     "output_type": "error",
     "traceback": [
      "\u001B[0;31m---------------------------------------------------------------------------\u001B[0m",
      "\u001B[0;31mNameError\u001B[0m                                 Traceback (most recent call last)",
      "Cell \u001B[0;32mIn[42], line 1\u001B[0m\n\u001B[0;32m----> 1\u001B[0m \u001B[43mcurrent_dt_utc\u001B[49m()\n",
      "\u001B[0;31mNameError\u001B[0m: name 'current_dt_utc' is not defined"
     ]
    }
   ],
   "execution_count": 42
  },
  {
   "metadata": {
    "ExecuteTime": {
     "end_time": "2024-04-09T17:52:10.576006Z",
     "start_time": "2024-04-09T17:52:10.573197Z"
    }
   },
   "cell_type": "code",
   "source": [
    "class Timer:\n",
    "    tz = timezone.utc\n",
    "    \n",
    "    @classmethod\n",
    "    def set_tz(cls, offset, name):\n",
    "        cls.tz = timezone(timedelta(hours=offset), name)\n",
    "        \n",
    "    @staticmethod\n",
    "    def current_dt_utc():\n",
    "        return datetime.now(timezone.utc)\n",
    "    \n",
    "    @classmethod\n",
    "    def current_dt(cls):\n",
    "        return datetime.now(cls.tz)"
   ],
   "id": "2d9c86fd3145c64e",
   "outputs": [],
   "execution_count": 43
  },
  {
   "metadata": {
    "ExecuteTime": {
     "end_time": "2024-04-09T17:52:26.375660Z",
     "start_time": "2024-04-09T17:52:26.372829Z"
    }
   },
   "cell_type": "code",
   "source": "Timer.current_dt_utc(), Timer.current_dt()",
   "id": "d8749cc8208cc13",
   "outputs": [
    {
     "data": {
      "text/plain": [
       "(datetime.datetime(2024, 4, 9, 17, 52, 26, 373865, tzinfo=datetime.timezone.utc),\n",
       " datetime.datetime(2024, 4, 9, 17, 52, 26, 373869, tzinfo=datetime.timezone.utc))"
      ]
     },
     "execution_count": 44,
     "metadata": {},
     "output_type": "execute_result"
    }
   ],
   "execution_count": 44
  },
  {
   "metadata": {
    "ExecuteTime": {
     "end_time": "2024-04-09T17:52:54.416148Z",
     "start_time": "2024-04-09T17:52:54.413972Z"
    }
   },
   "cell_type": "code",
   "source": [
    "t1 = Timer()\n",
    "t2 = Timer()"
   ],
   "id": "aa0e5e149f569984",
   "outputs": [],
   "execution_count": 46
  },
  {
   "metadata": {
    "ExecuteTime": {
     "end_time": "2024-04-09T17:53:14.138432Z",
     "start_time": "2024-04-09T17:53:14.135073Z"
    }
   },
   "cell_type": "code",
   "source": "t1.current_dt_utc(), t1.current_dt()",
   "id": "66eccca3a07890a4",
   "outputs": [
    {
     "data": {
      "text/plain": [
       "(datetime.datetime(2024, 4, 9, 17, 53, 14, 136216, tzinfo=datetime.timezone.utc),\n",
       " datetime.datetime(2024, 4, 9, 17, 53, 14, 136220, tzinfo=datetime.timezone.utc))"
      ]
     },
     "execution_count": 47,
     "metadata": {},
     "output_type": "execute_result"
    }
   ],
   "execution_count": 47
  },
  {
   "metadata": {},
   "cell_type": "code",
   "outputs": [],
   "execution_count": 49,
   "source": "t2.set_tz(-7, 'MST')",
   "id": "ed974f55108c1489"
  },
  {
   "metadata": {
    "ExecuteTime": {
     "end_time": "2024-04-09T17:54:31.789576Z",
     "start_time": "2024-04-09T17:54:31.786667Z"
    }
   },
   "cell_type": "code",
   "source": "t1.tz, t2.tz",
   "id": "3f8cee6f68cc8967",
   "outputs": [
    {
     "data": {
      "text/plain": [
       "(datetime.timezone(datetime.timedelta(days=-1, seconds=61200), 'MST'),\n",
       " datetime.timezone(datetime.timedelta(days=-1, seconds=61200), 'MST'))"
      ]
     },
     "execution_count": 50,
     "metadata": {},
     "output_type": "execute_result"
    }
   ],
   "execution_count": 50
  },
  {
   "metadata": {
    "ExecuteTime": {
     "end_time": "2024-04-09T17:54:57.319832Z",
     "start_time": "2024-04-09T17:54:57.316900Z"
    }
   },
   "cell_type": "code",
   "source": "t1.__dict__, t2.__dict__",
   "id": "2710bae6e4931a63",
   "outputs": [
    {
     "data": {
      "text/plain": [
       "({}, {})"
      ]
     },
     "execution_count": 52,
     "metadata": {},
     "output_type": "execute_result"
    }
   ],
   "execution_count": 52
  },
  {
   "metadata": {
    "ExecuteTime": {
     "end_time": "2024-04-09T17:55:23.875769Z",
     "start_time": "2024-04-09T17:55:23.871730Z"
    }
   },
   "cell_type": "code",
   "source": "t1.current_dt_utc(), t1.current_dt(), t2.current_dt()",
   "id": "eebf671143b54299",
   "outputs": [
    {
     "data": {
      "text/plain": [
       "(datetime.datetime(2024, 4, 9, 17, 55, 23, 873053, tzinfo=datetime.timezone.utc),\n",
       " datetime.datetime(2024, 4, 9, 10, 55, 23, 873058, tzinfo=datetime.timezone(datetime.timedelta(days=-1, seconds=61200), 'MST')),\n",
       " datetime.datetime(2024, 4, 9, 10, 55, 23, 873060, tzinfo=datetime.timezone(datetime.timedelta(days=-1, seconds=61200), 'MST')))"
      ]
     },
     "execution_count": 53,
     "metadata": {},
     "output_type": "execute_result"
    }
   ],
   "execution_count": 53
  },
  {
   "metadata": {
    "ExecuteTime": {
     "end_time": "2024-04-09T17:56:48.474383Z",
     "start_time": "2024-04-09T17:56:48.472089Z"
    }
   },
   "cell_type": "code",
   "source": [
    "class TimerError(Exception):\n",
    "    \"\"\"A custom exception used far a Timer class\"\"\""
   ],
   "id": "f6cb07ae18cea58b",
   "outputs": [],
   "execution_count": 54
  },
  {
   "metadata": {
    "ExecuteTime": {
     "end_time": "2024-04-09T18:18:38.725651Z",
     "start_time": "2024-04-09T18:18:38.721427Z"
    }
   },
   "cell_type": "code",
   "source": [
    "class Timer:\n",
    "    tz = timezone.utc\n",
    "    \n",
    "    @classmethod\n",
    "    def set_tz(cls, offset, name):\n",
    "        cls.tz = timezone(timedelta(hours=offset), name)\n",
    "        \n",
    "    @staticmethod\n",
    "    def current_dt_utc():\n",
    "        return datetime.now(timezone.utc)\n",
    "    \n",
    "    @classmethod\n",
    "    def current_dt(cls):\n",
    "        return datetime.now(cls.tz)\n",
    "    \n",
    "    def start(self):\n",
    "        self._time_start = self.current_dt_utc()\n",
    "        self._time_end = None\n",
    "        \n",
    "    def stop(self):\n",
    "        if self._time_start is None:\n",
    "            raise TimerError(\"Timer must be started before it can be stopped.\")\n",
    "        self._time_end = self.current_dt_utc()\n",
    "        \n",
    "    @property\n",
    "    def start_time(self):\n",
    "        if self._time_start is None:\n",
    "            raise TimerError(\"Timer has not been started.\")\n",
    "        return self._time_start.astimezone(self.tz)\n",
    "    \n",
    "    @property\n",
    "    def end_time(self):\n",
    "        if self._time_end is None:\n",
    "            raise TimerError(\"Timer has not been stopped.\")\n",
    "        return self._time_end.astimezone(self.tz)\n",
    "    \n",
    "    @property\n",
    "    def elapsed(self):\n",
    "        if self._time_start is None:\n",
    "            raise TimerError(\"Timer must be started before elapsed time can be calculated.\")\n",
    "        if self._time_end is None:\n",
    "            elapsed_time = self.current_dt_utc() - self._time_start\n",
    "        else:\n",
    "            elapsed_time = self._time_end - self._time_start\n",
    "        return elapsed_time.total_seconds()"
   ],
   "id": "baaa579eaf53e0a6",
   "outputs": [],
   "execution_count": 60
  },
  {
   "metadata": {
    "ExecuteTime": {
     "end_time": "2024-04-09T18:18:39.333504Z",
     "start_time": "2024-04-09T18:18:39.331433Z"
    }
   },
   "cell_type": "code",
   "source": "from time import sleep",
   "id": "a315f6ce5b02d5b0",
   "outputs": [],
   "execution_count": 61
  },
  {
   "metadata": {
    "ExecuteTime": {
     "end_time": "2024-04-09T18:18:41.548885Z",
     "start_time": "2024-04-09T18:18:39.545186Z"
    }
   },
   "cell_type": "code",
   "source": [
    "t1 = Timer()\n",
    "t1.start()\n",
    "sleep(2)\n",
    "t1.stop()\n",
    "\n",
    "print(f\"Start time: {t1.start_time}\")\n",
    "print(f\"End time: {t1.end_time}\")\n",
    "print(f\"Elapsed time: {t1.elapsed}\")"
   ],
   "id": "e1e325fc1b575078",
   "outputs": [
    {
     "name": "stdout",
     "output_type": "stream",
     "text": [
      "Start time: 2024-04-09 18:18:39.546410+00:00\n",
      "End time: 2024-04-09 18:18:41.546695+00:00\n",
      "Elapsed time: 2.000285\n"
     ]
    }
   ],
   "execution_count": 62
  },
  {
   "metadata": {
    "ExecuteTime": {
     "end_time": "2024-04-09T18:19:07.113013Z",
     "start_time": "2024-04-09T18:19:04.109877Z"
    }
   },
   "cell_type": "code",
   "source": [
    "t2 = Timer()\n",
    "t2.start()\n",
    "sleep(3)\n",
    "t2.stop()\n",
    "\n",
    "print(f\"Start time: {t2.start_time}\")\n",
    "print(f\"End time: {t2.end_time}\")\n",
    "print(f\"Elapsed time: {t2.elapsed}\")"
   ],
   "id": "277e40a06ce96c11",
   "outputs": [
    {
     "name": "stdout",
     "output_type": "stream",
     "text": [
      "Start time: 2024-04-09 18:19:04.110883+00:00\n",
      "End time: 2024-04-09 18:19:07.111128+00:00\n",
      "Elapsed time: 3.000245\n"
     ]
    }
   ],
   "execution_count": 63
  },
  {
   "metadata": {
    "ExecuteTime": {
     "end_time": "2024-04-09T18:19:53.034351Z",
     "start_time": "2024-04-09T18:19:53.032094Z"
    }
   },
   "cell_type": "code",
   "source": "Timer.set_tz(-7, \"MST\")",
   "id": "f06f578f8b03e85d",
   "outputs": [],
   "execution_count": 64
  },
  {
   "metadata": {},
   "cell_type": "code",
   "outputs": [],
   "execution_count": null,
   "source": "",
   "id": "78fdb0356780c499"
  }
 ],
 "metadata": {
  "kernelspec": {
   "display_name": "Python 3",
   "language": "python",
   "name": "python3"
  },
  "language_info": {
   "codemirror_mode": {
    "name": "ipython",
    "version": 2
   },
   "file_extension": ".py",
   "mimetype": "text/x-python",
   "name": "python",
   "nbconvert_exporter": "python",
   "pygments_lexer": "ipython2",
   "version": "2.7.6"
  }
 },
 "nbformat": 4,
 "nbformat_minor": 5
}
