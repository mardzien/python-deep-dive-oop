{
 "cells": [
  {
   "cell_type": "code",
   "id": "initial_id",
   "metadata": {
    "collapsed": true,
    "ExecuteTime": {
     "end_time": "2024-05-10T12:21:18.167706Z",
     "start_time": "2024-05-10T12:21:18.165104Z"
    }
   },
   "source": [
    "class Language:\n",
    "    MAJOR = 3\n",
    "    MINOR = 7\n",
    "    REVISION = 4\n",
    "    \n",
    "    FULL = f\"{MAJOR}.{MINOR}.{REVISION}\""
   ],
   "outputs": [],
   "execution_count": 1
  },
  {
   "metadata": {
    "ExecuteTime": {
     "end_time": "2024-05-10T12:21:24.972062Z",
     "start_time": "2024-05-10T12:21:24.967499Z"
    }
   },
   "cell_type": "code",
   "source": "Language.FULL",
   "id": "1e76555909d44203",
   "outputs": [
    {
     "data": {
      "text/plain": [
       "'3.7.4'"
      ]
     },
     "execution_count": 2,
     "metadata": {},
     "output_type": "execute_result"
    }
   ],
   "execution_count": 2
  },
  {
   "metadata": {
    "ExecuteTime": {
     "end_time": "2024-05-10T12:32:53.695877Z",
     "start_time": "2024-05-10T12:32:53.692391Z"
    }
   },
   "cell_type": "code",
   "source": [
    "class Language:\n",
    "    MAJOR = 3\n",
    "    MINOR = 7\n",
    "    REVISION = 4\n",
    "    \n",
    "    @property\n",
    "    def version(self):\n",
    "        return f\"{self.MAJOR}.{self.MINOR}.{self.REVISION}\"\n",
    "    \n",
    "    @classmethod\n",
    "    def cls_version(cls):\n",
    "        return f\"{cls.MAJOR}.{cls.MINOR}.{cls.REVISION}\"\n",
    "    \n",
    "    @staticmethod\n",
    "    def static_version():\n",
    "        return f\"{Language.MAJOR}.{Language.MINOR}.{Language.REVISION}\""
   ],
   "id": "385a5baf25788ee7",
   "outputs": [],
   "execution_count": 5
  },
  {
   "metadata": {
    "ExecuteTime": {
     "end_time": "2024-05-10T12:32:54.153345Z",
     "start_time": "2024-05-10T12:32:54.149670Z"
    }
   },
   "cell_type": "code",
   "source": [
    "l = Language()\n",
    "l.version"
   ],
   "id": "8f33a1c6f44db6cb",
   "outputs": [
    {
     "data": {
      "text/plain": [
       "'3.7.4'"
      ]
     },
     "execution_count": 6,
     "metadata": {},
     "output_type": "execute_result"
    }
   ],
   "execution_count": 6
  },
  {
   "metadata": {
    "ExecuteTime": {
     "end_time": "2024-05-10T12:32:58.976131Z",
     "start_time": "2024-05-10T12:32:58.972981Z"
    }
   },
   "cell_type": "code",
   "source": "l.cls_version()",
   "id": "b437362c746014d2",
   "outputs": [
    {
     "data": {
      "text/plain": [
       "'3.7.4'"
      ]
     },
     "execution_count": 7,
     "metadata": {},
     "output_type": "execute_result"
    }
   ],
   "execution_count": 7
  },
  {
   "metadata": {
    "ExecuteTime": {
     "end_time": "2024-05-10T12:33:05.529693Z",
     "start_time": "2024-05-10T12:33:05.526924Z"
    }
   },
   "cell_type": "code",
   "source": "l.static_version()",
   "id": "380113418d1f0f7d",
   "outputs": [
    {
     "data": {
      "text/plain": [
       "'3.7.4'"
      ]
     },
     "execution_count": 8,
     "metadata": {},
     "output_type": "execute_result"
    }
   ],
   "execution_count": 8
  },
  {
   "metadata": {
    "ExecuteTime": {
     "end_time": "2024-05-10T12:51:38.409428Z",
     "start_time": "2024-05-10T12:51:38.406434Z"
    }
   },
   "cell_type": "code",
   "source": [
    "class Language:\n",
    "    MAJOR = 3\n",
    "    MINOR = 7\n",
    "    REVISION = 4\n",
    "\n",
    "def full_version():\n",
    "    return f\"{Language.MAJOR}.{Language.MINOR}.{Language.REVISION}\""
   ],
   "id": "94a55f7962c8f0d5",
   "outputs": [],
   "execution_count": 10
  },
  {
   "metadata": {
    "ExecuteTime": {
     "end_time": "2024-05-10T12:51:43.598739Z",
     "start_time": "2024-05-10T12:51:43.595913Z"
    }
   },
   "cell_type": "code",
   "source": "full_version()",
   "id": "15eeec12649e018d",
   "outputs": [
    {
     "data": {
      "text/plain": [
       "'3.7.4'"
      ]
     },
     "execution_count": 11,
     "metadata": {},
     "output_type": "execute_result"
    }
   ],
   "execution_count": 11
  },
  {
   "metadata": {
    "ExecuteTime": {
     "end_time": "2024-05-10T12:52:06.439249Z",
     "start_time": "2024-05-10T12:52:06.437157Z"
    }
   },
   "cell_type": "code",
   "source": [
    "class Language:\n",
    "    MAJOR = 3\n",
    "    MINOR = 7\n",
    "    REVISION = 4\n",
    "    \n",
    "    version = full_version"
   ],
   "id": "b826bb9d8c3df68b",
   "outputs": [],
   "execution_count": 12
  },
  {
   "metadata": {
    "ExecuteTime": {
     "end_time": "2024-05-10T12:52:12.971585Z",
     "start_time": "2024-05-10T12:52:12.968660Z"
    }
   },
   "cell_type": "code",
   "source": "Language.version",
   "id": "6427364c74f8bb46",
   "outputs": [
    {
     "data": {
      "text/plain": [
       "<function __main__.full_version()>"
      ]
     },
     "execution_count": 13,
     "metadata": {},
     "output_type": "execute_result"
    }
   ],
   "execution_count": 13
  },
  {
   "metadata": {
    "ExecuteTime": {
     "end_time": "2024-05-10T12:52:24.572781Z",
     "start_time": "2024-05-10T12:52:24.569708Z"
    }
   },
   "cell_type": "code",
   "source": "Language.version is full_version",
   "id": "65f2b0323507607e",
   "outputs": [
    {
     "data": {
      "text/plain": [
       "True"
      ]
     },
     "execution_count": 14,
     "metadata": {},
     "output_type": "execute_result"
    }
   ],
   "execution_count": 14
  },
  {
   "metadata": {
    "ExecuteTime": {
     "end_time": "2024-05-10T12:52:31.261303Z",
     "start_time": "2024-05-10T12:52:31.258227Z"
    }
   },
   "cell_type": "code",
   "source": "Language.version()",
   "id": "605882465e3d9a93",
   "outputs": [
    {
     "data": {
      "text/plain": [
       "'3.7.4'"
      ]
     },
     "execution_count": 15,
     "metadata": {},
     "output_type": "execute_result"
    }
   ],
   "execution_count": 15
  },
  {
   "metadata": {
    "ExecuteTime": {
     "end_time": "2024-05-10T12:53:48.899495Z",
     "start_time": "2024-05-10T12:53:48.896638Z"
    }
   },
   "cell_type": "code",
   "source": [
    "def full_version():\n",
    "    return f\"{MAJOR}.{MINOR}.{REVISION}\"\n",
    "\n",
    "class Language:\n",
    "    MAJOR = 3\n",
    "    MINOR = 7\n",
    "    REVISION = 4\n",
    "\n",
    "    version = full_version"
   ],
   "id": "94151d3cd98e75f6",
   "outputs": [],
   "execution_count": 17
  },
  {
   "metadata": {
    "ExecuteTime": {
     "end_time": "2024-05-10T12:53:56.113956Z",
     "start_time": "2024-05-10T12:53:56.110794Z"
    }
   },
   "cell_type": "code",
   "source": "Language.version is full_version",
   "id": "23d227f40d3c1da3",
   "outputs": [
    {
     "data": {
      "text/plain": [
       "True"
      ]
     },
     "execution_count": 18,
     "metadata": {},
     "output_type": "execute_result"
    }
   ],
   "execution_count": 18
  },
  {
   "metadata": {
    "ExecuteTime": {
     "end_time": "2024-05-10T12:54:05.581046Z",
     "start_time": "2024-05-10T12:54:05.439199Z"
    }
   },
   "cell_type": "code",
   "source": "Language.version()",
   "id": "6af6df290ea989a3",
   "outputs": [
    {
     "ename": "NameError",
     "evalue": "name 'MAJOR' is not defined",
     "output_type": "error",
     "traceback": [
      "\u001B[0;31m---------------------------------------------------------------------------\u001B[0m",
      "\u001B[0;31mNameError\u001B[0m                                 Traceback (most recent call last)",
      "Cell \u001B[0;32mIn[19], line 1\u001B[0m\n\u001B[0;32m----> 1\u001B[0m \u001B[43mLanguage\u001B[49m\u001B[38;5;241;43m.\u001B[39;49m\u001B[43mversion\u001B[49m\u001B[43m(\u001B[49m\u001B[43m)\u001B[49m\n",
      "Cell \u001B[0;32mIn[17], line 2\u001B[0m, in \u001B[0;36mfull_version\u001B[0;34m()\u001B[0m\n\u001B[1;32m      1\u001B[0m \u001B[38;5;28;01mdef\u001B[39;00m \u001B[38;5;21mfull_version\u001B[39m():\n\u001B[0;32m----> 2\u001B[0m     \u001B[38;5;28;01mreturn\u001B[39;00m \u001B[38;5;124mf\u001B[39m\u001B[38;5;124m\"\u001B[39m\u001B[38;5;132;01m{\u001B[39;00m\u001B[43mMAJOR\u001B[49m\u001B[38;5;132;01m}\u001B[39;00m\u001B[38;5;124m.\u001B[39m\u001B[38;5;132;01m{\u001B[39;00mMINOR\u001B[38;5;132;01m}\u001B[39;00m\u001B[38;5;124m.\u001B[39m\u001B[38;5;132;01m{\u001B[39;00mREVISION\u001B[38;5;132;01m}\u001B[39;00m\u001B[38;5;124m\"\u001B[39m\n",
      "\u001B[0;31mNameError\u001B[0m: name 'MAJOR' is not defined"
     ]
    }
   ],
   "execution_count": 19
  },
  {
   "metadata": {
    "ExecuteTime": {
     "end_time": "2024-05-10T12:54:54.012882Z",
     "start_time": "2024-05-10T12:54:54.010092Z"
    }
   },
   "cell_type": "code",
   "source": [
    "def full_version():\n",
    "    return f\"{MAJOR}.{MINOR}.{REVISION}\"\n",
    "\n",
    "class Language:\n",
    "    MAJOR = 3\n",
    "    MINOR = 7\n",
    "    REVISION = 4\n",
    "\n",
    "    @staticmethod\n",
    "    def version():\n",
    "        return f\"{MAJOR}.{MINOR}.{REVISION}\""
   ],
   "id": "2f5dde21eeb0178f",
   "outputs": [],
   "execution_count": 20
  },
  {
   "metadata": {
    "ExecuteTime": {
     "end_time": "2024-05-10T12:55:01.346837Z",
     "start_time": "2024-05-10T12:55:01.329811Z"
    }
   },
   "cell_type": "code",
   "source": [
    "l = Language()\n",
    "l.version()"
   ],
   "id": "1b0b51ff067dcaa4",
   "outputs": [
    {
     "ename": "NameError",
     "evalue": "name 'MAJOR' is not defined",
     "output_type": "error",
     "traceback": [
      "\u001B[0;31m---------------------------------------------------------------------------\u001B[0m",
      "\u001B[0;31mNameError\u001B[0m                                 Traceback (most recent call last)",
      "Cell \u001B[0;32mIn[21], line 2\u001B[0m\n\u001B[1;32m      1\u001B[0m l \u001B[38;5;241m=\u001B[39m Language()\n\u001B[0;32m----> 2\u001B[0m \u001B[43ml\u001B[49m\u001B[38;5;241;43m.\u001B[39;49m\u001B[43mversion\u001B[49m\u001B[43m(\u001B[49m\u001B[43m)\u001B[49m\n",
      "Cell \u001B[0;32mIn[20], line 11\u001B[0m, in \u001B[0;36mLanguage.version\u001B[0;34m()\u001B[0m\n\u001B[1;32m      9\u001B[0m \u001B[38;5;129m@staticmethod\u001B[39m\n\u001B[1;32m     10\u001B[0m \u001B[38;5;28;01mdef\u001B[39;00m \u001B[38;5;21mversion\u001B[39m():\n\u001B[0;32m---> 11\u001B[0m     \u001B[38;5;28;01mreturn\u001B[39;00m \u001B[38;5;124mf\u001B[39m\u001B[38;5;124m\"\u001B[39m\u001B[38;5;132;01m{\u001B[39;00m\u001B[43mMAJOR\u001B[49m\u001B[38;5;132;01m}\u001B[39;00m\u001B[38;5;124m.\u001B[39m\u001B[38;5;132;01m{\u001B[39;00mMINOR\u001B[38;5;132;01m}\u001B[39;00m\u001B[38;5;124m.\u001B[39m\u001B[38;5;132;01m{\u001B[39;00mREVISION\u001B[38;5;132;01m}\u001B[39;00m\u001B[38;5;124m\"\u001B[39m\n",
      "\u001B[0;31mNameError\u001B[0m: name 'MAJOR' is not defined"
     ]
    }
   ],
   "execution_count": 21
  },
  {
   "metadata": {
    "ExecuteTime": {
     "end_time": "2024-05-10T12:59:55.764869Z",
     "start_time": "2024-05-10T12:59:55.761793Z"
    }
   },
   "cell_type": "code",
   "source": [
    "MAJOR = 0\n",
    "MINOR = 0\n",
    "REVISION = 1\n",
    "\n",
    "def gen_class():\n",
    "    MAJOR = 0\n",
    "    MINOR = 4\n",
    "    REVISION = 2\n",
    "    \n",
    "    class Language:\n",
    "        MAJOR = 3\n",
    "        MINOR = 7\n",
    "        REVISION = 4\n",
    "        \n",
    "        @classmethod\n",
    "        def version(self):\n",
    "            return f\"{MAJOR}.{MINOR}.{REVISION}\"\n",
    "        \n",
    "    return Language"
   ],
   "id": "c78ee22f37325755",
   "outputs": [],
   "execution_count": 37
  },
  {
   "metadata": {
    "ExecuteTime": {
     "end_time": "2024-05-10T12:58:01.851276Z",
     "start_time": "2024-05-10T12:58:01.849108Z"
    }
   },
   "cell_type": "code",
   "source": "cls = gen_class()",
   "id": "d7d90d9eb5e71c4d",
   "outputs": [],
   "execution_count": 24
  },
  {
   "metadata": {
    "ExecuteTime": {
     "end_time": "2024-05-10T12:58:09.856754Z",
     "start_time": "2024-05-10T12:58:09.853585Z"
    }
   },
   "cell_type": "code",
   "source": "cls.version()",
   "id": "f11ddd71bf3049dc",
   "outputs": [
    {
     "data": {
      "text/plain": [
       "'0.4.2'"
      ]
     },
     "execution_count": 25,
     "metadata": {},
     "output_type": "execute_result"
    }
   ],
   "execution_count": 25
  },
  {
   "metadata": {
    "ExecuteTime": {
     "end_time": "2024-05-10T12:59:49.625777Z",
     "start_time": "2024-05-10T12:59:49.623007Z"
    }
   },
   "cell_type": "code",
   "source": [
    "MAJOR = 0\n",
    "MINOR = 0\n",
    "REVISION = 1\n",
    "\n",
    "def gen_class():\n",
    "    \n",
    "    class Language:\n",
    "        MAJOR = 3\n",
    "        MINOR = 7\n",
    "        REVISION = 4\n",
    "        \n",
    "        @classmethod\n",
    "        def version(self):\n",
    "            return f\"{MAJOR}.{MINOR}.{REVISION}\"\n",
    "        \n",
    "    return Language"
   ],
   "id": "1097aef60b30154",
   "outputs": [],
   "execution_count": 33
  },
  {
   "metadata": {
    "ExecuteTime": {
     "end_time": "2024-05-10T12:59:57.995067Z",
     "start_time": "2024-05-10T12:59:57.991228Z"
    }
   },
   "cell_type": "code",
   "source": [
    "cls = gen_class()\n",
    "cls.version()"
   ],
   "id": "e9c5a61c4f4ddeee",
   "outputs": [
    {
     "data": {
      "text/plain": [
       "'0.4.2'"
      ]
     },
     "execution_count": 38,
     "metadata": {},
     "output_type": "execute_result"
    }
   ],
   "execution_count": 38
  },
  {
   "metadata": {
    "ExecuteTime": {
     "end_time": "2024-05-10T12:59:50.113214Z",
     "start_time": "2024-05-10T12:59:50.110664Z"
    }
   },
   "cell_type": "code",
   "source": "import inspect",
   "id": "feffd2bb61b0750b",
   "outputs": [],
   "execution_count": 35
  },
  {
   "metadata": {
    "ExecuteTime": {
     "end_time": "2024-05-10T13:00:02.698753Z",
     "start_time": "2024-05-10T13:00:02.695372Z"
    }
   },
   "cell_type": "code",
   "source": "inspect.getclosurevars(cls.version)",
   "id": "84112f0cce3fe722",
   "outputs": [
    {
     "data": {
      "text/plain": [
       "ClosureVars(nonlocals={'MAJOR': 0, 'MINOR': 4, 'REVISION': 2}, globals={}, builtins={}, unbound=set())"
      ]
     },
     "execution_count": 39,
     "metadata": {},
     "output_type": "execute_result"
    }
   ],
   "execution_count": 39
  },
  {
   "metadata": {
    "ExecuteTime": {
     "end_time": "2024-05-10T13:08:57.747378Z",
     "start_time": "2024-05-10T13:08:57.744576Z"
    }
   },
   "cell_type": "code",
   "source": [
    "name = \"Guido\"\n",
    "\n",
    "class MyClass:\n",
    "    name = \"Raymond\"\n",
    "    list_1 = [name] * 3\n",
    "    list_2 = [name for i in range(3)]\n",
    "    \n",
    "    @classmethod\n",
    "    def hello(cls):\n",
    "        return (f\"{name} says hello!\")\n",
    "    "
   ],
   "id": "9bb6083928fa477d",
   "outputs": [],
   "execution_count": 44
  },
  {
   "metadata": {
    "ExecuteTime": {
     "end_time": "2024-05-10T13:08:59.738606Z",
     "start_time": "2024-05-10T13:08:59.735566Z"
    }
   },
   "cell_type": "code",
   "source": "MyClass.hello()",
   "id": "9c7064816ffd53bf",
   "outputs": [
    {
     "data": {
      "text/plain": [
       "'Guido says hello!'"
      ]
     },
     "execution_count": 45,
     "metadata": {},
     "output_type": "execute_result"
    }
   ],
   "execution_count": 45
  },
  {
   "metadata": {
    "ExecuteTime": {
     "end_time": "2024-05-10T13:10:15.197103Z",
     "start_time": "2024-05-10T13:10:15.193612Z"
    }
   },
   "cell_type": "code",
   "source": "MyClass.list_1",
   "id": "9df530d6820671be",
   "outputs": [
    {
     "data": {
      "text/plain": [
       "['Raymond', 'Raymond', 'Raymond']"
      ]
     },
     "execution_count": 46,
     "metadata": {},
     "output_type": "execute_result"
    }
   ],
   "execution_count": 46
  },
  {
   "metadata": {
    "ExecuteTime": {
     "end_time": "2024-05-10T13:10:19.120295Z",
     "start_time": "2024-05-10T13:10:19.117556Z"
    }
   },
   "cell_type": "code",
   "source": "MyClass.list_2",
   "id": "b1053c68712d9ec2",
   "outputs": [
    {
     "data": {
      "text/plain": [
       "['Guido', 'Guido', 'Guido']"
      ]
     },
     "execution_count": 47,
     "metadata": {},
     "output_type": "execute_result"
    }
   ],
   "execution_count": 47
  },
  {
   "metadata": {},
   "cell_type": "code",
   "outputs": [],
   "execution_count": null,
   "source": "",
   "id": "8494a39fcf70d518"
  }
 ],
 "metadata": {
  "kernelspec": {
   "display_name": "Python 3",
   "language": "python",
   "name": "python3"
  },
  "language_info": {
   "codemirror_mode": {
    "name": "ipython",
    "version": 2
   },
   "file_extension": ".py",
   "mimetype": "text/x-python",
   "name": "python",
   "nbconvert_exporter": "python",
   "pygments_lexer": "ipython2",
   "version": "2.7.6"
  }
 },
 "nbformat": 4,
 "nbformat_minor": 5
}
