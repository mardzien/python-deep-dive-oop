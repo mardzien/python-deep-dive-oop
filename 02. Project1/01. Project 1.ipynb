{
 "cells": [
  {
   "cell_type": "markdown",
   "metadata": {},
   "source": [
    "### Project 1"
   ]
  },
  {
   "cell_type": "markdown",
   "metadata": {},
   "source": [
    "We need to design an dimplement a class that will be used to represent bank accounts.\n",
    "\n",
    "We want the following functionality and characteristics:\n",
    "- accounts are uniquely identified by an **account number** (assume it will just be passed in the initializer)\n",
    "- account holders have a **first** and **last** name\n",
    "- accounts have an associated **preferred time zone offset** (e.g. -7 for MST)\n",
    "- **balances** need to be zero or higher, and should not be directly settable.\n",
    "- but, **deposits** and **withdrawals** can be made (given sufficient funds)\n",
    "    - if a withdrawal is attempted that would result in nagative funds, the transaction should be declined.\n",
    "- a **monthly interest rate** exists and is applicable to all accounts **uniformly**. There should be a method that can be called to calculate the interest on the current balance using the current interest rate, and **add it** to the balance.\n",
    "- each deposit and withdrawal must generate a **confirmation number** composed of:\n",
    "    - the transaction type: `D` for deposit, and `W` for withdrawal, `I` for interest deposit, and `X` for declined (in which case the balance remains unaffected)\n",
    "    - the account number\n",
    "    - the time the transaction was made, using UTC\n",
    "    - an incrementing number (that increments across all accounts and transactions)\n",
    "    - for (extreme!) simplicity assume that the transaction id starts at zero (or whatever number you choose) whenever the program starts\n",
    "    - the confirmation number should be returned from any of the transaction methods (deposit, withdraw, etc)\n",
    "- create a **method** that, given a confirmation number, returns:\n",
    "    - the account number, transaction code (D, W, etc), datetime (UTC format), date time (in whatever timezone is specified in te argument, but more human readable), the transaction ID\n",
    "    - make it so it is a nicely structured object (so can use dotted notation to access these three attributes)\n",
    "    - I purposefully made it so the desired timezone is passed as an argument. Can you figure out why? (hint: does this method require any information from any instance?)"
   ]
  },
  {
   "cell_type": "markdown",
   "metadata": {},
   "source": [
    "For example, we may have an account with:\n",
    "- account number `140568` \n",
    "- preferred time zone offset of -7 (MST) \n",
    "- an existing balance of `100.00`\n",
    "\n",
    "Suppose the last transaction ID in the system was `123`, and a deposit is made for `50.00` on `2019-03-15T14:59:00` (UTC) on that account (or `2019-03-15T07:59:00` in account's preferred time zone offset)\n",
    "\n",
    "The new balance should reflect `150.00` and the confirmation number returned should look something like this:\n",
    "\n",
    "```D-140568-20190315145900-124```\n",
    "\n",
    "We also want a method that given the confirmation number returns an object with attributes:\n",
    "- `result.account_number` --> `140568`\n",
    "- `result.transaction_code` --> `D`\n",
    "- `result.transaction_id` --> `124`\n",
    "- `result.time` --> `2019-03-15 07:59:00 (MST)`\n",
    "- `result.time_utc` --> `2019-03-15T14:59:00`"
   ]
  },
  {
   "cell_type": "markdown",
   "metadata": {},
   "source": [
    "Furthermore, if current interest rate is `0.5%`, and the account's balance is `1000.00`, then the result of calling the `deposit_interest` (or whatever name you choose) method, should result in a new transaction and a new balance of `1050.00`. Calling this method should also return a confirmation number.\n",
    "\n",
    "For simplicty, just use floats, but be aware that for these types of situations you'll probably want to use `Decimal` objects instead of floats."
   ]
  },
  {
   "cell_type": "markdown",
   "metadata": {},
   "source": [
    "There are going to be many ways to design something like this, especially since I have not nailed down all the specific requirements, so you'll have to fill the gaps yourself and decide what other things you may want to implement (like is the account number going to be a mutable property, or \"read-only\" and so on).\n",
    "\n",
    "See how many different ideas you can use from what we covered in the last section. "
   ]
  },
  {
   "cell_type": "markdown",
   "metadata": {},
   "source": [
    "My approach will end up creating two classes: a `TimeZone` class used to store the time zone name and offset definition (in hours and minutes), and a main class called `Account` that will have the following \"public\" interface:\n",
    "- initializer with account number, first name, last name, optional preferred time zone, starting balance (defaults to 0)\n",
    "- a first name property (read/write)\n",
    "- a last name property (read/write)\n",
    "- a full name property (computed, read-only)\n",
    "- a balance property (read-only)\n",
    "- an interest rate property (class level property)\n",
    "- deposit, withdraw, pay_interest methods\n",
    "- parse confirmation code\n",
    "\n",
    "Class will have additional state and methods, but those will be used for implementation."
   ]
  },
  {
   "cell_type": "markdown",
   "metadata": {},
   "source": [
    "You should also remember to test your code! In the solutions I will introduce you to Python's `unittest` package. Even if you skip this project, at least review that video and/or notebook if you are unfamiliar with `unittest`."
   ]
  },
  {
   "metadata": {
    "ExecuteTime": {
     "end_time": "2024-05-13T19:11:18.090034Z",
     "start_time": "2024-05-13T19:11:18.086546Z"
    }
   },
   "cell_type": "code",
   "source": [
    "from collections import namedtuple\n",
    "from datetime import datetime, timedelta\n",
    "import itertools\n",
    "import numbers"
   ],
   "outputs": [],
   "execution_count": 1
  },
  {
   "metadata": {
    "ExecuteTime": {
     "end_time": "2024-05-13T19:11:18.111221Z",
     "start_time": "2024-05-13T19:11:18.103881Z"
    }
   },
   "cell_type": "code",
   "source": [
    "class TimeZone:\n",
    "    def __init__(self, name, offset_hours, offset_minutes):\n",
    "        if name is None or len(str(name).strip()) == 0:\n",
    "            raise ValueError(\"Timezone name cannot be empty\")\n",
    "        self._name = str(name).strip()\n",
    "        \n",
    "        if not isinstance(offset_hours, numbers.Integral):\n",
    "            raise ValueError(f\"Hour offset must be an integer, got {type(offset_hours).__name__} type.\")\n",
    "        \n",
    "        if not isinstance(offset_minutes, numbers.Integral):\n",
    "            raise ValueError(f\"Minutes offset must be an integer, got {type(offset_minutes).__name__} type.\")\n",
    "        \n",
    "        if abs(offset_minutes) > 59:\n",
    "            raise ValueError(\"Minutes offset must be between -59 and 59 inclusive.\")\n",
    "        \n",
    "        total_offset = timedelta(hours=offset_hours, minutes=offset_minutes)\n",
    "        if not timedelta(hours=-12) <= total_offset <= timedelta(hours=14):\n",
    "            raise ValueError(\"Offset must be between -12 and 14.\")\n",
    "        \n",
    "        self._offset_hours = offset_hours\n",
    "        self._offset_minutes = offset_minutes\n",
    "        self._total_offset = total_offset\n",
    "        \n",
    "    @property\n",
    "    def total_offset(self):\n",
    "        return self._total_offset\n",
    "    \n",
    "    @property\n",
    "    def name(self):\n",
    "        return self._name\n",
    "    \n",
    "    def __eq__(self, other):\n",
    "        return (isinstance(other, TimeZone) and \n",
    "                self._name == other._name and\n",
    "                self._offset_hours == other._offset_hours and\n",
    "                self._offset_minutes == other._offset_minutes)\n",
    "    \n",
    "    def __repr__(self):\n",
    "        return (f\"Timezone(name='{self._name}', \"\n",
    "                f\"offset_hours={self._offset_hours}, \"\n",
    "                f\"offset_minutes={self._offset_minutes})\")"
   ],
   "outputs": [],
   "execution_count": 2
  },
  {
   "metadata": {
    "ExecuteTime": {
     "end_time": "2024-05-13T19:11:18.114973Z",
     "start_time": "2024-05-13T19:11:18.112622Z"
    }
   },
   "cell_type": "code",
   "source": "Confirmation = namedtuple(\"Confirmation\", \"account_number transaction_code transaction_id time_utc time\")",
   "outputs": [],
   "execution_count": 3
  },
  {
   "metadata": {
    "ExecuteTime": {
     "end_time": "2024-05-13T20:09:49.104385Z",
     "start_time": "2024-05-13T20:09:49.088257Z"
    }
   },
   "cell_type": "code",
   "source": [
    "class Account:\n",
    "    transaction_counter = itertools.count(100)\n",
    "    _interest_rate = 0.5\n",
    "    \n",
    "    _transaction_codes = {\n",
    "        \"deposit\": \"D\",\n",
    "        \"withdraw\": \"W\",\n",
    "        \"interest\": \"I\",\n",
    "        \"rejected\": \"X\"\n",
    "    }\n",
    "    \n",
    "    def __init__(self, account_number, first_name, last_name,\n",
    "                 timezone=None, initial_balance=0):\n",
    "        self._account_number = account_number\n",
    "        self.first_name = first_name\n",
    "        self.last_name = last_name\n",
    "        \n",
    "        if timezone is None:\n",
    "            timezone = TimeZone(\"UTC\", 0, 0)\n",
    "        self.timezone = timezone\n",
    "        \n",
    "        self._balance = Account.validate_real_number(initial_balance, min_value=0)\n",
    "        \n",
    "    @property\n",
    "    def account_number(self):\n",
    "        return self._account_number\n",
    "    \n",
    "    @property\n",
    "    def first_name(self):\n",
    "        return self._first_name\n",
    "    \n",
    "    @first_name.setter\n",
    "    def first_name(self, value):\n",
    "        self.validate_and_set_name(\"_first_name\", value, \"First name\")\n",
    "\n",
    "    @property\n",
    "    def last_name(self):\n",
    "        return self._last_name\n",
    "    \n",
    "    @property\n",
    "    def balance(self):\n",
    "        return self._balance\n",
    "    \n",
    "    @last_name.setter\n",
    "    def last_name(self, value):\n",
    "        self.validate_and_set_name(\"_last_name\", value, \"Last name\")\n",
    "        \n",
    "    @property\n",
    "    def timezone(self):\n",
    "        return self._timezone\n",
    "    \n",
    "    @timezone.setter\n",
    "    def timezone(self, value):\n",
    "        if not isinstance(value, TimeZone):\n",
    "            raise ValueError(f\"Timezone must be a valid TimeZone object, got {type(value).__name__} type.\")\n",
    "        self._timezone = value\n",
    "        \n",
    "    @classmethod\n",
    "    def get_interest_rate(cls):\n",
    "        return cls._interest_rate\n",
    "    \n",
    "    @classmethod\n",
    "    def set_interest_rate(cls, value):\n",
    "        if not isinstance(value, numbers.Real):\n",
    "            raise ValueError(f\"Interest rate must be a real number, got {type(value).__name__} type.\")\n",
    "        if value < 0:\n",
    "            raise ValueError(\"Interest rate cannot be negative.\")\n",
    "        cls._interest_rate = value\n",
    "        \n",
    "    @staticmethod\n",
    "    def validate_real_number(value, min_value=None):\n",
    "        if not isinstance(value, numbers.Real):\n",
    "            raise ValueError(f\"Value must be a real number, got {type(value).__name__} type.\")\n",
    "        if min_value is not None and value < min_value:\n",
    "            raise ValueError(f\"Value must be at least {min_value}.\")\n",
    "        return value\n",
    "     \n",
    "    def generate_confirmation_code(self, transaction_code):\n",
    "        dt_str = datetime.now().strftime(\"%Y%m%d%H%M%S\")\n",
    "        return f\"{transaction_code}-{self.account_number}-{dt_str}-{next(Account.transaction_counter)}\"\n",
    "    \n",
    "    def validate_and_set_name(self, attr_name, value, field_title):\n",
    "        if value is None or len(str(value).strip()) == 0:\n",
    "            raise ValueError(f\"{field_title} cannot be empty.\")\n",
    "        setattr(self, attr_name, str(value).strip())\n",
    "        \n",
    "    def make_transaction(self):\n",
    "        return self.generate_confirmation_code(\"dummy\")\n",
    "    \n",
    "    @staticmethod\n",
    "    def parse_confirmation_code(confirmation_code, preferred_time_zone = None):\n",
    "        parts = confirmation_code.split(\"-\")\n",
    "        if len(parts) != 4:\n",
    "            raise ValueError(f\"Invalid confirmation code.\")\n",
    "        \n",
    "        transaction_code, account_number, raw_dt_utc, transaction_id = parts\n",
    "        \n",
    "        try:\n",
    "            dt_utc = datetime.strptime(raw_dt_utc, \"%Y%m%d%H%M%S\")\n",
    "        except ValueError as e:\n",
    "            raise ValueError(f\"Invalid transaction datetime.\") from e\n",
    "        \n",
    "        if preferred_time_zone is None:\n",
    "            preferred_time_zone = TimeZone(\"UTC\", 0, 0)\n",
    "            \n",
    "        if not isinstance(preferred_time_zone, TimeZone):\n",
    "            raise ValueError(f\"Invalid TimeZone specified, got {type(preferred_time_zone).__name__} type.\")\n",
    "\n",
    "        dt_preferred = dt_utc + preferred_time_zone.total_offset\n",
    "        dt_preferred_str = f\"{dt_preferred.strftime('%Y-%m-%d %H:%M:%S')} ({preferred_time_zone.name})\"\n",
    "        \n",
    "        return Confirmation(account_number, transaction_code, transaction_id, dt_utc.isoformat(), dt_preferred_str)\n",
    "    \n",
    "    def deposit(self, value):\n",
    "        value = Account.validate_real_number(value, 0.01)\n",
    "        \n",
    "        transaction_code = Account._transaction_codes[\"deposit\"]\n",
    "        \n",
    "        conf_code = self.generate_confirmation_code(transaction_code)\n",
    "        self._balance += value\n",
    "        return conf_code\n",
    "    \n",
    "    def withdraw(self, value):\n",
    "        value = Account.validate_real_number(value, 0.01)\n",
    "\n",
    "        accepted = False\n",
    "        if self._balance - value < 0:\n",
    "            transaction_code = Account._transaction_codes[\"rejected\"]\n",
    "        else:\n",
    "            accepted = True\n",
    "            transaction_code = Account._transaction_codes[\"withdraw\"]\n",
    "        \n",
    "        conf_code = self.generate_confirmation_code(transaction_code)\n",
    "        if accepted:\n",
    "            self._balance -= value\n",
    "\n",
    "        return conf_code\n",
    "    \n",
    "    def pay_interest(self):\n",
    "        interest = self.balance * Account.get_interest_rate() / 100\n",
    "        conf_code = self.generate_confirmation_code(Account._transaction_codes[\"interest\"])\n",
    "        self._balance += interest\n",
    "        return conf_code"
   ],
   "outputs": [],
   "execution_count": 46
  },
  {
   "metadata": {
    "ExecuteTime": {
     "end_time": "2024-05-13T19:15:03.974457Z",
     "start_time": "2024-05-13T19:15:03.971999Z"
    }
   },
   "cell_type": "code",
   "source": "a = Account(\"A100\", \"Eric\", \"Idle\", timezone=TimeZone(\"MST\", -7, 0), initial_balance=100)",
   "outputs": [],
   "execution_count": 13
  },
  {
   "metadata": {
    "ExecuteTime": {
     "end_time": "2024-05-13T19:15:04.154034Z",
     "start_time": "2024-05-13T19:15:04.149802Z"
    }
   },
   "cell_type": "code",
   "source": [
    "print(a.balance)\n",
    "print(a.deposit(150.02))\n",
    "print(a.balance)\n",
    "print(a.withdraw(0.02))\n",
    "print(a.balance)\n",
    "Account.set_interest_rate(1.0)\n",
    "print(a.get_interest_rate())\n",
    "print(a.pay_interest())\n",
    "print(a.balance)\n",
    "print(a.withdraw(1000))"
   ],
   "outputs": [
    {
     "name": "stdout",
     "output_type": "stream",
     "text": [
      "100.0\n",
      "D-A100-20240513211504-104\n",
      "250.02\n",
      "W-A100-20240513211504-105\n",
      "250.0\n",
      "1.0\n",
      "I-A100-20240513211504-106\n",
      "252.5\n",
      "X-A100-20240513211504-107\n"
     ]
    }
   ],
   "execution_count": 14
  },
  {
   "metadata": {
    "ExecuteTime": {
     "end_time": "2024-05-13T19:34:05.778039Z",
     "start_time": "2024-05-13T19:34:05.762213Z"
    }
   },
   "cell_type": "code",
   "source": "import unittest",
   "outputs": [],
   "execution_count": 15
  },
  {
   "metadata": {
    "ExecuteTime": {
     "end_time": "2024-05-13T19:35:46.158555Z",
     "start_time": "2024-05-13T19:35:46.156102Z"
    }
   },
   "cell_type": "code",
   "source": [
    "def run_tests(test_class):\n",
    "    suite = unittest.TestLoader().loadTestsFromTestCase(test_class)\n",
    "    runner = unittest.TextTestRunner(verbosity=2)\n",
    "    runner.run(suite)"
   ],
   "outputs": [],
   "execution_count": 19
  },
  {
   "metadata": {
    "ExecuteTime": {
     "end_time": "2024-05-13T19:42:06.724689Z",
     "start_time": "2024-05-13T19:42:06.721683Z"
    }
   },
   "cell_type": "code",
   "source": [
    "class TestAccount(unittest.TestCase):\n",
    "    def setUp(self):\n",
    "        print(\"Running setup...\")\n",
    "        self.x = 100\n",
    "    \n",
    "    def tearDown(self):\n",
    "        print(\"Running teardown...\")\n",
    "    \n",
    "    def test_ok(self):\n",
    "        self.x = 200\n",
    "        self.assertEqual(200, self.x)\n",
    "        \n",
    "    def test_2(self):\n",
    "        self.assertEqual(140, self.x)"
   ],
   "outputs": [],
   "execution_count": 28
  },
  {
   "metadata": {
    "ExecuteTime": {
     "end_time": "2024-05-13T19:42:07.386541Z",
     "start_time": "2024-05-13T19:42:07.380853Z"
    }
   },
   "cell_type": "code",
   "source": "run_tests(TestAccount)",
   "outputs": [
    {
     "name": "stderr",
     "output_type": "stream",
     "text": [
      "test_2 (__main__.TestAccount.test_2) ... FAIL\n",
      "test_ok (__main__.TestAccount.test_ok) ... ok\n",
      "\n",
      "======================================================================\n",
      "FAIL: test_2 (__main__.TestAccount.test_2)\n",
      "----------------------------------------------------------------------\n",
      "Traceback (most recent call last):\n",
      "  File \"/tmp/ipykernel_13720/4199318728.py\", line 14, in test_2\n",
      "    self.assertEqual(140, self.x)\n",
      "AssertionError: 140 != 100\n",
      "\n",
      "----------------------------------------------------------------------\n",
      "Ran 2 tests in 0.002s\n",
      "\n",
      "FAILED (failures=1)\n"
     ]
    },
    {
     "name": "stdout",
     "output_type": "stream",
     "text": [
      "Running setup...\n",
      "Running teardown...\n",
      "Running setup...\n",
      "Running teardown...\n"
     ]
    }
   ],
   "execution_count": 29
  },
  {
   "metadata": {
    "ExecuteTime": {
     "end_time": "2024-05-13T20:20:44.311847Z",
     "start_time": "2024-05-13T20:20:44.305498Z"
    }
   },
   "cell_type": "code",
   "source": [
    "class TestAccount(unittest.TestCase):\n",
    "    \n",
    "    def setUp(self):\n",
    "        self.account_number = \"A100\"\n",
    "        self.first_name = \"FIRST\"\n",
    "        self.last_name = \"LAST\"\n",
    "        self.tz = TimeZone(\"TZ\", 1, 30)\n",
    "        self.balance = 100.00\n",
    "        \n",
    "    def create_account(self):\n",
    "        return Account(self.account_number, self.first_name, self.last_name, self.tz, self.balance)\n",
    "    \n",
    "    def test_create_timezone(self):\n",
    "        tz = TimeZone(\"ABC\", -1, -30)\n",
    "        self.assertEqual(\"ABC\", tz.name)\n",
    "        self.assertEqual(timedelta(hours=-1, minutes=-30), tz.total_offset)\n",
    "        \n",
    "    def test_timezones_equal(self):\n",
    "        tz1 = TimeZone(\"ABC\", -1, -30)\n",
    "        tz2 = TimeZone(\"ABC\", -1, -30)\n",
    "        self.assertEqual(tz1, tz2)\n",
    "        \n",
    "    def test_timezones_not_equal(self):\n",
    "        tz = TimeZone(\"ABC\", -1, -30)\n",
    "        test_timezones = (\n",
    "            TimeZone(\"DEF\", -1, -30),\n",
    "            TimeZone(\"ABC\", -1, 0),\n",
    "            TimeZone(\"ABC\", 10, -30),\n",
    "        )\n",
    "        \n",
    "        for i, test_tz in enumerate(test_timezones):\n",
    "            with self.subTest(test_number=f\"Test # {i}\"):\n",
    "                self.assertNotEqual(test_tz, tz)\n",
    "                \n",
    "    def test_create_account(self):\n",
    "        a = self.create_account()\n",
    "        \n",
    "        self.assertEqual(self.account_number, a.account_number)\n",
    "        self.assertEqual(self.first_name, a.first_name)\n",
    "        self.assertEqual(self.last_name, a.last_name)\n",
    "        self.assertEqual(self.tz, a.timezone)\n",
    "        self.assertEqual(self.balance, a.balance)\n",
    "        \n",
    "    def test_create_blank_first_name(self):\n",
    "        self.first_name = \"\"\n",
    "        \n",
    "        with self.assertRaises(ValueError):\n",
    "            a = self.create_account()\n",
    "            \n",
    "    def test_create_account_negative_balance(self):\n",
    "        self.balance = -1000\n",
    "        \n",
    "        with self.assertRaises(ValueError):\n",
    "            a = self.create_account()\n",
    "            \n",
    "    def test_account_withdraw_ok(self):\n",
    "        withdraw_amount = 20\n",
    "        a = self.create_account()\n",
    "        conf_code = a.withdraw(withdraw_amount)\n",
    "        self.assertTrue(conf_code.startswith(\"W-\"))\n",
    "        self.assertEqual(self.balance - withdraw_amount, a.balance)\n",
    "        \n",
    "        \n",
    "    def test_account_withdraw_overdraw(self):\n",
    "        withdraw_amount = 200\n",
    "        a = self.create_account()\n",
    "        conf_code = a.withdraw(withdraw_amount)\n",
    "        self.assertTrue(conf_code.startswith(\"X-\"))\n",
    "        self.assertEqual(self.balance, a.balance)"
   ],
   "outputs": [],
   "execution_count": 57
  },
  {
   "metadata": {
    "ExecuteTime": {
     "end_time": "2024-05-13T20:20:44.998165Z",
     "start_time": "2024-05-13T20:20:44.988917Z"
    }
   },
   "cell_type": "code",
   "source": "run_tests(TestAccount)",
   "outputs": [
    {
     "name": "stderr",
     "output_type": "stream",
     "text": [
      "test_account_withdraw_ok (__main__.TestAccount.test_account_withdraw_ok) ... ok\n",
      "test_account_withdraw_overdraw (__main__.TestAccount.test_account_withdraw_overdraw) ... ok\n",
      "test_create_account (__main__.TestAccount.test_create_account) ... ok\n",
      "test_create_account_negative_balance (__main__.TestAccount.test_create_account_negative_balance) ... ok\n",
      "test_create_blank_first_name (__main__.TestAccount.test_create_blank_first_name) ... ok\n",
      "test_create_timezone (__main__.TestAccount.test_create_timezone) ... ok\n",
      "test_timezones_equal (__main__.TestAccount.test_timezones_equal) ... ok\n",
      "test_timezones_not_equal (__main__.TestAccount.test_timezones_not_equal) ... ok\n",
      "\n",
      "----------------------------------------------------------------------\n",
      "Ran 8 tests in 0.007s\n",
      "\n",
      "OK\n"
     ]
    }
   ],
   "execution_count": 58
  },
  {
   "metadata": {},
   "cell_type": "code",
   "outputs": [],
   "execution_count": null,
   "source": ""
  }
 ],
 "metadata": {
  "kernelspec": {
   "display_name": "Python 3",
   "language": "python",
   "name": "python3"
  },
  "language_info": {
   "codemirror_mode": {
    "name": "ipython",
    "version": 3
   },
   "file_extension": ".py",
   "mimetype": "text/x-python",
   "name": "python",
   "nbconvert_exporter": "python",
   "pygments_lexer": "ipython3",
   "version": "3.6.7"
  }
 },
 "nbformat": 4,
 "nbformat_minor": 2
}
