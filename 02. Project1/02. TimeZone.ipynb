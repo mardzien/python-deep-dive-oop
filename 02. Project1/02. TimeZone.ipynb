{
 "cells": [
  {
   "cell_type": "code",
   "id": "initial_id",
   "metadata": {
    "collapsed": true,
    "ExecuteTime": {
     "end_time": "2024-05-11T17:13:46.923939Z",
     "start_time": "2024-05-11T17:13:46.921279Z"
    }
   },
   "source": [
    "import numbers\n",
    "from datetime import datetime, timedelta"
   ],
   "outputs": [],
   "execution_count": 1
  },
  {
   "metadata": {
    "ExecuteTime": {
     "end_time": "2024-05-11T17:13:47.923675Z",
     "start_time": "2024-05-11T17:13:47.918562Z"
    }
   },
   "cell_type": "code",
   "source": [
    "class TimeZone:\n",
    "    def __init__(self, name, offset_hours, offset_minutes):\n",
    "        if name is None or len(str(name).strip()) == 0:\n",
    "            raise ValueError(\"Timezone name cannot be empty\")\n",
    "        self._name = str(name).strip()\n",
    "        \n",
    "        if not isinstance(offset_hours, numbers.Integral):\n",
    "            raise ValueError(f\"Hour offset must be an integer, got {type(offset_hours).__name__} type.\")\n",
    "        \n",
    "        if not isinstance(offset_minutes, numbers.Integral):\n",
    "            raise ValueError(f\"Minutes offset must be an integer, got {type(offset_minutes).__name__} type.\")\n",
    "        \n",
    "        if abs(offset_minutes) > 59:\n",
    "            raise ValueError(\"Minutes offset must be between -59 and 59 inclusive.\")\n",
    "        \n",
    "        total_offset = timedelta(hours=offset_hours, minutes=offset_minutes)\n",
    "        if not timedelta(hours=-12) <= total_offset <= timedelta(hours=14):\n",
    "            raise ValueError(\"Offset must be between -12 and 14.\")\n",
    "        \n",
    "        self._offset_hours = offset_hours\n",
    "        self._offset_minutes = offset_minutes\n",
    "        self._total_offset = total_offset\n",
    "        \n",
    "    @property\n",
    "    def total_offset(self):\n",
    "        return self._total_offset\n",
    "    \n",
    "    @property\n",
    "    def name(self):\n",
    "        return self._name\n",
    "    \n",
    "    def __eq__(self, other):\n",
    "        return (isinstance(other, TimeZone) and \n",
    "                self._name == other._name and\n",
    "                self._offset_hours == other._offset_hours and\n",
    "                self._offset_minutes == other._offset_minutes)\n",
    "    \n",
    "    def __repr__(self):\n",
    "        return (f\"Timezone(name='{self._name}', \"\n",
    "                f\"offset_hours={self._offset_hours}, \"\n",
    "                f\"offset_minutes={self._offset_minutes})\")\n"
   ],
   "id": "e4320cee51d77eb6",
   "outputs": [],
   "execution_count": 2
  },
  {
   "metadata": {
    "ExecuteTime": {
     "end_time": "2024-05-11T17:14:03.630043Z",
     "start_time": "2024-05-11T17:14:03.627301Z"
    }
   },
   "cell_type": "code",
   "source": "tz1 = TimeZone(\"ABC\", -2, -15)",
   "id": "9d6ad2d2a56e590d",
   "outputs": [],
   "execution_count": 3
  },
  {
   "metadata": {
    "ExecuteTime": {
     "end_time": "2024-05-11T17:14:04.022796Z",
     "start_time": "2024-05-11T17:14:04.018132Z"
    }
   },
   "cell_type": "code",
   "source": "tz1.name",
   "id": "2a0c9b45fc7a6ba2",
   "outputs": [
    {
     "data": {
      "text/plain": [
       "'ABC'"
      ]
     },
     "execution_count": 4,
     "metadata": {},
     "output_type": "execute_result"
    }
   ],
   "execution_count": 4
  },
  {
   "metadata": {
    "ExecuteTime": {
     "end_time": "2024-05-11T17:14:10.338806Z",
     "start_time": "2024-05-11T17:14:10.335074Z"
    }
   },
   "cell_type": "code",
   "source": [
    "dt = datetime.now()\n",
    "dt"
   ],
   "id": "11b16466860e81ba",
   "outputs": [
    {
     "data": {
      "text/plain": [
       "datetime.datetime(2024, 5, 11, 19, 14, 10, 336241)"
      ]
     },
     "execution_count": 5,
     "metadata": {},
     "output_type": "execute_result"
    }
   ],
   "execution_count": 5
  },
  {
   "metadata": {
    "ExecuteTime": {
     "end_time": "2024-05-11T17:14:14.233331Z",
     "start_time": "2024-05-11T17:14:14.230841Z"
    }
   },
   "cell_type": "code",
   "source": "print(dt)",
   "id": "555c5c2a217fa1eb",
   "outputs": [
    {
     "name": "stdout",
     "output_type": "stream",
     "text": [
      "2024-05-11 19:14:10.336241\n"
     ]
    }
   ],
   "execution_count": 6
  },
  {
   "metadata": {
    "ExecuteTime": {
     "end_time": "2024-05-11T17:14:18.913824Z",
     "start_time": "2024-05-11T17:14:18.910952Z"
    }
   },
   "cell_type": "code",
   "source": "print(dt + tz1.total_offset)",
   "id": "159c5cee402d5d22",
   "outputs": [
    {
     "name": "stdout",
     "output_type": "stream",
     "text": [
      "2024-05-11 16:59:10.336241\n"
     ]
    }
   ],
   "execution_count": 7
  },
  {
   "metadata": {
    "ExecuteTime": {
     "end_time": "2024-05-11T17:14:23.395341Z",
     "start_time": "2024-05-11T17:14:23.392364Z"
    }
   },
   "cell_type": "code",
   "source": [
    "try:\n",
    "    tz = TimeZone(\"\", 0, -0)\n",
    "except ValueError as e:\n",
    "    print(e)"
   ],
   "id": "c599edbfaf7e8ac0",
   "outputs": [
    {
     "name": "stdout",
     "output_type": "stream",
     "text": [
      "Timezone name cannot be empty\n"
     ]
    }
   ],
   "execution_count": 8
  },
  {
   "metadata": {
    "ExecuteTime": {
     "end_time": "2024-05-11T17:14:29.589513Z",
     "start_time": "2024-05-11T17:14:29.586681Z"
    }
   },
   "cell_type": "code",
   "source": [
    "try:\n",
    "    tz = TimeZone(\"aa\", -14, 0)\n",
    "except ValueError as e:\n",
    "    print(e)"
   ],
   "id": "5735d8d5dadda39c",
   "outputs": [
    {
     "name": "stdout",
     "output_type": "stream",
     "text": [
      "Offset must be between -12 and 14.\n"
     ]
    }
   ],
   "execution_count": 9
  },
  {
   "metadata": {
    "ExecuteTime": {
     "end_time": "2024-05-11T17:14:35.235102Z",
     "start_time": "2024-05-11T17:14:35.232538Z"
    }
   },
   "cell_type": "code",
   "source": [
    "try:\n",
    "    tz = TimeZone(\"aa\", \"-14\", 0)\n",
    "except ValueError as e:\n",
    "    print(e)"
   ],
   "id": "99210f16fd7f0df9",
   "outputs": [
    {
     "name": "stdout",
     "output_type": "stream",
     "text": [
      "Hour offset must be an integer, got str type.\n"
     ]
    }
   ],
   "execution_count": 10
  },
  {
   "metadata": {},
   "cell_type": "code",
   "outputs": [],
   "execution_count": null,
   "source": "",
   "id": "caabecb150fee15b"
  }
 ],
 "metadata": {
  "kernelspec": {
   "display_name": "Python 3",
   "language": "python",
   "name": "python3"
  },
  "language_info": {
   "codemirror_mode": {
    "name": "ipython",
    "version": 2
   },
   "file_extension": ".py",
   "mimetype": "text/x-python",
   "name": "python",
   "nbconvert_exporter": "python",
   "pygments_lexer": "ipython2",
   "version": "2.7.6"
  }
 },
 "nbformat": 4,
 "nbformat_minor": 5
}
