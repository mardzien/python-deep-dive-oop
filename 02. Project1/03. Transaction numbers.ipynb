{
 "cells": [
  {
   "cell_type": "code",
   "id": "initial_id",
   "metadata": {
    "collapsed": true,
    "ExecuteTime": {
     "end_time": "2024-05-11T17:17:57.535813Z",
     "start_time": "2024-05-11T17:17:57.532906Z"
    }
   },
   "source": [
    "class TransactionID:\n",
    "    def __init__(self, start_id):\n",
    "        self._start_id = start_id\n",
    "        \n",
    "    def next(self):\n",
    "        self._start_id += 1\n",
    "        return self._start_id"
   ],
   "outputs": [],
   "execution_count": 1
  },
  {
   "metadata": {
    "ExecuteTime": {
     "end_time": "2024-05-11T17:25:37.013082Z",
     "start_time": "2024-05-11T17:25:37.010130Z"
    }
   },
   "cell_type": "code",
   "source": [
    "class Account:\n",
    "    transaction_counter = TransactionID(100)\n",
    "    \n",
    "    def make_transaction(self):\n",
    "        new_transaction_id = Account.transaction_counter.next()\n",
    "        return new_transaction_id"
   ],
   "id": "1538747f74ed8f79",
   "outputs": [],
   "execution_count": 2
  },
  {
   "metadata": {
    "ExecuteTime": {
     "end_time": "2024-05-11T17:25:52.815318Z",
     "start_time": "2024-05-11T17:25:52.813096Z"
    }
   },
   "cell_type": "code",
   "source": [
    "a1 = Account()\n",
    "a2 = Account()"
   ],
   "id": "e084c73de835b8c1",
   "outputs": [],
   "execution_count": 3
  },
  {
   "metadata": {
    "ExecuteTime": {
     "end_time": "2024-05-11T17:26:04.049585Z",
     "start_time": "2024-05-11T17:26:04.046393Z"
    }
   },
   "cell_type": "code",
   "source": [
    "print(a1.make_transaction())\n",
    "print(a2.make_transaction())\n",
    "print(a1.make_transaction())"
   ],
   "id": "1126355e7f552a9d",
   "outputs": [
    {
     "name": "stdout",
     "output_type": "stream",
     "text": [
      "101\n",
      "102\n",
      "103\n"
     ]
    }
   ],
   "execution_count": 4
  },
  {
   "metadata": {
    "ExecuteTime": {
     "end_time": "2024-05-11T17:26:54.541245Z",
     "start_time": "2024-05-11T17:26:54.538655Z"
    }
   },
   "cell_type": "code",
   "source": [
    "def transaction_ids(start_id):\n",
    "    while True:\n",
    "        start_id += 1\n",
    "        yield start_id"
   ],
   "id": "dd5bc14cb9bafc73",
   "outputs": [],
   "execution_count": 5
  },
  {
   "metadata": {
    "ExecuteTime": {
     "end_time": "2024-05-11T17:27:03.795337Z",
     "start_time": "2024-05-11T17:27:03.792604Z"
    }
   },
   "cell_type": "code",
   "source": "t = transaction_ids(100)",
   "id": "d3969f398879cb32",
   "outputs": [],
   "execution_count": 6
  },
  {
   "metadata": {
    "ExecuteTime": {
     "end_time": "2024-05-11T17:27:07.970697Z",
     "start_time": "2024-05-11T17:27:07.965245Z"
    }
   },
   "cell_type": "code",
   "source": "next(t)",
   "id": "1f5163f0e0a33db",
   "outputs": [
    {
     "data": {
      "text/plain": [
       "101"
      ]
     },
     "execution_count": 7,
     "metadata": {},
     "output_type": "execute_result"
    }
   ],
   "execution_count": 7
  },
  {
   "metadata": {
    "ExecuteTime": {
     "end_time": "2024-05-11T17:27:10.815201Z",
     "start_time": "2024-05-11T17:27:10.812029Z"
    }
   },
   "cell_type": "code",
   "source": "next(t)",
   "id": "5d5573aae1a5369c",
   "outputs": [
    {
     "data": {
      "text/plain": [
       "102"
      ]
     },
     "execution_count": 8,
     "metadata": {},
     "output_type": "execute_result"
    }
   ],
   "execution_count": 8
  },
  {
   "metadata": {
    "ExecuteTime": {
     "end_time": "2024-05-11T17:28:16.318190Z",
     "start_time": "2024-05-11T17:28:16.315395Z"
    }
   },
   "cell_type": "code",
   "source": [
    "class Account:\n",
    "    transaction_counter = transaction_ids(100)\n",
    "    \n",
    "    def make_transaction(self):\n",
    "        new_transaction_id = next(Account.transaction_counter)\n",
    "        return new_transaction_id"
   ],
   "id": "ab34de787f7702b5",
   "outputs": [],
   "execution_count": 12
  },
  {
   "metadata": {
    "ExecuteTime": {
     "end_time": "2024-05-11T17:28:16.798893Z",
     "start_time": "2024-05-11T17:28:16.796298Z"
    }
   },
   "cell_type": "code",
   "source": [
    "a1 = Account()\n",
    "a2 = Account()"
   ],
   "id": "b1daff2ec333508f",
   "outputs": [],
   "execution_count": 13
  },
  {
   "metadata": {
    "ExecuteTime": {
     "end_time": "2024-05-11T17:28:16.994639Z",
     "start_time": "2024-05-11T17:28:16.991300Z"
    }
   },
   "cell_type": "code",
   "source": [
    "print(a1.make_transaction())\n",
    "print(a2.make_transaction())\n",
    "print(a1.make_transaction())"
   ],
   "id": "db84556897a33e26",
   "outputs": [
    {
     "name": "stdout",
     "output_type": "stream",
     "text": [
      "101\n",
      "102\n",
      "103\n"
     ]
    }
   ],
   "execution_count": 14
  },
  {
   "metadata": {
    "ExecuteTime": {
     "end_time": "2024-05-11T17:28:52.539049Z",
     "start_time": "2024-05-11T17:28:52.536288Z"
    }
   },
   "cell_type": "code",
   "source": [
    "import itertools\n",
    "\n",
    "class Account:\n",
    "    transaction_counter = itertools.count(100)\n",
    "    \n",
    "    def make_transaction(self):\n",
    "        new_transaction_id = next(Account.transaction_counter)\n",
    "        return new_transaction_id"
   ],
   "id": "5cba166fd69f3976",
   "outputs": [],
   "execution_count": 15
  },
  {
   "metadata": {
    "ExecuteTime": {
     "end_time": "2024-05-11T17:28:58.446471Z",
     "start_time": "2024-05-11T17:28:58.444370Z"
    }
   },
   "cell_type": "code",
   "source": [
    "a1 = Account()\n",
    "a2 = Account()"
   ],
   "id": "44548fa27565a811",
   "outputs": [],
   "execution_count": 16
  },
  {
   "metadata": {
    "ExecuteTime": {
     "end_time": "2024-05-11T17:28:58.849802Z",
     "start_time": "2024-05-11T17:28:58.847223Z"
    }
   },
   "cell_type": "code",
   "source": [
    "print(a1.make_transaction())\n",
    "print(a2.make_transaction())\n",
    "print(a1.make_transaction())"
   ],
   "id": "aac7ac016b48a38f",
   "outputs": [
    {
     "name": "stdout",
     "output_type": "stream",
     "text": [
      "100\n",
      "101\n",
      "102\n"
     ]
    }
   ],
   "execution_count": 17
  },
  {
   "metadata": {},
   "cell_type": "code",
   "outputs": [],
   "execution_count": null,
   "source": "",
   "id": "9918596e6ffd0016"
  }
 ],
 "metadata": {
  "kernelspec": {
   "display_name": "Python 3",
   "language": "python",
   "name": "python3"
  },
  "language_info": {
   "codemirror_mode": {
    "name": "ipython",
    "version": 2
   },
   "file_extension": ".py",
   "mimetype": "text/x-python",
   "name": "python",
   "nbconvert_exporter": "python",
   "pygments_lexer": "ipython2",
   "version": "2.7.6"
  }
 },
 "nbformat": 4,
 "nbformat_minor": 5
}
