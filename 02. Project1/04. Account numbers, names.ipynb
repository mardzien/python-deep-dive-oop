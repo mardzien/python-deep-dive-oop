{
 "cells": [
  {
   "cell_type": "code",
   "id": "initial_id",
   "metadata": {
    "collapsed": true,
    "ExecuteTime": {
     "end_time": "2024-05-11T19:33:34.502485Z",
     "start_time": "2024-05-11T19:33:34.498519Z"
    }
   },
   "source": [
    "import itertools\n",
    "\n",
    "\n",
    "class Account:\n",
    "    transaction_counter = itertools.count(100)\n",
    "    \n",
    "    def __init__(self, account_number, first_name, last_name):\n",
    "        self._account_number = account_number\n",
    "        self.first_name = first_name\n",
    "        self.last_name = last_name\n",
    "        \n",
    "    @staticmethod\n",
    "    def validate_name(value, field_title):\n",
    "        if value is None or len(str(value).strip()) == 0:\n",
    "            raise ValueError(f\"{field_title} cannot be empty.\")\n",
    "        return str(value).strip()\n",
    "        \n",
    "    @property\n",
    "    def account_number(self):\n",
    "        return self._account_number\n",
    "    \n",
    "    @property\n",
    "    def first_name(self):\n",
    "        return self.first_name\n",
    "    \n",
    "    @first_name.setter\n",
    "    def first_name(self, value):\n",
    "        self._first_name = Account.validate_name(value, \"First name\")\n",
    "        \n",
    "    @property\n",
    "    def last_name(self):\n",
    "        return self.last_name\n",
    "    \n",
    "    @last_name.setter\n",
    "    def last_name(self, value):\n",
    "        self._last_name = Account.validate_name(value, \"Last name\")"
   ],
   "outputs": [],
   "execution_count": 6
  },
  {
   "metadata": {
    "ExecuteTime": {
     "end_time": "2024-05-11T19:33:35.261325Z",
     "start_time": "2024-05-11T19:33:35.258127Z"
    }
   },
   "cell_type": "code",
   "source": [
    "try:\n",
    "    a = Account(\"12345\", \"Smith\", \"\")\n",
    "except ValueError as e:\n",
    "    print(e)"
   ],
   "id": "a5efe3c0b61cd427",
   "outputs": [
    {
     "name": "stdout",
     "output_type": "stream",
     "text": [
      "Last name cannot be empty.\n"
     ]
    }
   ],
   "execution_count": 7
  },
  {
   "metadata": {
    "ExecuteTime": {
     "end_time": "2024-05-11T19:33:35.790371Z",
     "start_time": "2024-05-11T19:33:35.787318Z"
    }
   },
   "cell_type": "code",
   "source": [
    "try:\n",
    "    a = Account(\"12345\", \"Smith\", None)\n",
    "except ValueError as e:\n",
    "    print(e)"
   ],
   "id": "681019882fb220f3",
   "outputs": [
    {
     "name": "stdout",
     "output_type": "stream",
     "text": [
      "Last name cannot be empty.\n"
     ]
    }
   ],
   "execution_count": 8
  },
  {
   "metadata": {
    "ExecuteTime": {
     "end_time": "2024-05-11T19:33:38.846046Z",
     "start_time": "2024-05-11T19:33:38.842950Z"
    }
   },
   "cell_type": "code",
   "source": "str(None)",
   "id": "8845cd46617b2fc9",
   "outputs": [
    {
     "data": {
      "text/plain": [
       "'None'"
      ]
     },
     "execution_count": 9,
     "metadata": {},
     "output_type": "execute_result"
    }
   ],
   "execution_count": 9
  },
  {
   "metadata": {
    "ExecuteTime": {
     "end_time": "2024-05-11T19:48:00.260329Z",
     "start_time": "2024-05-11T19:48:00.255525Z"
    }
   },
   "cell_type": "code",
   "source": [
    "class Account:\n",
    "    transaction_counter = itertools.count(100)\n",
    "    \n",
    "    def __init__(self, account_number, first_name, last_name):\n",
    "        self._account_number = account_number\n",
    "        self.first_name = first_name\n",
    "        self.last_name = last_name\n",
    "        \n",
    "    @property\n",
    "    def account_number(self):\n",
    "        return self._account_number\n",
    "    \n",
    "    @property\n",
    "    def first_name(self):\n",
    "        return self._first_name\n",
    "    \n",
    "    @first_name.setter\n",
    "    def first_name(self, value):\n",
    "        self.validate_and_set_name(\"_first_name\", value, \"First name\")\n",
    "\n",
    "    @property\n",
    "    def last_name(self):\n",
    "        return self._last_name\n",
    "    \n",
    "    @last_name.setter\n",
    "    def last_name(self, value):\n",
    "        self.validate_and_set_name(\"_last_name\", value, \"Last name\")\n",
    "        \n",
    "    def validate_and_set_name(self, attr_name, value, field_title):\n",
    "        if value is None or len(str(value).strip()) == 0:\n",
    "            raise ValueError(f\"{field_title} cannot be empty.\")\n",
    "        setattr(self, attr_name, str(value).strip())"
   ],
   "id": "e3fc68a43b50eae2",
   "outputs": [],
   "execution_count": 16
  },
  {
   "metadata": {
    "ExecuteTime": {
     "end_time": "2024-05-11T19:48:00.739940Z",
     "start_time": "2024-05-11T19:48:00.737012Z"
    }
   },
   "cell_type": "code",
   "source": [
    "try:\n",
    "    a = Account(\"12345\", None, None)\n",
    "except ValueError as e:\n",
    "    print(e)"
   ],
   "id": "c63376c9d3770108",
   "outputs": [
    {
     "name": "stdout",
     "output_type": "stream",
     "text": [
      "First name cannot be empty.\n"
     ]
    }
   ],
   "execution_count": 17
  },
  {
   "metadata": {
    "ExecuteTime": {
     "end_time": "2024-05-11T19:48:01.584584Z",
     "start_time": "2024-05-11T19:48:01.581780Z"
    }
   },
   "cell_type": "code",
   "source": "a = Account(\"12345\", \"John\", \"Smith\")",
   "id": "58c8692d5757c91c",
   "outputs": [],
   "execution_count": 18
  },
  {
   "metadata": {
    "ExecuteTime": {
     "end_time": "2024-05-11T19:48:01.987211Z",
     "start_time": "2024-05-11T19:48:01.983839Z"
    }
   },
   "cell_type": "code",
   "source": "a.first_name",
   "id": "6cc2ad3ed4db089b",
   "outputs": [
    {
     "data": {
      "text/plain": [
       "'John'"
      ]
     },
     "execution_count": 19,
     "metadata": {},
     "output_type": "execute_result"
    }
   ],
   "execution_count": 19
  },
  {
   "metadata": {
    "ExecuteTime": {
     "end_time": "2024-05-11T19:49:20.967681Z",
     "start_time": "2024-05-11T19:49:20.965339Z"
    }
   },
   "cell_type": "code",
   "source": "a.first_name = \"Abc\"",
   "id": "88e0155959d63b69",
   "outputs": [],
   "execution_count": 20
  },
  {
   "metadata": {
    "ExecuteTime": {
     "end_time": "2024-05-11T19:49:25.391717Z",
     "start_time": "2024-05-11T19:49:25.388288Z"
    }
   },
   "cell_type": "code",
   "source": "a.first_name",
   "id": "2c91dc1ece86d0de",
   "outputs": [
    {
     "data": {
      "text/plain": [
       "'Abc'"
      ]
     },
     "execution_count": 21,
     "metadata": {},
     "output_type": "execute_result"
    }
   ],
   "execution_count": 21
  },
  {
   "metadata": {},
   "cell_type": "code",
   "outputs": [],
   "execution_count": null,
   "source": "",
   "id": "5ac66a3e7793a5e1"
  }
 ],
 "metadata": {
  "kernelspec": {
   "display_name": "Python 3",
   "language": "python",
   "name": "python3"
  },
  "language_info": {
   "codemirror_mode": {
    "name": "ipython",
    "version": 2
   },
   "file_extension": ".py",
   "mimetype": "text/x-python",
   "name": "python",
   "nbconvert_exporter": "python",
   "pygments_lexer": "ipython2",
   "version": "2.7.6"
  }
 },
 "nbformat": 4,
 "nbformat_minor": 5
}
