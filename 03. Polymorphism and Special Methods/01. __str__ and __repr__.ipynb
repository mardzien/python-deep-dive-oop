{
 "cells": [
  {
   "cell_type": "code",
   "id": "initial_id",
   "metadata": {
    "collapsed": true,
    "ExecuteTime": {
     "end_time": "2024-05-17T15:00:44.627469Z",
     "start_time": "2024-05-17T15:00:44.624511Z"
    }
   },
   "source": [
    "class Person:\n",
    "    def __init__(self, name, age):\n",
    "        self.name = name\n",
    "        self.age = age\n",
    "        \n",
    "    def __repr__(self):\n",
    "        return f\"Person(name={self.name}, age={self.age})\""
   ],
   "outputs": [],
   "execution_count": 1
  },
  {
   "metadata": {
    "ExecuteTime": {
     "end_time": "2024-05-17T15:00:53.802179Z",
     "start_time": "2024-05-17T15:00:53.800135Z"
    }
   },
   "cell_type": "code",
   "source": "p = Person(\"John\", 25)",
   "id": "fb0cf8b878dd9005",
   "outputs": [],
   "execution_count": 2
  },
  {
   "metadata": {
    "ExecuteTime": {
     "end_time": "2024-05-17T15:01:00.505335Z",
     "start_time": "2024-05-17T15:01:00.502745Z"
    }
   },
   "cell_type": "code",
   "source": "print(p)",
   "id": "65a243952e2e7d82",
   "outputs": [
    {
     "name": "stdout",
     "output_type": "stream",
     "text": [
      "Person(name=John, age=25)\n"
     ]
    }
   ],
   "execution_count": 3
  },
  {
   "metadata": {
    "ExecuteTime": {
     "end_time": "2024-05-17T15:01:06.186496Z",
     "start_time": "2024-05-17T15:01:06.180780Z"
    }
   },
   "cell_type": "code",
   "source": "p",
   "id": "fd7e00327962e7ac",
   "outputs": [
    {
     "data": {
      "text/plain": [
       "Person(name=John, age=25)"
      ]
     },
     "execution_count": 4,
     "metadata": {},
     "output_type": "execute_result"
    }
   ],
   "execution_count": 4
  },
  {
   "metadata": {
    "ExecuteTime": {
     "end_time": "2024-05-17T15:01:12.660330Z",
     "start_time": "2024-05-17T15:01:12.656811Z"
    }
   },
   "cell_type": "code",
   "source": "str(p)",
   "id": "5b3daa4ac40db583",
   "outputs": [
    {
     "data": {
      "text/plain": [
       "'Person(name=John, age=25)'"
      ]
     },
     "execution_count": 5,
     "metadata": {},
     "output_type": "execute_result"
    }
   ],
   "execution_count": 5
  },
  {
   "metadata": {
    "ExecuteTime": {
     "end_time": "2024-05-17T15:02:57.159786Z",
     "start_time": "2024-05-17T15:02:57.157160Z"
    }
   },
   "cell_type": "code",
   "source": [
    "class Person:\n",
    "    def __init__(self, name, age):\n",
    "        self.name = name\n",
    "        self.age = age\n",
    "        \n",
    "    def __repr__(self):\n",
    "        return f\"Person(name={self.name}, age={self.age})\"\n",
    "    \n",
    "    def __str__(self):\n",
    "        return self.name"
   ],
   "id": "d628fa97ab7ee0e",
   "outputs": [],
   "execution_count": 6
  },
  {
   "metadata": {
    "ExecuteTime": {
     "end_time": "2024-05-17T15:03:14.111464Z",
     "start_time": "2024-05-17T15:03:14.109339Z"
    }
   },
   "cell_type": "code",
   "source": "p = Person(\"Paul\", 26)",
   "id": "66dc650639081716",
   "outputs": [],
   "execution_count": 7
  },
  {
   "metadata": {
    "ExecuteTime": {
     "end_time": "2024-05-17T15:03:24.566042Z",
     "start_time": "2024-05-17T15:03:24.563692Z"
    }
   },
   "cell_type": "code",
   "source": "print(p)",
   "id": "57dc3cef398e7ca1",
   "outputs": [
    {
     "name": "stdout",
     "output_type": "stream",
     "text": [
      "Paul\n"
     ]
    }
   ],
   "execution_count": 8
  },
  {
   "metadata": {
    "ExecuteTime": {
     "end_time": "2024-05-17T15:03:26.077855Z",
     "start_time": "2024-05-17T15:03:26.074489Z"
    }
   },
   "cell_type": "code",
   "source": "p",
   "id": "9124f0239d4fa81",
   "outputs": [
    {
     "data": {
      "text/plain": [
       "Person(name=Paul, age=26)"
      ]
     },
     "execution_count": 9,
     "metadata": {},
     "output_type": "execute_result"
    }
   ],
   "execution_count": 9
  },
  {
   "metadata": {
    "ExecuteTime": {
     "end_time": "2024-05-17T15:03:33.813127Z",
     "start_time": "2024-05-17T15:03:33.810334Z"
    }
   },
   "cell_type": "code",
   "source": "str(p)",
   "id": "b186cc3e8d0f375e",
   "outputs": [
    {
     "data": {
      "text/plain": [
       "'Paul'"
      ]
     },
     "execution_count": 10,
     "metadata": {},
     "output_type": "execute_result"
    }
   ],
   "execution_count": 10
  },
  {
   "metadata": {
    "ExecuteTime": {
     "end_time": "2024-05-17T15:03:37.118661Z",
     "start_time": "2024-05-17T15:03:37.115743Z"
    }
   },
   "cell_type": "code",
   "source": "repr(p)",
   "id": "6433d8002f250e70",
   "outputs": [
    {
     "data": {
      "text/plain": [
       "'Person(name=Paul, age=26)'"
      ]
     },
     "execution_count": 11,
     "metadata": {},
     "output_type": "execute_result"
    }
   ],
   "execution_count": 11
  },
  {
   "metadata": {
    "ExecuteTime": {
     "end_time": "2024-05-17T15:04:09.256477Z",
     "start_time": "2024-05-17T15:04:09.254325Z"
    }
   },
   "cell_type": "code",
   "source": [
    "class Person:\n",
    "    pass\n",
    "\n",
    "class Point:\n",
    "    pass"
   ],
   "id": "6a72ddbb7d173fdf",
   "outputs": [],
   "execution_count": 12
  },
  {
   "metadata": {
    "ExecuteTime": {
     "end_time": "2024-05-17T15:04:19.633135Z",
     "start_time": "2024-05-17T15:04:19.631158Z"
    }
   },
   "cell_type": "code",
   "source": [
    "person = Person()\n",
    "point = Point()"
   ],
   "id": "8119d8fb5941bf2d",
   "outputs": [],
   "execution_count": 13
  },
  {
   "metadata": {
    "ExecuteTime": {
     "end_time": "2024-05-17T15:04:32.340046Z",
     "start_time": "2024-05-17T15:04:32.336715Z"
    }
   },
   "cell_type": "code",
   "source": "repr(person), repr(point)",
   "id": "619db46695d35f34",
   "outputs": [
    {
     "data": {
      "text/plain": [
       "('<__main__.Person object at 0x7ff4d4490a70>',\n",
       " '<__main__.Point object at 0x7ff4d4490aa0>')"
      ]
     },
     "execution_count": 14,
     "metadata": {},
     "output_type": "execute_result"
    }
   ],
   "execution_count": 14
  },
  {
   "metadata": {
    "ExecuteTime": {
     "end_time": "2024-05-17T15:04:35.239993Z",
     "start_time": "2024-05-17T15:04:35.237092Z"
    }
   },
   "cell_type": "code",
   "source": "str(person), str(point)",
   "id": "e0ab0f1fa85eaec9",
   "outputs": [
    {
     "data": {
      "text/plain": [
       "('<__main__.Person object at 0x7ff4d4490a70>',\n",
       " '<__main__.Point object at 0x7ff4d4490aa0>')"
      ]
     },
     "execution_count": 15,
     "metadata": {},
     "output_type": "execute_result"
    }
   ],
   "execution_count": 15
  },
  {
   "metadata": {
    "ExecuteTime": {
     "end_time": "2024-05-17T15:05:26.344908Z",
     "start_time": "2024-05-17T15:05:26.342214Z"
    }
   },
   "cell_type": "code",
   "source": [
    "class Person:\n",
    "    def __init__(self, name, age):\n",
    "        self.name = name\n",
    "        self.age = age\n",
    "    \n",
    "    def __str__(self):\n",
    "        return self.name"
   ],
   "id": "f60d900dd85c9437",
   "outputs": [],
   "execution_count": 16
  },
  {
   "metadata": {
    "ExecuteTime": {
     "end_time": "2024-05-17T15:05:35.255088Z",
     "start_time": "2024-05-17T15:05:35.253104Z"
    }
   },
   "cell_type": "code",
   "source": "person = Person(\"Python\", 25)",
   "id": "9005786f0d1acde5",
   "outputs": [],
   "execution_count": 17
  },
  {
   "metadata": {
    "ExecuteTime": {
     "end_time": "2024-05-17T15:05:40.748294Z",
     "start_time": "2024-05-17T15:05:40.745301Z"
    }
   },
   "cell_type": "code",
   "source": "repr(person)",
   "id": "33444b78df5431d4",
   "outputs": [
    {
     "data": {
      "text/plain": [
       "'<__main__.Person object at 0x7ff4d44901a0>'"
      ]
     },
     "execution_count": 18,
     "metadata": {},
     "output_type": "execute_result"
    }
   ],
   "execution_count": 18
  },
  {
   "metadata": {
    "ExecuteTime": {
     "end_time": "2024-05-17T15:05:44.987478Z",
     "start_time": "2024-05-17T15:05:44.984503Z"
    }
   },
   "cell_type": "code",
   "source": "str(person)",
   "id": "93f5010e7915c3b9",
   "outputs": [
    {
     "data": {
      "text/plain": [
       "'Python'"
      ]
     },
     "execution_count": 19,
     "metadata": {},
     "output_type": "execute_result"
    }
   ],
   "execution_count": 19
  },
  {
   "metadata": {
    "ExecuteTime": {
     "end_time": "2024-05-17T15:06:10.485177Z",
     "start_time": "2024-05-17T15:06:10.482324Z"
    }
   },
   "cell_type": "code",
   "source": "person",
   "id": "7964075881db0b0a",
   "outputs": [
    {
     "data": {
      "text/plain": [
       "<__main__.Person at 0x7ff4d44901a0>"
      ]
     },
     "execution_count": 22,
     "metadata": {},
     "output_type": "execute_result"
    }
   ],
   "execution_count": 22
  },
  {
   "metadata": {
    "ExecuteTime": {
     "end_time": "2024-05-17T15:06:28.588524Z",
     "start_time": "2024-05-17T15:06:28.585592Z"
    }
   },
   "cell_type": "code",
   "source": [
    "class Person:\n",
    "    def __init__(self, name, age):\n",
    "        self.name = name\n",
    "        self.age = age\n",
    "        \n",
    "    def __repr__(self):\n",
    "        return f\"Person(name={self.name}, age={self.age})\"\n",
    "    \n",
    "    def __str__(self):\n",
    "        return self.name"
   ],
   "id": "ddd5f8a40816327f",
   "outputs": [],
   "execution_count": 23
  },
  {
   "metadata": {
    "ExecuteTime": {
     "end_time": "2024-05-17T15:06:34.976696Z",
     "start_time": "2024-05-17T15:06:34.974511Z"
    }
   },
   "cell_type": "code",
   "source": "person = Person(\"Python\", 30)",
   "id": "de3239c4c4385b12",
   "outputs": [],
   "execution_count": 24
  },
  {
   "metadata": {
    "ExecuteTime": {
     "end_time": "2024-05-17T15:06:49.754421Z",
     "start_time": "2024-05-17T15:06:49.751751Z"
    }
   },
   "cell_type": "code",
   "source": "f\"The person is {person}\"",
   "id": "85ac345e22984bac",
   "outputs": [
    {
     "data": {
      "text/plain": [
       "'The person is Python'"
      ]
     },
     "execution_count": 25,
     "metadata": {},
     "output_type": "execute_result"
    }
   ],
   "execution_count": 25
  },
  {
   "metadata": {},
   "cell_type": "code",
   "outputs": [],
   "execution_count": null,
   "source": "",
   "id": "e42560ca737da3ae"
  }
 ],
 "metadata": {
  "kernelspec": {
   "display_name": "Python 3",
   "language": "python",
   "name": "python3"
  },
  "language_info": {
   "codemirror_mode": {
    "name": "ipython",
    "version": 2
   },
   "file_extension": ".py",
   "mimetype": "text/x-python",
   "name": "python",
   "nbconvert_exporter": "python",
   "pygments_lexer": "ipython2",
   "version": "2.7.6"
  }
 },
 "nbformat": 4,
 "nbformat_minor": 5
}
