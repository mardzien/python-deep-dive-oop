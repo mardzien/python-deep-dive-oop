{
 "cells": [
  {
   "cell_type": "code",
   "id": "initial_id",
   "metadata": {
    "collapsed": true,
    "ExecuteTime": {
     "end_time": "2024-05-17T15:13:44.948742Z",
     "start_time": "2024-05-17T15:13:44.946695Z"
    }
   },
   "source": "from numbers import Real",
   "outputs": [],
   "execution_count": 1
  },
  {
   "metadata": {
    "ExecuteTime": {
     "end_time": "2024-05-17T15:25:18.195696Z",
     "start_time": "2024-05-17T15:25:18.190408Z"
    }
   },
   "cell_type": "code",
   "source": [
    "class Vector:\n",
    "    def __init__(self, *components):\n",
    "        if len(components) < 1:\n",
    "            raise ValueError(\"Vector must have at least one component\")\n",
    "        for component in components:\n",
    "            if not isinstance(component, Real):\n",
    "                raise TypeError(f\"Vector components must be real numbers. {component} is {type(component).__name__}\")\n",
    "            self._components = tuple(components)\n",
    "            \n",
    "    def __len__(self):\n",
    "        return len(self._components)\n",
    "    \n",
    "    @property\n",
    "    def components(self):\n",
    "        return self._components\n",
    "    \n",
    "    def __repr__(self):\n",
    "        return f\"Vector{self.components}\"\n",
    "    \n",
    "    def validate_type_and_dimension(self, v):\n",
    "        return isinstance(v, Vector) and len(v) == len(self)\n",
    "    \n",
    "    def __add__(self, other):\n",
    "        if not self.validate_type_and_dimension(other):\n",
    "            return NotImplemented\n",
    "        components = (x + y for x, y in zip(self.components, other.components))\n",
    "        return Vector(*components)\n",
    "    \n",
    "    def __sub__(self, other):\n",
    "        if not self.validate_type_and_dimension(other):\n",
    "            return NotImplemented\n",
    "        components = (x - y for x, y in zip(self.components, other.components))\n",
    "        return Vector(*components)"
   ],
   "id": "59a9a87924d8f775",
   "outputs": [],
   "execution_count": 16
  },
  {
   "metadata": {
    "ExecuteTime": {
     "end_time": "2024-05-17T15:25:18.427725Z",
     "start_time": "2024-05-17T15:25:18.424978Z"
    }
   },
   "cell_type": "code",
   "source": [
    "v1 = Vector(1, 2)\n",
    "v2 = Vector(20, 30)\n",
    "v3 = Vector(1, 2, 3)"
   ],
   "id": "63fe0212733d77e8",
   "outputs": [],
   "execution_count": 17
  },
  {
   "metadata": {
    "ExecuteTime": {
     "end_time": "2024-05-17T15:25:18.747273Z",
     "start_time": "2024-05-17T15:25:18.743896Z"
    }
   },
   "cell_type": "code",
   "source": "v1 + v2",
   "id": "dc07bef12ba15b97",
   "outputs": [
    {
     "data": {
      "text/plain": [
       "Vector(21, 32)"
      ]
     },
     "execution_count": 18,
     "metadata": {},
     "output_type": "execute_result"
    }
   ],
   "execution_count": 18
  },
  {
   "metadata": {
    "ExecuteTime": {
     "end_time": "2024-05-17T15:25:25.898432Z",
     "start_time": "2024-05-17T15:25:25.895147Z"
    }
   },
   "cell_type": "code",
   "source": "v2 + v1",
   "id": "aca65b3feb5d5cdd",
   "outputs": [
    {
     "data": {
      "text/plain": [
       "Vector(21, 32)"
      ]
     },
     "execution_count": 19,
     "metadata": {},
     "output_type": "execute_result"
    }
   ],
   "execution_count": 19
  },
  {
   "metadata": {
    "ExecuteTime": {
     "end_time": "2024-05-17T15:25:32.600504Z",
     "start_time": "2024-05-17T15:25:32.588980Z"
    }
   },
   "cell_type": "code",
   "source": "v1 + v3",
   "id": "ee90e33ca6f164ff",
   "outputs": [
    {
     "ename": "TypeError",
     "evalue": "unsupported operand type(s) for +: 'Vector' and 'Vector'",
     "output_type": "error",
     "traceback": [
      "\u001B[0;31m---------------------------------------------------------------------------\u001B[0m",
      "\u001B[0;31mTypeError\u001B[0m                                 Traceback (most recent call last)",
      "Cell \u001B[0;32mIn[20], line 1\u001B[0m\n\u001B[0;32m----> 1\u001B[0m \u001B[43mv1\u001B[49m\u001B[43m \u001B[49m\u001B[38;5;241;43m+\u001B[39;49m\u001B[43m \u001B[49m\u001B[43mv3\u001B[49m\n",
      "\u001B[0;31mTypeError\u001B[0m: unsupported operand type(s) for +: 'Vector' and 'Vector'"
     ]
    }
   ],
   "execution_count": 20
  },
  {
   "metadata": {
    "ExecuteTime": {
     "end_time": "2024-05-17T15:29:02.542048Z",
     "start_time": "2024-05-17T15:29:02.529071Z"
    }
   },
   "cell_type": "code",
   "source": "v1 + 10",
   "id": "37b8f937666a3c9d",
   "outputs": [
    {
     "ename": "TypeError",
     "evalue": "unsupported operand type(s) for +: 'Vector' and 'int'",
     "output_type": "error",
     "traceback": [
      "\u001B[0;31m---------------------------------------------------------------------------\u001B[0m",
      "\u001B[0;31mTypeError\u001B[0m                                 Traceback (most recent call last)",
      "Cell \u001B[0;32mIn[21], line 1\u001B[0m\n\u001B[0;32m----> 1\u001B[0m \u001B[43mv1\u001B[49m\u001B[43m \u001B[49m\u001B[38;5;241;43m+\u001B[39;49m\u001B[43m \u001B[49m\u001B[38;5;241;43m10\u001B[39;49m\n",
      "\u001B[0;31mTypeError\u001B[0m: unsupported operand type(s) for +: 'Vector' and 'int'"
     ]
    }
   ],
   "execution_count": 21
  },
  {
   "metadata": {
    "ExecuteTime": {
     "end_time": "2024-05-17T15:30:57.436421Z",
     "start_time": "2024-05-17T15:30:57.431309Z"
    }
   },
   "cell_type": "code",
   "source": [
    "class Vector:\n",
    "    def __init__(self, *components):\n",
    "        if len(components) < 1:\n",
    "            raise ValueError(\"Vector must have at least one component\")\n",
    "        for component in components:\n",
    "            if not isinstance(component, Real):\n",
    "                raise TypeError(f\"Vector components must be real numbers. {component} is {type(component).__name__}\")\n",
    "            self._components = tuple(components)\n",
    "            \n",
    "    def __len__(self):\n",
    "        return len(self._components)\n",
    "    \n",
    "    @property\n",
    "    def components(self):\n",
    "        return self._components\n",
    "    \n",
    "    def __repr__(self):\n",
    "        return f\"Vector{self.components}\"\n",
    "    \n",
    "    def validate_type_and_dimension(self, v):\n",
    "        return isinstance(v, Vector) and len(v) == len(self)\n",
    "    \n",
    "    def __add__(self, other):\n",
    "        if not self.validate_type_and_dimension(other):\n",
    "            return NotImplemented\n",
    "        components = (x + y for x, y in zip(self.components, other.components))\n",
    "        return Vector(*components)\n",
    "    \n",
    "    def __sub__(self, other):\n",
    "        if not self.validate_type_and_dimension(other):\n",
    "            return NotImplemented\n",
    "        components = (x - y for x, y in zip(self.components, other.components))\n",
    "        return Vector(*components)\n",
    "    \n",
    "    def __mul__(self, other):\n",
    "        if not isinstance(other, Real):\n",
    "            return NotImplemented\n",
    "        components = (other * x for x in self.components)\n",
    "        return Vector(*components)"
   ],
   "id": "8298c21737c281a7",
   "outputs": [],
   "execution_count": 22
  },
  {
   "metadata": {
    "ExecuteTime": {
     "end_time": "2024-05-17T15:31:01.265956Z",
     "start_time": "2024-05-17T15:31:01.263939Z"
    }
   },
   "cell_type": "code",
   "source": "v1 = Vector(1, 2)",
   "id": "2a3f4c05d4c40f56",
   "outputs": [],
   "execution_count": 23
  },
  {
   "metadata": {
    "ExecuteTime": {
     "end_time": "2024-05-17T15:31:04.685062Z",
     "start_time": "2024-05-17T15:31:04.682307Z"
    }
   },
   "cell_type": "code",
   "source": "v1 * 10",
   "id": "67fbd5586f6abb0d",
   "outputs": [
    {
     "data": {
      "text/plain": [
       "Vector(10, 20)"
      ]
     },
     "execution_count": 24,
     "metadata": {},
     "output_type": "execute_result"
    }
   ],
   "execution_count": 24
  },
  {
   "metadata": {
    "ExecuteTime": {
     "end_time": "2024-05-17T15:31:15.105847Z",
     "start_time": "2024-05-17T15:31:15.102723Z"
    }
   },
   "cell_type": "code",
   "source": "v1.__mul__(10)",
   "id": "108bf4f4bedc7da1",
   "outputs": [
    {
     "data": {
      "text/plain": [
       "Vector(10, 20)"
      ]
     },
     "execution_count": 25,
     "metadata": {},
     "output_type": "execute_result"
    }
   ],
   "execution_count": 25
  },
  {
   "metadata": {
    "ExecuteTime": {
     "end_time": "2024-05-17T15:31:19.090593Z",
     "start_time": "2024-05-17T15:31:19.077557Z"
    }
   },
   "cell_type": "code",
   "source": "10 * v1",
   "id": "e78819cb095a31c2",
   "outputs": [
    {
     "ename": "TypeError",
     "evalue": "unsupported operand type(s) for *: 'int' and 'Vector'",
     "output_type": "error",
     "traceback": [
      "\u001B[0;31m---------------------------------------------------------------------------\u001B[0m",
      "\u001B[0;31mTypeError\u001B[0m                                 Traceback (most recent call last)",
      "Cell \u001B[0;32mIn[26], line 1\u001B[0m\n\u001B[0;32m----> 1\u001B[0m \u001B[38;5;241;43m10\u001B[39;49m\u001B[43m \u001B[49m\u001B[38;5;241;43m*\u001B[39;49m\u001B[43m \u001B[49m\u001B[43mv1\u001B[49m\n",
      "\u001B[0;31mTypeError\u001B[0m: unsupported operand type(s) for *: 'int' and 'Vector'"
     ]
    }
   ],
   "execution_count": 26
  },
  {
   "metadata": {
    "ExecuteTime": {
     "end_time": "2024-05-17T15:33:02.215136Z",
     "start_time": "2024-05-17T15:33:02.203873Z"
    }
   },
   "cell_type": "code",
   "source": "v1.__rmul__(10)",
   "id": "e5d0c83c731428f2",
   "outputs": [
    {
     "ename": "AttributeError",
     "evalue": "'Vector' object has no attribute '__rmul__'",
     "output_type": "error",
     "traceback": [
      "\u001B[0;31m---------------------------------------------------------------------------\u001B[0m",
      "\u001B[0;31mAttributeError\u001B[0m                            Traceback (most recent call last)",
      "Cell \u001B[0;32mIn[27], line 1\u001B[0m\n\u001B[0;32m----> 1\u001B[0m \u001B[43mv1\u001B[49m\u001B[38;5;241;43m.\u001B[39;49m\u001B[38;5;21;43m__rmul__\u001B[39;49m(\u001B[38;5;241m10\u001B[39m)\n",
      "\u001B[0;31mAttributeError\u001B[0m: 'Vector' object has no attribute '__rmul__'"
     ]
    }
   ],
   "execution_count": 27
  },
  {
   "metadata": {
    "ExecuteTime": {
     "end_time": "2024-05-17T15:33:15.674305Z",
     "start_time": "2024-05-17T15:33:15.662323Z"
    }
   },
   "cell_type": "code",
   "source": "v1.__lmul__(10)",
   "id": "10a4d497489857a5",
   "outputs": [
    {
     "ename": "AttributeError",
     "evalue": "'Vector' object has no attribute '__lmul__'",
     "output_type": "error",
     "traceback": [
      "\u001B[0;31m---------------------------------------------------------------------------\u001B[0m",
      "\u001B[0;31mAttributeError\u001B[0m                            Traceback (most recent call last)",
      "Cell \u001B[0;32mIn[28], line 1\u001B[0m\n\u001B[0;32m----> 1\u001B[0m \u001B[43mv1\u001B[49m\u001B[38;5;241;43m.\u001B[39;49m\u001B[43m__lmul__\u001B[49m(\u001B[38;5;241m10\u001B[39m)\n",
      "\u001B[0;31mAttributeError\u001B[0m: 'Vector' object has no attribute '__lmul__'"
     ]
    }
   ],
   "execution_count": 28
  },
  {
   "metadata": {
    "ExecuteTime": {
     "end_time": "2024-05-17T15:35:00.785907Z",
     "start_time": "2024-05-17T15:35:00.781064Z"
    }
   },
   "cell_type": "code",
   "source": [
    "class Vector:\n",
    "    def __init__(self, *components):\n",
    "        if len(components) < 1:\n",
    "            raise ValueError(\"Vector must have at least one component\")\n",
    "        for component in components:\n",
    "            if not isinstance(component, Real):\n",
    "                raise TypeError(f\"Vector components must be real numbers. {component} is {type(component).__name__}\")\n",
    "            self._components = tuple(components)\n",
    "            \n",
    "    def __len__(self):\n",
    "        return len(self._components)\n",
    "    \n",
    "    @property\n",
    "    def components(self):\n",
    "        return self._components\n",
    "    \n",
    "    def __repr__(self):\n",
    "        return f\"Vector{self.components}\"\n",
    "    \n",
    "    def validate_type_and_dimension(self, v):\n",
    "        return isinstance(v, Vector) and len(v) == len(self)\n",
    "    \n",
    "    def __add__(self, other):\n",
    "        if not self.validate_type_and_dimension(other):\n",
    "            return NotImplemented\n",
    "        components = (x + y for x, y in zip(self.components, other.components))\n",
    "        return Vector(*components)\n",
    "    \n",
    "    def __sub__(self, other):\n",
    "        if not self.validate_type_and_dimension(other):\n",
    "            return NotImplemented\n",
    "        components = (x - y for x, y in zip(self.components, other.components))\n",
    "        return Vector(*components)\n",
    "    \n",
    "    def __mul__(self, other):\n",
    "        if not isinstance(other, Real):\n",
    "            return NotImplemented\n",
    "        components = (other * x for x in self.components)\n",
    "        return Vector(*components)\n",
    "    \n",
    "    def __rmul__(self, other):\n",
    "        return self.__mul__(other)"
   ],
   "id": "23052179d4d011eb",
   "outputs": [],
   "execution_count": 29
  },
  {
   "metadata": {
    "ExecuteTime": {
     "end_time": "2024-05-17T15:35:05.496122Z",
     "start_time": "2024-05-17T15:35:05.494133Z"
    }
   },
   "cell_type": "code",
   "source": "v1 = Vector(1, 2)",
   "id": "58d32be11f014d16",
   "outputs": [],
   "execution_count": 30
  },
  {
   "metadata": {
    "ExecuteTime": {
     "end_time": "2024-05-17T15:35:12.472684Z",
     "start_time": "2024-05-17T15:35:12.469920Z"
    }
   },
   "cell_type": "code",
   "source": "v1 * 10",
   "id": "da184ed82a52c8fb",
   "outputs": [
    {
     "data": {
      "text/plain": [
       "Vector(10, 20)"
      ]
     },
     "execution_count": 31,
     "metadata": {},
     "output_type": "execute_result"
    }
   ],
   "execution_count": 31
  },
  {
   "metadata": {
    "ExecuteTime": {
     "end_time": "2024-05-17T15:35:29.894755Z",
     "start_time": "2024-05-17T15:35:29.891329Z"
    }
   },
   "cell_type": "code",
   "source": "10 * v1",
   "id": "beb16c2d01455afd",
   "outputs": [
    {
     "data": {
      "text/plain": [
       "Vector(10, 20)"
      ]
     },
     "execution_count": 33,
     "metadata": {},
     "output_type": "execute_result"
    }
   ],
   "execution_count": 33
  },
  {
   "metadata": {
    "ExecuteTime": {
     "end_time": "2024-05-17T16:11:20.972476Z",
     "start_time": "2024-05-17T16:11:20.967470Z"
    }
   },
   "cell_type": "code",
   "source": [
    "class Vector:\n",
    "    def __init__(self, *components):\n",
    "        if len(components) < 1:\n",
    "            raise ValueError(\"Vector must have at least one component\")\n",
    "        for component in components:\n",
    "            if not isinstance(component, Real):\n",
    "                raise TypeError(f\"Vector components must be real numbers. {component} is {type(component).__name__}\")\n",
    "            self._components = tuple(components)\n",
    "            \n",
    "    def __len__(self):\n",
    "        return len(self._components)\n",
    "    \n",
    "    @property\n",
    "    def components(self):\n",
    "        return self._components\n",
    "    \n",
    "    def __repr__(self):\n",
    "        return f\"Vector{self.components}\"\n",
    "    \n",
    "    def validate_type_and_dimension(self, v):\n",
    "        return isinstance(v, Vector) and len(v) == len(self)\n",
    "    \n",
    "    def __add__(self, other):\n",
    "        if not self.validate_type_and_dimension(other):\n",
    "            return NotImplemented\n",
    "        components = (x + y for x, y in zip(self.components, other.components))\n",
    "        return Vector(*components)\n",
    "    \n",
    "    def __sub__(self, other):\n",
    "        if not self.validate_type_and_dimension(other):\n",
    "            return NotImplemented\n",
    "        components = (x - y for x, y in zip(self.components, other.components))\n",
    "        return Vector(*components)\n",
    "    \n",
    "    def __mul__(self, other):\n",
    "        if isinstance(other, Real):\n",
    "            # scalar product\n",
    "            components = (other * x for x in self.components)\n",
    "            return Vector(*components)\n",
    "        if self.validate_type_and_dimension(other):\n",
    "            # dot product\n",
    "            components = (x * y for x, y in zip(self.components, other.components))\n",
    "            return sum(components)\n",
    "        return NotImplemented\n",
    "    \n",
    "    def __rmul__(self, other):\n",
    "        return self.__mul__(other)\n",
    "    \n",
    "    def __matmul__(self, other):\n",
    "        print(\"__matmul__ called.\")"
   ],
   "id": "20bd55c54f34a08a",
   "outputs": [],
   "execution_count": 39
  },
  {
   "metadata": {
    "ExecuteTime": {
     "end_time": "2024-05-17T16:11:21.235831Z",
     "start_time": "2024-05-17T16:11:21.232794Z"
    }
   },
   "cell_type": "code",
   "source": [
    "v1 = Vector(1, 2)\n",
    "v2 = Vector(3, 4)"
   ],
   "id": "6fe9af15977cb32a",
   "outputs": [],
   "execution_count": 40
  },
  {
   "metadata": {
    "ExecuteTime": {
     "end_time": "2024-05-17T16:11:21.462541Z",
     "start_time": "2024-05-17T16:11:21.458285Z"
    }
   },
   "cell_type": "code",
   "source": "v1 * v2",
   "id": "112877a38f930225",
   "outputs": [
    {
     "data": {
      "text/plain": [
       "11"
      ]
     },
     "execution_count": 41,
     "metadata": {},
     "output_type": "execute_result"
    }
   ],
   "execution_count": 41
  },
  {
   "metadata": {
    "ExecuteTime": {
     "end_time": "2024-05-17T16:11:21.705480Z",
     "start_time": "2024-05-17T16:11:21.702239Z"
    }
   },
   "cell_type": "code",
   "source": "v1 * 90",
   "id": "5e474a690787fd54",
   "outputs": [
    {
     "data": {
      "text/plain": [
       "Vector(90, 180)"
      ]
     },
     "execution_count": 42,
     "metadata": {},
     "output_type": "execute_result"
    }
   ],
   "execution_count": 42
  },
  {
   "metadata": {
    "ExecuteTime": {
     "end_time": "2024-05-17T16:11:22.304532Z",
     "start_time": "2024-05-17T16:11:22.301363Z"
    }
   },
   "cell_type": "code",
   "source": "v1 @ v2",
   "id": "e2c73b352ea0cd27",
   "outputs": [
    {
     "name": "stdout",
     "output_type": "stream",
     "text": [
      "__matmul__ called.\n"
     ]
    }
   ],
   "execution_count": 43
  },
  {
   "metadata": {},
   "cell_type": "markdown",
   "source": "## In-place operators",
   "id": "cf6819fc9945cbf0"
  },
  {
   "metadata": {
    "ExecuteTime": {
     "end_time": "2024-05-17T16:12:32.041468Z",
     "start_time": "2024-05-17T16:12:32.038695Z"
    }
   },
   "cell_type": "code",
   "source": [
    "l = [1, 2]\n",
    "print(l, id(l))\n",
    "l += [3, 4, 5]\n",
    "print(l, id(l))"
   ],
   "id": "75a58a579d5a3ce",
   "outputs": [
    {
     "name": "stdout",
     "output_type": "stream",
     "text": [
      "[1, 2] 140673120432256\n",
      "[1, 2, 3, 4, 5] 140673120432256\n"
     ]
    }
   ],
   "execution_count": 46
  },
  {
   "metadata": {
    "ExecuteTime": {
     "end_time": "2024-05-17T16:12:51.292828Z",
     "start_time": "2024-05-17T16:12:51.290143Z"
    }
   },
   "cell_type": "code",
   "source": [
    "l = [1, 2]\n",
    "print(l, id(l))\n",
    "l = l + [3, 4, 5]\n",
    "print(l, id(l))"
   ],
   "id": "3ddfa727686424b3",
   "outputs": [
    {
     "name": "stdout",
     "output_type": "stream",
     "text": [
      "[1, 2] 140673108937984\n",
      "[1, 2, 3, 4, 5] 140673120432256\n"
     ]
    }
   ],
   "execution_count": 47
  },
  {
   "metadata": {
    "ExecuteTime": {
     "end_time": "2024-05-17T16:16:50.269452Z",
     "start_time": "2024-05-17T16:16:50.264267Z"
    }
   },
   "cell_type": "code",
   "source": [
    "class Vector:\n",
    "    def __init__(self, *components):\n",
    "        if len(components) < 1:\n",
    "            raise ValueError(\"Vector must have at least one component\")\n",
    "        for component in components:\n",
    "            if not isinstance(component, Real):\n",
    "                raise TypeError(f\"Vector components must be real numbers. {component} is {type(component).__name__}\")\n",
    "            self._components = tuple(components)\n",
    "            \n",
    "    def __len__(self):\n",
    "        return len(self._components)\n",
    "    \n",
    "    @property\n",
    "    def components(self):\n",
    "        return self._components\n",
    "    \n",
    "    def __repr__(self):\n",
    "        return f\"Vector{self.components}\"\n",
    "    \n",
    "    def validate_type_and_dimension(self, v):\n",
    "        return isinstance(v, Vector) and len(v) == len(self)\n",
    "    \n",
    "    def __add__(self, other):\n",
    "        if not self.validate_type_and_dimension(other):\n",
    "            return NotImplemented\n",
    "        components = (x + y for x, y in zip(self.components, other.components))\n",
    "        return Vector(*components)\n",
    "    \n",
    "    def __sub__(self, other):\n",
    "        if not self.validate_type_and_dimension(other):\n",
    "            return NotImplemented\n",
    "        components = (x - y for x, y in zip(self.components, other.components))\n",
    "        return Vector(*components)\n",
    "    \n",
    "    def __mul__(self, other):\n",
    "        if isinstance(other, Real):\n",
    "            # scalar product\n",
    "            components = (other * x for x in self.components)\n",
    "            return Vector(*components)\n",
    "        if self.validate_type_and_dimension(other):\n",
    "            # dot product\n",
    "            components = (x * y for x, y in zip(self.components, other.components))\n",
    "            return sum(components)\n",
    "        return NotImplemented\n",
    "    \n",
    "    def __rmul__(self, other):\n",
    "        return self.__mul__(other)\n",
    "    \n",
    "    def __matmul__(self, other):\n",
    "        print(\"__matmul__ called.\")\n",
    "        \n",
    "    def __iadd__(self, other):\n",
    "        return self.__add__(other)"
   ],
   "id": "a4044c72534ef843",
   "outputs": [],
   "execution_count": 51
  },
  {
   "metadata": {
    "ExecuteTime": {
     "end_time": "2024-05-17T16:16:50.487503Z",
     "start_time": "2024-05-17T16:16:50.484352Z"
    }
   },
   "cell_type": "code",
   "source": [
    "v1 = Vector(1, 2)\n",
    "v2 = Vector(3, 4)\n",
    "print(id(v1), id(v2))\n",
    "v1 += v2\n",
    "print(v1, id(v1))"
   ],
   "id": "20c9f8dd4168bf1",
   "outputs": [
    {
     "name": "stdout",
     "output_type": "stream",
     "text": [
      "140673231113056 140673230796464\n",
      "Vector(4, 6) 140673220115248\n"
     ]
    }
   ],
   "execution_count": 52
  },
  {
   "metadata": {
    "ExecuteTime": {
     "end_time": "2024-05-17T16:16:52.162553Z",
     "start_time": "2024-05-17T16:16:52.156059Z"
    }
   },
   "cell_type": "code",
   "source": [
    "class Vector:\n",
    "    def __init__(self, *components):\n",
    "        if len(components) < 1:\n",
    "            raise ValueError(\"Vector must have at least one component\")\n",
    "        for component in components:\n",
    "            if not isinstance(component, Real):\n",
    "                raise TypeError(f\"Vector components must be real numbers. {component} is {type(component).__name__}\")\n",
    "            self._components = tuple(components)\n",
    "            \n",
    "    def __len__(self):\n",
    "        return len(self._components)\n",
    "    \n",
    "    @property\n",
    "    def components(self):\n",
    "        return self._components\n",
    "    \n",
    "    def __repr__(self):\n",
    "        return f\"Vector{self.components}\"\n",
    "    \n",
    "    def validate_type_and_dimension(self, v):\n",
    "        return isinstance(v, Vector) and len(v) == len(self)\n",
    "    \n",
    "    def __add__(self, other):\n",
    "        if not self.validate_type_and_dimension(other):\n",
    "            return NotImplemented\n",
    "        components = (x + y for x, y in zip(self.components, other.components))\n",
    "        return Vector(*components)\n",
    "    \n",
    "    def __sub__(self, other):\n",
    "        if not self.validate_type_and_dimension(other):\n",
    "            return NotImplemented\n",
    "        components = (x - y for x, y in zip(self.components, other.components))\n",
    "        return Vector(*components)\n",
    "    \n",
    "    def __mul__(self, other):\n",
    "        if isinstance(other, Real):\n",
    "            # scalar product\n",
    "            components = (other * x for x in self.components)\n",
    "            return Vector(*components)\n",
    "        if self.validate_type_and_dimension(other):\n",
    "            # dot product\n",
    "            components = (x * y for x, y in zip(self.components, other.components))\n",
    "            return sum(components)\n",
    "        return NotImplemented\n",
    "    \n",
    "    def __rmul__(self, other):\n",
    "        return self.__mul__(other)\n",
    "    \n",
    "    def __matmul__(self, other):\n",
    "        print(\"__matmul__ called.\")\n",
    "        \n",
    "    def __iadd__(self, other):\n",
    "        if self.validate_type_and_dimension(other):\n",
    "            components = (x + y for x, y in zip(self.components, other.components))\n",
    "            self._components = tuple(components)\n",
    "            return self\n",
    "        return NotImplemented"
   ],
   "id": "8b69752a898264cf",
   "outputs": [],
   "execution_count": 53
  },
  {
   "metadata": {
    "ExecuteTime": {
     "end_time": "2024-05-17T16:16:53.000381Z",
     "start_time": "2024-05-17T16:16:52.997729Z"
    }
   },
   "cell_type": "code",
   "source": [
    "v1 = Vector(1, 2)\n",
    "v2 = Vector(3, 4)\n",
    "print(id(v1), id(v2))\n",
    "v1 += v2\n",
    "print(v1, id(v1))"
   ],
   "id": "becd06705cc40bbf",
   "outputs": [
    {
     "name": "stdout",
     "output_type": "stream",
     "text": [
      "140673231125824 140673220115248\n",
      "Vector(4, 6) 140673231125824\n"
     ]
    }
   ],
   "execution_count": 54
  },
  {
   "metadata": {
    "ExecuteTime": {
     "end_time": "2024-05-17T16:17:46.801058Z",
     "start_time": "2024-05-17T16:17:46.795157Z"
    }
   },
   "cell_type": "code",
   "source": [
    "class Vector:\n",
    "    def __init__(self, *components):\n",
    "        if len(components) < 1:\n",
    "            raise ValueError(\"Vector must have at least one component\")\n",
    "        for component in components:\n",
    "            if not isinstance(component, Real):\n",
    "                raise TypeError(f\"Vector components must be real numbers. {component} is {type(component).__name__}\")\n",
    "            self._components = tuple(components)\n",
    "            \n",
    "    def __len__(self):\n",
    "        return len(self._components)\n",
    "    \n",
    "    @property\n",
    "    def components(self):\n",
    "        return self._components\n",
    "    \n",
    "    def __repr__(self):\n",
    "        return f\"Vector{self.components}\"\n",
    "    \n",
    "    def validate_type_and_dimension(self, v):\n",
    "        return isinstance(v, Vector) and len(v) == len(self)\n",
    "    \n",
    "    def __add__(self, other):\n",
    "        if not self.validate_type_and_dimension(other):\n",
    "            return NotImplemented\n",
    "        components = (x + y for x, y in zip(self.components, other.components))\n",
    "        return Vector(*components)\n",
    "    \n",
    "    def __sub__(self, other):\n",
    "        if not self.validate_type_and_dimension(other):\n",
    "            return NotImplemented\n",
    "        components = (x - y for x, y in zip(self.components, other.components))\n",
    "        return Vector(*components)\n",
    "    \n",
    "    def __mul__(self, other):\n",
    "        if isinstance(other, Real):\n",
    "            # scalar product\n",
    "            components = (other * x for x in self.components)\n",
    "            return Vector(*components)\n",
    "        if self.validate_type_and_dimension(other):\n",
    "            # dot product\n",
    "            components = (x * y for x, y in zip(self.components, other.components))\n",
    "            return sum(components)\n",
    "        return NotImplemented\n",
    "    \n",
    "    def __rmul__(self, other):\n",
    "        return self.__mul__(other)\n",
    "    \n",
    "    def __matmul__(self, other):\n",
    "        print(\"__matmul__ called.\")\n",
    "        \n",
    "    def __iadd__(self, other):\n",
    "        if self.validate_type_and_dimension(other):\n",
    "            components = (x + y for x, y in zip(self.components, other.components))\n",
    "            self._components = tuple(components)\n",
    "            return self\n",
    "        return NotImplemented\n",
    "    \n",
    "    def __neg__(self):\n",
    "        components = (-x for x in self.components)\n",
    "        return Vector(*components)\n"
   ],
   "id": "721e13925a127b68",
   "outputs": [],
   "execution_count": 55
  },
  {
   "metadata": {
    "ExecuteTime": {
     "end_time": "2024-05-17T16:17:53.388099Z",
     "start_time": "2024-05-17T16:17:53.385997Z"
    }
   },
   "cell_type": "code",
   "source": "v1 = Vector(1, 2)",
   "id": "ec46c52b91bc0f3c",
   "outputs": [],
   "execution_count": 56
  },
  {
   "metadata": {
    "ExecuteTime": {
     "end_time": "2024-05-17T16:17:57.329369Z",
     "start_time": "2024-05-17T16:17:57.326063Z"
    }
   },
   "cell_type": "code",
   "source": "id(v1)",
   "id": "ac2dc8788b8378f6",
   "outputs": [
    {
     "data": {
      "text/plain": [
       "140673209610224"
      ]
     },
     "execution_count": 57,
     "metadata": {},
     "output_type": "execute_result"
    }
   ],
   "execution_count": 57
  },
  {
   "metadata": {
    "ExecuteTime": {
     "end_time": "2024-05-17T16:18:15.831333Z",
     "start_time": "2024-05-17T16:18:15.828938Z"
    }
   },
   "cell_type": "code",
   "source": "v2 = -v1",
   "id": "af23968a85a973eb",
   "outputs": [],
   "execution_count": 58
  },
  {
   "metadata": {
    "ExecuteTime": {
     "end_time": "2024-05-17T16:18:18.081824Z",
     "start_time": "2024-05-17T16:18:18.078831Z"
    }
   },
   "cell_type": "code",
   "source": "v2",
   "id": "1cf54ba9ab0226ef",
   "outputs": [
    {
     "data": {
      "text/plain": [
       "Vector(-1, -2)"
      ]
     },
     "execution_count": 59,
     "metadata": {},
     "output_type": "execute_result"
    }
   ],
   "execution_count": 59
  },
  {
   "metadata": {
    "ExecuteTime": {
     "end_time": "2024-05-17T16:18:24.199345Z",
     "start_time": "2024-05-17T16:18:24.195836Z"
    }
   },
   "cell_type": "code",
   "source": "id(v2)",
   "id": "c882e6dd9f657902",
   "outputs": [
    {
     "data": {
      "text/plain": [
       "140673209611424"
      ]
     },
     "execution_count": 60,
     "metadata": {},
     "output_type": "execute_result"
    }
   ],
   "execution_count": 60
  },
  {
   "metadata": {
    "ExecuteTime": {
     "end_time": "2024-05-17T16:18:44.986582Z",
     "start_time": "2024-05-17T16:18:44.984002Z"
    }
   },
   "cell_type": "code",
   "source": [
    "v1 = Vector(1, 2)\n",
    "v2 = Vector(3, 4)"
   ],
   "id": "15902aae3f70fd36",
   "outputs": [],
   "execution_count": 62
  },
  {
   "metadata": {
    "ExecuteTime": {
     "end_time": "2024-05-17T16:19:10.578411Z",
     "start_time": "2024-05-17T16:19:10.575665Z"
    }
   },
   "cell_type": "code",
   "source": "v2 + -v1",
   "id": "f772e675160159d1",
   "outputs": [
    {
     "data": {
      "text/plain": [
       "Vector(2, 2)"
      ]
     },
     "execution_count": 64,
     "metadata": {},
     "output_type": "execute_result"
    }
   ],
   "execution_count": 64
  },
  {
   "metadata": {
    "ExecuteTime": {
     "end_time": "2024-05-17T16:19:17.328707Z",
     "start_time": "2024-05-17T16:19:17.315631Z"
    }
   },
   "cell_type": "code",
   "source": "abs(v1)",
   "id": "6b34c371634ad094",
   "outputs": [
    {
     "ename": "TypeError",
     "evalue": "bad operand type for abs(): 'Vector'",
     "output_type": "error",
     "traceback": [
      "\u001B[0;31m---------------------------------------------------------------------------\u001B[0m",
      "\u001B[0;31mTypeError\u001B[0m                                 Traceback (most recent call last)",
      "Cell \u001B[0;32mIn[65], line 1\u001B[0m\n\u001B[0;32m----> 1\u001B[0m \u001B[38;5;28;43mabs\u001B[39;49m\u001B[43m(\u001B[49m\u001B[43mv1\u001B[49m\u001B[43m)\u001B[49m\n",
      "\u001B[0;31mTypeError\u001B[0m: bad operand type for abs(): 'Vector'"
     ]
    }
   ],
   "execution_count": 65
  },
  {
   "metadata": {
    "ExecuteTime": {
     "end_time": "2024-05-17T16:21:16.684388Z",
     "start_time": "2024-05-17T16:21:16.677917Z"
    }
   },
   "cell_type": "code",
   "source": [
    "from math import sqrt\n",
    "\n",
    "class Vector:\n",
    "    def __init__(self, *components):\n",
    "        if len(components) < 1:\n",
    "            raise ValueError(\"Vector must have at least one component\")\n",
    "        for component in components:\n",
    "            if not isinstance(component, Real):\n",
    "                raise TypeError(f\"Vector components must be real numbers. {component} is {type(component).__name__}\")\n",
    "            self._components = tuple(components)\n",
    "            \n",
    "    def __len__(self):\n",
    "        return len(self._components)\n",
    "    \n",
    "    @property\n",
    "    def components(self):\n",
    "        return self._components\n",
    "    \n",
    "    def __repr__(self):\n",
    "        return f\"Vector{self.components}\"\n",
    "    \n",
    "    def validate_type_and_dimension(self, v):\n",
    "        return isinstance(v, Vector) and len(v) == len(self)\n",
    "    \n",
    "    def __add__(self, other):\n",
    "        if not self.validate_type_and_dimension(other):\n",
    "            return NotImplemented\n",
    "        components = (x + y for x, y in zip(self.components, other.components))\n",
    "        return Vector(*components)\n",
    "    \n",
    "    def __sub__(self, other):\n",
    "        if not self.validate_type_and_dimension(other):\n",
    "            return NotImplemented\n",
    "        components = (x - y for x, y in zip(self.components, other.components))\n",
    "        return Vector(*components)\n",
    "    \n",
    "    def __mul__(self, other):\n",
    "        if isinstance(other, Real):\n",
    "            # scalar product\n",
    "            components = (other * x for x in self.components)\n",
    "            return Vector(*components)\n",
    "        if self.validate_type_and_dimension(other):\n",
    "            # dot product\n",
    "            components = (x * y for x, y in zip(self.components, other.components))\n",
    "            return sum(components)\n",
    "        return NotImplemented\n",
    "    \n",
    "    def __rmul__(self, other):\n",
    "        return self.__mul__(other)\n",
    "    \n",
    "    def __matmul__(self, other):\n",
    "        print(\"__matmul__ called.\")\n",
    "        \n",
    "    def __iadd__(self, other):\n",
    "        if self.validate_type_and_dimension(other):\n",
    "            components = (x + y for x, y in zip(self.components, other.components))\n",
    "            self._components = tuple(components)\n",
    "            return self\n",
    "        return NotImplemented\n",
    "    \n",
    "    def __neg__(self):\n",
    "        components = (-x for x in self.components)\n",
    "        return Vector(*components)\n",
    "\n",
    "    def __abs__(self):\n",
    "        return sqrt(sum(x ** 2 for x in self._components))"
   ],
   "id": "ffe650d739caf02b",
   "outputs": [],
   "execution_count": 66
  },
  {
   "metadata": {
    "ExecuteTime": {
     "end_time": "2024-05-17T16:21:21.214139Z",
     "start_time": "2024-05-17T16:21:21.211826Z"
    }
   },
   "cell_type": "code",
   "source": "v1 = Vector(1, 2)",
   "id": "b1e29d1251dec4bd",
   "outputs": [],
   "execution_count": 67
  },
  {
   "metadata": {
    "ExecuteTime": {
     "end_time": "2024-05-17T16:21:25.161699Z",
     "start_time": "2024-05-17T16:21:25.158940Z"
    }
   },
   "cell_type": "code",
   "source": "abs(v1)",
   "id": "87256e0e63591fd4",
   "outputs": [
    {
     "data": {
      "text/plain": [
       "2.23606797749979"
      ]
     },
     "execution_count": 68,
     "metadata": {},
     "output_type": "execute_result"
    }
   ],
   "execution_count": 68
  },
  {
   "metadata": {},
   "cell_type": "code",
   "outputs": [],
   "execution_count": null,
   "source": "",
   "id": "32de8774d5e21fe8"
  }
 ],
 "metadata": {
  "kernelspec": {
   "display_name": "Python 3",
   "language": "python",
   "name": "python3"
  },
  "language_info": {
   "codemirror_mode": {
    "name": "ipython",
    "version": 2
   },
   "file_extension": ".py",
   "mimetype": "text/x-python",
   "name": "python",
   "nbconvert_exporter": "python",
   "pygments_lexer": "ipython2",
   "version": "2.7.6"
  }
 },
 "nbformat": 4,
 "nbformat_minor": 5
}
