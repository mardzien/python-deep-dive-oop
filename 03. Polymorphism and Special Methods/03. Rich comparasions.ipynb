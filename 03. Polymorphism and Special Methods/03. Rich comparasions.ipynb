{
 "cells": [
  {
   "cell_type": "code",
   "id": "initial_id",
   "metadata": {
    "collapsed": true,
    "ExecuteTime": {
     "end_time": "2024-05-18T15:40:11.178963Z",
     "start_time": "2024-05-18T15:40:11.175590Z"
    }
   },
   "source": [
    "class Vector:\n",
    "    def __init__(self, x, y):\n",
    "        self.x = x\n",
    "        self.y = y\n",
    "        \n",
    "    def __repr__(self):\n",
    "        return f\"Vector(x={self.x}, y={self.y})\""
   ],
   "outputs": [],
   "execution_count": 1
  },
  {
   "metadata": {
    "ExecuteTime": {
     "end_time": "2024-05-18T15:40:50.737864Z",
     "start_time": "2024-05-18T15:40:50.735757Z"
    }
   },
   "cell_type": "code",
   "source": [
    "v1 = Vector(1, 1)\n",
    "v2 = Vector(1, 1)"
   ],
   "id": "37fe9db12f723e47",
   "outputs": [],
   "execution_count": 5
  },
  {
   "metadata": {
    "ExecuteTime": {
     "end_time": "2024-05-18T15:40:50.960224Z",
     "start_time": "2024-05-18T15:40:50.957744Z"
    }
   },
   "cell_type": "code",
   "source": "print(id(v1), id(v2))",
   "id": "fae706f684773d24",
   "outputs": [
    {
     "name": "stdout",
     "output_type": "stream",
     "text": [
      "140481540397232 140481540393488\n"
     ]
    }
   ],
   "execution_count": 6
  },
  {
   "metadata": {
    "ExecuteTime": {
     "end_time": "2024-05-18T15:40:51.155178Z",
     "start_time": "2024-05-18T15:40:51.152110Z"
    }
   },
   "cell_type": "code",
   "source": "v1 == v2",
   "id": "b75c8ab4533f0835",
   "outputs": [
    {
     "data": {
      "text/plain": [
       "False"
      ]
     },
     "execution_count": 7,
     "metadata": {},
     "output_type": "execute_result"
    }
   ],
   "execution_count": 7
  },
  {
   "metadata": {
    "ExecuteTime": {
     "end_time": "2024-05-18T15:40:58.285143Z",
     "start_time": "2024-05-18T15:40:58.281770Z"
    }
   },
   "cell_type": "code",
   "source": "v1 is v2",
   "id": "c3b6ae30ee98cb",
   "outputs": [
    {
     "data": {
      "text/plain": [
       "False"
      ]
     },
     "execution_count": 8,
     "metadata": {},
     "output_type": "execute_result"
    }
   ],
   "execution_count": 8
  },
  {
   "metadata": {
    "ExecuteTime": {
     "end_time": "2024-05-18T15:42:15.212640Z",
     "start_time": "2024-05-18T15:42:15.209654Z"
    }
   },
   "cell_type": "code",
   "source": [
    "class Vector:\n",
    "    def __init__(self, x, y):\n",
    "        self.x = x\n",
    "        self.y = y\n",
    "        \n",
    "    def __repr__(self):\n",
    "        return f\"Vector(x={self.x}, y={self.y})\"\n",
    "    \n",
    "    def __eq__(self, other):\n",
    "        if isinstance(other, Vector):\n",
    "            return self.x == other.x and self.y == other.y\n",
    "        return NotImplemented"
   ],
   "id": "5f299132ff666d27",
   "outputs": [],
   "execution_count": 13
  },
  {
   "metadata": {
    "ExecuteTime": {
     "end_time": "2024-05-18T15:42:15.402725Z",
     "start_time": "2024-05-18T15:42:15.399818Z"
    }
   },
   "cell_type": "code",
   "source": [
    "v1 = Vector(1, 1)\n",
    "v2 = Vector(1, 1)"
   ],
   "id": "9843f9d926be8178",
   "outputs": [],
   "execution_count": 14
  },
  {
   "metadata": {
    "ExecuteTime": {
     "end_time": "2024-05-18T15:42:15.602289Z",
     "start_time": "2024-05-18T15:42:15.598387Z"
    }
   },
   "cell_type": "code",
   "source": "v1 == v2",
   "id": "e16fe9bd35c9fcfd",
   "outputs": [
    {
     "data": {
      "text/plain": [
       "True"
      ]
     },
     "execution_count": 15,
     "metadata": {},
     "output_type": "execute_result"
    }
   ],
   "execution_count": 15
  },
  {
   "metadata": {
    "ExecuteTime": {
     "end_time": "2024-05-18T15:42:15.969930Z",
     "start_time": "2024-05-18T15:42:15.966862Z"
    }
   },
   "cell_type": "code",
   "source": "v1 is v2",
   "id": "69b268c4af233af5",
   "outputs": [
    {
     "data": {
      "text/plain": [
       "False"
      ]
     },
     "execution_count": 16,
     "metadata": {},
     "output_type": "execute_result"
    }
   ],
   "execution_count": 16
  },
  {
   "metadata": {
    "ExecuteTime": {
     "end_time": "2024-05-18T15:42:37.352043Z",
     "start_time": "2024-05-18T15:42:37.349529Z"
    }
   },
   "cell_type": "code",
   "source": [
    "v1 = Vector(1, 1)\n",
    "v2 = Vector(1, 1)\n",
    "v3 = Vector(10, 1)"
   ],
   "id": "eaa11bf3d714492b",
   "outputs": [],
   "execution_count": 17
  },
  {
   "metadata": {
    "ExecuteTime": {
     "end_time": "2024-05-18T15:43:42.434128Z",
     "start_time": "2024-05-18T15:43:42.431082Z"
    }
   },
   "cell_type": "code",
   "source": [
    "class Vector:\n",
    "    def __init__(self, x, y):\n",
    "        self.x = x\n",
    "        self.y = y\n",
    "        \n",
    "    def __repr__(self):\n",
    "        return f\"Vector(x={self.x}, y={self.y})\"\n",
    "    \n",
    "    def __eq__(self, other):\n",
    "        if isinstance(other, tuple):\n",
    "            other = Vector(*other)\n",
    "        if isinstance(other, Vector):\n",
    "            return self.x == other.x and self.y == other.y\n",
    "        return NotImplemented"
   ],
   "id": "984541f1c88b5585",
   "outputs": [],
   "execution_count": 18
  },
  {
   "metadata": {
    "ExecuteTime": {
     "end_time": "2024-05-18T15:43:49.369966Z",
     "start_time": "2024-05-18T15:43:49.367861Z"
    }
   },
   "cell_type": "code",
   "source": "v1 = Vector(1, 1)",
   "id": "e146a3d4511d15cd",
   "outputs": [],
   "execution_count": 19
  },
  {
   "metadata": {
    "ExecuteTime": {
     "end_time": "2024-05-18T15:43:56.239512Z",
     "start_time": "2024-05-18T15:43:56.236440Z"
    }
   },
   "cell_type": "code",
   "source": "v1 == (1, 1)",
   "id": "31599f57519e4ef1",
   "outputs": [
    {
     "data": {
      "text/plain": [
       "True"
      ]
     },
     "execution_count": 20,
     "metadata": {},
     "output_type": "execute_result"
    }
   ],
   "execution_count": 20
  },
  {
   "metadata": {
    "ExecuteTime": {
     "end_time": "2024-05-18T15:44:56.703775Z",
     "start_time": "2024-05-18T15:44:56.700912Z"
    }
   },
   "cell_type": "code",
   "source": "(1, 1) == v1",
   "id": "b39bb8b24861e93c",
   "outputs": [
    {
     "data": {
      "text/plain": [
       "True"
      ]
     },
     "execution_count": 21,
     "metadata": {},
     "output_type": "execute_result"
    }
   ],
   "execution_count": 21
  },
  {
   "metadata": {
    "ExecuteTime": {
     "end_time": "2024-05-18T15:48:51.705972Z",
     "start_time": "2024-05-18T15:48:51.702162Z"
    }
   },
   "cell_type": "code",
   "source": [
    "from math import sqrt\n",
    "\n",
    "class Vector:\n",
    "    def __init__(self, x, y):\n",
    "        self.x = x\n",
    "        self.y = y\n",
    "        \n",
    "    def __repr__(self):\n",
    "        return f\"Vector(x={self.x}, y={self.y})\"\n",
    "    \n",
    "    def __eq__(self, other):\n",
    "        if isinstance(other, tuple):\n",
    "            other = Vector(*other)\n",
    "        if isinstance(other, Vector):\n",
    "            return self.x == other.x and self.y == other.y\n",
    "        return NotImplemented\n",
    "    \n",
    "    def __abs__(self):\n",
    "        return sqrt(self.x ** 2 + self.y ** 2)\n",
    "    \n",
    "    def __lt__(self, other):\n",
    "        print(\"__lt__ called\")\n",
    "        if isinstance(other, tuple):\n",
    "            other = Vector(*other)\n",
    "        if isinstance(other, Vector):\n",
    "            return abs(self.x) < abs(other.x)"
   ],
   "id": "cedcfaf01797f3d3",
   "outputs": [],
   "execution_count": 26
  },
  {
   "metadata": {
    "ExecuteTime": {
     "end_time": "2024-05-18T15:48:52.403286Z",
     "start_time": "2024-05-18T15:48:52.400761Z"
    }
   },
   "cell_type": "code",
   "source": [
    "v1 = Vector(1, 1)\n",
    "v2 = Vector(2, 2)"
   ],
   "id": "7d3af496bdabc254",
   "outputs": [],
   "execution_count": 27
  },
  {
   "metadata": {
    "ExecuteTime": {
     "end_time": "2024-05-18T15:48:52.625513Z",
     "start_time": "2024-05-18T15:48:52.621698Z"
    }
   },
   "cell_type": "code",
   "source": "v2 < v1",
   "id": "68d56ac154e30ad5",
   "outputs": [
    {
     "name": "stdout",
     "output_type": "stream",
     "text": [
      "__lt__ called\n"
     ]
    },
    {
     "data": {
      "text/plain": [
       "False"
      ]
     },
     "execution_count": 28,
     "metadata": {},
     "output_type": "execute_result"
    }
   ],
   "execution_count": 28
  },
  {
   "metadata": {
    "ExecuteTime": {
     "end_time": "2024-05-18T15:48:53.912155Z",
     "start_time": "2024-05-18T15:48:53.908380Z"
    }
   },
   "cell_type": "code",
   "source": "v1 < v2",
   "id": "389beeced4ee388e",
   "outputs": [
    {
     "name": "stdout",
     "output_type": "stream",
     "text": [
      "__lt__ called\n"
     ]
    },
    {
     "data": {
      "text/plain": [
       "True"
      ]
     },
     "execution_count": 29,
     "metadata": {},
     "output_type": "execute_result"
    }
   ],
   "execution_count": 29
  },
  {
   "metadata": {
    "ExecuteTime": {
     "end_time": "2024-05-18T15:48:54.616568Z",
     "start_time": "2024-05-18T15:48:54.613693Z"
    }
   },
   "cell_type": "code",
   "source": "v2 > v1",
   "id": "1cac79133b2b9140",
   "outputs": [
    {
     "name": "stdout",
     "output_type": "stream",
     "text": [
      "__lt__ called\n"
     ]
    },
    {
     "data": {
      "text/plain": [
       "True"
      ]
     },
     "execution_count": 30,
     "metadata": {},
     "output_type": "execute_result"
    }
   ],
   "execution_count": 30
  },
  {
   "metadata": {
    "ExecuteTime": {
     "end_time": "2024-05-18T15:49:09.061009Z",
     "start_time": "2024-05-18T15:49:09.057973Z"
    }
   },
   "cell_type": "code",
   "source": "v1 < (2, 6)",
   "id": "a337e324cac4111b",
   "outputs": [
    {
     "name": "stdout",
     "output_type": "stream",
     "text": [
      "__lt__ called\n"
     ]
    },
    {
     "data": {
      "text/plain": [
       "True"
      ]
     },
     "execution_count": 31,
     "metadata": {},
     "output_type": "execute_result"
    }
   ],
   "execution_count": 31
  },
  {
   "metadata": {
    "ExecuteTime": {
     "end_time": "2024-05-18T15:49:24.589963Z",
     "start_time": "2024-05-18T15:49:24.586632Z"
    }
   },
   "cell_type": "code",
   "source": "(10, 40) > v1",
   "id": "93ba841f4860fbdd",
   "outputs": [
    {
     "name": "stdout",
     "output_type": "stream",
     "text": [
      "__lt__ called\n"
     ]
    },
    {
     "data": {
      "text/plain": [
       "True"
      ]
     },
     "execution_count": 32,
     "metadata": {},
     "output_type": "execute_result"
    }
   ],
   "execution_count": 32
  },
  {
   "metadata": {
    "ExecuteTime": {
     "end_time": "2024-05-18T16:04:49.629500Z",
     "start_time": "2024-05-18T16:04:49.483295Z"
    }
   },
   "cell_type": "code",
   "source": "v1 <= v2",
   "id": "86f52ea089c5c771",
   "outputs": [
    {
     "ename": "TypeError",
     "evalue": "'<=' not supported between instances of 'Vector' and 'Vector'",
     "output_type": "error",
     "traceback": [
      "\u001B[0;31m---------------------------------------------------------------------------\u001B[0m",
      "\u001B[0;31mTypeError\u001B[0m                                 Traceback (most recent call last)",
      "Cell \u001B[0;32mIn[33], line 1\u001B[0m\n\u001B[0;32m----> 1\u001B[0m \u001B[43mv1\u001B[49m\u001B[43m \u001B[49m\u001B[38;5;241;43m<\u001B[39;49m\u001B[38;5;241;43m=\u001B[39;49m\u001B[43m \u001B[49m\u001B[43mv2\u001B[49m\n",
      "\u001B[0;31mTypeError\u001B[0m: '<=' not supported between instances of 'Vector' and 'Vector'"
     ]
    }
   ],
   "execution_count": 33
  },
  {
   "metadata": {
    "ExecuteTime": {
     "end_time": "2024-05-18T16:06:52.218383Z",
     "start_time": "2024-05-18T16:06:52.213902Z"
    }
   },
   "cell_type": "code",
   "source": [
    "from math import sqrt\n",
    "\n",
    "class Vector:\n",
    "    def __init__(self, x, y):\n",
    "        self.x = x\n",
    "        self.y = y\n",
    "        \n",
    "    def __repr__(self):\n",
    "        return f\"Vector(x={self.x}, y={self.y})\"\n",
    "    \n",
    "    def __eq__(self, other):\n",
    "        print(\"__eq__ called\")\n",
    "        if isinstance(other, tuple):\n",
    "            other = Vector(*other)\n",
    "        if isinstance(other, Vector):\n",
    "            return self.x == other.x and self.y == other.y\n",
    "        return NotImplemented\n",
    "    \n",
    "    def __abs__(self):\n",
    "        return sqrt(self.x ** 2 + self.y ** 2)\n",
    "    \n",
    "    def __lt__(self, other):\n",
    "        print(\"__lt__ called\")\n",
    "        if isinstance(other, tuple):\n",
    "            other = Vector(*other)\n",
    "        if isinstance(other, Vector):\n",
    "            return abs(self.x) < abs(other.x)\n",
    "    \n",
    "    def __le__(self, other):\n",
    "        return self < other or self == other"
   ],
   "id": "582ac084b82eeaf1",
   "outputs": [],
   "execution_count": 37
  },
  {
   "metadata": {
    "ExecuteTime": {
     "end_time": "2024-05-18T16:07:10.767888Z",
     "start_time": "2024-05-18T16:07:10.765347Z"
    }
   },
   "cell_type": "code",
   "source": [
    "v1 = Vector(1, 1)\n",
    "v2 = Vector(1, 1)\n",
    "v3 = Vector(2, 2)"
   ],
   "id": "8a795bf5105b3c5e",
   "outputs": [],
   "execution_count": 38
  },
  {
   "metadata": {
    "ExecuteTime": {
     "end_time": "2024-05-18T16:07:11.541887Z",
     "start_time": "2024-05-18T16:07:11.537749Z"
    }
   },
   "cell_type": "code",
   "source": "v1 <= v2",
   "id": "3d2557db3f651551",
   "outputs": [
    {
     "name": "stdout",
     "output_type": "stream",
     "text": [
      "__lt__ called\n",
      "__eq__ called\n"
     ]
    },
    {
     "data": {
      "text/plain": [
       "True"
      ]
     },
     "execution_count": 39,
     "metadata": {},
     "output_type": "execute_result"
    }
   ],
   "execution_count": 39
  },
  {
   "metadata": {
    "ExecuteTime": {
     "end_time": "2024-05-18T16:07:18.551864Z",
     "start_time": "2024-05-18T16:07:18.548894Z"
    }
   },
   "cell_type": "code",
   "source": "v1 <= v3",
   "id": "eb5e4a4d737d077c",
   "outputs": [
    {
     "name": "stdout",
     "output_type": "stream",
     "text": [
      "__lt__ called\n"
     ]
    },
    {
     "data": {
      "text/plain": [
       "True"
      ]
     },
     "execution_count": 40,
     "metadata": {},
     "output_type": "execute_result"
    }
   ],
   "execution_count": 40
  },
  {
   "metadata": {
    "ExecuteTime": {
     "end_time": "2024-05-18T16:07:32.895314Z",
     "start_time": "2024-05-18T16:07:32.892338Z"
    }
   },
   "cell_type": "code",
   "source": "v1 >= v3",
   "id": "183b41d00d60c94d",
   "outputs": [
    {
     "name": "stdout",
     "output_type": "stream",
     "text": [
      "__lt__ called\n",
      "__eq__ called\n"
     ]
    },
    {
     "data": {
      "text/plain": [
       "False"
      ]
     },
     "execution_count": 41,
     "metadata": {},
     "output_type": "execute_result"
    }
   ],
   "execution_count": 41
  },
  {
   "metadata": {
    "ExecuteTime": {
     "end_time": "2024-05-18T16:08:16.899849Z",
     "start_time": "2024-05-18T16:08:16.896424Z"
    }
   },
   "cell_type": "code",
   "source": "v1 != v2",
   "id": "d04b6749f0c33cef",
   "outputs": [
    {
     "name": "stdout",
     "output_type": "stream",
     "text": [
      "__eq__ called\n"
     ]
    },
    {
     "data": {
      "text/plain": [
       "False"
      ]
     },
     "execution_count": 42,
     "metadata": {},
     "output_type": "execute_result"
    }
   ],
   "execution_count": 42
  },
  {
   "metadata": {
    "ExecuteTime": {
     "end_time": "2024-05-18T16:14:08.233614Z",
     "start_time": "2024-05-18T16:14:08.230502Z"
    }
   },
   "cell_type": "code",
   "source": [
    "from functools import total_ordering\n",
    "\n",
    "@total_ordering\n",
    "class Number:\n",
    "    def __init__(self, x):\n",
    "        self.x = x\n",
    "        \n",
    "    def __eq__(self, other):\n",
    "        print(\"__eq__ called\")\n",
    "        if isinstance(other, Number):\n",
    "            return self.x == other.x\n",
    "        return NotImplemented\n",
    "    \n",
    "    def __lt__(self, other):\n",
    "        print(\"__lt__ called\")\n",
    "        if isinstance(other, Number):\n",
    "            return self.x < other.x\n",
    "        return NotImplemented"
   ],
   "id": "a4a8f7c167d28fbe",
   "outputs": [],
   "execution_count": 43
  },
  {
   "metadata": {
    "ExecuteTime": {
     "end_time": "2024-05-18T16:14:17.210720Z",
     "start_time": "2024-05-18T16:14:17.208715Z"
    }
   },
   "cell_type": "code",
   "source": [
    "a = Number(1)\n",
    "b = Number(2)\n",
    "c = Number(1)"
   ],
   "id": "da49a91b304067c4",
   "outputs": [],
   "execution_count": 44
  },
  {
   "metadata": {
    "ExecuteTime": {
     "end_time": "2024-05-18T16:14:26.241376Z",
     "start_time": "2024-05-18T16:14:26.237657Z"
    }
   },
   "cell_type": "code",
   "source": "a < b",
   "id": "17eaef15f7fdce6",
   "outputs": [
    {
     "name": "stdout",
     "output_type": "stream",
     "text": [
      "__lt__ called\n"
     ]
    },
    {
     "data": {
      "text/plain": [
       "True"
      ]
     },
     "execution_count": 45,
     "metadata": {},
     "output_type": "execute_result"
    }
   ],
   "execution_count": 45
  },
  {
   "metadata": {
    "ExecuteTime": {
     "end_time": "2024-05-18T16:14:30.211407Z",
     "start_time": "2024-05-18T16:14:30.207645Z"
    }
   },
   "cell_type": "code",
   "source": "b < b",
   "id": "65223e498aea9767",
   "outputs": [
    {
     "name": "stdout",
     "output_type": "stream",
     "text": [
      "__lt__ called\n"
     ]
    },
    {
     "data": {
      "text/plain": [
       "False"
      ]
     },
     "execution_count": 46,
     "metadata": {},
     "output_type": "execute_result"
    }
   ],
   "execution_count": 46
  },
  {
   "metadata": {
    "ExecuteTime": {
     "end_time": "2024-05-18T16:14:38.238701Z",
     "start_time": "2024-05-18T16:14:38.235426Z"
    }
   },
   "cell_type": "code",
   "source": "a <= b",
   "id": "d7bdf72454014050",
   "outputs": [
    {
     "name": "stdout",
     "output_type": "stream",
     "text": [
      "__lt__ called\n"
     ]
    },
    {
     "data": {
      "text/plain": [
       "True"
      ]
     },
     "execution_count": 47,
     "metadata": {},
     "output_type": "execute_result"
    }
   ],
   "execution_count": 47
  },
  {
   "metadata": {
    "ExecuteTime": {
     "end_time": "2024-05-18T16:14:43.502642Z",
     "start_time": "2024-05-18T16:14:43.499546Z"
    }
   },
   "cell_type": "code",
   "source": "a <= c",
   "id": "8d247df9607afc40",
   "outputs": [
    {
     "name": "stdout",
     "output_type": "stream",
     "text": [
      "__lt__ called\n",
      "__eq__ called\n"
     ]
    },
    {
     "data": {
      "text/plain": [
       "True"
      ]
     },
     "execution_count": 48,
     "metadata": {},
     "output_type": "execute_result"
    }
   ],
   "execution_count": 48
  },
  {
   "metadata": {},
   "cell_type": "code",
   "outputs": [],
   "execution_count": null,
   "source": "",
   "id": "76e9b944407d6f3b"
  }
 ],
 "metadata": {
  "kernelspec": {
   "display_name": "Python 3",
   "language": "python",
   "name": "python3"
  },
  "language_info": {
   "codemirror_mode": {
    "name": "ipython",
    "version": 2
   },
   "file_extension": ".py",
   "mimetype": "text/x-python",
   "name": "python",
   "nbconvert_exporter": "python",
   "pygments_lexer": "ipython2",
   "version": "2.7.6"
  }
 },
 "nbformat": 4,
 "nbformat_minor": 5
}
