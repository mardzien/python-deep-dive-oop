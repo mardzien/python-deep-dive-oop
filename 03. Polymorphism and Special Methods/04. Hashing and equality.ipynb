{
 "cells": [
  {
   "cell_type": "code",
   "id": "initial_id",
   "metadata": {
    "collapsed": true,
    "ExecuteTime": {
     "end_time": "2024-05-19T15:27:04.783104Z",
     "start_time": "2024-05-19T15:27:04.777890Z"
    }
   },
   "source": "dir(object)",
   "outputs": [
    {
     "data": {
      "text/plain": [
       "['__class__',\n",
       " '__delattr__',\n",
       " '__dir__',\n",
       " '__doc__',\n",
       " '__eq__',\n",
       " '__format__',\n",
       " '__ge__',\n",
       " '__getattribute__',\n",
       " '__getstate__',\n",
       " '__gt__',\n",
       " '__hash__',\n",
       " '__init__',\n",
       " '__init_subclass__',\n",
       " '__le__',\n",
       " '__lt__',\n",
       " '__ne__',\n",
       " '__new__',\n",
       " '__reduce__',\n",
       " '__reduce_ex__',\n",
       " '__repr__',\n",
       " '__setattr__',\n",
       " '__sizeof__',\n",
       " '__str__',\n",
       " '__subclasshook__']"
      ]
     },
     "execution_count": 1,
     "metadata": {},
     "output_type": "execute_result"
    }
   ],
   "execution_count": 1
  },
  {
   "metadata": {
    "ExecuteTime": {
     "end_time": "2024-05-19T15:27:39.923003Z",
     "start_time": "2024-05-19T15:27:39.920803Z"
    }
   },
   "cell_type": "code",
   "source": [
    "class Person:\n",
    "    pass"
   ],
   "id": "741707402fe3148e",
   "outputs": [],
   "execution_count": 2
  },
  {
   "metadata": {
    "ExecuteTime": {
     "end_time": "2024-05-19T15:27:49.328905Z",
     "start_time": "2024-05-19T15:27:49.326386Z"
    }
   },
   "cell_type": "code",
   "source": [
    "p1 = Person()\n",
    "p2 = Person()"
   ],
   "id": "6ee073e1418475ab",
   "outputs": [],
   "execution_count": 3
  },
  {
   "metadata": {
    "ExecuteTime": {
     "end_time": "2024-05-19T15:27:56.244894Z",
     "start_time": "2024-05-19T15:27:56.241848Z"
    }
   },
   "cell_type": "code",
   "source": "hash(p1), hash(p2)",
   "id": "128acc7a2eacf628",
   "outputs": [
    {
     "data": {
      "text/plain": [
       "(8731827688597, 8731827689107)"
      ]
     },
     "execution_count": 4,
     "metadata": {},
     "output_type": "execute_result"
    }
   ],
   "execution_count": 4
  },
  {
   "metadata": {
    "ExecuteTime": {
     "end_time": "2024-05-19T15:28:03.428074Z",
     "start_time": "2024-05-19T15:28:03.425300Z"
    }
   },
   "cell_type": "code",
   "source": "p1 == p2",
   "id": "f4d1727b6784951e",
   "outputs": [
    {
     "data": {
      "text/plain": [
       "False"
      ]
     },
     "execution_count": 5,
     "metadata": {},
     "output_type": "execute_result"
    }
   ],
   "execution_count": 5
  },
  {
   "metadata": {
    "ExecuteTime": {
     "end_time": "2024-05-19T15:28:15.215422Z",
     "start_time": "2024-05-19T15:28:15.212127Z"
    }
   },
   "cell_type": "code",
   "source": "hash(p1) == hash(p2) ",
   "id": "2e5331e5c15ce281",
   "outputs": [
    {
     "data": {
      "text/plain": [
       "False"
      ]
     },
     "execution_count": 6,
     "metadata": {},
     "output_type": "execute_result"
    }
   ],
   "execution_count": 6
  },
  {
   "metadata": {
    "ExecuteTime": {
     "end_time": "2024-05-19T15:29:50.807470Z",
     "start_time": "2024-05-19T15:29:50.804753Z"
    }
   },
   "cell_type": "code",
   "source": [
    "class Person:\n",
    "    def __init__(self, name):\n",
    "        self.name = name\n",
    "        \n",
    "    def __eq__(self, other):\n",
    "        return isinstance(other, Person) and self.name == other.name\n",
    "    \n",
    "    def __repr__(self):\n",
    "        return f\"Person(name='{self.name}')\""
   ],
   "id": "70c37aa3f21b404f",
   "outputs": [],
   "execution_count": 8
  },
  {
   "metadata": {
    "ExecuteTime": {
     "end_time": "2024-05-19T15:30:27.263287Z",
     "start_time": "2024-05-19T15:30:27.261046Z"
    }
   },
   "cell_type": "code",
   "source": [
    "p1 = Person(\"John\")\n",
    "p2 = Person(\"John\")\n",
    "p3 = Person(\"Eric\")"
   ],
   "id": "f83210e1252fb294",
   "outputs": [],
   "execution_count": 12
  },
  {
   "metadata": {
    "ExecuteTime": {
     "end_time": "2024-05-19T15:30:05.871994Z",
     "start_time": "2024-05-19T15:30:05.868926Z"
    }
   },
   "cell_type": "code",
   "source": "p1 is p2",
   "id": "d76a83453bc1d75b",
   "outputs": [
    {
     "data": {
      "text/plain": [
       "False"
      ]
     },
     "execution_count": 10,
     "metadata": {},
     "output_type": "execute_result"
    }
   ],
   "execution_count": 10
  },
  {
   "metadata": {
    "ExecuteTime": {
     "end_time": "2024-05-19T15:30:15.683992Z",
     "start_time": "2024-05-19T15:30:15.681150Z"
    }
   },
   "cell_type": "code",
   "source": "p1 == p2",
   "id": "5578e64ed5e5580f",
   "outputs": [
    {
     "data": {
      "text/plain": [
       "True"
      ]
     },
     "execution_count": 11,
     "metadata": {},
     "output_type": "execute_result"
    }
   ],
   "execution_count": 11
  },
  {
   "metadata": {
    "ExecuteTime": {
     "end_time": "2024-05-19T15:30:37.317703Z",
     "start_time": "2024-05-19T15:30:37.173532Z"
    }
   },
   "cell_type": "code",
   "source": "hash(p1)",
   "id": "b1676c4cbdea837e",
   "outputs": [
    {
     "ename": "TypeError",
     "evalue": "unhashable type: 'Person'",
     "output_type": "error",
     "traceback": [
      "\u001B[0;31m---------------------------------------------------------------------------\u001B[0m",
      "\u001B[0;31mTypeError\u001B[0m                                 Traceback (most recent call last)",
      "Cell \u001B[0;32mIn[13], line 1\u001B[0m\n\u001B[0;32m----> 1\u001B[0m \u001B[38;5;28;43mhash\u001B[39;49m\u001B[43m(\u001B[49m\u001B[43mp1\u001B[49m\u001B[43m)\u001B[49m\n",
      "\u001B[0;31mTypeError\u001B[0m: unhashable type: 'Person'"
     ]
    }
   ],
   "execution_count": 13
  },
  {
   "metadata": {
    "ExecuteTime": {
     "end_time": "2024-05-19T15:31:41.195444Z",
     "start_time": "2024-05-19T15:31:41.183510Z"
    }
   },
   "cell_type": "code",
   "source": "d = {p1: 'John', p2: 'Eric'}",
   "id": "bf5a8fa1e3e3a057",
   "outputs": [
    {
     "ename": "TypeError",
     "evalue": "unhashable type: 'Person'",
     "output_type": "error",
     "traceback": [
      "\u001B[0;31m---------------------------------------------------------------------------\u001B[0m",
      "\u001B[0;31mTypeError\u001B[0m                                 Traceback (most recent call last)",
      "Cell \u001B[0;32mIn[14], line 1\u001B[0m\n\u001B[0;32m----> 1\u001B[0m d \u001B[38;5;241m=\u001B[39m {p1: \u001B[38;5;124m'\u001B[39m\u001B[38;5;124mJohn\u001B[39m\u001B[38;5;124m'\u001B[39m, p2: \u001B[38;5;124m'\u001B[39m\u001B[38;5;124mEric\u001B[39m\u001B[38;5;124m'\u001B[39m}\n",
      "\u001B[0;31mTypeError\u001B[0m: unhashable type: 'Person'"
     ]
    }
   ],
   "execution_count": 14
  },
  {
   "metadata": {
    "ExecuteTime": {
     "end_time": "2024-05-19T15:32:03.749734Z",
     "start_time": "2024-05-19T15:32:03.746531Z"
    }
   },
   "cell_type": "code",
   "source": "type(p1.__hash__)",
   "id": "970d6e860187f1ec",
   "outputs": [
    {
     "data": {
      "text/plain": [
       "NoneType"
      ]
     },
     "execution_count": 17,
     "metadata": {},
     "output_type": "execute_result"
    }
   ],
   "execution_count": 17
  },
  {
   "metadata": {
    "ExecuteTime": {
     "end_time": "2024-05-19T15:48:55.451828Z",
     "start_time": "2024-05-19T15:48:55.448450Z"
    }
   },
   "cell_type": "code",
   "source": [
    "class Person:\n",
    "    def __init__(self, name):\n",
    "        self._name = name\n",
    "        \n",
    "    @property\n",
    "    def name(self):\n",
    "        return self._name\n",
    "        \n",
    "    def __eq__(self, other):\n",
    "        return isinstance(other, Person) and self.name == other.name\n",
    "    \n",
    "    def __hash__(self):\n",
    "        return hash(self.name)\n",
    "    \n",
    "    def __repr__(self):\n",
    "        return f\"Person(name='{self.name}')\""
   ],
   "id": "401e0ef87879d0d9",
   "outputs": [],
   "execution_count": 19
  },
  {
   "metadata": {
    "ExecuteTime": {
     "end_time": "2024-05-19T15:51:33.961303Z",
     "start_time": "2024-05-19T15:51:33.958371Z"
    }
   },
   "cell_type": "code",
   "source": [
    "p1 = Person(\"John\")\n",
    "p2 = Person(\"John\")\n",
    "p3 = Person(\"Eric\")"
   ],
   "id": "1384d7abae4e63f2",
   "outputs": [],
   "execution_count": 20
  },
  {
   "metadata": {
    "ExecuteTime": {
     "end_time": "2024-05-19T15:51:40.454063Z",
     "start_time": "2024-05-19T15:51:40.451230Z"
    }
   },
   "cell_type": "code",
   "source": "hash(p1), hash(p2)",
   "id": "a9002f246dc85e83",
   "outputs": [
    {
     "data": {
      "text/plain": [
       "(-7207297776109574627, -7207297776109574627)"
      ]
     },
     "execution_count": 21,
     "metadata": {},
     "output_type": "execute_result"
    }
   ],
   "execution_count": 21
  },
  {
   "metadata": {
    "ExecuteTime": {
     "end_time": "2024-05-19T15:52:30.381171Z",
     "start_time": "2024-05-19T15:52:30.378937Z"
    }
   },
   "cell_type": "code",
   "source": "d = {p1: 'John'}",
   "id": "9b57c8ecad9bfc2f",
   "outputs": [],
   "execution_count": 26
  },
  {
   "metadata": {
    "ExecuteTime": {
     "end_time": "2024-05-19T15:52:30.946224Z",
     "start_time": "2024-05-19T15:52:30.943420Z"
    }
   },
   "cell_type": "code",
   "source": "d[p1]",
   "id": "edc6e22f80cac87b",
   "outputs": [
    {
     "data": {
      "text/plain": [
       "'John'"
      ]
     },
     "execution_count": 27,
     "metadata": {},
     "output_type": "execute_result"
    }
   ],
   "execution_count": 27
  },
  {
   "metadata": {},
   "cell_type": "code",
   "outputs": [],
   "execution_count": null,
   "source": "",
   "id": "adfad2469acb16d2"
  }
 ],
 "metadata": {
  "kernelspec": {
   "display_name": "Python 3",
   "language": "python",
   "name": "python3"
  },
  "language_info": {
   "codemirror_mode": {
    "name": "ipython",
    "version": 2
   },
   "file_extension": ".py",
   "mimetype": "text/x-python",
   "name": "python",
   "nbconvert_exporter": "python",
   "pygments_lexer": "ipython2",
   "version": "2.7.6"
  }
 },
 "nbformat": 4,
 "nbformat_minor": 5
}
