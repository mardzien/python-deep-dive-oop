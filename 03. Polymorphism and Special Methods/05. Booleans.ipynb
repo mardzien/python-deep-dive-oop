{
 "cells": [
  {
   "cell_type": "code",
   "id": "initial_id",
   "metadata": {
    "collapsed": true,
    "ExecuteTime": {
     "end_time": "2024-06-22T17:35:32.887662Z",
     "start_time": "2024-06-22T17:35:32.884950Z"
    }
   },
   "source": [
    "class Person:\n",
    "    pass"
   ],
   "outputs": [],
   "execution_count": 1
  },
  {
   "metadata": {
    "ExecuteTime": {
     "end_time": "2024-06-22T17:35:32.898253Z",
     "start_time": "2024-06-22T17:35:32.895869Z"
    }
   },
   "cell_type": "code",
   "source": "p = Person()",
   "id": "c4a95fd359806c48",
   "outputs": [],
   "execution_count": 2
  },
  {
   "metadata": {
    "ExecuteTime": {
     "end_time": "2024-06-22T17:35:32.903920Z",
     "start_time": "2024-06-22T17:35:32.899331Z"
    }
   },
   "cell_type": "code",
   "source": "bool(p)",
   "id": "8352c6006de127c2",
   "outputs": [
    {
     "data": {
      "text/plain": [
       "True"
      ]
     },
     "execution_count": 3,
     "metadata": {},
     "output_type": "execute_result"
    }
   ],
   "execution_count": 3
  },
  {
   "metadata": {
    "ExecuteTime": {
     "end_time": "2024-06-22T17:35:32.912629Z",
     "start_time": "2024-06-22T17:35:32.910104Z"
    }
   },
   "cell_type": "code",
   "source": [
    "class MyClass:\n",
    "    def __init__(self, length):\n",
    "        self._length = length\n",
    "        \n",
    "    def __len__(self):\n",
    "        print(\"__len__ method called\")\n",
    "        return self._length"
   ],
   "id": "59f0e914be3d4d37",
   "outputs": [],
   "execution_count": 4
  },
  {
   "metadata": {
    "ExecuteTime": {
     "end_time": "2024-06-22T17:36:08.529622Z",
     "start_time": "2024-06-22T17:36:08.527060Z"
    }
   },
   "cell_type": "code",
   "source": [
    "l1 = MyClass(0)\n",
    "l2 = MyClass(5)"
   ],
   "id": "e1069fe7390a5aee",
   "outputs": [],
   "execution_count": 5
  },
  {
   "metadata": {
    "ExecuteTime": {
     "end_time": "2024-06-22T17:36:11.873960Z",
     "start_time": "2024-06-22T17:36:11.869880Z"
    }
   },
   "cell_type": "code",
   "source": "bool(l1)",
   "id": "6a3d7c15f538ff7c",
   "outputs": [
    {
     "name": "stdout",
     "output_type": "stream",
     "text": [
      "__len__ method called\n"
     ]
    },
    {
     "data": {
      "text/plain": [
       "False"
      ]
     },
     "execution_count": 6,
     "metadata": {},
     "output_type": "execute_result"
    }
   ],
   "execution_count": 6
  },
  {
   "metadata": {
    "ExecuteTime": {
     "end_time": "2024-06-22T17:36:26.455584Z",
     "start_time": "2024-06-22T17:36:26.452131Z"
    }
   },
   "cell_type": "code",
   "source": "bool(l2)",
   "id": "4fbbd2ca4dae562b",
   "outputs": [
    {
     "name": "stdout",
     "output_type": "stream",
     "text": [
      "__len__ method called\n"
     ]
    },
    {
     "data": {
      "text/plain": [
       "True"
      ]
     },
     "execution_count": 7,
     "metadata": {},
     "output_type": "execute_result"
    }
   ],
   "execution_count": 7
  },
  {
   "metadata": {
    "ExecuteTime": {
     "end_time": "2024-06-22T17:37:45.169175Z",
     "start_time": "2024-06-22T17:37:45.166349Z"
    }
   },
   "cell_type": "code",
   "source": [
    "class MyClass:\n",
    "    def __init__(self, length):\n",
    "        self._length = length\n",
    "        \n",
    "    def __len__(self):\n",
    "        print(\"__len__ method called\")\n",
    "        return self._length\n",
    "    \n",
    "    def __bool__(self):\n",
    "        print(\"__bool__ method called\")\n",
    "        return self._length > 0"
   ],
   "id": "5d9102432c076099",
   "outputs": [],
   "execution_count": 8
  },
  {
   "metadata": {
    "ExecuteTime": {
     "end_time": "2024-06-22T17:37:45.447292Z",
     "start_time": "2024-06-22T17:37:45.445152Z"
    }
   },
   "cell_type": "code",
   "source": [
    "l1 = MyClass(0)\n",
    "l2 = MyClass(5)"
   ],
   "id": "242e8a5363e30c25",
   "outputs": [],
   "execution_count": 9
  },
  {
   "metadata": {
    "ExecuteTime": {
     "end_time": "2024-06-22T17:37:46.094908Z",
     "start_time": "2024-06-22T17:37:46.091578Z"
    }
   },
   "cell_type": "code",
   "source": "bool(l1), bool(l2)",
   "id": "2df9261dbe3457b9",
   "outputs": [
    {
     "name": "stdout",
     "output_type": "stream",
     "text": [
      "__bool__ method called\n",
      "__bool__ method called\n"
     ]
    },
    {
     "data": {
      "text/plain": [
       "(False, True)"
      ]
     },
     "execution_count": 10,
     "metadata": {},
     "output_type": "execute_result"
    }
   ],
   "execution_count": 10
  },
  {
   "metadata": {
    "ExecuteTime": {
     "end_time": "2024-06-22T17:38:44.049195Z",
     "start_time": "2024-06-22T17:38:44.046762Z"
    }
   },
   "cell_type": "code",
   "source": [
    "class Point:\n",
    "    def __init__(self, x, y):\n",
    "        self.x = x\n",
    "        self.y = y"
   ],
   "id": "534ea234379d7c7a",
   "outputs": [],
   "execution_count": 11
  },
  {
   "metadata": {
    "ExecuteTime": {
     "end_time": "2024-06-22T17:38:44.331351Z",
     "start_time": "2024-06-22T17:38:44.329038Z"
    }
   },
   "cell_type": "code",
   "source": [
    "p1 = Point(0, 0)\n",
    "p2 = Point(1, 1)"
   ],
   "id": "23d1ca661f6d0af2",
   "outputs": [],
   "execution_count": 12
  },
  {
   "metadata": {
    "ExecuteTime": {
     "end_time": "2024-06-22T17:38:44.933068Z",
     "start_time": "2024-06-22T17:38:44.929761Z"
    }
   },
   "cell_type": "code",
   "source": "bool(p1), bool(p2)",
   "id": "800386e78243c316",
   "outputs": [
    {
     "data": {
      "text/plain": [
       "(True, True)"
      ]
     },
     "execution_count": 13,
     "metadata": {},
     "output_type": "execute_result"
    }
   ],
   "execution_count": 13
  },
  {
   "metadata": {
    "ExecuteTime": {
     "end_time": "2024-06-22T17:40:25.837566Z",
     "start_time": "2024-06-22T17:40:25.835001Z"
    }
   },
   "cell_type": "code",
   "source": [
    "class Point:\n",
    "    def __init__(self, x, y):\n",
    "        self.x = x\n",
    "        self.y = y\n",
    "        \n",
    "    def __bool__(self):\n",
    "        return bool(self.x or self.y)"
   ],
   "id": "317d6377118b3e24",
   "outputs": [],
   "execution_count": 22
  },
  {
   "metadata": {
    "ExecuteTime": {
     "end_time": "2024-06-22T17:40:26.275954Z",
     "start_time": "2024-06-22T17:40:26.273605Z"
    }
   },
   "cell_type": "code",
   "source": [
    "p1 = Point(1, 0)\n",
    "p2 = Point(1, 1)"
   ],
   "id": "b3d5236a1528293a",
   "outputs": [],
   "execution_count": 23
  },
  {
   "metadata": {
    "ExecuteTime": {
     "end_time": "2024-06-22T17:40:26.578996Z",
     "start_time": "2024-06-22T17:40:26.575722Z"
    }
   },
   "cell_type": "code",
   "source": "bool(p1), bool(p2)",
   "id": "62aed1d86d842e02",
   "outputs": [
    {
     "data": {
      "text/plain": [
       "(True, True)"
      ]
     },
     "execution_count": 24,
     "metadata": {},
     "output_type": "execute_result"
    }
   ],
   "execution_count": 24
  },
  {
   "metadata": {
    "ExecuteTime": {
     "end_time": "2024-06-22T17:40:27.247253Z",
     "start_time": "2024-06-22T17:40:27.244777Z"
    }
   },
   "cell_type": "code",
   "source": "p0 = Point(0, 0)",
   "id": "926a9df0a1121624",
   "outputs": [],
   "execution_count": 25
  },
  {
   "metadata": {
    "ExecuteTime": {
     "end_time": "2024-06-22T17:40:27.526347Z",
     "start_time": "2024-06-22T17:40:27.523271Z"
    }
   },
   "cell_type": "code",
   "source": "bool(p0)",
   "id": "bba59bfb88de8e11",
   "outputs": [
    {
     "data": {
      "text/plain": [
       "False"
      ]
     },
     "execution_count": 26,
     "metadata": {},
     "output_type": "execute_result"
    }
   ],
   "execution_count": 26
  }
 ],
 "metadata": {
  "kernelspec": {
   "display_name": "Python 3",
   "language": "python",
   "name": "python3"
  },
  "language_info": {
   "codemirror_mode": {
    "name": "ipython",
    "version": 2
   },
   "file_extension": ".py",
   "mimetype": "text/x-python",
   "name": "python",
   "nbconvert_exporter": "python",
   "pygments_lexer": "ipython2",
   "version": "2.7.6"
  }
 },
 "nbformat": 4,
 "nbformat_minor": 5
}
