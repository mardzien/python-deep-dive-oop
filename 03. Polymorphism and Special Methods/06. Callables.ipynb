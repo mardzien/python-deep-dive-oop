{
 "cells": [
  {
   "cell_type": "code",
   "id": "initial_id",
   "metadata": {
    "collapsed": true,
    "ExecuteTime": {
     "end_time": "2024-06-22T17:45:16.969127Z",
     "start_time": "2024-06-22T17:45:16.966410Z"
    }
   },
   "source": [
    "class Person:\n",
    "    def __call__(self):\n",
    "        print(\"__call called...\")"
   ],
   "outputs": [],
   "execution_count": 1
  },
  {
   "metadata": {
    "ExecuteTime": {
     "end_time": "2024-06-22T17:45:22.784897Z",
     "start_time": "2024-06-22T17:45:22.782751Z"
    }
   },
   "cell_type": "code",
   "source": "p = Person()",
   "id": "9947878b9bf618c5",
   "outputs": [],
   "execution_count": 2
  },
  {
   "metadata": {
    "ExecuteTime": {
     "end_time": "2024-06-22T17:45:25.298312Z",
     "start_time": "2024-06-22T17:45:25.294892Z"
    }
   },
   "cell_type": "code",
   "source": "p()",
   "id": "cf1221afd9161e17",
   "outputs": [
    {
     "name": "stdout",
     "output_type": "stream",
     "text": [
      "__call called...\n"
     ]
    }
   ],
   "execution_count": 3
  },
  {
   "metadata": {
    "ExecuteTime": {
     "end_time": "2024-06-22T17:45:30.510641Z",
     "start_time": "2024-06-22T17:45:30.505602Z"
    }
   },
   "cell_type": "code",
   "source": "type(p)",
   "id": "d3038e895c6e6692",
   "outputs": [
    {
     "data": {
      "text/plain": [
       "__main__.Person"
      ]
     },
     "execution_count": 4,
     "metadata": {},
     "output_type": "execute_result"
    }
   ],
   "execution_count": 4
  },
  {
   "metadata": {
    "ExecuteTime": {
     "end_time": "2024-06-22T17:46:18.080323Z",
     "start_time": "2024-06-22T17:46:18.077773Z"
    }
   },
   "cell_type": "code",
   "source": "from functools import partial",
   "id": "abba28a66881af37",
   "outputs": [],
   "execution_count": 5
  },
  {
   "metadata": {
    "ExecuteTime": {
     "end_time": "2024-06-22T17:46:25.187573Z",
     "start_time": "2024-06-22T17:46:25.183719Z"
    }
   },
   "cell_type": "code",
   "source": "type(partial)",
   "id": "b7077fa29af417f8",
   "outputs": [
    {
     "data": {
      "text/plain": [
       "type"
      ]
     },
     "execution_count": 6,
     "metadata": {},
     "output_type": "execute_result"
    }
   ],
   "execution_count": 6
  },
  {
   "metadata": {
    "ExecuteTime": {
     "end_time": "2024-06-22T17:46:34.643541Z",
     "start_time": "2024-06-22T17:46:34.640826Z"
    }
   },
   "cell_type": "code",
   "source": "type(Person)",
   "id": "574bac44566ce0a7",
   "outputs": [
    {
     "data": {
      "text/plain": [
       "type"
      ]
     },
     "execution_count": 7,
     "metadata": {},
     "output_type": "execute_result"
    }
   ],
   "execution_count": 7
  },
  {
   "metadata": {
    "ExecuteTime": {
     "end_time": "2024-06-22T17:51:19.791052Z",
     "start_time": "2024-06-22T17:51:19.788766Z"
    }
   },
   "cell_type": "code",
   "source": [
    "def my_func(a, b, c):\n",
    "    return a, b, c"
   ],
   "id": "38897181a49bcc26",
   "outputs": [],
   "execution_count": 14
  },
  {
   "metadata": {
    "ExecuteTime": {
     "end_time": "2024-06-22T17:51:26.534472Z",
     "start_time": "2024-06-22T17:51:26.530884Z"
    }
   },
   "cell_type": "code",
   "source": "type(my_func)",
   "id": "32529c2201fd3725",
   "outputs": [
    {
     "data": {
      "text/plain": [
       "function"
      ]
     },
     "execution_count": 15,
     "metadata": {},
     "output_type": "execute_result"
    }
   ],
   "execution_count": 15
  },
  {
   "metadata": {
    "ExecuteTime": {
     "end_time": "2024-06-22T17:51:29.524594Z",
     "start_time": "2024-06-22T17:51:29.522224Z"
    }
   },
   "cell_type": "code",
   "source": "partial_func = partial(my_func, 10, 20)",
   "id": "8c8fe3893518604f",
   "outputs": [],
   "execution_count": 16
  },
  {
   "metadata": {
    "ExecuteTime": {
     "end_time": "2024-06-22T17:51:29.748274Z",
     "start_time": "2024-06-22T17:51:29.744416Z"
    }
   },
   "cell_type": "code",
   "source": "type(partial_func)",
   "id": "7f017035a79f903d",
   "outputs": [
    {
     "data": {
      "text/plain": [
       "functools.partial"
      ]
     },
     "execution_count": 17,
     "metadata": {},
     "output_type": "execute_result"
    }
   ],
   "execution_count": 17
  },
  {
   "metadata": {
    "ExecuteTime": {
     "end_time": "2024-06-22T17:51:30.005719Z",
     "start_time": "2024-06-22T17:51:30.002081Z"
    }
   },
   "cell_type": "code",
   "source": "partial_func(30)",
   "id": "dbb43a57b30c990a",
   "outputs": [
    {
     "data": {
      "text/plain": [
       "(10, 20, 30)"
      ]
     },
     "execution_count": 18,
     "metadata": {},
     "output_type": "execute_result"
    }
   ],
   "execution_count": 18
  },
  {
   "metadata": {
    "ExecuteTime": {
     "end_time": "2024-06-22T17:51:30.355686Z",
     "start_time": "2024-06-22T17:51:30.353064Z"
    }
   },
   "cell_type": "code",
   "source": [
    "class Partial:\n",
    "    def __init__(self, func, *args):\n",
    "        self._func = func\n",
    "        self._args = args\n",
    "        \n",
    "    def __call__(self, *args):\n",
    "        return self._func(*self._args, *args)"
   ],
   "id": "5fdaf978b3dfcf2a",
   "outputs": [],
   "execution_count": 19
  },
  {
   "metadata": {
    "ExecuteTime": {
     "end_time": "2024-06-22T17:51:33.977936Z",
     "start_time": "2024-06-22T17:51:33.975740Z"
    }
   },
   "cell_type": "code",
   "source": "partial_func = Partial(my_func, 10, 20)",
   "id": "f195860df7cfe24f",
   "outputs": [],
   "execution_count": 20
  },
  {
   "metadata": {
    "ExecuteTime": {
     "end_time": "2024-06-22T17:51:40.122916Z",
     "start_time": "2024-06-22T17:51:40.120220Z"
    }
   },
   "cell_type": "code",
   "source": "type(partial_func)",
   "id": "56273883f5bd6a34",
   "outputs": [
    {
     "data": {
      "text/plain": [
       "__main__.Partial"
      ]
     },
     "execution_count": 21,
     "metadata": {},
     "output_type": "execute_result"
    }
   ],
   "execution_count": 21
  },
  {
   "metadata": {
    "ExecuteTime": {
     "end_time": "2024-06-22T17:51:57.664325Z",
     "start_time": "2024-06-22T17:51:57.660953Z"
    }
   },
   "cell_type": "code",
   "source": "partial_func(30)",
   "id": "6aba0eac06090da",
   "outputs": [
    {
     "data": {
      "text/plain": [
       "(10, 20, 30)"
      ]
     },
     "execution_count": 22,
     "metadata": {},
     "output_type": "execute_result"
    }
   ],
   "execution_count": 22
  },
  {
   "metadata": {
    "ExecuteTime": {
     "end_time": "2024-06-22T17:52:05.631712Z",
     "start_time": "2024-06-22T17:52:05.627859Z"
    }
   },
   "cell_type": "code",
   "source": "callable(Partial)",
   "id": "d6763db0d587cb83",
   "outputs": [
    {
     "data": {
      "text/plain": [
       "True"
      ]
     },
     "execution_count": 23,
     "metadata": {},
     "output_type": "execute_result"
    }
   ],
   "execution_count": 23
  },
  {
   "metadata": {
    "ExecuteTime": {
     "end_time": "2024-06-22T17:52:17.530307Z",
     "start_time": "2024-06-22T17:52:17.526650Z"
    }
   },
   "cell_type": "code",
   "source": "callable(print)",
   "id": "3e4e0c2d519e140b",
   "outputs": [
    {
     "data": {
      "text/plain": [
       "True"
      ]
     },
     "execution_count": 24,
     "metadata": {},
     "output_type": "execute_result"
    }
   ],
   "execution_count": 24
  },
  {
   "metadata": {
    "ExecuteTime": {
     "end_time": "2024-06-22T17:52:22.802092Z",
     "start_time": "2024-06-22T17:52:22.798238Z"
    }
   },
   "cell_type": "code",
   "source": "callable(int)",
   "id": "a4f2995b522d990e",
   "outputs": [
    {
     "data": {
      "text/plain": [
       "True"
      ]
     },
     "execution_count": 25,
     "metadata": {},
     "output_type": "execute_result"
    }
   ],
   "execution_count": 25
  },
  {
   "metadata": {
    "ExecuteTime": {
     "end_time": "2024-06-22T17:59:55.157804Z",
     "start_time": "2024-06-22T17:59:55.154662Z"
    }
   },
   "cell_type": "code",
   "source": "callable(Person)",
   "id": "a56572ca45e01991",
   "outputs": [
    {
     "data": {
      "text/plain": [
       "True"
      ]
     },
     "execution_count": 26,
     "metadata": {},
     "output_type": "execute_result"
    }
   ],
   "execution_count": 26
  },
  {
   "metadata": {
    "ExecuteTime": {
     "end_time": "2024-06-22T18:00:11.348773Z",
     "start_time": "2024-06-22T18:00:11.346459Z"
    }
   },
   "cell_type": "code",
   "source": [
    "class Person:\n",
    "    pass"
   ],
   "id": "89a21088fcc1f401",
   "outputs": [],
   "execution_count": 27
  },
  {
   "metadata": {
    "ExecuteTime": {
     "end_time": "2024-06-22T18:00:19.749Z",
     "start_time": "2024-06-22T18:00:19.746898Z"
    }
   },
   "cell_type": "code",
   "source": "p = Person()",
   "id": "2ab9fb8d8b48f6cb",
   "outputs": [],
   "execution_count": 28
  },
  {
   "metadata": {
    "ExecuteTime": {
     "end_time": "2024-06-22T18:00:22.999030Z",
     "start_time": "2024-06-22T18:00:22.995364Z"
    }
   },
   "cell_type": "code",
   "source": "callable(p)",
   "id": "3aa3cd089677ff36",
   "outputs": [
    {
     "data": {
      "text/plain": [
       "False"
      ]
     },
     "execution_count": 29,
     "metadata": {},
     "output_type": "execute_result"
    }
   ],
   "execution_count": 29
  },
  {
   "metadata": {
    "ExecuteTime": {
     "end_time": "2024-06-22T18:00:28.125383Z",
     "start_time": "2024-06-22T18:00:28.121974Z"
    }
   },
   "cell_type": "code",
   "source": "callable(Person)",
   "id": "740675bcea054cbd",
   "outputs": [
    {
     "data": {
      "text/plain": [
       "True"
      ]
     },
     "execution_count": 30,
     "metadata": {},
     "output_type": "execute_result"
    }
   ],
   "execution_count": 30
  },
  {
   "metadata": {
    "ExecuteTime": {
     "end_time": "2024-06-22T18:00:54.462138Z",
     "start_time": "2024-06-22T18:00:54.459935Z"
    }
   },
   "cell_type": "code",
   "source": "from collections import defaultdict",
   "id": "6c072035c11b32cd",
   "outputs": [],
   "execution_count": 31
  },
  {
   "metadata": {
    "ExecuteTime": {
     "end_time": "2024-06-22T18:01:35.144648Z",
     "start_time": "2024-06-22T18:01:35.142587Z"
    }
   },
   "cell_type": "code",
   "source": [
    "def default_value():\n",
    "    return \"N/A\""
   ],
   "id": "92244756921f0d30",
   "outputs": [],
   "execution_count": 32
  },
  {
   "metadata": {
    "ExecuteTime": {
     "end_time": "2024-06-22T18:01:42.754009Z",
     "start_time": "2024-06-22T18:01:42.751583Z"
    }
   },
   "cell_type": "code",
   "source": "d = defaultdict(default_value)",
   "id": "39f5ff20fbc85c11",
   "outputs": [],
   "execution_count": 33
  },
  {
   "metadata": {
    "ExecuteTime": {
     "end_time": "2024-06-22T18:01:46.958055Z",
     "start_time": "2024-06-22T18:01:46.954972Z"
    }
   },
   "cell_type": "code",
   "source": "d[\"a\"]",
   "id": "8a66ddf031f95510",
   "outputs": [
    {
     "data": {
      "text/plain": [
       "'N/A'"
      ]
     },
     "execution_count": 34,
     "metadata": {},
     "output_type": "execute_result"
    }
   ],
   "execution_count": 34
  },
  {
   "metadata": {
    "ExecuteTime": {
     "end_time": "2024-06-22T18:01:55.881971Z",
     "start_time": "2024-06-22T18:01:55.879439Z"
    }
   },
   "cell_type": "code",
   "source": "d[\"b\"] = 100",
   "id": "28f2eb29873bd5b4",
   "outputs": [],
   "execution_count": 35
  },
  {
   "metadata": {
    "ExecuteTime": {
     "end_time": "2024-06-22T18:02:05.317092Z",
     "start_time": "2024-06-22T18:02:05.314151Z"
    }
   },
   "cell_type": "code",
   "source": "d[\"b\"]",
   "id": "d052a337119a5a3d",
   "outputs": [
    {
     "data": {
      "text/plain": [
       "100"
      ]
     },
     "execution_count": 36,
     "metadata": {},
     "output_type": "execute_result"
    }
   ],
   "execution_count": 36
  },
  {
   "metadata": {
    "ExecuteTime": {
     "end_time": "2024-06-22T18:02:09.509509Z",
     "start_time": "2024-06-22T18:02:09.506273Z"
    }
   },
   "cell_type": "code",
   "source": "d.items()",
   "id": "a1baf6a190c25ac0",
   "outputs": [
    {
     "data": {
      "text/plain": [
       "dict_items([('a', 'N/A'), ('b', 100)])"
      ]
     },
     "execution_count": 37,
     "metadata": {},
     "output_type": "execute_result"
    }
   ],
   "execution_count": 37
  },
  {
   "metadata": {
    "ExecuteTime": {
     "end_time": "2024-06-22T18:02:43.906903Z",
     "start_time": "2024-06-22T18:02:43.904906Z"
    }
   },
   "cell_type": "code",
   "source": "miss_counter = 0",
   "id": "5f7022806fe59575",
   "outputs": [],
   "execution_count": 38
  },
  {
   "metadata": {
    "ExecuteTime": {
     "end_time": "2024-06-22T18:03:14.038007Z",
     "start_time": "2024-06-22T18:03:14.035863Z"
    }
   },
   "cell_type": "code",
   "source": [
    "def default_value():\n",
    "    global miss_counter\n",
    "    miss_counter += 1\n",
    "    return \"N/A\""
   ],
   "id": "e98b3e46915d4407",
   "outputs": [],
   "execution_count": 39
  },
  {
   "metadata": {
    "ExecuteTime": {
     "end_time": "2024-06-22T18:03:20.032717Z",
     "start_time": "2024-06-22T18:03:20.030647Z"
    }
   },
   "cell_type": "code",
   "source": "d = defaultdict(default_value)",
   "id": "3ee52b8e7fbe8e8d",
   "outputs": [],
   "execution_count": 40
  },
  {
   "metadata": {
    "ExecuteTime": {
     "end_time": "2024-06-22T18:03:33.717945Z",
     "start_time": "2024-06-22T18:03:33.715738Z"
    }
   },
   "cell_type": "code",
   "source": "d[\"a\"] = 1",
   "id": "9dcc85b12583aec6",
   "outputs": [],
   "execution_count": 41
  },
  {
   "metadata": {
    "ExecuteTime": {
     "end_time": "2024-06-22T18:03:38.979258Z",
     "start_time": "2024-06-22T18:03:38.976095Z"
    }
   },
   "cell_type": "code",
   "source": "d[\"a\"]",
   "id": "9c876f25f5fde673",
   "outputs": [
    {
     "data": {
      "text/plain": [
       "1"
      ]
     },
     "execution_count": 42,
     "metadata": {},
     "output_type": "execute_result"
    }
   ],
   "execution_count": 42
  },
  {
   "metadata": {
    "ExecuteTime": {
     "end_time": "2024-06-22T18:03:46.554432Z",
     "start_time": "2024-06-22T18:03:46.551420Z"
    }
   },
   "cell_type": "code",
   "source": "d[\"b\"]",
   "id": "1b4a7b4f4830dff3",
   "outputs": [
    {
     "data": {
      "text/plain": [
       "'N/A'"
      ]
     },
     "execution_count": 44,
     "metadata": {},
     "output_type": "execute_result"
    }
   ],
   "execution_count": 44
  },
  {
   "metadata": {
    "ExecuteTime": {
     "end_time": "2024-06-22T18:03:49.666059Z",
     "start_time": "2024-06-22T18:03:49.662972Z"
    }
   },
   "cell_type": "code",
   "source": "miss_counter",
   "id": "4f2efafb4defccb2",
   "outputs": [
    {
     "data": {
      "text/plain": [
       "1"
      ]
     },
     "execution_count": 45,
     "metadata": {},
     "output_type": "execute_result"
    }
   ],
   "execution_count": 45
  },
  {
   "metadata": {
    "ExecuteTime": {
     "end_time": "2024-06-22T18:07:02.831461Z",
     "start_time": "2024-06-22T18:07:02.828067Z"
    }
   },
   "cell_type": "code",
   "source": [
    "class DefaultValue:\n",
    "    def __init__(self):\n",
    "        self.counter = 0\n",
    "        \n",
    "    def __iadd__(self, other):\n",
    "        if isinstance(other, int):\n",
    "            self.counter += 1\n",
    "            return self\n",
    "        raise ValueError(\"Can only be used with an int type\")"
   ],
   "id": "908b8dfb17dedb12",
   "outputs": [],
   "execution_count": 46
  },
  {
   "metadata": {
    "ExecuteTime": {
     "end_time": "2024-06-22T18:07:17.605200Z",
     "start_time": "2024-06-22T18:07:17.603005Z"
    }
   },
   "cell_type": "code",
   "source": "default_value_1 = DefaultValue()",
   "id": "c40c77ff0d14fe1e",
   "outputs": [],
   "execution_count": 48
  },
  {
   "metadata": {
    "ExecuteTime": {
     "end_time": "2024-06-22T18:07:25.543727Z",
     "start_time": "2024-06-22T18:07:25.540339Z"
    }
   },
   "cell_type": "code",
   "source": "default_value_1.counter",
   "id": "332768737d4cd642",
   "outputs": [
    {
     "data": {
      "text/plain": [
       "0"
      ]
     },
     "execution_count": 49,
     "metadata": {},
     "output_type": "execute_result"
    }
   ],
   "execution_count": 49
  },
  {
   "metadata": {
    "ExecuteTime": {
     "end_time": "2024-06-22T18:07:33.358788Z",
     "start_time": "2024-06-22T18:07:33.356572Z"
    }
   },
   "cell_type": "code",
   "source": "default_value_1 += 1",
   "id": "651f9d8e011109d",
   "outputs": [],
   "execution_count": 50
  },
  {
   "metadata": {
    "ExecuteTime": {
     "end_time": "2024-06-22T18:07:35.969845Z",
     "start_time": "2024-06-22T18:07:35.967032Z"
    }
   },
   "cell_type": "code",
   "source": "default_value_1.counter",
   "id": "8dbc51147725cd85",
   "outputs": [
    {
     "data": {
      "text/plain": [
       "1"
      ]
     },
     "execution_count": 51,
     "metadata": {},
     "output_type": "execute_result"
    }
   ],
   "execution_count": 51
  },
  {
   "metadata": {
    "ExecuteTime": {
     "end_time": "2024-06-22T18:07:51.479427Z",
     "start_time": "2024-06-22T18:07:51.476514Z"
    }
   },
   "cell_type": "code",
   "source": "callable(default_value_1)",
   "id": "7072eda214988ec5",
   "outputs": [
    {
     "data": {
      "text/plain": [
       "False"
      ]
     },
     "execution_count": 52,
     "metadata": {},
     "output_type": "execute_result"
    }
   ],
   "execution_count": 52
  },
  {
   "metadata": {
    "ExecuteTime": {
     "end_time": "2024-06-22T18:08:26.829930Z",
     "start_time": "2024-06-22T18:08:26.826437Z"
    }
   },
   "cell_type": "code",
   "source": [
    "class DefaultValue:\n",
    "    def __init__(self):\n",
    "        self.counter = 0\n",
    "        \n",
    "    def __iadd__(self, other):\n",
    "        if isinstance(other, int):\n",
    "            self.counter += 1\n",
    "            return self\n",
    "        raise ValueError(\"Can only be used with an int type\")\n",
    "    \n",
    "    def __call__(self):\n",
    "        self.counter += 1\n",
    "        return \"N/A\""
   ],
   "id": "a7d634da32c25063",
   "outputs": [],
   "execution_count": 53
  },
  {
   "metadata": {
    "ExecuteTime": {
     "end_time": "2024-06-22T18:08:42.899862Z",
     "start_time": "2024-06-22T18:08:42.897605Z"
    }
   },
   "cell_type": "code",
   "source": [
    "def_1 = DefaultValue()\n",
    "def_2 = DefaultValue()"
   ],
   "id": "f8050ce14334c895",
   "outputs": [],
   "execution_count": 54
  },
  {
   "metadata": {
    "ExecuteTime": {
     "end_time": "2024-06-22T18:09:12.154509Z",
     "start_time": "2024-06-22T18:09:12.152298Z"
    }
   },
   "cell_type": "code",
   "source": [
    "cache_1 = defaultdict(def_1)\n",
    "cache_2 = defaultdict(def_2)"
   ],
   "id": "f7fd9dbce0f5ad73",
   "outputs": [],
   "execution_count": 55
  },
  {
   "metadata": {
    "ExecuteTime": {
     "end_time": "2024-06-22T18:09:46.374116Z",
     "start_time": "2024-06-22T18:09:46.371126Z"
    }
   },
   "cell_type": "code",
   "source": "cache_1['a'], cache_1['b']",
   "id": "304d441b8ef2e693",
   "outputs": [
    {
     "data": {
      "text/plain": [
       "('N/A', 'N/A')"
      ]
     },
     "execution_count": 56,
     "metadata": {},
     "output_type": "execute_result"
    }
   ],
   "execution_count": 56
  },
  {
   "metadata": {
    "ExecuteTime": {
     "end_time": "2024-06-22T18:09:53.614083Z",
     "start_time": "2024-06-22T18:09:53.610141Z"
    }
   },
   "cell_type": "code",
   "source": "def_1.counter",
   "id": "6e4fa6d0fd629dcb",
   "outputs": [
    {
     "data": {
      "text/plain": [
       "2"
      ]
     },
     "execution_count": 57,
     "metadata": {},
     "output_type": "execute_result"
    }
   ],
   "execution_count": 57
  },
  {
   "metadata": {
    "ExecuteTime": {
     "end_time": "2024-06-22T18:10:04.437857Z",
     "start_time": "2024-06-22T18:10:04.434830Z"
    }
   },
   "cell_type": "code",
   "source": "cache_2['a']",
   "id": "7640217e76d355ea",
   "outputs": [
    {
     "data": {
      "text/plain": [
       "'N/A'"
      ]
     },
     "execution_count": 58,
     "metadata": {},
     "output_type": "execute_result"
    }
   ],
   "execution_count": 58
  },
  {
   "metadata": {
    "ExecuteTime": {
     "end_time": "2024-06-22T18:10:08.880138Z",
     "start_time": "2024-06-22T18:10:08.877147Z"
    }
   },
   "cell_type": "code",
   "source": "def_2.counter",
   "id": "82b57c3f36546a41",
   "outputs": [
    {
     "data": {
      "text/plain": [
       "1"
      ]
     },
     "execution_count": 59,
     "metadata": {},
     "output_type": "execute_result"
    }
   ],
   "execution_count": 59
  },
  {
   "metadata": {
    "ExecuteTime": {
     "end_time": "2024-06-22T18:11:13.655253Z",
     "start_time": "2024-06-22T18:11:13.652645Z"
    }
   },
   "cell_type": "code",
   "source": [
    "class DefaultValue:\n",
    "    def __init__(self, default_value):\n",
    "        self.default_value = default_value\n",
    "        self.counter = 0\n",
    "    \n",
    "    def __call__(self):\n",
    "        self.counter += 1\n",
    "        return self.default_value"
   ],
   "id": "391b1b08be71f750",
   "outputs": [],
   "execution_count": 60
  },
  {
   "metadata": {
    "ExecuteTime": {
     "end_time": "2024-06-22T18:11:41.104987Z",
     "start_time": "2024-06-22T18:11:41.102754Z"
    }
   },
   "cell_type": "code",
   "source": [
    "cache_def_1 = DefaultValue(None)\n",
    "cache_def_2 = DefaultValue(0)"
   ],
   "id": "653704c37266a585",
   "outputs": [],
   "execution_count": 61
  },
  {
   "metadata": {
    "ExecuteTime": {
     "end_time": "2024-06-22T18:12:02.085118Z",
     "start_time": "2024-06-22T18:12:02.082870Z"
    }
   },
   "cell_type": "code",
   "source": [
    "cache_1 = defaultdict(cache_def_1)\n",
    "cache_2 = defaultdict(cache_def_2)"
   ],
   "id": "1903e5d977f79ef",
   "outputs": [],
   "execution_count": 62
  },
  {
   "metadata": {
    "ExecuteTime": {
     "end_time": "2024-06-22T18:12:06.948955Z",
     "start_time": "2024-06-22T18:12:06.945822Z"
    }
   },
   "cell_type": "code",
   "source": "cache_1['a'], cache_1['b']",
   "id": "aab206e9b946cb95",
   "outputs": [
    {
     "data": {
      "text/plain": [
       "(None, None)"
      ]
     },
     "execution_count": 63,
     "metadata": {},
     "output_type": "execute_result"
    }
   ],
   "execution_count": 63
  },
  {
   "metadata": {
    "ExecuteTime": {
     "end_time": "2024-06-22T18:12:17.869848Z",
     "start_time": "2024-06-22T18:12:17.866330Z"
    }
   },
   "cell_type": "code",
   "source": "cache_def_1.counter",
   "id": "9ca537d32cd48297",
   "outputs": [
    {
     "data": {
      "text/plain": [
       "2"
      ]
     },
     "execution_count": 64,
     "metadata": {},
     "output_type": "execute_result"
    }
   ],
   "execution_count": 64
  },
  {
   "metadata": {
    "ExecuteTime": {
     "end_time": "2024-06-22T18:12:25.153469Z",
     "start_time": "2024-06-22T18:12:25.150408Z"
    }
   },
   "cell_type": "code",
   "source": "cache_2['a']",
   "id": "25e424e732126c12",
   "outputs": [
    {
     "data": {
      "text/plain": [
       "0"
      ]
     },
     "execution_count": 65,
     "metadata": {},
     "output_type": "execute_result"
    }
   ],
   "execution_count": 65
  },
  {
   "metadata": {
    "ExecuteTime": {
     "end_time": "2024-06-22T18:12:33.604116Z",
     "start_time": "2024-06-22T18:12:33.600962Z"
    }
   },
   "cell_type": "code",
   "source": "cache_def_2.counter",
   "id": "8262c949fa2253b6",
   "outputs": [
    {
     "data": {
      "text/plain": [
       "1"
      ]
     },
     "execution_count": 66,
     "metadata": {},
     "output_type": "execute_result"
    }
   ],
   "execution_count": 66
  },
  {
   "metadata": {
    "ExecuteTime": {
     "end_time": "2024-06-22T18:22:10.858325Z",
     "start_time": "2024-06-22T18:22:10.854324Z"
    }
   },
   "cell_type": "code",
   "source": [
    "from time import perf_counter, sleep\n",
    "from functools import wraps\n",
    "import random\n",
    "\n",
    "def profiler(fn):\n",
    "    counter = 0\n",
    "    total_elapsed = 0\n",
    "    avg_time = 0\n",
    "    \n",
    "    @wraps(fn)\n",
    "    def inner(*args, **kwargs):\n",
    "        nonlocal counter, total_elapsed, avg_time\n",
    "        counter += 1\n",
    "        start = perf_counter()\n",
    "        result = fn(*args, **kwargs)\n",
    "        end = perf_counter()\n",
    "        total_elapsed += end - start\n",
    "        avg_time += total_elapsed / counter\n",
    "        return result\n",
    "    \n",
    "    inner.counter = counter\n",
    "    inner.avg_time = avg_time\n",
    "    return inner"
   ],
   "id": "14281d70d5710a01",
   "outputs": [],
   "execution_count": 71
  },
  {
   "metadata": {
    "ExecuteTime": {
     "end_time": "2024-06-22T18:22:11.011406Z",
     "start_time": "2024-06-22T18:22:11.008997Z"
    }
   },
   "cell_type": "code",
   "source": [
    "random.seed(0)\n",
    "\n",
    "@profiler\n",
    "def func_1():\n",
    "    sleep(random.random())"
   ],
   "id": "4b40427d5a1c545e",
   "outputs": [],
   "execution_count": 72
  },
  {
   "metadata": {
    "ExecuteTime": {
     "end_time": "2024-06-22T18:22:39.865954Z",
     "start_time": "2024-06-22T18:22:38.259680Z"
    }
   },
   "cell_type": "code",
   "source": "func_1(), func_1()",
   "id": "fe43d991ff4b83e6",
   "outputs": [
    {
     "data": {
      "text/plain": [
       "(None, None)"
      ]
     },
     "execution_count": 74,
     "metadata": {},
     "output_type": "execute_result"
    }
   ],
   "execution_count": 74
  },
  {
   "metadata": {
    "ExecuteTime": {
     "end_time": "2024-06-22T18:23:23.197642Z",
     "start_time": "2024-06-22T18:23:23.194872Z"
    }
   },
   "cell_type": "code",
   "source": "func_1.counter, func_1.avg_time",
   "id": "2075d8c3570c1eca",
   "outputs": [
    {
     "data": {
      "text/plain": [
       "(0, 0)"
      ]
     },
     "execution_count": 76,
     "metadata": {},
     "output_type": "execute_result"
    }
   ],
   "execution_count": 76
  },
  {
   "metadata": {
    "ExecuteTime": {
     "end_time": "2024-06-22T18:25:32.862721Z",
     "start_time": "2024-06-22T18:25:32.858385Z"
    }
   },
   "cell_type": "code",
   "source": [
    "from time import perf_counter, sleep\n",
    "from functools import wraps\n",
    "import random\n",
    "\n",
    "def profiler(fn):\n",
    "    _counter = 0\n",
    "    _total_elapsed = 0\n",
    "    _avg_time = 0\n",
    "    \n",
    "    @wraps(fn)\n",
    "    def inner(*args, **kwargs):\n",
    "        nonlocal _counter, _total_elapsed, _avg_time\n",
    "        _counter += 1\n",
    "        start = perf_counter()\n",
    "        result = fn(*args, **kwargs)\n",
    "        end = perf_counter()\n",
    "        _total_elapsed += end - start\n",
    "        _avg_time += _total_elapsed / _counter\n",
    "        return result\n",
    "    \n",
    "    def counter():\n",
    "        return _counter\n",
    "    \n",
    "    def avg_time():\n",
    "        return _avg_time\n",
    "    \n",
    "    inner.counter = counter\n",
    "    inner.avg_time = avg_time\n",
    "    return inner"
   ],
   "id": "aac14e78751d850a",
   "outputs": [],
   "execution_count": 80
  },
  {
   "metadata": {
    "ExecuteTime": {
     "end_time": "2024-06-22T18:25:33.151497Z",
     "start_time": "2024-06-22T18:25:33.148780Z"
    }
   },
   "cell_type": "code",
   "source": [
    "random.seed(0)\n",
    "\n",
    "@profiler\n",
    "def func_1():\n",
    "    sleep(random.random())"
   ],
   "id": "1a34736b2e1ab4e",
   "outputs": [],
   "execution_count": 81
  },
  {
   "metadata": {
    "ExecuteTime": {
     "end_time": "2024-06-22T18:25:35.137327Z",
     "start_time": "2024-06-22T18:25:33.530890Z"
    }
   },
   "cell_type": "code",
   "source": "func_1(), func_1()",
   "id": "792b6c8148e1e0c4",
   "outputs": [
    {
     "data": {
      "text/plain": [
       "(None, None)"
      ]
     },
     "execution_count": 82,
     "metadata": {},
     "output_type": "execute_result"
    }
   ],
   "execution_count": 82
  },
  {
   "metadata": {
    "ExecuteTime": {
     "end_time": "2024-06-22T18:25:40.415709Z",
     "start_time": "2024-06-22T18:25:40.412457Z"
    }
   },
   "cell_type": "code",
   "source": "func_1.counter, func_1.avg_time",
   "id": "eaa3a5a8a12a7eec",
   "outputs": [
    {
     "data": {
      "text/plain": [
       "(<function __main__.profiler.<locals>.counter()>,\n",
       " <function __main__.profiler.<locals>.avg_time()>)"
      ]
     },
     "execution_count": 83,
     "metadata": {},
     "output_type": "execute_result"
    }
   ],
   "execution_count": 83
  },
  {
   "metadata": {
    "ExecuteTime": {
     "end_time": "2024-06-22T18:25:55.356814Z",
     "start_time": "2024-06-22T18:25:55.353828Z"
    }
   },
   "cell_type": "code",
   "source": "func_1.counter(), func_1.avg_time()",
   "id": "48dbf8dda8990dc4",
   "outputs": [
    {
     "data": {
      "text/plain": [
       "(2, 1.6458882380011346)"
      ]
     },
     "execution_count": 84,
     "metadata": {},
     "output_type": "execute_result"
    }
   ],
   "execution_count": 84
  },
  {
   "metadata": {
    "ExecuteTime": {
     "end_time": "2024-06-22T18:29:31.848776Z",
     "start_time": "2024-06-22T18:29:31.845710Z"
    }
   },
   "cell_type": "code",
   "source": [
    "class Profiler:\n",
    "    def __init__(self, fn):\n",
    "        self.counter = 0\n",
    "        self.total_elapsed = 0\n",
    "        self.fn = fn\n",
    "        \n",
    "    def __call__(self, *args, **kwargs):\n",
    "        self.counter += 1\n",
    "        start = perf_counter()\n",
    "        result = self.fn(*args, **kwargs)\n",
    "        end = perf_counter()\n",
    "        self.total_elapsed += end - start\n",
    "        return result\n",
    "    \n",
    "    @property\n",
    "    def avg_time(self):\n",
    "        return self.total_elapsed / self.counter"
   ],
   "id": "dec49e6e511ac9d6",
   "outputs": [],
   "execution_count": 85
  },
  {
   "metadata": {
    "ExecuteTime": {
     "end_time": "2024-06-22T18:29:52.588543Z",
     "start_time": "2024-06-22T18:29:52.586234Z"
    }
   },
   "cell_type": "code",
   "source": [
    "@Profiler\n",
    "def func_1(a, b):\n",
    "    sleep(random.random())\n",
    "    return a, b"
   ],
   "id": "651e133954233f3f",
   "outputs": [],
   "execution_count": 86
  },
  {
   "metadata": {
    "ExecuteTime": {
     "end_time": "2024-06-22T18:31:03.414496Z",
     "start_time": "2024-06-22T18:31:03.411443Z"
    }
   },
   "cell_type": "code",
   "source": "type(func_1)",
   "id": "a8023753ab8024b4",
   "outputs": [
    {
     "data": {
      "text/plain": [
       "__main__.Profiler"
      ]
     },
     "execution_count": 87,
     "metadata": {},
     "output_type": "execute_result"
    }
   ],
   "execution_count": 87
  },
  {
   "metadata": {
    "ExecuteTime": {
     "end_time": "2024-06-22T18:31:13.162928Z",
     "start_time": "2024-06-22T18:31:12.738500Z"
    }
   },
   "cell_type": "code",
   "source": "func_1(1, 2)",
   "id": "bb67fab6bef441ff",
   "outputs": [
    {
     "data": {
      "text/plain": [
       "(1, 2)"
      ]
     },
     "execution_count": 88,
     "metadata": {},
     "output_type": "execute_result"
    }
   ],
   "execution_count": 88
  },
  {
   "metadata": {
    "ExecuteTime": {
     "end_time": "2024-06-22T18:31:32.595519Z",
     "start_time": "2024-06-22T18:31:32.592484Z"
    }
   },
   "cell_type": "code",
   "source": "func_1.counter, func_1.avg_time",
   "id": "cad5aeb8a5d97062",
   "outputs": [
    {
     "data": {
      "text/plain": [
       "(1, 0.4206557569996221)"
      ]
     },
     "execution_count": 89,
     "metadata": {},
     "output_type": "execute_result"
    }
   ],
   "execution_count": 89
  },
  {
   "metadata": {
    "ExecuteTime": {
     "end_time": "2024-06-22T18:31:55.224384Z",
     "start_time": "2024-06-22T18:31:54.961887Z"
    }
   },
   "cell_type": "code",
   "source": "func_1(11, 22)",
   "id": "f83baedd4befbf65",
   "outputs": [
    {
     "data": {
      "text/plain": [
       "(11, 22)"
      ]
     },
     "execution_count": 90,
     "metadata": {},
     "output_type": "execute_result"
    }
   ],
   "execution_count": 90
  },
  {
   "metadata": {
    "ExecuteTime": {
     "end_time": "2024-06-22T18:31:59.639190Z",
     "start_time": "2024-06-22T18:31:59.635849Z"
    }
   },
   "cell_type": "code",
   "source": "func_1.counter, func_1.avg_time",
   "id": "b75e99f500255a23",
   "outputs": [
    {
     "data": {
      "text/plain": [
       "(2, 0.33982793950053747)"
      ]
     },
     "execution_count": 91,
     "metadata": {},
     "output_type": "execute_result"
    }
   ],
   "execution_count": 91
  },
  {
   "metadata": {},
   "cell_type": "code",
   "outputs": [],
   "execution_count": null,
   "source": "",
   "id": "a8f6119f8065bdd0"
  }
 ],
 "metadata": {
  "kernelspec": {
   "display_name": "Python 3",
   "language": "python",
   "name": "python3"
  },
  "language_info": {
   "codemirror_mode": {
    "name": "ipython",
    "version": 2
   },
   "file_extension": ".py",
   "mimetype": "text/x-python",
   "name": "python",
   "nbconvert_exporter": "python",
   "pygments_lexer": "ipython2",
   "version": "2.7.6"
  }
 },
 "nbformat": 4,
 "nbformat_minor": 5
}
