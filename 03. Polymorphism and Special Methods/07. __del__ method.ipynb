{
 "cells": [
  {
   "cell_type": "code",
   "id": "initial_id",
   "metadata": {
    "collapsed": true,
    "ExecuteTime": {
     "end_time": "2024-06-23T07:23:09.744501Z",
     "start_time": "2024-06-23T07:23:09.741918Z"
    }
   },
   "source": "import ctypes",
   "outputs": [],
   "execution_count": 1
  },
  {
   "metadata": {
    "ExecuteTime": {
     "end_time": "2024-06-23T07:26:11.729360Z",
     "start_time": "2024-06-23T07:26:11.726703Z"
    }
   },
   "cell_type": "code",
   "source": [
    "def ref_count(address):\n",
    "    return ctypes.c_long.from_address(address).value"
   ],
   "id": "2a4352f12071fa4f",
   "outputs": [],
   "execution_count": 7
  },
  {
   "metadata": {
    "ExecuteTime": {
     "end_time": "2024-06-23T07:25:06.086482Z",
     "start_time": "2024-06-23T07:25:06.083852Z"
    }
   },
   "cell_type": "code",
   "source": [
    "class Person:\n",
    "    def __init__(self, name):\n",
    "        self.name = name\n",
    "        \n",
    "    def __repr__(self):\n",
    "        return f\"Person({self.name})\"\n",
    "    \n",
    "    def __del__(self):\n",
    "        print(f\"__del__ called for {self}\")"
   ],
   "id": "dd9ef3f26614b06c",
   "outputs": [],
   "execution_count": 3
  },
  {
   "metadata": {
    "ExecuteTime": {
     "end_time": "2024-06-23T07:25:15.284514Z",
     "start_time": "2024-06-23T07:25:15.282128Z"
    }
   },
   "cell_type": "code",
   "source": "p = Person(\"John\")",
   "id": "f9275c9f619b8008",
   "outputs": [],
   "execution_count": 4
  },
  {
   "metadata": {
    "ExecuteTime": {
     "end_time": "2024-06-23T07:25:31.909415Z",
     "start_time": "2024-06-23T07:25:31.907162Z"
    }
   },
   "cell_type": "code",
   "source": "id_p = id(p)",
   "id": "5689c504e9cda0b9",
   "outputs": [],
   "execution_count": 5
  },
  {
   "metadata": {
    "ExecuteTime": {
     "end_time": "2024-06-23T07:26:14.068627Z",
     "start_time": "2024-06-23T07:26:14.065484Z"
    }
   },
   "cell_type": "code",
   "source": "ref_count(id_p)",
   "id": "a0969c4e32fe09dd",
   "outputs": [
    {
     "data": {
      "text/plain": [
       "1"
      ]
     },
     "execution_count": 8,
     "metadata": {},
     "output_type": "execute_result"
    }
   ],
   "execution_count": 8
  },
  {
   "metadata": {
    "ExecuteTime": {
     "end_time": "2024-06-23T07:26:29.037057Z",
     "start_time": "2024-06-23T07:26:29.034647Z"
    }
   },
   "cell_type": "code",
   "source": "p = None",
   "id": "a4f933c023bde59c",
   "outputs": [
    {
     "name": "stdout",
     "output_type": "stream",
     "text": [
      "__del__ called for Person(John)\n"
     ]
    }
   ],
   "execution_count": 9
  },
  {
   "metadata": {
    "ExecuteTime": {
     "end_time": "2024-06-23T07:26:56.788737Z",
     "start_time": "2024-06-23T07:26:56.785941Z"
    }
   },
   "cell_type": "code",
   "source": [
    "p = Person(\"John\")\n",
    "del p"
   ],
   "id": "f97ca6948f3885b4",
   "outputs": [
    {
     "name": "stdout",
     "output_type": "stream",
     "text": [
      "__del__ called for Person(John)\n"
     ]
    }
   ],
   "execution_count": 10
  },
  {
   "metadata": {
    "ExecuteTime": {
     "end_time": "2024-06-23T07:27:41.480997Z",
     "start_time": "2024-06-23T07:27:41.478378Z"
    }
   },
   "cell_type": "code",
   "source": [
    "class Person:\n",
    "    def __init__(self, name):\n",
    "        self.name = name\n",
    "        \n",
    "    def __repr__(self):\n",
    "        return f\"Person({self.name})\"\n",
    "    \n",
    "    def __del__(self):\n",
    "        print(f\"__del__ called for {self}\")\n",
    "        \n",
    "    def gen_ex(self):\n",
    "        raise ValueError(\"Something went wrong\")"
   ],
   "id": "c90395f9ebe7196b",
   "outputs": [],
   "execution_count": 11
  },
  {
   "metadata": {
    "ExecuteTime": {
     "end_time": "2024-06-23T07:28:05.544797Z",
     "start_time": "2024-06-23T07:28:05.541757Z"
    }
   },
   "cell_type": "code",
   "source": [
    "p = Person(\"Eric\")\n",
    "p_id = id(p)\n",
    "ref_count(p_id)"
   ],
   "id": "e68ad80f713cf3e9",
   "outputs": [
    {
     "data": {
      "text/plain": [
       "1"
      ]
     },
     "execution_count": 12,
     "metadata": {},
     "output_type": "execute_result"
    }
   ],
   "execution_count": 12
  },
  {
   "metadata": {
    "ExecuteTime": {
     "end_time": "2024-06-23T07:28:43.152678Z",
     "start_time": "2024-06-23T07:28:43.149930Z"
    }
   },
   "cell_type": "code",
   "source": [
    "try:\n",
    "    p.gen_ex()\n",
    "except ValueError as ex:\n",
    "    error = ex\n",
    "    print(ex)"
   ],
   "id": "65c8d46901d69a06",
   "outputs": [
    {
     "name": "stdout",
     "output_type": "stream",
     "text": [
      "Something went wrong\n"
     ]
    }
   ],
   "execution_count": 14
  },
  {
   "metadata": {
    "ExecuteTime": {
     "end_time": "2024-06-23T07:28:45.837587Z",
     "start_time": "2024-06-23T07:28:45.834214Z"
    }
   },
   "cell_type": "code",
   "source": "error",
   "id": "c67f0b7de02a3b1d",
   "outputs": [
    {
     "data": {
      "text/plain": [
       "ValueError('Something went wrong')"
      ]
     },
     "execution_count": 15,
     "metadata": {},
     "output_type": "execute_result"
    }
   ],
   "execution_count": 15
  },
  {
   "metadata": {
    "ExecuteTime": {
     "end_time": "2024-06-23T07:28:50.960775Z",
     "start_time": "2024-06-23T07:28:50.957600Z"
    }
   },
   "cell_type": "code",
   "source": "ref_count(p_id)",
   "id": "97858d6acdde456d",
   "outputs": [
    {
     "data": {
      "text/plain": [
       "2"
      ]
     },
     "execution_count": 16,
     "metadata": {},
     "output_type": "execute_result"
    }
   ],
   "execution_count": 16
  },
  {
   "metadata": {
    "ExecuteTime": {
     "end_time": "2024-06-23T07:29:09.286886Z",
     "start_time": "2024-06-23T07:29:09.283753Z"
    }
   },
   "cell_type": "code",
   "source": "type(error)",
   "id": "989259ad29d3820a",
   "outputs": [
    {
     "data": {
      "text/plain": [
       "ValueError"
      ]
     },
     "execution_count": 17,
     "metadata": {},
     "output_type": "execute_result"
    }
   ],
   "execution_count": 17
  },
  {
   "metadata": {
    "ExecuteTime": {
     "end_time": "2024-06-23T07:29:18.797896Z",
     "start_time": "2024-06-23T07:29:18.794240Z"
    }
   },
   "cell_type": "code",
   "source": "dir(error)",
   "id": "b0c6f96d0d59dde1",
   "outputs": [
    {
     "data": {
      "text/plain": [
       "['__cause__',\n",
       " '__class__',\n",
       " '__context__',\n",
       " '__delattr__',\n",
       " '__dict__',\n",
       " '__dir__',\n",
       " '__doc__',\n",
       " '__eq__',\n",
       " '__format__',\n",
       " '__ge__',\n",
       " '__getattribute__',\n",
       " '__getstate__',\n",
       " '__gt__',\n",
       " '__hash__',\n",
       " '__init__',\n",
       " '__init_subclass__',\n",
       " '__le__',\n",
       " '__lt__',\n",
       " '__ne__',\n",
       " '__new__',\n",
       " '__reduce__',\n",
       " '__reduce_ex__',\n",
       " '__repr__',\n",
       " '__setattr__',\n",
       " '__setstate__',\n",
       " '__sizeof__',\n",
       " '__str__',\n",
       " '__subclasshook__',\n",
       " '__suppress_context__',\n",
       " '__traceback__',\n",
       " 'add_note',\n",
       " 'args',\n",
       " 'with_traceback']"
      ]
     },
     "execution_count": 18,
     "metadata": {},
     "output_type": "execute_result"
    }
   ],
   "execution_count": 18
  },
  {
   "metadata": {
    "ExecuteTime": {
     "end_time": "2024-06-23T07:29:33.975448Z",
     "start_time": "2024-06-23T07:29:33.971916Z"
    }
   },
   "cell_type": "code",
   "source": "dir(error.__traceback__)",
   "id": "ee2bf7222b11c05f",
   "outputs": [
    {
     "data": {
      "text/plain": [
       "['tb_frame', 'tb_lasti', 'tb_lineno', 'tb_next']"
      ]
     },
     "execution_count": 19,
     "metadata": {},
     "output_type": "execute_result"
    }
   ],
   "execution_count": 19
  },
  {
   "metadata": {
    "ExecuteTime": {
     "end_time": "2024-06-23T07:29:48.823396Z",
     "start_time": "2024-06-23T07:29:48.820048Z"
    }
   },
   "cell_type": "code",
   "source": "dir(error.__traceback__.tb_frame)",
   "id": "c19b5b7b02807fc4",
   "outputs": [
    {
     "data": {
      "text/plain": [
       "['__class__',\n",
       " '__delattr__',\n",
       " '__dir__',\n",
       " '__doc__',\n",
       " '__eq__',\n",
       " '__format__',\n",
       " '__ge__',\n",
       " '__getattribute__',\n",
       " '__getstate__',\n",
       " '__gt__',\n",
       " '__hash__',\n",
       " '__init__',\n",
       " '__init_subclass__',\n",
       " '__le__',\n",
       " '__lt__',\n",
       " '__ne__',\n",
       " '__new__',\n",
       " '__reduce__',\n",
       " '__reduce_ex__',\n",
       " '__repr__',\n",
       " '__setattr__',\n",
       " '__sizeof__',\n",
       " '__str__',\n",
       " '__subclasshook__',\n",
       " 'clear',\n",
       " 'f_back',\n",
       " 'f_builtins',\n",
       " 'f_code',\n",
       " 'f_globals',\n",
       " 'f_lasti',\n",
       " 'f_lineno',\n",
       " 'f_locals',\n",
       " 'f_trace',\n",
       " 'f_trace_lines',\n",
       " 'f_trace_opcodes']"
      ]
     },
     "execution_count": 20,
     "metadata": {},
     "output_type": "execute_result"
    }
   ],
   "execution_count": 20
  },
  {
   "metadata": {
    "ExecuteTime": {
     "end_time": "2024-06-23T07:30:13.045446Z",
     "start_time": "2024-06-23T07:30:13.042398Z"
    }
   },
   "cell_type": "code",
   "source": "type(error.__traceback__.tb_frame.f_locals)",
   "id": "833eb689c2fe0ef0",
   "outputs": [
    {
     "data": {
      "text/plain": [
       "dict"
      ]
     },
     "execution_count": 21,
     "metadata": {},
     "output_type": "execute_result"
    }
   ],
   "execution_count": 21
  },
  {
   "metadata": {
    "ExecuteTime": {
     "end_time": "2024-06-23T07:31:56.832640Z",
     "start_time": "2024-06-23T07:31:56.829541Z"
    }
   },
   "cell_type": "code",
   "source": [
    "for key, value in error.__traceback__.tb_frame.f_locals.copy().items():\n",
    "    if isinstance(value, Person):\n",
    "        print(key, value, id(value))"
   ],
   "id": "34f5e822335eb585",
   "outputs": [
    {
     "name": "stdout",
     "output_type": "stream",
     "text": [
      "p Person(Eric) 139652940150352\n"
     ]
    }
   ],
   "execution_count": 26
  },
  {
   "metadata": {
    "ExecuteTime": {
     "end_time": "2024-06-23T07:33:50.593820Z",
     "start_time": "2024-06-23T07:33:50.590769Z"
    }
   },
   "cell_type": "code",
   "source": "ref_count(p_id)",
   "id": "ce65472378ca9053",
   "outputs": [
    {
     "data": {
      "text/plain": [
       "2"
      ]
     },
     "execution_count": 27,
     "metadata": {},
     "output_type": "execute_result"
    }
   ],
   "execution_count": 27
  },
  {
   "metadata": {
    "ExecuteTime": {
     "end_time": "2024-06-23T07:34:03.411037Z",
     "start_time": "2024-06-23T07:34:03.408900Z"
    }
   },
   "cell_type": "code",
   "source": "del p",
   "id": "cbe5540ff08da7f2",
   "outputs": [],
   "execution_count": 28
  },
  {
   "metadata": {
    "ExecuteTime": {
     "end_time": "2024-06-23T07:34:08.819471Z",
     "start_time": "2024-06-23T07:34:08.817303Z"
    }
   },
   "cell_type": "code",
   "source": "del error",
   "id": "ddca1e03ddef17ee",
   "outputs": [],
   "execution_count": 29
  },
  {
   "metadata": {
    "ExecuteTime": {
     "end_time": "2024-06-23T07:34:24.809206Z",
     "start_time": "2024-06-23T07:34:24.806174Z"
    }
   },
   "cell_type": "code",
   "source": "ref_count(p_id)",
   "id": "4d946b9e787c18c5",
   "outputs": [
    {
     "data": {
      "text/plain": [
       "1"
      ]
     },
     "execution_count": 30,
     "metadata": {},
     "output_type": "execute_result"
    }
   ],
   "execution_count": 30
  },
  {
   "metadata": {
    "ExecuteTime": {
     "end_time": "2024-06-23T07:37:45.395433Z",
     "start_time": "2024-06-23T07:37:45.393233Z"
    }
   },
   "cell_type": "code",
   "source": [
    "class Person:\n",
    "    def __del__(self):\n",
    "        raise ValueError(\"Something went wrong\")"
   ],
   "id": "6c1b4518e0c0553c",
   "outputs": [],
   "execution_count": 31
  },
  {
   "metadata": {
    "ExecuteTime": {
     "end_time": "2024-06-23T07:37:54.879135Z",
     "start_time": "2024-06-23T07:37:54.876877Z"
    }
   },
   "cell_type": "code",
   "source": "p = Person()",
   "id": "ad0123ffe8f1d05c",
   "outputs": [],
   "execution_count": 32
  },
  {
   "metadata": {
    "ExecuteTime": {
     "end_time": "2024-06-23T07:38:27.565378Z",
     "start_time": "2024-06-23T07:38:27.561953Z"
    }
   },
   "cell_type": "code",
   "source": [
    "del p\n",
    "print(\"All good, no exceptions\")"
   ],
   "id": "4bc99fd32a89f2fc",
   "outputs": [
    {
     "name": "stderr",
     "output_type": "stream",
     "text": [
      "Exception ignored in: <function Person.__del__ at 0x7f037bd86ac0>\n",
      "Traceback (most recent call last):\n",
      "  File \"/tmp/ipykernel_8547/3337016714.py\", line 3, in __del__\n",
      "ValueError: Something went wrong\n"
     ]
    },
    {
     "name": "stdout",
     "output_type": "stream",
     "text": [
      "All good, no exceptions\n"
     ]
    }
   ],
   "execution_count": 33
  },
  {
   "metadata": {
    "ExecuteTime": {
     "end_time": "2024-06-23T07:38:43.974238Z",
     "start_time": "2024-06-23T07:38:43.971619Z"
    }
   },
   "cell_type": "code",
   "source": "import sys",
   "id": "4e51fa22b172544c",
   "outputs": [],
   "execution_count": 34
  },
  {
   "metadata": {
    "ExecuteTime": {
     "end_time": "2024-06-23T07:39:01.184346Z",
     "start_time": "2024-06-23T07:39:01.181041Z"
    }
   },
   "cell_type": "code",
   "source": "sys.stderr, sys.stdout",
   "id": "3f2afcbfba7ad3d6",
   "outputs": [
    {
     "data": {
      "text/plain": [
       "(<ipykernel.iostream.OutStream at 0x7f037be80460>,\n",
       " <ipykernel.iostream.OutStream at 0x7f037be80550>)"
      ]
     },
     "execution_count": 35,
     "metadata": {},
     "output_type": "execute_result"
    }
   ],
   "execution_count": 35
  },
  {
   "metadata": {
    "ExecuteTime": {
     "end_time": "2024-06-23T07:42:30.945014Z",
     "start_time": "2024-06-23T07:42:30.941314Z"
    }
   },
   "cell_type": "code",
   "source": [
    "class ErrToFile:\n",
    "    def __init__(self, fname):\n",
    "        self._fname = fname\n",
    "        self._current_stderr = sys.stderr\n",
    "        \n",
    "    def __enter__(self):\n",
    "        self._file = open(self._fname, \"w\")\n",
    "        sys.stderr = self._file\n",
    "        \n",
    "    def __exit__(self, exc_type, exc_value, exc_tb):\n",
    "        sys.stderr = self._current_stderr\n",
    "        if self._file:\n",
    "            self._file.close()\n",
    "        return False"
   ],
   "id": "c4d0ab5accbc322",
   "outputs": [],
   "execution_count": 39
  },
  {
   "metadata": {
    "ExecuteTime": {
     "end_time": "2024-06-23T07:43:15.089070Z",
     "start_time": "2024-06-23T07:43:15.086357Z"
    }
   },
   "cell_type": "code",
   "source": "p = Person()",
   "id": "f81b12c5ff50f1a7",
   "outputs": [
    {
     "name": "stderr",
     "output_type": "stream",
     "text": [
      "Exception ignored in: <function Person.__del__ at 0x7f037bd86ac0>\n",
      "Traceback (most recent call last):\n",
      "  File \"/tmp/ipykernel_8547/3337016714.py\", line 3, in __del__\n",
      "ValueError: Something went wrong\n"
     ]
    }
   ],
   "execution_count": 41
  },
  {
   "metadata": {
    "ExecuteTime": {
     "end_time": "2024-06-23T07:43:15.800384Z",
     "start_time": "2024-06-23T07:43:15.797018Z"
    }
   },
   "cell_type": "code",
   "source": [
    "with ErrToFile(\"err.txt\"):\n",
    "    del p\n",
    "    print(100)\n",
    "print(200)\n",
    "print(300)"
   ],
   "id": "a5caf02a13eb198b",
   "outputs": [
    {
     "name": "stdout",
     "output_type": "stream",
     "text": [
      "100\n",
      "200\n",
      "300\n"
     ]
    }
   ],
   "execution_count": 42
  },
  {
   "metadata": {
    "ExecuteTime": {
     "end_time": "2024-06-23T07:43:40.412527Z",
     "start_time": "2024-06-23T07:43:40.410013Z"
    }
   },
   "cell_type": "code",
   "source": [
    "with open(\"err.txt\") as f:\n",
    "    print(f.readlines())"
   ],
   "id": "e7fc364786eeb659",
   "outputs": [
    {
     "name": "stdout",
     "output_type": "stream",
     "text": [
      "['Exception ignored in: <function Person.__del__ at 0x7f037bd86ac0>\\n', 'Traceback (most recent call last):\\n', '  File \"/tmp/ipykernel_8547/3337016714.py\", line 3, in __del__\\n', 'ValueError: Something went wrong\\n']\n"
     ]
    }
   ],
   "execution_count": 43
  },
  {
   "metadata": {},
   "cell_type": "code",
   "outputs": [],
   "execution_count": null,
   "source": "",
   "id": "11db6aa4165f0cc9"
  }
 ],
 "metadata": {
  "kernelspec": {
   "display_name": "Python 3",
   "language": "python",
   "name": "python3"
  },
  "language_info": {
   "codemirror_mode": {
    "name": "ipython",
    "version": 2
   },
   "file_extension": ".py",
   "mimetype": "text/x-python",
   "name": "python",
   "nbconvert_exporter": "python",
   "pygments_lexer": "ipython2",
   "version": "2.7.6"
  }
 },
 "nbformat": 4,
 "nbformat_minor": 5
}
