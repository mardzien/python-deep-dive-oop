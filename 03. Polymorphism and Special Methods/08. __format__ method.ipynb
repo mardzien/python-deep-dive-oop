{
 "cells": [
  {
   "cell_type": "code",
   "id": "initial_id",
   "metadata": {
    "collapsed": true,
    "ExecuteTime": {
     "end_time": "2024-06-23T16:44:40.962196Z",
     "start_time": "2024-06-23T16:44:40.960029Z"
    }
   },
   "source": "a = 0.1",
   "outputs": [],
   "execution_count": 1
  },
  {
   "metadata": {
    "ExecuteTime": {
     "end_time": "2024-06-23T16:44:59.461562Z",
     "start_time": "2024-06-23T16:44:59.456888Z"
    }
   },
   "cell_type": "code",
   "source": "format(a, \".20f\")",
   "id": "20cf5d59766485d0",
   "outputs": [
    {
     "data": {
      "text/plain": [
       "'0.10000000000000000555'"
      ]
     },
     "execution_count": 2,
     "metadata": {},
     "output_type": "execute_result"
    }
   ],
   "execution_count": 2
  },
  {
   "metadata": {
    "ExecuteTime": {
     "end_time": "2024-06-23T16:46:21.787998Z",
     "start_time": "2024-06-23T16:46:21.785451Z"
    }
   },
   "cell_type": "code",
   "source": "from datetime import datetime",
   "id": "4270bda9d223a2db",
   "outputs": [],
   "execution_count": 3
  },
  {
   "metadata": {
    "ExecuteTime": {
     "end_time": "2024-06-23T16:46:28.823606Z",
     "start_time": "2024-06-23T16:46:28.821387Z"
    }
   },
   "cell_type": "code",
   "source": "now = datetime.now()",
   "id": "c7c3880ca4a29724",
   "outputs": [],
   "execution_count": 4
  },
  {
   "metadata": {
    "ExecuteTime": {
     "end_time": "2024-06-23T16:46:33.178862Z",
     "start_time": "2024-06-23T16:46:33.175201Z"
    }
   },
   "cell_type": "code",
   "source": "now",
   "id": "293a7dc016e7a508",
   "outputs": [
    {
     "data": {
      "text/plain": [
       "datetime.datetime(2024, 6, 23, 18, 46, 28, 822161)"
      ]
     },
     "execution_count": 5,
     "metadata": {},
     "output_type": "execute_result"
    }
   ],
   "execution_count": 5
  },
  {
   "metadata": {
    "ExecuteTime": {
     "end_time": "2024-06-23T16:47:14.358252Z",
     "start_time": "2024-06-23T16:47:14.354672Z"
    }
   },
   "cell_type": "code",
   "source": "format(now, \"%a %Y-%m-%d %I:%M %p\")",
   "id": "f1b0db17f45f29bc",
   "outputs": [
    {
     "data": {
      "text/plain": [
       "'Sun 2024-06-23 06:46 PM'"
      ]
     },
     "execution_count": 6,
     "metadata": {},
     "output_type": "execute_result"
    }
   ],
   "execution_count": 6
  },
  {
   "metadata": {},
   "cell_type": "code",
   "outputs": [],
   "execution_count": null,
   "source": "",
   "id": "1fa6e982c5fbc8d0"
  }
 ],
 "metadata": {
  "kernelspec": {
   "display_name": "Python 3",
   "language": "python",
   "name": "python3"
  },
  "language_info": {
   "codemirror_mode": {
    "name": "ipython",
    "version": 2
   },
   "file_extension": ".py",
   "mimetype": "text/x-python",
   "name": "python",
   "nbconvert_exporter": "python",
   "pygments_lexer": "ipython2",
   "version": "2.7.6"
  }
 },
 "nbformat": 4,
 "nbformat_minor": 5
}
